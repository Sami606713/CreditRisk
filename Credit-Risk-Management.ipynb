{
 "cells": [
  {
   "cell_type": "markdown",
   "id": "5d19682c",
   "metadata": {},
   "source": [
    "# Problem Statement\n",
    "- This Dataset Contain the information about the bank customer that will take loan.\n",
    "- Our goal is build a model that will detect weather the customer is eligible for loan or not.\n",
    "- Data should be present in 2 different files.\n",
    "- Both conatin same data about bank.\n",
    "- Both files also contain `-99999` values.\n",
    "- `-99999` are the missing values."
   ]
  },
  {
   "cell_type": "code",
   "execution_count": null,
   "id": "a90e0588",
   "metadata": {},
   "outputs": [],
   "source": []
  },
  {
   "cell_type": "markdown",
   "id": "ed1157f7",
   "metadata": {},
   "source": [
    "# Import Packages"
   ]
  },
  {
   "cell_type": "code",
   "execution_count": 1,
   "id": "c4433099",
   "metadata": {},
   "outputs": [],
   "source": [
    "import pandas as pd\n",
    "import numpy as np\n",
    "import matplotlib.pyplot as plt\n",
    "import seaborn as sns\n",
    "import os\n",
    "import warnings\n",
    "warnings.filterwarnings('ignore')"
   ]
  },
  {
   "cell_type": "markdown",
   "id": "1b97cdbe",
   "metadata": {},
   "source": [
    "# Read Data\n",
    "1. Data is place another folder now find the path and read data."
   ]
  },
  {
   "cell_type": "code",
   "execution_count": 2,
   "id": "a60bb0d3",
   "metadata": {},
   "outputs": [
    {
     "name": "stdout",
     "output_type": "stream",
     "text": [
      "C:\\Users\\Laptop House\\Weekly Task\\CreditRisk\\Data\\case_study1.xlsx\n",
      "C:\\Users\\Laptop House\\Weekly Task\\CreditRisk\\Data\\case_study2.xlsx\n"
     ]
    }
   ],
   "source": [
    "file_path=[]\n",
    "for i in os.listdir(\"Data\"):\n",
    "    file_path.append(f\"{os.path.join(os.getcwd())}\\Data\\{i}\")\n",
    "    print(f\"{os.path.join(os.getcwd())}\\Data\\{i}\")"
   ]
  },
  {
   "cell_type": "code",
   "execution_count": 3,
   "id": "2f1253ae",
   "metadata": {},
   "outputs": [],
   "source": [
    "df1=pd.read_excel(file_path[0])\n",
    "df2=pd.read_excel(file_path[1])"
   ]
  },
  {
   "cell_type": "markdown",
   "id": "d4f41c30",
   "metadata": {},
   "source": [
    "# Data Preprocessing\n",
    "1. Top records\n",
    "2. Shape of data\n",
    "3. Check columns\n",
    "4. Merge based on `common column`\n",
    "5. Check Datatyes\n",
    "6. Null values\n",
    "7. Duplicates\n",
    "8. Unique Values\n",
    "9. Statistical Summary"
   ]
  },
  {
   "cell_type": "markdown",
   "id": "792964ea",
   "metadata": {},
   "source": [
    "# 1.Top Records"
   ]
  },
  {
   "cell_type": "code",
   "execution_count": 4,
   "id": "bd5e50da",
   "metadata": {},
   "outputs": [
    {
     "data": {
      "text/html": [
       "<div>\n",
       "<style scoped>\n",
       "    .dataframe tbody tr th:only-of-type {\n",
       "        vertical-align: middle;\n",
       "    }\n",
       "\n",
       "    .dataframe tbody tr th {\n",
       "        vertical-align: top;\n",
       "    }\n",
       "\n",
       "    .dataframe thead th {\n",
       "        text-align: right;\n",
       "    }\n",
       "</style>\n",
       "<table border=\"1\" class=\"dataframe\">\n",
       "  <thead>\n",
       "    <tr style=\"text-align: right;\">\n",
       "      <th></th>\n",
       "      <th>PROSPECTID</th>\n",
       "      <th>Total_TL</th>\n",
       "      <th>Tot_Closed_TL</th>\n",
       "      <th>Tot_Active_TL</th>\n",
       "      <th>Total_TL_opened_L6M</th>\n",
       "      <th>Tot_TL_closed_L6M</th>\n",
       "      <th>pct_tl_open_L6M</th>\n",
       "      <th>pct_tl_closed_L6M</th>\n",
       "      <th>pct_active_tl</th>\n",
       "      <th>pct_closed_tl</th>\n",
       "      <th>...</th>\n",
       "      <th>CC_TL</th>\n",
       "      <th>Consumer_TL</th>\n",
       "      <th>Gold_TL</th>\n",
       "      <th>Home_TL</th>\n",
       "      <th>PL_TL</th>\n",
       "      <th>Secured_TL</th>\n",
       "      <th>Unsecured_TL</th>\n",
       "      <th>Other_TL</th>\n",
       "      <th>Age_Oldest_TL</th>\n",
       "      <th>Age_Newest_TL</th>\n",
       "    </tr>\n",
       "  </thead>\n",
       "  <tbody>\n",
       "    <tr>\n",
       "      <th>35737</th>\n",
       "      <td>35738</td>\n",
       "      <td>1</td>\n",
       "      <td>0</td>\n",
       "      <td>1</td>\n",
       "      <td>0</td>\n",
       "      <td>0</td>\n",
       "      <td>0.000</td>\n",
       "      <td>0.0</td>\n",
       "      <td>1.00</td>\n",
       "      <td>0.00</td>\n",
       "      <td>...</td>\n",
       "      <td>0</td>\n",
       "      <td>0</td>\n",
       "      <td>0</td>\n",
       "      <td>0</td>\n",
       "      <td>0</td>\n",
       "      <td>1</td>\n",
       "      <td>0</td>\n",
       "      <td>0</td>\n",
       "      <td>21</td>\n",
       "      <td>21</td>\n",
       "    </tr>\n",
       "    <tr>\n",
       "      <th>795</th>\n",
       "      <td>796</td>\n",
       "      <td>1</td>\n",
       "      <td>1</td>\n",
       "      <td>0</td>\n",
       "      <td>0</td>\n",
       "      <td>0</td>\n",
       "      <td>0.000</td>\n",
       "      <td>0.0</td>\n",
       "      <td>0.00</td>\n",
       "      <td>1.00</td>\n",
       "      <td>...</td>\n",
       "      <td>0</td>\n",
       "      <td>1</td>\n",
       "      <td>0</td>\n",
       "      <td>0</td>\n",
       "      <td>0</td>\n",
       "      <td>0</td>\n",
       "      <td>1</td>\n",
       "      <td>0</td>\n",
       "      <td>38</td>\n",
       "      <td>38</td>\n",
       "    </tr>\n",
       "    <tr>\n",
       "      <th>12421</th>\n",
       "      <td>12422</td>\n",
       "      <td>5</td>\n",
       "      <td>1</td>\n",
       "      <td>4</td>\n",
       "      <td>3</td>\n",
       "      <td>0</td>\n",
       "      <td>0.600</td>\n",
       "      <td>0.0</td>\n",
       "      <td>0.80</td>\n",
       "      <td>0.20</td>\n",
       "      <td>...</td>\n",
       "      <td>0</td>\n",
       "      <td>1</td>\n",
       "      <td>0</td>\n",
       "      <td>0</td>\n",
       "      <td>1</td>\n",
       "      <td>2</td>\n",
       "      <td>3</td>\n",
       "      <td>1</td>\n",
       "      <td>28</td>\n",
       "      <td>3</td>\n",
       "    </tr>\n",
       "    <tr>\n",
       "      <th>35899</th>\n",
       "      <td>35900</td>\n",
       "      <td>4</td>\n",
       "      <td>1</td>\n",
       "      <td>3</td>\n",
       "      <td>1</td>\n",
       "      <td>0</td>\n",
       "      <td>0.250</td>\n",
       "      <td>0.0</td>\n",
       "      <td>0.75</td>\n",
       "      <td>0.25</td>\n",
       "      <td>...</td>\n",
       "      <td>0</td>\n",
       "      <td>3</td>\n",
       "      <td>0</td>\n",
       "      <td>0</td>\n",
       "      <td>0</td>\n",
       "      <td>1</td>\n",
       "      <td>3</td>\n",
       "      <td>1</td>\n",
       "      <td>32</td>\n",
       "      <td>3</td>\n",
       "    </tr>\n",
       "    <tr>\n",
       "      <th>50514</th>\n",
       "      <td>50515</td>\n",
       "      <td>2</td>\n",
       "      <td>0</td>\n",
       "      <td>2</td>\n",
       "      <td>1</td>\n",
       "      <td>0</td>\n",
       "      <td>0.500</td>\n",
       "      <td>0.0</td>\n",
       "      <td>1.00</td>\n",
       "      <td>0.00</td>\n",
       "      <td>...</td>\n",
       "      <td>0</td>\n",
       "      <td>1</td>\n",
       "      <td>0</td>\n",
       "      <td>0</td>\n",
       "      <td>0</td>\n",
       "      <td>1</td>\n",
       "      <td>1</td>\n",
       "      <td>0</td>\n",
       "      <td>23</td>\n",
       "      <td>6</td>\n",
       "    </tr>\n",
       "    <tr>\n",
       "      <th>3414</th>\n",
       "      <td>3415</td>\n",
       "      <td>2</td>\n",
       "      <td>2</td>\n",
       "      <td>0</td>\n",
       "      <td>0</td>\n",
       "      <td>0</td>\n",
       "      <td>0.000</td>\n",
       "      <td>0.0</td>\n",
       "      <td>0.00</td>\n",
       "      <td>1.00</td>\n",
       "      <td>...</td>\n",
       "      <td>0</td>\n",
       "      <td>2</td>\n",
       "      <td>0</td>\n",
       "      <td>0</td>\n",
       "      <td>0</td>\n",
       "      <td>0</td>\n",
       "      <td>2</td>\n",
       "      <td>0</td>\n",
       "      <td>22</td>\n",
       "      <td>18</td>\n",
       "    </tr>\n",
       "    <tr>\n",
       "      <th>817</th>\n",
       "      <td>818</td>\n",
       "      <td>2</td>\n",
       "      <td>0</td>\n",
       "      <td>2</td>\n",
       "      <td>0</td>\n",
       "      <td>0</td>\n",
       "      <td>0.000</td>\n",
       "      <td>0.0</td>\n",
       "      <td>1.00</td>\n",
       "      <td>0.00</td>\n",
       "      <td>...</td>\n",
       "      <td>0</td>\n",
       "      <td>1</td>\n",
       "      <td>0</td>\n",
       "      <td>0</td>\n",
       "      <td>0</td>\n",
       "      <td>1</td>\n",
       "      <td>1</td>\n",
       "      <td>0</td>\n",
       "      <td>12</td>\n",
       "      <td>9</td>\n",
       "    </tr>\n",
       "    <tr>\n",
       "      <th>2924</th>\n",
       "      <td>2925</td>\n",
       "      <td>3</td>\n",
       "      <td>0</td>\n",
       "      <td>3</td>\n",
       "      <td>1</td>\n",
       "      <td>0</td>\n",
       "      <td>0.333</td>\n",
       "      <td>0.0</td>\n",
       "      <td>1.00</td>\n",
       "      <td>0.00</td>\n",
       "      <td>...</td>\n",
       "      <td>0</td>\n",
       "      <td>1</td>\n",
       "      <td>0</td>\n",
       "      <td>0</td>\n",
       "      <td>2</td>\n",
       "      <td>0</td>\n",
       "      <td>3</td>\n",
       "      <td>0</td>\n",
       "      <td>14</td>\n",
       "      <td>2</td>\n",
       "    </tr>\n",
       "    <tr>\n",
       "      <th>9947</th>\n",
       "      <td>9948</td>\n",
       "      <td>1</td>\n",
       "      <td>1</td>\n",
       "      <td>0</td>\n",
       "      <td>0</td>\n",
       "      <td>0</td>\n",
       "      <td>0.000</td>\n",
       "      <td>0.0</td>\n",
       "      <td>0.00</td>\n",
       "      <td>1.00</td>\n",
       "      <td>...</td>\n",
       "      <td>0</td>\n",
       "      <td>1</td>\n",
       "      <td>0</td>\n",
       "      <td>0</td>\n",
       "      <td>0</td>\n",
       "      <td>0</td>\n",
       "      <td>1</td>\n",
       "      <td>0</td>\n",
       "      <td>19</td>\n",
       "      <td>19</td>\n",
       "    </tr>\n",
       "    <tr>\n",
       "      <th>27670</th>\n",
       "      <td>27671</td>\n",
       "      <td>1</td>\n",
       "      <td>1</td>\n",
       "      <td>0</td>\n",
       "      <td>0</td>\n",
       "      <td>1</td>\n",
       "      <td>0.000</td>\n",
       "      <td>1.0</td>\n",
       "      <td>0.00</td>\n",
       "      <td>1.00</td>\n",
       "      <td>...</td>\n",
       "      <td>0</td>\n",
       "      <td>1</td>\n",
       "      <td>0</td>\n",
       "      <td>0</td>\n",
       "      <td>0</td>\n",
       "      <td>0</td>\n",
       "      <td>1</td>\n",
       "      <td>0</td>\n",
       "      <td>9</td>\n",
       "      <td>9</td>\n",
       "    </tr>\n",
       "  </tbody>\n",
       "</table>\n",
       "<p>10 rows × 26 columns</p>\n",
       "</div>"
      ],
      "text/plain": [
       "       PROSPECTID  Total_TL  Tot_Closed_TL  Tot_Active_TL  \\\n",
       "35737       35738         1              0              1   \n",
       "795           796         1              1              0   \n",
       "12421       12422         5              1              4   \n",
       "35899       35900         4              1              3   \n",
       "50514       50515         2              0              2   \n",
       "3414         3415         2              2              0   \n",
       "817           818         2              0              2   \n",
       "2924         2925         3              0              3   \n",
       "9947         9948         1              1              0   \n",
       "27670       27671         1              1              0   \n",
       "\n",
       "       Total_TL_opened_L6M  Tot_TL_closed_L6M  pct_tl_open_L6M  \\\n",
       "35737                    0                  0            0.000   \n",
       "795                      0                  0            0.000   \n",
       "12421                    3                  0            0.600   \n",
       "35899                    1                  0            0.250   \n",
       "50514                    1                  0            0.500   \n",
       "3414                     0                  0            0.000   \n",
       "817                      0                  0            0.000   \n",
       "2924                     1                  0            0.333   \n",
       "9947                     0                  0            0.000   \n",
       "27670                    0                  1            0.000   \n",
       "\n",
       "       pct_tl_closed_L6M  pct_active_tl  pct_closed_tl  ...  CC_TL  \\\n",
       "35737                0.0           1.00           0.00  ...      0   \n",
       "795                  0.0           0.00           1.00  ...      0   \n",
       "12421                0.0           0.80           0.20  ...      0   \n",
       "35899                0.0           0.75           0.25  ...      0   \n",
       "50514                0.0           1.00           0.00  ...      0   \n",
       "3414                 0.0           0.00           1.00  ...      0   \n",
       "817                  0.0           1.00           0.00  ...      0   \n",
       "2924                 0.0           1.00           0.00  ...      0   \n",
       "9947                 0.0           0.00           1.00  ...      0   \n",
       "27670                1.0           0.00           1.00  ...      0   \n",
       "\n",
       "       Consumer_TL  Gold_TL  Home_TL  PL_TL  Secured_TL  Unsecured_TL  \\\n",
       "35737            0        0        0      0           1             0   \n",
       "795              1        0        0      0           0             1   \n",
       "12421            1        0        0      1           2             3   \n",
       "35899            3        0        0      0           1             3   \n",
       "50514            1        0        0      0           1             1   \n",
       "3414             2        0        0      0           0             2   \n",
       "817              1        0        0      0           1             1   \n",
       "2924             1        0        0      2           0             3   \n",
       "9947             1        0        0      0           0             1   \n",
       "27670            1        0        0      0           0             1   \n",
       "\n",
       "       Other_TL  Age_Oldest_TL  Age_Newest_TL  \n",
       "35737         0             21             21  \n",
       "795           0             38             38  \n",
       "12421         1             28              3  \n",
       "35899         1             32              3  \n",
       "50514         0             23              6  \n",
       "3414          0             22             18  \n",
       "817           0             12              9  \n",
       "2924          0             14              2  \n",
       "9947          0             19             19  \n",
       "27670         0              9              9  \n",
       "\n",
       "[10 rows x 26 columns]"
      ]
     },
     "execution_count": 4,
     "metadata": {},
     "output_type": "execute_result"
    }
   ],
   "source": [
    "df1.sample(10)"
   ]
  },
  {
   "cell_type": "code",
   "execution_count": 5,
   "id": "9bc9e631",
   "metadata": {},
   "outputs": [
    {
     "data": {
      "text/html": [
       "<div>\n",
       "<style scoped>\n",
       "    .dataframe tbody tr th:only-of-type {\n",
       "        vertical-align: middle;\n",
       "    }\n",
       "\n",
       "    .dataframe tbody tr th {\n",
       "        vertical-align: top;\n",
       "    }\n",
       "\n",
       "    .dataframe thead th {\n",
       "        text-align: right;\n",
       "    }\n",
       "</style>\n",
       "<table border=\"1\" class=\"dataframe\">\n",
       "  <thead>\n",
       "    <tr style=\"text-align: right;\">\n",
       "      <th></th>\n",
       "      <th>PROSPECTID</th>\n",
       "      <th>time_since_recent_payment</th>\n",
       "      <th>time_since_first_deliquency</th>\n",
       "      <th>time_since_recent_deliquency</th>\n",
       "      <th>num_times_delinquent</th>\n",
       "      <th>max_delinquency_level</th>\n",
       "      <th>max_recent_level_of_deliq</th>\n",
       "      <th>num_deliq_6mts</th>\n",
       "      <th>num_deliq_12mts</th>\n",
       "      <th>num_deliq_6_12mts</th>\n",
       "      <th>...</th>\n",
       "      <th>pct_CC_enq_L6m_of_L12m</th>\n",
       "      <th>pct_PL_enq_L6m_of_ever</th>\n",
       "      <th>pct_CC_enq_L6m_of_ever</th>\n",
       "      <th>max_unsec_exposure_inPct</th>\n",
       "      <th>HL_Flag</th>\n",
       "      <th>GL_Flag</th>\n",
       "      <th>last_prod_enq2</th>\n",
       "      <th>first_prod_enq2</th>\n",
       "      <th>Credit_Score</th>\n",
       "      <th>Approved_Flag</th>\n",
       "    </tr>\n",
       "  </thead>\n",
       "  <tbody>\n",
       "    <tr>\n",
       "      <th>17055</th>\n",
       "      <td>17056</td>\n",
       "      <td>75</td>\n",
       "      <td>-99999</td>\n",
       "      <td>-99999</td>\n",
       "      <td>0</td>\n",
       "      <td>-99999</td>\n",
       "      <td>0</td>\n",
       "      <td>0</td>\n",
       "      <td>0</td>\n",
       "      <td>0</td>\n",
       "      <td>...</td>\n",
       "      <td>0.0</td>\n",
       "      <td>1.0</td>\n",
       "      <td>0.0</td>\n",
       "      <td>2.196</td>\n",
       "      <td>0</td>\n",
       "      <td>0</td>\n",
       "      <td>PL</td>\n",
       "      <td>others</td>\n",
       "      <td>680</td>\n",
       "      <td>P2</td>\n",
       "    </tr>\n",
       "    <tr>\n",
       "      <th>8564</th>\n",
       "      <td>8565</td>\n",
       "      <td>138</td>\n",
       "      <td>14</td>\n",
       "      <td>12</td>\n",
       "      <td>2</td>\n",
       "      <td>26</td>\n",
       "      <td>26</td>\n",
       "      <td>0</td>\n",
       "      <td>0</td>\n",
       "      <td>0</td>\n",
       "      <td>...</td>\n",
       "      <td>0.0</td>\n",
       "      <td>0.0</td>\n",
       "      <td>0.0</td>\n",
       "      <td>2.000</td>\n",
       "      <td>0</td>\n",
       "      <td>0</td>\n",
       "      <td>ConsumerLoan</td>\n",
       "      <td>others</td>\n",
       "      <td>654</td>\n",
       "      <td>P4</td>\n",
       "    </tr>\n",
       "    <tr>\n",
       "      <th>20330</th>\n",
       "      <td>20331</td>\n",
       "      <td>1231</td>\n",
       "      <td>-99999</td>\n",
       "      <td>-99999</td>\n",
       "      <td>0</td>\n",
       "      <td>-99999</td>\n",
       "      <td>0</td>\n",
       "      <td>0</td>\n",
       "      <td>0</td>\n",
       "      <td>0</td>\n",
       "      <td>...</td>\n",
       "      <td>0.0</td>\n",
       "      <td>0.0</td>\n",
       "      <td>0.0</td>\n",
       "      <td>-99999.000</td>\n",
       "      <td>0</td>\n",
       "      <td>0</td>\n",
       "      <td>others</td>\n",
       "      <td>others</td>\n",
       "      <td>676</td>\n",
       "      <td>P2</td>\n",
       "    </tr>\n",
       "    <tr>\n",
       "      <th>19772</th>\n",
       "      <td>19773</td>\n",
       "      <td>62</td>\n",
       "      <td>9</td>\n",
       "      <td>2</td>\n",
       "      <td>5</td>\n",
       "      <td>97</td>\n",
       "      <td>68</td>\n",
       "      <td>1</td>\n",
       "      <td>5</td>\n",
       "      <td>4</td>\n",
       "      <td>...</td>\n",
       "      <td>0.0</td>\n",
       "      <td>0.0</td>\n",
       "      <td>0.0</td>\n",
       "      <td>3.056</td>\n",
       "      <td>0</td>\n",
       "      <td>0</td>\n",
       "      <td>others</td>\n",
       "      <td>others</td>\n",
       "      <td>674</td>\n",
       "      <td>P2</td>\n",
       "    </tr>\n",
       "    <tr>\n",
       "      <th>8824</th>\n",
       "      <td>8825</td>\n",
       "      <td>105</td>\n",
       "      <td>-99999</td>\n",
       "      <td>-99999</td>\n",
       "      <td>0</td>\n",
       "      <td>-99999</td>\n",
       "      <td>0</td>\n",
       "      <td>0</td>\n",
       "      <td>0</td>\n",
       "      <td>0</td>\n",
       "      <td>...</td>\n",
       "      <td>0.0</td>\n",
       "      <td>0.0</td>\n",
       "      <td>0.0</td>\n",
       "      <td>29.444</td>\n",
       "      <td>1</td>\n",
       "      <td>0</td>\n",
       "      <td>others</td>\n",
       "      <td>others</td>\n",
       "      <td>736</td>\n",
       "      <td>P1</td>\n",
       "    </tr>\n",
       "    <tr>\n",
       "      <th>10038</th>\n",
       "      <td>10039</td>\n",
       "      <td>-99999</td>\n",
       "      <td>-99999</td>\n",
       "      <td>-99999</td>\n",
       "      <td>0</td>\n",
       "      <td>-99999</td>\n",
       "      <td>0</td>\n",
       "      <td>0</td>\n",
       "      <td>0</td>\n",
       "      <td>0</td>\n",
       "      <td>...</td>\n",
       "      <td>0.0</td>\n",
       "      <td>0.0</td>\n",
       "      <td>0.0</td>\n",
       "      <td>19.422</td>\n",
       "      <td>0</td>\n",
       "      <td>0</td>\n",
       "      <td>others</td>\n",
       "      <td>ConsumerLoan</td>\n",
       "      <td>679</td>\n",
       "      <td>P2</td>\n",
       "    </tr>\n",
       "    <tr>\n",
       "      <th>46813</th>\n",
       "      <td>46814</td>\n",
       "      <td>-99999</td>\n",
       "      <td>-99999</td>\n",
       "      <td>-99999</td>\n",
       "      <td>0</td>\n",
       "      <td>-99999</td>\n",
       "      <td>0</td>\n",
       "      <td>0</td>\n",
       "      <td>0</td>\n",
       "      <td>0</td>\n",
       "      <td>...</td>\n",
       "      <td>0.0</td>\n",
       "      <td>0.0</td>\n",
       "      <td>0.0</td>\n",
       "      <td>0.681</td>\n",
       "      <td>0</td>\n",
       "      <td>0</td>\n",
       "      <td>others</td>\n",
       "      <td>HL</td>\n",
       "      <td>672</td>\n",
       "      <td>P2</td>\n",
       "    </tr>\n",
       "    <tr>\n",
       "      <th>4249</th>\n",
       "      <td>4250</td>\n",
       "      <td>143</td>\n",
       "      <td>32</td>\n",
       "      <td>32</td>\n",
       "      <td>2</td>\n",
       "      <td>30</td>\n",
       "      <td>30</td>\n",
       "      <td>0</td>\n",
       "      <td>0</td>\n",
       "      <td>0</td>\n",
       "      <td>...</td>\n",
       "      <td>0.0</td>\n",
       "      <td>0.0</td>\n",
       "      <td>0.0</td>\n",
       "      <td>-99999.000</td>\n",
       "      <td>1</td>\n",
       "      <td>0</td>\n",
       "      <td>ConsumerLoan</td>\n",
       "      <td>others</td>\n",
       "      <td>663</td>\n",
       "      <td>P3</td>\n",
       "    </tr>\n",
       "    <tr>\n",
       "      <th>19885</th>\n",
       "      <td>19886</td>\n",
       "      <td>-99999</td>\n",
       "      <td>-99999</td>\n",
       "      <td>-99999</td>\n",
       "      <td>0</td>\n",
       "      <td>-99999</td>\n",
       "      <td>0</td>\n",
       "      <td>0</td>\n",
       "      <td>0</td>\n",
       "      <td>0</td>\n",
       "      <td>...</td>\n",
       "      <td>0.0</td>\n",
       "      <td>0.0</td>\n",
       "      <td>0.0</td>\n",
       "      <td>-99999.000</td>\n",
       "      <td>0</td>\n",
       "      <td>0</td>\n",
       "      <td>ConsumerLoan</td>\n",
       "      <td>ConsumerLoan</td>\n",
       "      <td>675</td>\n",
       "      <td>P2</td>\n",
       "    </tr>\n",
       "    <tr>\n",
       "      <th>32955</th>\n",
       "      <td>32956</td>\n",
       "      <td>75</td>\n",
       "      <td>-99999</td>\n",
       "      <td>-99999</td>\n",
       "      <td>0</td>\n",
       "      <td>-99999</td>\n",
       "      <td>0</td>\n",
       "      <td>0</td>\n",
       "      <td>0</td>\n",
       "      <td>0</td>\n",
       "      <td>...</td>\n",
       "      <td>1.0</td>\n",
       "      <td>1.0</td>\n",
       "      <td>1.0</td>\n",
       "      <td>0.371</td>\n",
       "      <td>0</td>\n",
       "      <td>0</td>\n",
       "      <td>others</td>\n",
       "      <td>ConsumerLoan</td>\n",
       "      <td>654</td>\n",
       "      <td>P4</td>\n",
       "    </tr>\n",
       "  </tbody>\n",
       "</table>\n",
       "<p>10 rows × 62 columns</p>\n",
       "</div>"
      ],
      "text/plain": [
       "       PROSPECTID  time_since_recent_payment  time_since_first_deliquency  \\\n",
       "17055       17056                         75                       -99999   \n",
       "8564         8565                        138                           14   \n",
       "20330       20331                       1231                       -99999   \n",
       "19772       19773                         62                            9   \n",
       "8824         8825                        105                       -99999   \n",
       "10038       10039                     -99999                       -99999   \n",
       "46813       46814                     -99999                       -99999   \n",
       "4249         4250                        143                           32   \n",
       "19885       19886                     -99999                       -99999   \n",
       "32955       32956                         75                       -99999   \n",
       "\n",
       "       time_since_recent_deliquency  num_times_delinquent  \\\n",
       "17055                        -99999                     0   \n",
       "8564                             12                     2   \n",
       "20330                        -99999                     0   \n",
       "19772                             2                     5   \n",
       "8824                         -99999                     0   \n",
       "10038                        -99999                     0   \n",
       "46813                        -99999                     0   \n",
       "4249                             32                     2   \n",
       "19885                        -99999                     0   \n",
       "32955                        -99999                     0   \n",
       "\n",
       "       max_delinquency_level  max_recent_level_of_deliq  num_deliq_6mts  \\\n",
       "17055                 -99999                          0               0   \n",
       "8564                      26                         26               0   \n",
       "20330                 -99999                          0               0   \n",
       "19772                     97                         68               1   \n",
       "8824                  -99999                          0               0   \n",
       "10038                 -99999                          0               0   \n",
       "46813                 -99999                          0               0   \n",
       "4249                      30                         30               0   \n",
       "19885                 -99999                          0               0   \n",
       "32955                 -99999                          0               0   \n",
       "\n",
       "       num_deliq_12mts  num_deliq_6_12mts  ...  pct_CC_enq_L6m_of_L12m  \\\n",
       "17055                0                  0  ...                     0.0   \n",
       "8564                 0                  0  ...                     0.0   \n",
       "20330                0                  0  ...                     0.0   \n",
       "19772                5                  4  ...                     0.0   \n",
       "8824                 0                  0  ...                     0.0   \n",
       "10038                0                  0  ...                     0.0   \n",
       "46813                0                  0  ...                     0.0   \n",
       "4249                 0                  0  ...                     0.0   \n",
       "19885                0                  0  ...                     0.0   \n",
       "32955                0                  0  ...                     1.0   \n",
       "\n",
       "       pct_PL_enq_L6m_of_ever  pct_CC_enq_L6m_of_ever  \\\n",
       "17055                     1.0                     0.0   \n",
       "8564                      0.0                     0.0   \n",
       "20330                     0.0                     0.0   \n",
       "19772                     0.0                     0.0   \n",
       "8824                      0.0                     0.0   \n",
       "10038                     0.0                     0.0   \n",
       "46813                     0.0                     0.0   \n",
       "4249                      0.0                     0.0   \n",
       "19885                     0.0                     0.0   \n",
       "32955                     1.0                     1.0   \n",
       "\n",
       "       max_unsec_exposure_inPct  HL_Flag  GL_Flag  last_prod_enq2  \\\n",
       "17055                     2.196        0        0              PL   \n",
       "8564                      2.000        0        0    ConsumerLoan   \n",
       "20330                -99999.000        0        0          others   \n",
       "19772                     3.056        0        0          others   \n",
       "8824                     29.444        1        0          others   \n",
       "10038                    19.422        0        0          others   \n",
       "46813                     0.681        0        0          others   \n",
       "4249                 -99999.000        1        0    ConsumerLoan   \n",
       "19885                -99999.000        0        0    ConsumerLoan   \n",
       "32955                     0.371        0        0          others   \n",
       "\n",
       "       first_prod_enq2  Credit_Score  Approved_Flag  \n",
       "17055           others           680             P2  \n",
       "8564            others           654             P4  \n",
       "20330           others           676             P2  \n",
       "19772           others           674             P2  \n",
       "8824            others           736             P1  \n",
       "10038     ConsumerLoan           679             P2  \n",
       "46813               HL           672             P2  \n",
       "4249            others           663             P3  \n",
       "19885     ConsumerLoan           675             P2  \n",
       "32955     ConsumerLoan           654             P4  \n",
       "\n",
       "[10 rows x 62 columns]"
      ]
     },
     "execution_count": 5,
     "metadata": {},
     "output_type": "execute_result"
    }
   ],
   "source": [
    "df2.sample(10)"
   ]
  },
  {
   "cell_type": "markdown",
   "id": "392bdca5",
   "metadata": {},
   "source": [
    "# Conclussion\n",
    "1. we can see that in `df2` most of the columns contain `-99999` values.\n",
    "2. These `-99999` are basically `Missing value`."
   ]
  },
  {
   "cell_type": "code",
   "execution_count": null,
   "id": "7285fca6",
   "metadata": {},
   "outputs": [],
   "source": []
  },
  {
   "cell_type": "markdown",
   "id": "0df851ab",
   "metadata": {},
   "source": [
    "# 2.shape"
   ]
  },
  {
   "cell_type": "code",
   "execution_count": 6,
   "id": "56812ee4",
   "metadata": {},
   "outputs": [
    {
     "name": "stdout",
     "output_type": "stream",
     "text": [
      "Data 1 Shape:  (51336, 26)\n",
      "Data 2 Shape:  (51336, 62)\n"
     ]
    }
   ],
   "source": [
    "print(\"Data 1 Shape: \",df1.shape)\n",
    "print(\"Data 2 Shape: \",df2.shape)"
   ]
  },
  {
   "cell_type": "markdown",
   "id": "bb243c9d",
   "metadata": {},
   "source": [
    "# Conclussion \n",
    "1. Data1 contain `51336` rows and `26` Column\n",
    "2. Data2 contain `51336` rows and `62` Column"
   ]
  },
  {
   "cell_type": "markdown",
   "id": "2c7cb633",
   "metadata": {},
   "source": [
    "# 3.Columns"
   ]
  },
  {
   "cell_type": "code",
   "execution_count": 7,
   "id": "1d2d572e",
   "metadata": {},
   "outputs": [
    {
     "name": "stdout",
     "output_type": "stream",
     "text": [
      "Index(['PROSPECTID', 'Total_TL', 'Tot_Closed_TL', 'Tot_Active_TL',\n",
      "       'Total_TL_opened_L6M', 'Tot_TL_closed_L6M', 'pct_tl_open_L6M',\n",
      "       'pct_tl_closed_L6M', 'pct_active_tl', 'pct_closed_tl',\n",
      "       'Total_TL_opened_L12M', 'Tot_TL_closed_L12M', 'pct_tl_open_L12M',\n",
      "       'pct_tl_closed_L12M', 'Tot_Missed_Pmnt', 'Auto_TL', 'CC_TL',\n",
      "       'Consumer_TL', 'Gold_TL', 'Home_TL', 'PL_TL', 'Secured_TL',\n",
      "       'Unsecured_TL', 'Other_TL', 'Age_Oldest_TL', 'Age_Newest_TL'],\n",
      "      dtype='object')\n",
      "Index(['PROSPECTID', 'time_since_recent_payment',\n",
      "       'time_since_first_deliquency', 'time_since_recent_deliquency',\n",
      "       'num_times_delinquent', 'max_delinquency_level',\n",
      "       'max_recent_level_of_deliq', 'num_deliq_6mts', 'num_deliq_12mts',\n",
      "       'num_deliq_6_12mts', 'max_deliq_6mts', 'max_deliq_12mts',\n",
      "       'num_times_30p_dpd', 'num_times_60p_dpd', 'num_std', 'num_std_6mts',\n",
      "       'num_std_12mts', 'num_sub', 'num_sub_6mts', 'num_sub_12mts', 'num_dbt',\n",
      "       'num_dbt_6mts', 'num_dbt_12mts', 'num_lss', 'num_lss_6mts',\n",
      "       'num_lss_12mts', 'recent_level_of_deliq', 'tot_enq', 'CC_enq',\n",
      "       'CC_enq_L6m', 'CC_enq_L12m', 'PL_enq', 'PL_enq_L6m', 'PL_enq_L12m',\n",
      "       'time_since_recent_enq', 'enq_L12m', 'enq_L6m', 'enq_L3m',\n",
      "       'MARITALSTATUS', 'EDUCATION', 'AGE', 'GENDER', 'NETMONTHLYINCOME',\n",
      "       'Time_With_Curr_Empr', 'pct_of_active_TLs_ever',\n",
      "       'pct_opened_TLs_L6m_of_L12m', 'pct_currentBal_all_TL', 'CC_utilization',\n",
      "       'CC_Flag', 'PL_utilization', 'PL_Flag', 'pct_PL_enq_L6m_of_L12m',\n",
      "       'pct_CC_enq_L6m_of_L12m', 'pct_PL_enq_L6m_of_ever',\n",
      "       'pct_CC_enq_L6m_of_ever', 'max_unsec_exposure_inPct', 'HL_Flag',\n",
      "       'GL_Flag', 'last_prod_enq2', 'first_prod_enq2', 'Credit_Score',\n",
      "       'Approved_Flag'],\n",
      "      dtype='object')\n"
     ]
    }
   ],
   "source": [
    "print(df1.columns)\n",
    "print(df2.columns)"
   ]
  },
  {
   "cell_type": "markdown",
   "id": "902e4f7a",
   "metadata": {},
   "source": [
    "# Conclussion\n",
    "1. See that both `dataframe` one common column `PROSPECTID`.\n",
    "2. We can `merge` them first and then perform other data preprocessing."
   ]
  },
  {
   "cell_type": "markdown",
   "id": "8e8f0123",
   "metadata": {},
   "source": [
    "# 4.Merge `df1` anf `df2`"
   ]
  },
  {
   "cell_type": "code",
   "execution_count": 8,
   "id": "cc80b353",
   "metadata": {},
   "outputs": [
    {
     "data": {
      "text/html": [
       "<div>\n",
       "<style scoped>\n",
       "    .dataframe tbody tr th:only-of-type {\n",
       "        vertical-align: middle;\n",
       "    }\n",
       "\n",
       "    .dataframe tbody tr th {\n",
       "        vertical-align: top;\n",
       "    }\n",
       "\n",
       "    .dataframe thead th {\n",
       "        text-align: right;\n",
       "    }\n",
       "</style>\n",
       "<table border=\"1\" class=\"dataframe\">\n",
       "  <thead>\n",
       "    <tr style=\"text-align: right;\">\n",
       "      <th></th>\n",
       "      <th>PROSPECTID</th>\n",
       "      <th>Total_TL</th>\n",
       "      <th>Tot_Closed_TL</th>\n",
       "      <th>Tot_Active_TL</th>\n",
       "      <th>Total_TL_opened_L6M</th>\n",
       "      <th>Tot_TL_closed_L6M</th>\n",
       "      <th>pct_tl_open_L6M</th>\n",
       "      <th>pct_tl_closed_L6M</th>\n",
       "      <th>pct_active_tl</th>\n",
       "      <th>pct_closed_tl</th>\n",
       "      <th>...</th>\n",
       "      <th>CC_TL</th>\n",
       "      <th>Consumer_TL</th>\n",
       "      <th>Gold_TL</th>\n",
       "      <th>Home_TL</th>\n",
       "      <th>PL_TL</th>\n",
       "      <th>Secured_TL</th>\n",
       "      <th>Unsecured_TL</th>\n",
       "      <th>Other_TL</th>\n",
       "      <th>Age_Oldest_TL</th>\n",
       "      <th>Age_Newest_TL</th>\n",
       "    </tr>\n",
       "  </thead>\n",
       "  <tbody>\n",
       "    <tr>\n",
       "      <th>0</th>\n",
       "      <td>1</td>\n",
       "      <td>5</td>\n",
       "      <td>4</td>\n",
       "      <td>1</td>\n",
       "      <td>0</td>\n",
       "      <td>0</td>\n",
       "      <td>0.0</td>\n",
       "      <td>0.0</td>\n",
       "      <td>0.2</td>\n",
       "      <td>0.8</td>\n",
       "      <td>...</td>\n",
       "      <td>0</td>\n",
       "      <td>0</td>\n",
       "      <td>1</td>\n",
       "      <td>0</td>\n",
       "      <td>4</td>\n",
       "      <td>1</td>\n",
       "      <td>4</td>\n",
       "      <td>0</td>\n",
       "      <td>72</td>\n",
       "      <td>18</td>\n",
       "    </tr>\n",
       "    <tr>\n",
       "      <th>1</th>\n",
       "      <td>2</td>\n",
       "      <td>1</td>\n",
       "      <td>0</td>\n",
       "      <td>1</td>\n",
       "      <td>0</td>\n",
       "      <td>0</td>\n",
       "      <td>0.0</td>\n",
       "      <td>0.0</td>\n",
       "      <td>1.0</td>\n",
       "      <td>0.0</td>\n",
       "      <td>...</td>\n",
       "      <td>0</td>\n",
       "      <td>1</td>\n",
       "      <td>0</td>\n",
       "      <td>0</td>\n",
       "      <td>0</td>\n",
       "      <td>0</td>\n",
       "      <td>1</td>\n",
       "      <td>0</td>\n",
       "      <td>7</td>\n",
       "      <td>7</td>\n",
       "    </tr>\n",
       "  </tbody>\n",
       "</table>\n",
       "<p>2 rows × 26 columns</p>\n",
       "</div>"
      ],
      "text/plain": [
       "   PROSPECTID  Total_TL  Tot_Closed_TL  Tot_Active_TL  Total_TL_opened_L6M  \\\n",
       "0           1         5              4              1                    0   \n",
       "1           2         1              0              1                    0   \n",
       "\n",
       "   Tot_TL_closed_L6M  pct_tl_open_L6M  pct_tl_closed_L6M  pct_active_tl  \\\n",
       "0                  0              0.0                0.0            0.2   \n",
       "1                  0              0.0                0.0            1.0   \n",
       "\n",
       "   pct_closed_tl  ...  CC_TL  Consumer_TL  Gold_TL  Home_TL  PL_TL  \\\n",
       "0            0.8  ...      0            0        1        0      4   \n",
       "1            0.0  ...      0            1        0        0      0   \n",
       "\n",
       "   Secured_TL  Unsecured_TL  Other_TL  Age_Oldest_TL  Age_Newest_TL  \n",
       "0           1             4         0             72             18  \n",
       "1           0             1         0              7              7  \n",
       "\n",
       "[2 rows x 26 columns]"
      ]
     },
     "execution_count": 8,
     "metadata": {},
     "output_type": "execute_result"
    }
   ],
   "source": [
    "df1.head(2)"
   ]
  },
  {
   "cell_type": "code",
   "execution_count": 9,
   "id": "1c1e0d86",
   "metadata": {},
   "outputs": [
    {
     "data": {
      "text/html": [
       "<div>\n",
       "<style scoped>\n",
       "    .dataframe tbody tr th:only-of-type {\n",
       "        vertical-align: middle;\n",
       "    }\n",
       "\n",
       "    .dataframe tbody tr th {\n",
       "        vertical-align: top;\n",
       "    }\n",
       "\n",
       "    .dataframe thead th {\n",
       "        text-align: right;\n",
       "    }\n",
       "</style>\n",
       "<table border=\"1\" class=\"dataframe\">\n",
       "  <thead>\n",
       "    <tr style=\"text-align: right;\">\n",
       "      <th></th>\n",
       "      <th>PROSPECTID</th>\n",
       "      <th>time_since_recent_payment</th>\n",
       "      <th>time_since_first_deliquency</th>\n",
       "      <th>time_since_recent_deliquency</th>\n",
       "      <th>num_times_delinquent</th>\n",
       "      <th>max_delinquency_level</th>\n",
       "      <th>max_recent_level_of_deliq</th>\n",
       "      <th>num_deliq_6mts</th>\n",
       "      <th>num_deliq_12mts</th>\n",
       "      <th>num_deliq_6_12mts</th>\n",
       "      <th>...</th>\n",
       "      <th>pct_CC_enq_L6m_of_L12m</th>\n",
       "      <th>pct_PL_enq_L6m_of_ever</th>\n",
       "      <th>pct_CC_enq_L6m_of_ever</th>\n",
       "      <th>max_unsec_exposure_inPct</th>\n",
       "      <th>HL_Flag</th>\n",
       "      <th>GL_Flag</th>\n",
       "      <th>last_prod_enq2</th>\n",
       "      <th>first_prod_enq2</th>\n",
       "      <th>Credit_Score</th>\n",
       "      <th>Approved_Flag</th>\n",
       "    </tr>\n",
       "  </thead>\n",
       "  <tbody>\n",
       "    <tr>\n",
       "      <th>0</th>\n",
       "      <td>1</td>\n",
       "      <td>549</td>\n",
       "      <td>35</td>\n",
       "      <td>15</td>\n",
       "      <td>11</td>\n",
       "      <td>29</td>\n",
       "      <td>29</td>\n",
       "      <td>0</td>\n",
       "      <td>0</td>\n",
       "      <td>0</td>\n",
       "      <td>...</td>\n",
       "      <td>0.0</td>\n",
       "      <td>0.0</td>\n",
       "      <td>0.0</td>\n",
       "      <td>13.333</td>\n",
       "      <td>1</td>\n",
       "      <td>0</td>\n",
       "      <td>PL</td>\n",
       "      <td>PL</td>\n",
       "      <td>696</td>\n",
       "      <td>P2</td>\n",
       "    </tr>\n",
       "    <tr>\n",
       "      <th>1</th>\n",
       "      <td>2</td>\n",
       "      <td>47</td>\n",
       "      <td>-99999</td>\n",
       "      <td>-99999</td>\n",
       "      <td>0</td>\n",
       "      <td>-99999</td>\n",
       "      <td>0</td>\n",
       "      <td>0</td>\n",
       "      <td>0</td>\n",
       "      <td>0</td>\n",
       "      <td>...</td>\n",
       "      <td>0.0</td>\n",
       "      <td>0.0</td>\n",
       "      <td>0.0</td>\n",
       "      <td>0.860</td>\n",
       "      <td>0</td>\n",
       "      <td>0</td>\n",
       "      <td>ConsumerLoan</td>\n",
       "      <td>ConsumerLoan</td>\n",
       "      <td>685</td>\n",
       "      <td>P2</td>\n",
       "    </tr>\n",
       "  </tbody>\n",
       "</table>\n",
       "<p>2 rows × 62 columns</p>\n",
       "</div>"
      ],
      "text/plain": [
       "   PROSPECTID  time_since_recent_payment  time_since_first_deliquency  \\\n",
       "0           1                        549                           35   \n",
       "1           2                         47                       -99999   \n",
       "\n",
       "   time_since_recent_deliquency  num_times_delinquent  max_delinquency_level  \\\n",
       "0                            15                    11                     29   \n",
       "1                        -99999                     0                 -99999   \n",
       "\n",
       "   max_recent_level_of_deliq  num_deliq_6mts  num_deliq_12mts  \\\n",
       "0                         29               0                0   \n",
       "1                          0               0                0   \n",
       "\n",
       "   num_deliq_6_12mts  ...  pct_CC_enq_L6m_of_L12m  pct_PL_enq_L6m_of_ever  \\\n",
       "0                  0  ...                     0.0                     0.0   \n",
       "1                  0  ...                     0.0                     0.0   \n",
       "\n",
       "   pct_CC_enq_L6m_of_ever  max_unsec_exposure_inPct  HL_Flag  GL_Flag  \\\n",
       "0                     0.0                    13.333        1        0   \n",
       "1                     0.0                     0.860        0        0   \n",
       "\n",
       "   last_prod_enq2  first_prod_enq2  Credit_Score  Approved_Flag  \n",
       "0              PL               PL           696             P2  \n",
       "1    ConsumerLoan     ConsumerLoan           685             P2  \n",
       "\n",
       "[2 rows x 62 columns]"
      ]
     },
     "execution_count": 9,
     "metadata": {},
     "output_type": "execute_result"
    }
   ],
   "source": [
    "df2.head(2)"
   ]
  },
  {
   "cell_type": "code",
   "execution_count": 10,
   "id": "bc0947a0",
   "metadata": {},
   "outputs": [
    {
     "data": {
      "text/html": [
       "<div>\n",
       "<style scoped>\n",
       "    .dataframe tbody tr th:only-of-type {\n",
       "        vertical-align: middle;\n",
       "    }\n",
       "\n",
       "    .dataframe tbody tr th {\n",
       "        vertical-align: top;\n",
       "    }\n",
       "\n",
       "    .dataframe thead th {\n",
       "        text-align: right;\n",
       "    }\n",
       "</style>\n",
       "<table border=\"1\" class=\"dataframe\">\n",
       "  <thead>\n",
       "    <tr style=\"text-align: right;\">\n",
       "      <th></th>\n",
       "      <th>PROSPECTID</th>\n",
       "      <th>Total_TL</th>\n",
       "      <th>Tot_Closed_TL</th>\n",
       "      <th>Tot_Active_TL</th>\n",
       "      <th>Total_TL_opened_L6M</th>\n",
       "      <th>Tot_TL_closed_L6M</th>\n",
       "      <th>pct_tl_open_L6M</th>\n",
       "      <th>pct_tl_closed_L6M</th>\n",
       "      <th>pct_active_tl</th>\n",
       "      <th>pct_closed_tl</th>\n",
       "      <th>...</th>\n",
       "      <th>pct_CC_enq_L6m_of_L12m</th>\n",
       "      <th>pct_PL_enq_L6m_of_ever</th>\n",
       "      <th>pct_CC_enq_L6m_of_ever</th>\n",
       "      <th>max_unsec_exposure_inPct</th>\n",
       "      <th>HL_Flag</th>\n",
       "      <th>GL_Flag</th>\n",
       "      <th>last_prod_enq2</th>\n",
       "      <th>first_prod_enq2</th>\n",
       "      <th>Credit_Score</th>\n",
       "      <th>Approved_Flag</th>\n",
       "    </tr>\n",
       "  </thead>\n",
       "  <tbody>\n",
       "    <tr>\n",
       "      <th>0</th>\n",
       "      <td>1</td>\n",
       "      <td>5</td>\n",
       "      <td>4</td>\n",
       "      <td>1</td>\n",
       "      <td>0</td>\n",
       "      <td>0</td>\n",
       "      <td>0.0</td>\n",
       "      <td>0.0</td>\n",
       "      <td>0.2</td>\n",
       "      <td>0.8</td>\n",
       "      <td>...</td>\n",
       "      <td>0.0</td>\n",
       "      <td>0.0</td>\n",
       "      <td>0.0</td>\n",
       "      <td>13.333</td>\n",
       "      <td>1</td>\n",
       "      <td>0</td>\n",
       "      <td>PL</td>\n",
       "      <td>PL</td>\n",
       "      <td>696</td>\n",
       "      <td>P2</td>\n",
       "    </tr>\n",
       "    <tr>\n",
       "      <th>1</th>\n",
       "      <td>2</td>\n",
       "      <td>1</td>\n",
       "      <td>0</td>\n",
       "      <td>1</td>\n",
       "      <td>0</td>\n",
       "      <td>0</td>\n",
       "      <td>0.0</td>\n",
       "      <td>0.0</td>\n",
       "      <td>1.0</td>\n",
       "      <td>0.0</td>\n",
       "      <td>...</td>\n",
       "      <td>0.0</td>\n",
       "      <td>0.0</td>\n",
       "      <td>0.0</td>\n",
       "      <td>0.860</td>\n",
       "      <td>0</td>\n",
       "      <td>0</td>\n",
       "      <td>ConsumerLoan</td>\n",
       "      <td>ConsumerLoan</td>\n",
       "      <td>685</td>\n",
       "      <td>P2</td>\n",
       "    </tr>\n",
       "  </tbody>\n",
       "</table>\n",
       "<p>2 rows × 87 columns</p>\n",
       "</div>"
      ],
      "text/plain": [
       "   PROSPECTID  Total_TL  Tot_Closed_TL  Tot_Active_TL  Total_TL_opened_L6M  \\\n",
       "0           1         5              4              1                    0   \n",
       "1           2         1              0              1                    0   \n",
       "\n",
       "   Tot_TL_closed_L6M  pct_tl_open_L6M  pct_tl_closed_L6M  pct_active_tl  \\\n",
       "0                  0              0.0                0.0            0.2   \n",
       "1                  0              0.0                0.0            1.0   \n",
       "\n",
       "   pct_closed_tl  ...  pct_CC_enq_L6m_of_L12m  pct_PL_enq_L6m_of_ever  \\\n",
       "0            0.8  ...                     0.0                     0.0   \n",
       "1            0.0  ...                     0.0                     0.0   \n",
       "\n",
       "   pct_CC_enq_L6m_of_ever  max_unsec_exposure_inPct  HL_Flag  GL_Flag  \\\n",
       "0                     0.0                    13.333        1        0   \n",
       "1                     0.0                     0.860        0        0   \n",
       "\n",
       "   last_prod_enq2  first_prod_enq2  Credit_Score  Approved_Flag  \n",
       "0              PL               PL           696             P2  \n",
       "1    ConsumerLoan     ConsumerLoan           685             P2  \n",
       "\n",
       "[2 rows x 87 columns]"
      ]
     },
     "execution_count": 10,
     "metadata": {},
     "output_type": "execute_result"
    }
   ],
   "source": [
    "final_df=df1.merge(df2,how='inner',on='PROSPECTID')\n",
    "final_df.head(2)"
   ]
  },
  {
   "cell_type": "markdown",
   "id": "0afc6c8b",
   "metadata": {},
   "source": [
    "# Conclussion\n",
    "1. we have a `final df` now we can further work on this `final_df`"
   ]
  },
  {
   "cell_type": "markdown",
   "id": "1cea9080",
   "metadata": {},
   "source": [
    "# 5. Datatypes"
   ]
  },
  {
   "cell_type": "code",
   "execution_count": 11,
   "id": "8a451b57",
   "metadata": {},
   "outputs": [],
   "source": [
    "data_types=final_df.dtypes.to_dict()"
   ]
  },
  {
   "cell_type": "code",
   "execution_count": 12,
   "id": "34c3475d",
   "metadata": {},
   "outputs": [
    {
     "data": {
      "text/html": [
       "<div>\n",
       "<style scoped>\n",
       "    .dataframe tbody tr th:only-of-type {\n",
       "        vertical-align: middle;\n",
       "    }\n",
       "\n",
       "    .dataframe tbody tr th {\n",
       "        vertical-align: top;\n",
       "    }\n",
       "\n",
       "    .dataframe thead th {\n",
       "        text-align: right;\n",
       "    }\n",
       "</style>\n",
       "<table border=\"1\" class=\"dataframe\">\n",
       "  <thead>\n",
       "    <tr style=\"text-align: right;\">\n",
       "      <th></th>\n",
       "      <th>Columns</th>\n",
       "      <th>Datatypes</th>\n",
       "    </tr>\n",
       "  </thead>\n",
       "  <tbody>\n",
       "    <tr>\n",
       "      <th>0</th>\n",
       "      <td>PROSPECTID</td>\n",
       "      <td>int64</td>\n",
       "    </tr>\n",
       "    <tr>\n",
       "      <th>1</th>\n",
       "      <td>Total_TL</td>\n",
       "      <td>int64</td>\n",
       "    </tr>\n",
       "    <tr>\n",
       "      <th>2</th>\n",
       "      <td>Tot_Closed_TL</td>\n",
       "      <td>int64</td>\n",
       "    </tr>\n",
       "    <tr>\n",
       "      <th>3</th>\n",
       "      <td>Tot_Active_TL</td>\n",
       "      <td>int64</td>\n",
       "    </tr>\n",
       "    <tr>\n",
       "      <th>4</th>\n",
       "      <td>Total_TL_opened_L6M</td>\n",
       "      <td>int64</td>\n",
       "    </tr>\n",
       "    <tr>\n",
       "      <th>...</th>\n",
       "      <td>...</td>\n",
       "      <td>...</td>\n",
       "    </tr>\n",
       "    <tr>\n",
       "      <th>82</th>\n",
       "      <td>GL_Flag</td>\n",
       "      <td>int64</td>\n",
       "    </tr>\n",
       "    <tr>\n",
       "      <th>83</th>\n",
       "      <td>last_prod_enq2</td>\n",
       "      <td>object</td>\n",
       "    </tr>\n",
       "    <tr>\n",
       "      <th>84</th>\n",
       "      <td>first_prod_enq2</td>\n",
       "      <td>object</td>\n",
       "    </tr>\n",
       "    <tr>\n",
       "      <th>85</th>\n",
       "      <td>Credit_Score</td>\n",
       "      <td>int64</td>\n",
       "    </tr>\n",
       "    <tr>\n",
       "      <th>86</th>\n",
       "      <td>Approved_Flag</td>\n",
       "      <td>object</td>\n",
       "    </tr>\n",
       "  </tbody>\n",
       "</table>\n",
       "<p>87 rows × 2 columns</p>\n",
       "</div>"
      ],
      "text/plain": [
       "                Columns Datatypes\n",
       "0            PROSPECTID     int64\n",
       "1              Total_TL     int64\n",
       "2         Tot_Closed_TL     int64\n",
       "3         Tot_Active_TL     int64\n",
       "4   Total_TL_opened_L6M     int64\n",
       "..                  ...       ...\n",
       "82              GL_Flag     int64\n",
       "83       last_prod_enq2    object\n",
       "84      first_prod_enq2    object\n",
       "85         Credit_Score     int64\n",
       "86        Approved_Flag    object\n",
       "\n",
       "[87 rows x 2 columns]"
      ]
     },
     "execution_count": 12,
     "metadata": {},
     "output_type": "execute_result"
    }
   ],
   "source": [
    "pd.reset_option('display.max_rows')\n",
    "pd.reset_option('display.max_columns')\n",
    "pd.DataFrame(list(data_types.items()),columns=['Columns','Datatypes']).head(87)"
   ]
  },
  {
   "cell_type": "code",
   "execution_count": 13,
   "id": "b9ada92c",
   "metadata": {},
   "outputs": [],
   "source": [
    "# object colums need =['material_status','Education','gender','last_prod_loan','first_prod_loan','Approved_flag']\n",
    "# int columns need =[All except object col]"
   ]
  },
  {
   "cell_type": "code",
   "execution_count": 14,
   "id": "b546714e",
   "metadata": {},
   "outputs": [
    {
     "data": {
      "text/plain": [
       "Index(['MARITALSTATUS', 'EDUCATION', 'GENDER', 'last_prod_enq2',\n",
       "       'first_prod_enq2', 'Approved_Flag'],\n",
       "      dtype='object')"
      ]
     },
     "execution_count": 14,
     "metadata": {},
     "output_type": "execute_result"
    }
   ],
   "source": [
    "final_df.select_dtypes('object').columns"
   ]
  },
  {
   "cell_type": "code",
   "execution_count": 15,
   "id": "1c23a708",
   "metadata": {},
   "outputs": [
    {
     "data": {
      "text/plain": [
       "Index(['PROSPECTID', 'Total_TL', 'Tot_Closed_TL', 'Tot_Active_TL',\n",
       "       'Total_TL_opened_L6M', 'Tot_TL_closed_L6M', 'pct_tl_open_L6M',\n",
       "       'pct_tl_closed_L6M', 'pct_active_tl', 'pct_closed_tl',\n",
       "       'Total_TL_opened_L12M', 'Tot_TL_closed_L12M', 'pct_tl_open_L12M',\n",
       "       'pct_tl_closed_L12M', 'Tot_Missed_Pmnt', 'Auto_TL', 'CC_TL',\n",
       "       'Consumer_TL', 'Gold_TL', 'Home_TL', 'PL_TL', 'Secured_TL',\n",
       "       'Unsecured_TL', 'Other_TL', 'Age_Oldest_TL', 'Age_Newest_TL',\n",
       "       'time_since_recent_payment', 'time_since_first_deliquency',\n",
       "       'time_since_recent_deliquency', 'num_times_delinquent',\n",
       "       'max_delinquency_level', 'max_recent_level_of_deliq', 'num_deliq_6mts',\n",
       "       'num_deliq_12mts', 'num_deliq_6_12mts', 'max_deliq_6mts',\n",
       "       'max_deliq_12mts', 'num_times_30p_dpd', 'num_times_60p_dpd', 'num_std',\n",
       "       'num_std_6mts', 'num_std_12mts', 'num_sub', 'num_sub_6mts',\n",
       "       'num_sub_12mts', 'num_dbt', 'num_dbt_6mts', 'num_dbt_12mts', 'num_lss',\n",
       "       'num_lss_6mts', 'num_lss_12mts', 'recent_level_of_deliq', 'tot_enq',\n",
       "       'CC_enq', 'CC_enq_L6m', 'CC_enq_L12m', 'PL_enq', 'PL_enq_L6m',\n",
       "       'PL_enq_L12m', 'time_since_recent_enq', 'enq_L12m', 'enq_L6m',\n",
       "       'enq_L3m', 'AGE', 'NETMONTHLYINCOME', 'Time_With_Curr_Empr',\n",
       "       'pct_of_active_TLs_ever', 'pct_opened_TLs_L6m_of_L12m',\n",
       "       'pct_currentBal_all_TL', 'CC_utilization', 'CC_Flag', 'PL_utilization',\n",
       "       'PL_Flag', 'pct_PL_enq_L6m_of_L12m', 'pct_CC_enq_L6m_of_L12m',\n",
       "       'pct_PL_enq_L6m_of_ever', 'pct_CC_enq_L6m_of_ever',\n",
       "       'max_unsec_exposure_inPct', 'HL_Flag', 'GL_Flag', 'Credit_Score'],\n",
       "      dtype='object')"
      ]
     },
     "execution_count": 15,
     "metadata": {},
     "output_type": "execute_result"
    }
   ],
   "source": [
    "final_df.select_dtypes('number').columns"
   ]
  },
  {
   "cell_type": "markdown",
   "id": "b6b0d2a1",
   "metadata": {},
   "source": [
    "# Conclussion\n",
    "1. `Datatypes` should be in correct format."
   ]
  },
  {
   "cell_type": "markdown",
   "id": "a5a5c29c",
   "metadata": {},
   "source": [
    "# 6. Null Values\n",
    "1. First we can make the copy of dataframe"
   ]
  },
  {
   "cell_type": "code",
   "execution_count": 16,
   "id": "6640c8db",
   "metadata": {},
   "outputs": [],
   "source": [
    "copy_df=final_df.copy()"
   ]
  },
  {
   "cell_type": "code",
   "execution_count": null,
   "id": "4eaf4eab",
   "metadata": {},
   "outputs": [],
   "source": []
  },
  {
   "cell_type": "code",
   "execution_count": 17,
   "id": "ebc46267",
   "metadata": {},
   "outputs": [
    {
     "data": {
      "text/plain": [
       "PROSPECTID             0\n",
       "Total_TL               0\n",
       "Tot_Closed_TL          0\n",
       "Tot_Active_TL          0\n",
       "Total_TL_opened_L6M    0\n",
       "                      ..\n",
       "GL_Flag                0\n",
       "last_prod_enq2         0\n",
       "first_prod_enq2        0\n",
       "Credit_Score           0\n",
       "Approved_Flag          0\n",
       "Length: 87, dtype: int64"
      ]
     },
     "execution_count": 17,
     "metadata": {},
     "output_type": "execute_result"
    }
   ],
   "source": [
    "final_df.isnull().sum()"
   ]
  },
  {
   "cell_type": "markdown",
   "id": "d8ce5850",
   "metadata": {},
   "source": [
    "1. **We can't see missing values but in above we say that `-99999` shows the missing values**\n",
    "2. **Check if the ratio of `-99999` is greater in the specific column remove the columns**"
   ]
  },
  {
   "cell_type": "code",
   "execution_count": null,
   "id": "11a6172c",
   "metadata": {},
   "outputs": [],
   "source": []
  },
  {
   "cell_type": "markdown",
   "id": "1ab305b6",
   "metadata": {},
   "source": [
    "# Handling Missing Values"
   ]
  },
  {
   "cell_type": "code",
   "execution_count": 18,
   "id": "a9bc989c",
   "metadata": {},
   "outputs": [
    {
     "data": {
      "text/plain": [
       "4291"
      ]
     },
     "execution_count": 18,
     "metadata": {},
     "output_type": "execute_result"
    }
   ],
   "source": [
    "final_df[final_df['time_since_recent_payment']==-99999].shape[0]"
   ]
  },
  {
   "cell_type": "code",
   "execution_count": 19,
   "id": "5f601fd7",
   "metadata": {},
   "outputs": [
    {
     "data": {
      "text/plain": [
       "(51336, 87)"
      ]
     },
     "execution_count": 19,
     "metadata": {},
     "output_type": "execute_result"
    }
   ],
   "source": [
    "final_df.shape"
   ]
  },
  {
   "cell_type": "markdown",
   "id": "268d3d33",
   "metadata": {},
   "source": [
    "1. **We have `51336` records we can set the treshold `10000` if any columns contain `-99999` more then 10000 we can drop the columns.** \n",
    "2. **Also check the ratio of containg `-99999`.**"
   ]
  },
  {
   "cell_type": "code",
   "execution_count": 20,
   "id": "f6b7b3bf",
   "metadata": {},
   "outputs": [
    {
     "name": "stdout",
     "output_type": "stream",
     "text": [
      "time_since_first_deliquency -> -99999 value is -> 35949 and ratio is 70.0%\n",
      "time_since_recent_deliquency -> -99999 value is -> 35949 and ratio is 70.0%\n",
      "max_delinquency_level -> -99999 value is -> 35949 and ratio is 70.0%\n",
      "max_deliq_6mts -> -99999 value is -> 12890 and ratio is 25.1%\n",
      "max_deliq_12mts -> -99999 value is -> 10832 and ratio is 21.099999999999998%\n",
      "CC_utilization -> -99999 value is -> 47636 and ratio is 92.80000000000001%\n",
      "PL_utilization -> -99999 value is -> 44435 and ratio is 86.6%\n",
      "max_unsec_exposure_inPct -> -99999 value is -> 23178 and ratio is 45.1%\n"
     ]
    }
   ],
   "source": [
    "col_to_drop=[]\n",
    "for i in final_df.columns:\n",
    "    temp=final_df[final_df[i]==-99999].shape[0]\n",
    "    ratio= round(temp/len(final_df),3)*100\n",
    "    if(temp>10000):\n",
    "        print(f\"{i} -> -99999 value is -> {temp} and ratio is {ratio}%\")\n",
    "        col_to_drop.append(i)"
   ]
  },
  {
   "cell_type": "markdown",
   "id": "91e425c2",
   "metadata": {},
   "source": [
    "# Conclussion\n",
    "1. `time_since_first_deliquency` contain `70.0%` missing data.\n",
    "2. `time_since_recent_deliquency` contain `70.0%` missing data.\n",
    "3. `max_delinquency_level` contain `70.0%` missing data.\n",
    "4. `max_deliq_6mts` contain `25.1%` missing data.\n",
    "5. `max_deliq_12mts` contain  `21.09% missing data.\n",
    "6. `CC_utilization` conrain `92.8%` missing data.\n",
    "7. `PL_utilization` contain `86.6%` missing data.\n",
    "8. `max_unsec_exposure_inPct` contain  `45.1%` missing data.\n",
    "- **We will drop these columns**"
   ]
  },
  {
   "cell_type": "markdown",
   "id": "92a8509c",
   "metadata": {},
   "source": [
    "### Drop Columns "
   ]
  },
  {
   "cell_type": "code",
   "execution_count": 21,
   "id": "75ea9bf5",
   "metadata": {},
   "outputs": [],
   "source": [
    "final_df.drop(columns=col_to_drop,inplace=True)"
   ]
  },
  {
   "cell_type": "code",
   "execution_count": 22,
   "id": "fafed021",
   "metadata": {},
   "outputs": [
    {
     "data": {
      "text/plain": [
       "(51336, 79)"
      ]
     },
     "execution_count": 22,
     "metadata": {},
     "output_type": "execute_result"
    }
   ],
   "source": [
    "final_df.shape"
   ]
  },
  {
   "cell_type": "code",
   "execution_count": 23,
   "id": "c7cc46ec",
   "metadata": {},
   "outputs": [
    {
     "data": {
      "text/html": [
       "<div>\n",
       "<style scoped>\n",
       "    .dataframe tbody tr th:only-of-type {\n",
       "        vertical-align: middle;\n",
       "    }\n",
       "\n",
       "    .dataframe tbody tr th {\n",
       "        vertical-align: top;\n",
       "    }\n",
       "\n",
       "    .dataframe thead th {\n",
       "        text-align: right;\n",
       "    }\n",
       "</style>\n",
       "<table border=\"1\" class=\"dataframe\">\n",
       "  <thead>\n",
       "    <tr style=\"text-align: right;\">\n",
       "      <th></th>\n",
       "      <th>PROSPECTID</th>\n",
       "      <th>Total_TL</th>\n",
       "      <th>Tot_Closed_TL</th>\n",
       "      <th>Tot_Active_TL</th>\n",
       "      <th>Total_TL_opened_L6M</th>\n",
       "      <th>Tot_TL_closed_L6M</th>\n",
       "      <th>pct_tl_open_L6M</th>\n",
       "      <th>pct_tl_closed_L6M</th>\n",
       "      <th>pct_active_tl</th>\n",
       "      <th>pct_closed_tl</th>\n",
       "      <th>...</th>\n",
       "      <th>pct_PL_enq_L6m_of_L12m</th>\n",
       "      <th>pct_CC_enq_L6m_of_L12m</th>\n",
       "      <th>pct_PL_enq_L6m_of_ever</th>\n",
       "      <th>pct_CC_enq_L6m_of_ever</th>\n",
       "      <th>HL_Flag</th>\n",
       "      <th>GL_Flag</th>\n",
       "      <th>last_prod_enq2</th>\n",
       "      <th>first_prod_enq2</th>\n",
       "      <th>Credit_Score</th>\n",
       "      <th>Approved_Flag</th>\n",
       "    </tr>\n",
       "  </thead>\n",
       "  <tbody>\n",
       "    <tr>\n",
       "      <th>44443</th>\n",
       "      <td>44444</td>\n",
       "      <td>5</td>\n",
       "      <td>3</td>\n",
       "      <td>2</td>\n",
       "      <td>1</td>\n",
       "      <td>1</td>\n",
       "      <td>0.200</td>\n",
       "      <td>0.200</td>\n",
       "      <td>0.400</td>\n",
       "      <td>0.600</td>\n",
       "      <td>...</td>\n",
       "      <td>0.0</td>\n",
       "      <td>1.0</td>\n",
       "      <td>0.0</td>\n",
       "      <td>1.0</td>\n",
       "      <td>0</td>\n",
       "      <td>0</td>\n",
       "      <td>CC</td>\n",
       "      <td>ConsumerLoan</td>\n",
       "      <td>678</td>\n",
       "      <td>P2</td>\n",
       "    </tr>\n",
       "    <tr>\n",
       "      <th>31656</th>\n",
       "      <td>31657</td>\n",
       "      <td>2</td>\n",
       "      <td>0</td>\n",
       "      <td>2</td>\n",
       "      <td>1</td>\n",
       "      <td>0</td>\n",
       "      <td>0.500</td>\n",
       "      <td>0.000</td>\n",
       "      <td>1.000</td>\n",
       "      <td>0.000</td>\n",
       "      <td>...</td>\n",
       "      <td>0.0</td>\n",
       "      <td>0.0</td>\n",
       "      <td>0.0</td>\n",
       "      <td>0.0</td>\n",
       "      <td>0</td>\n",
       "      <td>0</td>\n",
       "      <td>others</td>\n",
       "      <td>others</td>\n",
       "      <td>675</td>\n",
       "      <td>P2</td>\n",
       "    </tr>\n",
       "    <tr>\n",
       "      <th>20853</th>\n",
       "      <td>20854</td>\n",
       "      <td>1</td>\n",
       "      <td>0</td>\n",
       "      <td>1</td>\n",
       "      <td>0</td>\n",
       "      <td>0</td>\n",
       "      <td>0.000</td>\n",
       "      <td>0.000</td>\n",
       "      <td>1.000</td>\n",
       "      <td>0.000</td>\n",
       "      <td>...</td>\n",
       "      <td>0.0</td>\n",
       "      <td>0.0</td>\n",
       "      <td>0.0</td>\n",
       "      <td>0.0</td>\n",
       "      <td>0</td>\n",
       "      <td>0</td>\n",
       "      <td>others</td>\n",
       "      <td>others</td>\n",
       "      <td>704</td>\n",
       "      <td>P1</td>\n",
       "    </tr>\n",
       "    <tr>\n",
       "      <th>34782</th>\n",
       "      <td>34783</td>\n",
       "      <td>2</td>\n",
       "      <td>2</td>\n",
       "      <td>0</td>\n",
       "      <td>0</td>\n",
       "      <td>1</td>\n",
       "      <td>0.000</td>\n",
       "      <td>0.500</td>\n",
       "      <td>0.000</td>\n",
       "      <td>1.000</td>\n",
       "      <td>...</td>\n",
       "      <td>0.0</td>\n",
       "      <td>0.0</td>\n",
       "      <td>0.0</td>\n",
       "      <td>0.0</td>\n",
       "      <td>0</td>\n",
       "      <td>0</td>\n",
       "      <td>ConsumerLoan</td>\n",
       "      <td>ConsumerLoan</td>\n",
       "      <td>667</td>\n",
       "      <td>P3</td>\n",
       "    </tr>\n",
       "    <tr>\n",
       "      <th>42862</th>\n",
       "      <td>42863</td>\n",
       "      <td>3</td>\n",
       "      <td>2</td>\n",
       "      <td>1</td>\n",
       "      <td>0</td>\n",
       "      <td>1</td>\n",
       "      <td>0.000</td>\n",
       "      <td>0.333</td>\n",
       "      <td>0.333</td>\n",
       "      <td>0.667</td>\n",
       "      <td>...</td>\n",
       "      <td>0.0</td>\n",
       "      <td>0.0</td>\n",
       "      <td>0.0</td>\n",
       "      <td>0.0</td>\n",
       "      <td>0</td>\n",
       "      <td>0</td>\n",
       "      <td>ConsumerLoan</td>\n",
       "      <td>others</td>\n",
       "      <td>697</td>\n",
       "      <td>P2</td>\n",
       "    </tr>\n",
       "    <tr>\n",
       "      <th>10561</th>\n",
       "      <td>10562</td>\n",
       "      <td>2</td>\n",
       "      <td>1</td>\n",
       "      <td>1</td>\n",
       "      <td>0</td>\n",
       "      <td>0</td>\n",
       "      <td>0.000</td>\n",
       "      <td>0.000</td>\n",
       "      <td>0.500</td>\n",
       "      <td>0.500</td>\n",
       "      <td>...</td>\n",
       "      <td>0.0</td>\n",
       "      <td>0.0</td>\n",
       "      <td>0.0</td>\n",
       "      <td>0.0</td>\n",
       "      <td>0</td>\n",
       "      <td>0</td>\n",
       "      <td>ConsumerLoan</td>\n",
       "      <td>others</td>\n",
       "      <td>682</td>\n",
       "      <td>P2</td>\n",
       "    </tr>\n",
       "    <tr>\n",
       "      <th>28956</th>\n",
       "      <td>28957</td>\n",
       "      <td>1</td>\n",
       "      <td>0</td>\n",
       "      <td>1</td>\n",
       "      <td>0</td>\n",
       "      <td>0</td>\n",
       "      <td>0.000</td>\n",
       "      <td>0.000</td>\n",
       "      <td>1.000</td>\n",
       "      <td>0.000</td>\n",
       "      <td>...</td>\n",
       "      <td>0.0</td>\n",
       "      <td>0.0</td>\n",
       "      <td>0.0</td>\n",
       "      <td>0.0</td>\n",
       "      <td>0</td>\n",
       "      <td>0</td>\n",
       "      <td>others</td>\n",
       "      <td>others</td>\n",
       "      <td>680</td>\n",
       "      <td>P2</td>\n",
       "    </tr>\n",
       "    <tr>\n",
       "      <th>32823</th>\n",
       "      <td>32824</td>\n",
       "      <td>7</td>\n",
       "      <td>0</td>\n",
       "      <td>7</td>\n",
       "      <td>4</td>\n",
       "      <td>0</td>\n",
       "      <td>0.571</td>\n",
       "      <td>0.000</td>\n",
       "      <td>1.000</td>\n",
       "      <td>0.000</td>\n",
       "      <td>...</td>\n",
       "      <td>0.0</td>\n",
       "      <td>0.0</td>\n",
       "      <td>0.0</td>\n",
       "      <td>0.0</td>\n",
       "      <td>0</td>\n",
       "      <td>0</td>\n",
       "      <td>ConsumerLoan</td>\n",
       "      <td>ConsumerLoan</td>\n",
       "      <td>681</td>\n",
       "      <td>P2</td>\n",
       "    </tr>\n",
       "    <tr>\n",
       "      <th>37331</th>\n",
       "      <td>37332</td>\n",
       "      <td>1</td>\n",
       "      <td>1</td>\n",
       "      <td>0</td>\n",
       "      <td>0</td>\n",
       "      <td>1</td>\n",
       "      <td>0.000</td>\n",
       "      <td>1.000</td>\n",
       "      <td>0.000</td>\n",
       "      <td>1.000</td>\n",
       "      <td>...</td>\n",
       "      <td>0.0</td>\n",
       "      <td>0.0</td>\n",
       "      <td>0.0</td>\n",
       "      <td>0.0</td>\n",
       "      <td>0</td>\n",
       "      <td>0</td>\n",
       "      <td>AL</td>\n",
       "      <td>AL</td>\n",
       "      <td>670</td>\n",
       "      <td>P2</td>\n",
       "    </tr>\n",
       "    <tr>\n",
       "      <th>11922</th>\n",
       "      <td>11923</td>\n",
       "      <td>1</td>\n",
       "      <td>1</td>\n",
       "      <td>0</td>\n",
       "      <td>0</td>\n",
       "      <td>0</td>\n",
       "      <td>0.000</td>\n",
       "      <td>0.000</td>\n",
       "      <td>0.000</td>\n",
       "      <td>1.000</td>\n",
       "      <td>...</td>\n",
       "      <td>0.0</td>\n",
       "      <td>0.0</td>\n",
       "      <td>0.0</td>\n",
       "      <td>0.0</td>\n",
       "      <td>0</td>\n",
       "      <td>0</td>\n",
       "      <td>PL</td>\n",
       "      <td>ConsumerLoan</td>\n",
       "      <td>689</td>\n",
       "      <td>P2</td>\n",
       "    </tr>\n",
       "  </tbody>\n",
       "</table>\n",
       "<p>10 rows × 79 columns</p>\n",
       "</div>"
      ],
      "text/plain": [
       "       PROSPECTID  Total_TL  Tot_Closed_TL  Tot_Active_TL  \\\n",
       "44443       44444         5              3              2   \n",
       "31656       31657         2              0              2   \n",
       "20853       20854         1              0              1   \n",
       "34782       34783         2              2              0   \n",
       "42862       42863         3              2              1   \n",
       "10561       10562         2              1              1   \n",
       "28956       28957         1              0              1   \n",
       "32823       32824         7              0              7   \n",
       "37331       37332         1              1              0   \n",
       "11922       11923         1              1              0   \n",
       "\n",
       "       Total_TL_opened_L6M  Tot_TL_closed_L6M  pct_tl_open_L6M  \\\n",
       "44443                    1                  1            0.200   \n",
       "31656                    1                  0            0.500   \n",
       "20853                    0                  0            0.000   \n",
       "34782                    0                  1            0.000   \n",
       "42862                    0                  1            0.000   \n",
       "10561                    0                  0            0.000   \n",
       "28956                    0                  0            0.000   \n",
       "32823                    4                  0            0.571   \n",
       "37331                    0                  1            0.000   \n",
       "11922                    0                  0            0.000   \n",
       "\n",
       "       pct_tl_closed_L6M  pct_active_tl  pct_closed_tl  ...  \\\n",
       "44443              0.200          0.400          0.600  ...   \n",
       "31656              0.000          1.000          0.000  ...   \n",
       "20853              0.000          1.000          0.000  ...   \n",
       "34782              0.500          0.000          1.000  ...   \n",
       "42862              0.333          0.333          0.667  ...   \n",
       "10561              0.000          0.500          0.500  ...   \n",
       "28956              0.000          1.000          0.000  ...   \n",
       "32823              0.000          1.000          0.000  ...   \n",
       "37331              1.000          0.000          1.000  ...   \n",
       "11922              0.000          0.000          1.000  ...   \n",
       "\n",
       "       pct_PL_enq_L6m_of_L12m  pct_CC_enq_L6m_of_L12m  pct_PL_enq_L6m_of_ever  \\\n",
       "44443                     0.0                     1.0                     0.0   \n",
       "31656                     0.0                     0.0                     0.0   \n",
       "20853                     0.0                     0.0                     0.0   \n",
       "34782                     0.0                     0.0                     0.0   \n",
       "42862                     0.0                     0.0                     0.0   \n",
       "10561                     0.0                     0.0                     0.0   \n",
       "28956                     0.0                     0.0                     0.0   \n",
       "32823                     0.0                     0.0                     0.0   \n",
       "37331                     0.0                     0.0                     0.0   \n",
       "11922                     0.0                     0.0                     0.0   \n",
       "\n",
       "       pct_CC_enq_L6m_of_ever  HL_Flag  GL_Flag  last_prod_enq2  \\\n",
       "44443                     1.0        0        0              CC   \n",
       "31656                     0.0        0        0          others   \n",
       "20853                     0.0        0        0          others   \n",
       "34782                     0.0        0        0    ConsumerLoan   \n",
       "42862                     0.0        0        0    ConsumerLoan   \n",
       "10561                     0.0        0        0    ConsumerLoan   \n",
       "28956                     0.0        0        0          others   \n",
       "32823                     0.0        0        0    ConsumerLoan   \n",
       "37331                     0.0        0        0              AL   \n",
       "11922                     0.0        0        0              PL   \n",
       "\n",
       "       first_prod_enq2  Credit_Score  Approved_Flag  \n",
       "44443     ConsumerLoan           678             P2  \n",
       "31656           others           675             P2  \n",
       "20853           others           704             P1  \n",
       "34782     ConsumerLoan           667             P3  \n",
       "42862           others           697             P2  \n",
       "10561           others           682             P2  \n",
       "28956           others           680             P2  \n",
       "32823     ConsumerLoan           681             P2  \n",
       "37331               AL           670             P2  \n",
       "11922     ConsumerLoan           689             P2  \n",
       "\n",
       "[10 rows x 79 columns]"
      ]
     },
     "execution_count": 23,
     "metadata": {},
     "output_type": "execute_result"
    }
   ],
   "source": [
    "final_df.sample(10)"
   ]
  },
  {
   "cell_type": "markdown",
   "id": "81d0fbd8",
   "metadata": {},
   "source": [
    "# Conclussion\n",
    "- After removing columns which contain `-99999` values more then `10000` shape of the dataframe is `51336` rows and `79` columns.\n",
    "- we can remove only those columns which contain `-99999` values more then `10000` but remember that `-99999` are also present in those columns which contain  `-99999` values less then `10000`.\n",
    "# Point to remember\n",
    "- we have 2 option for `handling the remaing missing values`.\n",
    "    ## Remove Missing Values\n",
    "    - first we can remove those value.\n",
    "        - we can remove the missing values if we maintain the balance of data we can remove them.\n",
    "    ## Fill Missing Values\n",
    "    - Fill these values\n",
    "        - Filling the missing values is a cretical thing but if we can loss lot of data after removing the missing values then we pick the filling missing values."
   ]
  },
  {
   "cell_type": "code",
   "execution_count": null,
   "id": "1d284451",
   "metadata": {},
   "outputs": [],
   "source": []
  },
  {
   "cell_type": "markdown",
   "id": "b13ec526",
   "metadata": {},
   "source": [
    "- **Try to remove rows that contain `-99999` value**"
   ]
  },
  {
   "cell_type": "code",
   "execution_count": 24,
   "id": "ffabaed3",
   "metadata": {},
   "outputs": [
    {
     "name": "stdout",
     "output_type": "stream",
     "text": [
      "51336\n",
      "51336\n",
      "51336\n",
      "51336\n",
      "51336\n",
      "51336\n",
      "51336\n",
      "51336\n",
      "51336\n",
      "51336\n",
      "51336\n",
      "51336\n",
      "51336\n",
      "51336\n",
      "51336\n",
      "51336\n",
      "51336\n",
      "51336\n",
      "51336\n",
      "51336\n",
      "51336\n",
      "51336\n",
      "51336\n",
      "51336\n",
      "51296\n",
      "51296\n",
      "47042\n",
      "47042\n",
      "47042\n",
      "47042\n",
      "47042\n",
      "47042\n",
      "47042\n",
      "47042\n",
      "47042\n",
      "47042\n",
      "47042\n",
      "47042\n",
      "47042\n",
      "47042\n",
      "47042\n",
      "47042\n",
      "47042\n",
      "47042\n",
      "47042\n",
      "47042\n",
      "47042\n",
      "42099\n",
      "42099\n",
      "42099\n",
      "42099\n",
      "42099\n",
      "42099\n",
      "42099\n",
      "42099\n",
      "42099\n",
      "42099\n",
      "42099\n",
      "42099\n",
      "42099\n",
      "42099\n",
      "42099\n",
      "42099\n",
      "42099\n",
      "42099\n",
      "42099\n",
      "42064\n",
      "42064\n",
      "42064\n",
      "42064\n",
      "42064\n",
      "42064\n",
      "42064\n",
      "42064\n",
      "42064\n",
      "42064\n",
      "42064\n",
      "42064\n",
      "42064\n"
     ]
    }
   ],
   "source": [
    "for i in final_df.columns:\n",
    "    print(final_df[~(final_df[i]==-99999)].shape[0])\n",
    "    final_df=final_df[~(final_df[i]==-99999)]"
   ]
  },
  {
   "cell_type": "markdown",
   "id": "a99494f0",
   "metadata": {},
   "source": [
    "# Conclussion\n",
    "- Check the shape after removing.\n",
    "- Also check the ration before removing and after removing"
   ]
  },
  {
   "cell_type": "code",
   "execution_count": 25,
   "id": "bd38d4a1",
   "metadata": {},
   "outputs": [
    {
     "name": "stdout",
     "output_type": "stream",
     "text": [
      "Shape of the data after removing -9999 values is: (42064, 79)\n"
     ]
    }
   ],
   "source": [
    "print(f\"Shape of the data after removing -9999 values is: {final_df.shape}\")"
   ]
  },
  {
   "cell_type": "code",
   "execution_count": 26,
   "id": "a0409f47",
   "metadata": {},
   "outputs": [
    {
     "data": {
      "text/plain": [
       "81.93860059217702"
      ]
     },
     "execution_count": 26,
     "metadata": {},
     "output_type": "execute_result"
    }
   ],
   "source": [
    "len(final_df)/len(copy_df)*100"
   ]
  },
  {
   "cell_type": "markdown",
   "id": "437392b4",
   "metadata": {},
   "source": [
    "# Conclussion\n",
    "- we see that after removing the rows that contain `-99999` values we can maintain `80%` data.\n",
    "- Now we sholud pick remove missing value and we will remove them."
   ]
  },
  {
   "cell_type": "code",
   "execution_count": 27,
   "id": "fdda1566",
   "metadata": {},
   "outputs": [],
   "source": [
    "# final_df.to_csv('credit.csv',index=False)"
   ]
  },
  {
   "cell_type": "markdown",
   "id": "41e97d61",
   "metadata": {},
   "source": [
    "# Duplicates"
   ]
  },
  {
   "cell_type": "code",
   "execution_count": 28,
   "id": "fcd00619",
   "metadata": {},
   "outputs": [
    {
     "data": {
      "text/plain": [
       "0"
      ]
     },
     "execution_count": 28,
     "metadata": {},
     "output_type": "execute_result"
    }
   ],
   "source": [
    "final_df.duplicated().sum()"
   ]
  },
  {
   "cell_type": "markdown",
   "id": "06e4ff26",
   "metadata": {},
   "source": [
    "# Conclussion\n",
    "- There is no duplicate found in this dataset."
   ]
  },
  {
   "cell_type": "markdown",
   "id": "ce827697",
   "metadata": {},
   "source": [
    "# Unique Values"
   ]
  },
  {
   "cell_type": "code",
   "execution_count": 29,
   "id": "4d708fd4",
   "metadata": {},
   "outputs": [
    {
     "name": "stdout",
     "output_type": "stream",
     "text": [
      "Unique valeu in:  MARITALSTATUS\n",
      "['Married' 'Single']\n",
      "Total Unique values:  2\n",
      "--------------------------------------------------\n",
      "\n",
      "Unique valeu in:  EDUCATION\n",
      "['12TH' 'GRADUATE' 'SSC' 'POST-GRADUATE' 'UNDER GRADUATE' 'OTHERS'\n",
      " 'PROFESSIONAL']\n",
      "Total Unique values:  7\n",
      "--------------------------------------------------\n",
      "\n",
      "Unique valeu in:  GENDER\n",
      "['M' 'F']\n",
      "Total Unique values:  2\n",
      "--------------------------------------------------\n",
      "\n",
      "Unique valeu in:  last_prod_enq2\n",
      "['PL' 'ConsumerLoan' 'AL' 'CC' 'others' 'HL']\n",
      "Total Unique values:  6\n",
      "--------------------------------------------------\n",
      "\n",
      "Unique valeu in:  first_prod_enq2\n",
      "['PL' 'ConsumerLoan' 'others' 'AL' 'HL' 'CC']\n",
      "Total Unique values:  6\n",
      "--------------------------------------------------\n",
      "\n",
      "Unique valeu in:  Approved_Flag\n",
      "['P2' 'P1' 'P3' 'P4']\n",
      "Total Unique values:  4\n",
      "--------------------------------------------------\n",
      "\n"
     ]
    }
   ],
   "source": [
    "for i in final_df.describe(include='object'):\n",
    "    print(\"Unique valeu in: \",i)\n",
    "    \n",
    "    print(final_df[i].unique())\n",
    "    \n",
    "    print(\"Total Unique values: \",final_df[i].nunique())\n",
    "    \n",
    "    print(\"-\"*50)\n",
    "    print()"
   ]
  },
  {
   "cell_type": "markdown",
   "id": "c842a81d",
   "metadata": {},
   "source": [
    "# Conclussion\n",
    "- There are `2` unique values in  `MARITALSTATUS` i-e  `['Married' 'Single']`\n",
    "- There are `7` unique values in  `EDUCATION` i-e `['12TH' 'GRADUATE' 'SSC' 'POST-GRADUATE' 'UNDER GRADUATE' 'OTHERS'\n",
    " 'PROFESSIONAL']`\n",
    "- There are `2` unique values in  `GENDER` i-e `['M' 'F']`\n",
    "- There are `6` unique values in  `last_prod_enq2` i-e `['PL' 'ConsumerLoan' 'AL' 'CC' 'others' 'HL']`\n",
    "- There are `6` unique values in  `first_prod_enq2` i-e `['PL' 'ConsumerLoan' 'others' 'AL' 'HL' 'CC']`\n",
    "- There are `4` unique values in  `Approved_Flag` i-e `['P2' 'P1' 'P3' 'P4']`"
   ]
  },
  {
   "cell_type": "markdown",
   "id": "b49d05dc",
   "metadata": {},
   "source": [
    "# Statistical Summary"
   ]
  },
  {
   "cell_type": "code",
   "execution_count": 30,
   "id": "681d0a95",
   "metadata": {},
   "outputs": [
    {
     "data": {
      "text/html": [
       "<div>\n",
       "<style scoped>\n",
       "    .dataframe tbody tr th:only-of-type {\n",
       "        vertical-align: middle;\n",
       "    }\n",
       "\n",
       "    .dataframe tbody tr th {\n",
       "        vertical-align: top;\n",
       "    }\n",
       "\n",
       "    .dataframe thead th {\n",
       "        text-align: right;\n",
       "    }\n",
       "</style>\n",
       "<table border=\"1\" class=\"dataframe\">\n",
       "  <thead>\n",
       "    <tr style=\"text-align: right;\">\n",
       "      <th></th>\n",
       "      <th>PROSPECTID</th>\n",
       "      <th>Total_TL</th>\n",
       "      <th>Tot_Closed_TL</th>\n",
       "      <th>Tot_Active_TL</th>\n",
       "      <th>Total_TL_opened_L6M</th>\n",
       "      <th>Tot_TL_closed_L6M</th>\n",
       "      <th>pct_tl_open_L6M</th>\n",
       "      <th>pct_tl_closed_L6M</th>\n",
       "      <th>pct_active_tl</th>\n",
       "      <th>pct_closed_tl</th>\n",
       "      <th>...</th>\n",
       "      <th>pct_currentBal_all_TL</th>\n",
       "      <th>CC_Flag</th>\n",
       "      <th>PL_Flag</th>\n",
       "      <th>pct_PL_enq_L6m_of_L12m</th>\n",
       "      <th>pct_CC_enq_L6m_of_L12m</th>\n",
       "      <th>pct_PL_enq_L6m_of_ever</th>\n",
       "      <th>pct_CC_enq_L6m_of_ever</th>\n",
       "      <th>HL_Flag</th>\n",
       "      <th>GL_Flag</th>\n",
       "      <th>Credit_Score</th>\n",
       "    </tr>\n",
       "  </thead>\n",
       "  <tbody>\n",
       "    <tr>\n",
       "      <th>count</th>\n",
       "      <td>42064.000000</td>\n",
       "      <td>42064.000000</td>\n",
       "      <td>42064.000000</td>\n",
       "      <td>42064.000000</td>\n",
       "      <td>42064.000000</td>\n",
       "      <td>42064.00000</td>\n",
       "      <td>42064.000000</td>\n",
       "      <td>42064.000000</td>\n",
       "      <td>42064.000000</td>\n",
       "      <td>42064.000000</td>\n",
       "      <td>...</td>\n",
       "      <td>42064.000000</td>\n",
       "      <td>42064.000000</td>\n",
       "      <td>42064.000000</td>\n",
       "      <td>42064.000000</td>\n",
       "      <td>42064.000000</td>\n",
       "      <td>42064.000000</td>\n",
       "      <td>42064.000000</td>\n",
       "      <td>42064.000000</td>\n",
       "      <td>42064.000000</td>\n",
       "      <td>42064.000000</td>\n",
       "    </tr>\n",
       "    <tr>\n",
       "      <th>mean</th>\n",
       "      <td>25649.827477</td>\n",
       "      <td>5.262980</td>\n",
       "      <td>2.967383</td>\n",
       "      <td>2.295597</td>\n",
       "      <td>0.812643</td>\n",
       "      <td>0.48992</td>\n",
       "      <td>0.179032</td>\n",
       "      <td>0.097783</td>\n",
       "      <td>0.577452</td>\n",
       "      <td>0.422548</td>\n",
       "      <td>...</td>\n",
       "      <td>0.883693</td>\n",
       "      <td>0.102962</td>\n",
       "      <td>0.193063</td>\n",
       "      <td>0.219169</td>\n",
       "      <td>0.074833</td>\n",
       "      <td>0.195497</td>\n",
       "      <td>0.064186</td>\n",
       "      <td>0.252235</td>\n",
       "      <td>0.056580</td>\n",
       "      <td>679.326336</td>\n",
       "    </tr>\n",
       "    <tr>\n",
       "      <th>std</th>\n",
       "      <td>14844.173396</td>\n",
       "      <td>7.463383</td>\n",
       "      <td>6.141098</td>\n",
       "      <td>2.404086</td>\n",
       "      <td>1.383559</td>\n",
       "      <td>1.05892</td>\n",
       "      <td>0.278043</td>\n",
       "      <td>0.210957</td>\n",
       "      <td>0.366110</td>\n",
       "      <td>0.366110</td>\n",
       "      <td>...</td>\n",
       "      <td>40.622275</td>\n",
       "      <td>0.303913</td>\n",
       "      <td>0.394707</td>\n",
       "      <td>0.395100</td>\n",
       "      <td>0.250658</td>\n",
       "      <td>0.367414</td>\n",
       "      <td>0.225989</td>\n",
       "      <td>0.434300</td>\n",
       "      <td>0.231042</td>\n",
       "      <td>21.133619</td>\n",
       "    </tr>\n",
       "    <tr>\n",
       "      <th>min</th>\n",
       "      <td>1.000000</td>\n",
       "      <td>1.000000</td>\n",
       "      <td>0.000000</td>\n",
       "      <td>0.000000</td>\n",
       "      <td>0.000000</td>\n",
       "      <td>0.00000</td>\n",
       "      <td>0.000000</td>\n",
       "      <td>0.000000</td>\n",
       "      <td>0.000000</td>\n",
       "      <td>0.000000</td>\n",
       "      <td>...</td>\n",
       "      <td>0.000000</td>\n",
       "      <td>0.000000</td>\n",
       "      <td>0.000000</td>\n",
       "      <td>0.000000</td>\n",
       "      <td>0.000000</td>\n",
       "      <td>0.000000</td>\n",
       "      <td>0.000000</td>\n",
       "      <td>0.000000</td>\n",
       "      <td>0.000000</td>\n",
       "      <td>469.000000</td>\n",
       "    </tr>\n",
       "    <tr>\n",
       "      <th>25%</th>\n",
       "      <td>12776.750000</td>\n",
       "      <td>1.000000</td>\n",
       "      <td>0.000000</td>\n",
       "      <td>1.000000</td>\n",
       "      <td>0.000000</td>\n",
       "      <td>0.00000</td>\n",
       "      <td>0.000000</td>\n",
       "      <td>0.000000</td>\n",
       "      <td>0.286000</td>\n",
       "      <td>0.000000</td>\n",
       "      <td>...</td>\n",
       "      <td>0.152000</td>\n",
       "      <td>0.000000</td>\n",
       "      <td>0.000000</td>\n",
       "      <td>0.000000</td>\n",
       "      <td>0.000000</td>\n",
       "      <td>0.000000</td>\n",
       "      <td>0.000000</td>\n",
       "      <td>0.000000</td>\n",
       "      <td>0.000000</td>\n",
       "      <td>668.000000</td>\n",
       "    </tr>\n",
       "    <tr>\n",
       "      <th>50%</th>\n",
       "      <td>25706.500000</td>\n",
       "      <td>3.000000</td>\n",
       "      <td>1.000000</td>\n",
       "      <td>2.000000</td>\n",
       "      <td>0.000000</td>\n",
       "      <td>0.00000</td>\n",
       "      <td>0.000000</td>\n",
       "      <td>0.000000</td>\n",
       "      <td>0.545000</td>\n",
       "      <td>0.455000</td>\n",
       "      <td>...</td>\n",
       "      <td>0.600000</td>\n",
       "      <td>0.000000</td>\n",
       "      <td>0.000000</td>\n",
       "      <td>0.000000</td>\n",
       "      <td>0.000000</td>\n",
       "      <td>0.000000</td>\n",
       "      <td>0.000000</td>\n",
       "      <td>0.000000</td>\n",
       "      <td>0.000000</td>\n",
       "      <td>679.000000</td>\n",
       "    </tr>\n",
       "    <tr>\n",
       "      <th>75%</th>\n",
       "      <td>38518.250000</td>\n",
       "      <td>6.000000</td>\n",
       "      <td>3.000000</td>\n",
       "      <td>3.000000</td>\n",
       "      <td>1.000000</td>\n",
       "      <td>1.00000</td>\n",
       "      <td>0.333000</td>\n",
       "      <td>0.100000</td>\n",
       "      <td>1.000000</td>\n",
       "      <td>0.714000</td>\n",
       "      <td>...</td>\n",
       "      <td>0.860000</td>\n",
       "      <td>0.000000</td>\n",
       "      <td>0.000000</td>\n",
       "      <td>0.000000</td>\n",
       "      <td>0.000000</td>\n",
       "      <td>0.000000</td>\n",
       "      <td>0.000000</td>\n",
       "      <td>1.000000</td>\n",
       "      <td>0.000000</td>\n",
       "      <td>690.000000</td>\n",
       "    </tr>\n",
       "    <tr>\n",
       "      <th>max</th>\n",
       "      <td>51336.000000</td>\n",
       "      <td>235.000000</td>\n",
       "      <td>216.000000</td>\n",
       "      <td>47.000000</td>\n",
       "      <td>27.000000</td>\n",
       "      <td>19.00000</td>\n",
       "      <td>1.000000</td>\n",
       "      <td>1.000000</td>\n",
       "      <td>1.000000</td>\n",
       "      <td>1.000000</td>\n",
       "      <td>...</td>\n",
       "      <td>6327.500000</td>\n",
       "      <td>1.000000</td>\n",
       "      <td>1.000000</td>\n",
       "      <td>1.000000</td>\n",
       "      <td>1.000000</td>\n",
       "      <td>1.000000</td>\n",
       "      <td>1.000000</td>\n",
       "      <td>1.000000</td>\n",
       "      <td>1.000000</td>\n",
       "      <td>809.000000</td>\n",
       "    </tr>\n",
       "  </tbody>\n",
       "</table>\n",
       "<p>8 rows × 73 columns</p>\n",
       "</div>"
      ],
      "text/plain": [
       "         PROSPECTID      Total_TL  Tot_Closed_TL  Tot_Active_TL  \\\n",
       "count  42064.000000  42064.000000   42064.000000   42064.000000   \n",
       "mean   25649.827477      5.262980       2.967383       2.295597   \n",
       "std    14844.173396      7.463383       6.141098       2.404086   \n",
       "min        1.000000      1.000000       0.000000       0.000000   \n",
       "25%    12776.750000      1.000000       0.000000       1.000000   \n",
       "50%    25706.500000      3.000000       1.000000       2.000000   \n",
       "75%    38518.250000      6.000000       3.000000       3.000000   \n",
       "max    51336.000000    235.000000     216.000000      47.000000   \n",
       "\n",
       "       Total_TL_opened_L6M  Tot_TL_closed_L6M  pct_tl_open_L6M  \\\n",
       "count         42064.000000        42064.00000     42064.000000   \n",
       "mean              0.812643            0.48992         0.179032   \n",
       "std               1.383559            1.05892         0.278043   \n",
       "min               0.000000            0.00000         0.000000   \n",
       "25%               0.000000            0.00000         0.000000   \n",
       "50%               0.000000            0.00000         0.000000   \n",
       "75%               1.000000            1.00000         0.333000   \n",
       "max              27.000000           19.00000         1.000000   \n",
       "\n",
       "       pct_tl_closed_L6M  pct_active_tl  pct_closed_tl  ...  \\\n",
       "count       42064.000000   42064.000000   42064.000000  ...   \n",
       "mean            0.097783       0.577452       0.422548  ...   \n",
       "std             0.210957       0.366110       0.366110  ...   \n",
       "min             0.000000       0.000000       0.000000  ...   \n",
       "25%             0.000000       0.286000       0.000000  ...   \n",
       "50%             0.000000       0.545000       0.455000  ...   \n",
       "75%             0.100000       1.000000       0.714000  ...   \n",
       "max             1.000000       1.000000       1.000000  ...   \n",
       "\n",
       "       pct_currentBal_all_TL       CC_Flag       PL_Flag  \\\n",
       "count           42064.000000  42064.000000  42064.000000   \n",
       "mean                0.883693      0.102962      0.193063   \n",
       "std                40.622275      0.303913      0.394707   \n",
       "min                 0.000000      0.000000      0.000000   \n",
       "25%                 0.152000      0.000000      0.000000   \n",
       "50%                 0.600000      0.000000      0.000000   \n",
       "75%                 0.860000      0.000000      0.000000   \n",
       "max              6327.500000      1.000000      1.000000   \n",
       "\n",
       "       pct_PL_enq_L6m_of_L12m  pct_CC_enq_L6m_of_L12m  pct_PL_enq_L6m_of_ever  \\\n",
       "count            42064.000000            42064.000000            42064.000000   \n",
       "mean                 0.219169                0.074833                0.195497   \n",
       "std                  0.395100                0.250658                0.367414   \n",
       "min                  0.000000                0.000000                0.000000   \n",
       "25%                  0.000000                0.000000                0.000000   \n",
       "50%                  0.000000                0.000000                0.000000   \n",
       "75%                  0.000000                0.000000                0.000000   \n",
       "max                  1.000000                1.000000                1.000000   \n",
       "\n",
       "       pct_CC_enq_L6m_of_ever       HL_Flag       GL_Flag  Credit_Score  \n",
       "count            42064.000000  42064.000000  42064.000000  42064.000000  \n",
       "mean                 0.064186      0.252235      0.056580    679.326336  \n",
       "std                  0.225989      0.434300      0.231042     21.133619  \n",
       "min                  0.000000      0.000000      0.000000    469.000000  \n",
       "25%                  0.000000      0.000000      0.000000    668.000000  \n",
       "50%                  0.000000      0.000000      0.000000    679.000000  \n",
       "75%                  0.000000      1.000000      0.000000    690.000000  \n",
       "max                  1.000000      1.000000      1.000000    809.000000  \n",
       "\n",
       "[8 rows x 73 columns]"
      ]
     },
     "execution_count": 30,
     "metadata": {},
     "output_type": "execute_result"
    }
   ],
   "source": [
    "final_df.describe()"
   ]
  },
  {
   "cell_type": "markdown",
   "id": "b5470deb",
   "metadata": {},
   "source": [
    "# Conclussion\n",
    "- **We can't see clear information first we can do `Feature Engnering` and then we can see clear information.**"
   ]
  },
  {
   "cell_type": "code",
   "execution_count": null,
   "id": "f0b46372",
   "metadata": {},
   "outputs": [],
   "source": []
  },
  {
   "cell_type": "markdown",
   "id": "81945959",
   "metadata": {},
   "source": [
    "# Feature Engineering\n",
    "\n",
    "- In Feature Engineering, we can reduce the dimensionality of data by applying some statistical tests.\n",
    "\n",
    "## Hyphothesis Testing\n",
    "- Hyphothesis test are the statistical test used to draw conclussion about poopulation based on sample data.\n",
    "- Some statistical test are that are use in this dataset.\n",
    "\n",
    "### Variance Influence Threshold\n",
    "- Suitable for numerical input and numerical output.\n",
    "\n",
    "### Chi-Square Test\n",
    "- Explain more about the Chi-Square test here.\n",
    "\n",
    "### ANOVA\n",
    "- These tests are applied on categorical versus numerical columns. Note that categorical variables should have more than three categories.\n"
   ]
  },
  {
   "cell_type": "code",
   "execution_count": null,
   "id": "b8505527",
   "metadata": {},
   "outputs": [],
   "source": []
  },
  {
   "cell_type": "markdown",
   "id": "90aad895",
   "metadata": {},
   "source": [
    "# Saperate numerical and categorical col"
   ]
  },
  {
   "cell_type": "code",
   "execution_count": 31,
   "id": "80845ba7",
   "metadata": {},
   "outputs": [],
   "source": [
    "cat_col=final_df.select_dtypes('object').columns\n",
    "num_col=final_df.select_dtypes('number').columns"
   ]
  },
  {
   "cell_type": "code",
   "execution_count": 32,
   "id": "ec60e98c",
   "metadata": {},
   "outputs": [
    {
     "data": {
      "text/plain": [
       "Index(['MARITALSTATUS', 'EDUCATION', 'GENDER', 'last_prod_enq2',\n",
       "       'first_prod_enq2', 'Approved_Flag'],\n",
       "      dtype='object')"
      ]
     },
     "execution_count": 32,
     "metadata": {},
     "output_type": "execute_result"
    }
   ],
   "source": [
    "cat_col"
   ]
  },
  {
   "cell_type": "code",
   "execution_count": 33,
   "id": "c826c9a7",
   "metadata": {},
   "outputs": [
    {
     "data": {
      "text/plain": [
       "Index(['PROSPECTID', 'Total_TL', 'Tot_Closed_TL', 'Tot_Active_TL',\n",
       "       'Total_TL_opened_L6M', 'Tot_TL_closed_L6M', 'pct_tl_open_L6M',\n",
       "       'pct_tl_closed_L6M', 'pct_active_tl', 'pct_closed_tl',\n",
       "       'Total_TL_opened_L12M', 'Tot_TL_closed_L12M', 'pct_tl_open_L12M',\n",
       "       'pct_tl_closed_L12M', 'Tot_Missed_Pmnt', 'Auto_TL', 'CC_TL',\n",
       "       'Consumer_TL', 'Gold_TL', 'Home_TL', 'PL_TL', 'Secured_TL',\n",
       "       'Unsecured_TL', 'Other_TL', 'Age_Oldest_TL', 'Age_Newest_TL',\n",
       "       'time_since_recent_payment', 'num_times_delinquent',\n",
       "       'max_recent_level_of_deliq', 'num_deliq_6mts', 'num_deliq_12mts',\n",
       "       'num_deliq_6_12mts', 'num_times_30p_dpd', 'num_times_60p_dpd',\n",
       "       'num_std', 'num_std_6mts', 'num_std_12mts', 'num_sub', 'num_sub_6mts',\n",
       "       'num_sub_12mts', 'num_dbt', 'num_dbt_6mts', 'num_dbt_12mts', 'num_lss',\n",
       "       'num_lss_6mts', 'num_lss_12mts', 'recent_level_of_deliq', 'tot_enq',\n",
       "       'CC_enq', 'CC_enq_L6m', 'CC_enq_L12m', 'PL_enq', 'PL_enq_L6m',\n",
       "       'PL_enq_L12m', 'time_since_recent_enq', 'enq_L12m', 'enq_L6m',\n",
       "       'enq_L3m', 'AGE', 'NETMONTHLYINCOME', 'Time_With_Curr_Empr',\n",
       "       'pct_of_active_TLs_ever', 'pct_opened_TLs_L6m_of_L12m',\n",
       "       'pct_currentBal_all_TL', 'CC_Flag', 'PL_Flag', 'pct_PL_enq_L6m_of_L12m',\n",
       "       'pct_CC_enq_L6m_of_L12m', 'pct_PL_enq_L6m_of_ever',\n",
       "       'pct_CC_enq_L6m_of_ever', 'HL_Flag', 'GL_Flag', 'Credit_Score'],\n",
       "      dtype='object')"
      ]
     },
     "execution_count": 33,
     "metadata": {},
     "output_type": "execute_result"
    }
   ],
   "source": [
    "num_col"
   ]
  },
  {
   "cell_type": "markdown",
   "id": "23a319ae",
   "metadata": {},
   "source": [
    "# Variance Inflence Factore (VIF)\n",
    "- Now we can apply the `VIF` on numerical columns to check the relationship of each column to every other col.\n",
    "- If the 2 or more columns are highly corelated so we can take only one column so that i will reduce the `multicolarnarty`.\n",
    "- If we can reduce multicolarty the column will automaticlally reduce."
   ]
  },
  {
   "cell_type": "markdown",
   "id": "4c5cff22",
   "metadata": {},
   "source": [
    "# Apply VIF\n",
    "- we can set the threshold ratio if the variance is greater then treshold we can drop the columns.\n",
    "- if the variance is less then treshold we can keep the columns."
   ]
  },
  {
   "cell_type": "code",
   "execution_count": 34,
   "id": "90b97759",
   "metadata": {},
   "outputs": [],
   "source": [
    "from statsmodels.stats.outliers_influence import variance_inflation_factor"
   ]
  },
  {
   "cell_type": "code",
   "execution_count": 35,
   "id": "26a49b84",
   "metadata": {},
   "outputs": [
    {
     "name": "stdout",
     "output_type": "stream",
     "text": [
      "0 -------> 1.0014714453751743\n",
      "1 -------> inf\n",
      "2 -------> inf\n",
      "3 -------> 11.320645246142803\n",
      "4 -------> 8.364064272336133\n",
      "5 -------> 6.520792569522158\n",
      "6 -------> 5.1498060557107745\n",
      "7 -------> 2.6112073771674944\n",
      "8 -------> inf\n",
      "9 -------> 1789.5578922792413\n",
      "10 -------> 8.601096683974646\n",
      "11 -------> 3.832851362174614\n",
      "12 -------> 6.099768198336671\n",
      "13 -------> 5.581446751193094\n",
      "14 -------> 1.985655138966978\n",
      "15 -------> inf\n",
      "16 -------> 4.809807520859604\n",
      "17 -------> 23.27288184101288\n",
      "18 -------> 30.596519319624697\n",
      "19 -------> 4.3848122091115815\n",
      "20 -------> 3.06467356246316\n",
      "21 -------> 2.8986527303140033\n",
      "22 -------> 4.377945210179215\n",
      "23 -------> 2.207856265954658\n",
      "24 -------> 4.9200182258988345\n",
      "25 -------> 5.215354852494453\n",
      "26 -------> 3.3862072703025055\n",
      "27 -------> 7.841101396160445\n",
      "28 -------> 5.255263829126264\n",
      "29 -------> inf\n",
      "30 -------> 7.380644570758274\n",
      "31 -------> 1.421011976182927\n",
      "32 -------> 8.083354471350239\n",
      "33 -------> 1.6241477619270308\n",
      "34 -------> 7.257891375429919\n",
      "35 -------> 15.596252041665208\n",
      "36 -------> 1.826132969676547\n",
      "37 -------> 1.5080847785865654\n",
      "38 -------> 2.1721267159513573\n",
      "39 -------> 2.623469861333445\n",
      "40 -------> 2.2960054074057377\n",
      "41 -------> 7.36062257827916\n",
      "42 -------> 2.160238831045292\n",
      "43 -------> 2.8686338012754256\n",
      "44 -------> 6.458304472622984\n",
      "45 -------> 2.847480877355158\n",
      "46 -------> 4.753230129394101\n",
      "47 -------> 16.227613600991763\n",
      "48 -------> 6.424833892811063\n",
      "49 -------> 8.887156094086967\n",
      "50 -------> 2.38051089833245\n",
      "51 -------> 8.609683496623786\n",
      "52 -------> 13.067631026848238\n",
      "53 -------> 3.500117421477055\n",
      "54 -------> 1.9091201747437845\n",
      "55 -------> 17.007386818210737\n",
      "56 -------> 10.730705629466753\n",
      "57 -------> 2.3558875075565617\n",
      "58 -------> 22.10495526579042\n",
      "59 -------> 2.797253587418863\n",
      "60 -------> 3.4241803843132606\n",
      "61 -------> 10.175437630379681\n",
      "62 -------> 6.4094402464813545\n",
      "63 -------> 1.0011627214059162\n",
      "64 -------> 3.069223764845478\n",
      "65 -------> 2.8091270098505094\n",
      "66 -------> 20.250688538227966\n",
      "67 -------> 15.864583114854529\n",
      "68 -------> 1.8332179956453976\n",
      "69 -------> 1.5680880470216507\n",
      "70 -------> 1.9308798109877527\n",
      "71 -------> 4.331658144114445\n",
      "72 -------> 12.394142002287238\n"
     ]
    }
   ],
   "source": [
    "col_to_kept=[]\n",
    "vif_data=final_df[num_col]\n",
    "column_index=0\n",
    "for i in range(num_col.shape[0]):\n",
    "    # variance_inflation_factor(dataframe,index)\n",
    "    vif_value=variance_inflation_factor(vif_data,column_index)\n",
    "    print(i,\"------->\",vif_value)\n",
    "    \n",
    "    if(vif_value<6):\n",
    "        col_to_kept.append(num_col[i])\n",
    "        column_index+=1\n",
    "    else:\n",
    "        vif_data=vif_data.drop(columns=num_col[i])"
   ]
  },
  {
   "cell_type": "code",
   "execution_count": 36,
   "id": "e3b47d2c",
   "metadata": {},
   "outputs": [
    {
     "data": {
      "text/plain": [
       "40"
      ]
     },
     "execution_count": 36,
     "metadata": {},
     "output_type": "execute_result"
    }
   ],
   "source": [
    "len(col_to_kept)"
   ]
  },
  {
   "cell_type": "markdown",
   "id": "9eab192e",
   "metadata": {},
   "source": [
    "# Conclussion\n",
    "- After applying `variance inflence factor` we can reduce some column now the remaing `numerical column is 40`\n",
    "- we see that after applying `VIF` remaing numerical col is 40 now check the relationship of remaing numerical col to target column."
   ]
  },
  {
   "cell_type": "markdown",
   "id": "a1adf75d",
   "metadata": {},
   "source": [
    "# ANOVA\n",
    "- It is a hypothesis test in this test we can check the relationship b/w numerical col to target col.\n",
    "- Target  col should be categorical and must contain 3 or greater then 3 categories.\n",
    "- In our case our target col is `Approved_Flag` which contain `4 classes`.\n",
    "- We can set the threshold `0.05` if the p_value is greater then `0.05` we can drop these columns.\n",
    "- `0.05` threshold are generaly industry standard."
   ]
  },
  {
   "cell_type": "code",
   "execution_count": 37,
   "id": "65cda51c",
   "metadata": {},
   "outputs": [],
   "source": [
    "from scipy.stats import f_oneway"
   ]
  },
  {
   "cell_type": "code",
   "execution_count": 38,
   "id": "7d2a9a80",
   "metadata": {},
   "outputs": [
    {
     "data": {
      "text/plain": [
       "'Approved_Flag'"
      ]
     },
     "execution_count": 38,
     "metadata": {},
     "output_type": "execute_result"
    }
   ],
   "source": [
    "cat_col[-1]"
   ]
  },
  {
   "cell_type": "code",
   "execution_count": 39,
   "id": "7053eff9",
   "metadata": {},
   "outputs": [
    {
     "name": "stdout",
     "output_type": "stream",
     "text": [
      "PROSPECTID ------> 0.04216738785382283\n",
      "pct_tl_open_L6M ------> 0.0\n",
      "pct_tl_closed_L6M ------> 2.676086811190998e-52\n",
      "Tot_TL_closed_L12M ------> 1.762685578230421e-99\n",
      "pct_tl_closed_L12M ------> 4.1384568281483056e-49\n",
      "Tot_Missed_Pmnt ------> 9.572404615942641e-210\n",
      "CC_TL ------> 5.710261952999025e-57\n",
      "Home_TL ------> 0.0\n",
      "PL_TL ------> 7.991892389241125e-235\n",
      "Secured_TL ------> 0.0\n",
      "Unsecured_TL ------> 2.102384431982427e-118\n",
      "Other_TL ------> 0.0\n",
      "Age_Oldest_TL ------> 0.0\n",
      "Age_Newest_TL ------> 1.0465965445912546e-88\n",
      "time_since_recent_payment ------> 8.943912807416738e-81\n",
      "max_recent_level_of_deliq ------> 6.699932727692095e-81\n",
      "num_deliq_6_12mts ------> 2.0772229883600566e-59\n",
      "num_times_60p_dpd ------> 3.3833576401764997e-59\n",
      "num_std_12mts ------> 0.0\n",
      "num_sub ------> 1.6985545450345584e-22\n",
      "num_sub_6mts ------> 0.016579119048249723\n",
      "num_sub_12mts ------> 0.001299484021242129\n",
      "num_dbt ------> 3.135918708089289e-11\n",
      "num_dbt_12mts ------> 0.005446087209172642\n",
      "num_lss ------> 0.009340555562870471\n",
      "num_lss_12mts ------> 0.354899152686773\n",
      "recent_level_of_deliq ------> 1.150955072948535e-97\n",
      "CC_enq_L12m ------> 0.0\n",
      "PL_enq_L12m ------> 0.0\n",
      "time_since_recent_enq ------> 0.0\n",
      "enq_L3m ------> 0.0\n",
      "NETMONTHLYINCOME ------> 5.357633705622659e-26\n",
      "Time_With_Curr_Empr ------> 6.743539696556877e-271\n",
      "pct_currentBal_all_TL ------> 0.6082760667441989\n",
      "CC_Flag ------> 8.166585968451402e-51\n",
      "PL_Flag ------> 9.95638250565676e-146\n",
      "pct_PL_enq_L6m_of_ever ------> 0.0\n",
      "pct_CC_enq_L6m_of_ever ------> 0.0\n",
      "HL_Flag ------> 1.1327801855129724e-237\n",
      "GL_Flag ------> 5e-324\n"
     ]
    }
   ],
   "source": [
    "col_to_remaing=[]\n",
    "for i in col_to_kept:\n",
    "    current_col=final_df[i]\n",
    "    targte_col=final_df[cat_col[-1]]\n",
    "    \n",
    "    # Saperat each group for preforming ANOVA \n",
    "    group1=[value for value,group in zip(current_col,targte_col) if group=='P1']\n",
    "    group2=[value for value,group in zip(current_col,targte_col) if group=='P2']\n",
    "    group3=[value for value,group in zip(current_col,targte_col) if group=='P3']\n",
    "    group4=[value for value,group in zip(current_col,targte_col) if group=='P4']\n",
    "    \n",
    "    # Perform ANOVA\n",
    "    f_stats,p_value=f_oneway(group1,group2,group3,group4)\n",
    "    print(i,\"------>\",p_value)\n",
    "    \n",
    "    if(p_value<0.05):\n",
    "        col_to_remaing.append(i)"
   ]
  },
  {
   "cell_type": "code",
   "execution_count": 40,
   "id": "107d278f",
   "metadata": {},
   "outputs": [
    {
     "data": {
      "text/plain": [
       "38"
      ]
     },
     "execution_count": 40,
     "metadata": {},
     "output_type": "execute_result"
    }
   ],
   "source": [
    "len(col_to_remaing)"
   ]
  },
  {
   "cell_type": "markdown",
   "id": "8c110129",
   "metadata": {},
   "source": [
    "# Conclussion\n",
    "- After `ANOVA` we can get only 38 columns."
   ]
  },
  {
   "cell_type": "code",
   "execution_count": null,
   "id": "d99a5d9b",
   "metadata": {},
   "outputs": [],
   "source": []
  },
  {
   "cell_type": "markdown",
   "id": "3d3d36fa",
   "metadata": {},
   "source": [
    "# Chie-Square\n",
    "- These test are generally perform on categorical column.\n",
    "- Note that target column category should be `>=3`.\n",
    "- Now using `chie-square` test we can check the relationship b/w target col."
   ]
  },
  {
   "cell_type": "code",
   "execution_count": 41,
   "id": "9b8daae7",
   "metadata": {},
   "outputs": [],
   "source": [
    "from scipy.stats import chi2_contingency,chisquare"
   ]
  },
  {
   "cell_type": "code",
   "execution_count": 42,
   "id": "9eb4fca5",
   "metadata": {},
   "outputs": [
    {
     "name": "stdout",
     "output_type": "stream",
     "text": [
      "MARITALSTATUS -----> 3.578180861038862e-233\n",
      "EDUCATION -----> 2.6942265249737532e-30\n",
      "GENDER -----> 1.907936100186563e-05\n",
      "last_prod_enq2 -----> 0.0\n",
      "first_prod_enq2 -----> 7.84997610555419e-287\n"
     ]
    }
   ],
   "source": [
    "drop_col=[]\n",
    "for i in cat_col[:-1]:\n",
    "    # Perform chie-square\n",
    "    chie,p_value,_,_=chi2_contingency(pd.crosstab(final_df[i],final_df[cat_col[-1]]))\n",
    "    \n",
    "    print(i,\"----->\",p_value)\n",
    "    if(p_value>0.05):\n",
    "        drop_col.append(i)"
   ]
  },
  {
   "cell_type": "code",
   "execution_count": 43,
   "id": "059e7b25",
   "metadata": {},
   "outputs": [
    {
     "data": {
      "text/plain": [
       "[]"
      ]
     },
     "execution_count": 43,
     "metadata": {},
     "output_type": "execute_result"
    }
   ],
   "source": [
    "drop_col"
   ]
  },
  {
   "cell_type": "markdown",
   "id": "984cf7c9",
   "metadata": {},
   "source": [
    "# Conclussion\n",
    "- See that all the columns `p_value` is less the `0.05` so we can accept all the columns."
   ]
  },
  {
   "cell_type": "code",
   "execution_count": 44,
   "id": "1ff1f8dc",
   "metadata": {},
   "outputs": [
    {
     "data": {
      "text/plain": [
       "['PROSPECTID',\n",
       " 'pct_tl_open_L6M',\n",
       " 'pct_tl_closed_L6M',\n",
       " 'Tot_TL_closed_L12M',\n",
       " 'pct_tl_closed_L12M',\n",
       " 'Tot_Missed_Pmnt',\n",
       " 'CC_TL',\n",
       " 'Home_TL',\n",
       " 'PL_TL',\n",
       " 'Secured_TL',\n",
       " 'Unsecured_TL',\n",
       " 'Other_TL',\n",
       " 'Age_Oldest_TL',\n",
       " 'Age_Newest_TL',\n",
       " 'time_since_recent_payment',\n",
       " 'max_recent_level_of_deliq',\n",
       " 'num_deliq_6_12mts',\n",
       " 'num_times_60p_dpd',\n",
       " 'num_std_12mts',\n",
       " 'num_sub',\n",
       " 'num_sub_6mts',\n",
       " 'num_sub_12mts',\n",
       " 'num_dbt',\n",
       " 'num_dbt_12mts',\n",
       " 'num_lss',\n",
       " 'recent_level_of_deliq',\n",
       " 'CC_enq_L12m',\n",
       " 'PL_enq_L12m',\n",
       " 'time_since_recent_enq',\n",
       " 'enq_L3m',\n",
       " 'NETMONTHLYINCOME',\n",
       " 'Time_With_Curr_Empr',\n",
       " 'CC_Flag',\n",
       " 'PL_Flag',\n",
       " 'pct_PL_enq_L6m_of_ever',\n",
       " 'pct_CC_enq_L6m_of_ever',\n",
       " 'HL_Flag',\n",
       " 'GL_Flag']"
      ]
     },
     "execution_count": 44,
     "metadata": {},
     "output_type": "execute_result"
    }
   ],
   "source": [
    "col_to_remaing"
   ]
  },
  {
   "cell_type": "code",
   "execution_count": 45,
   "id": "a1ae438d",
   "metadata": {},
   "outputs": [
    {
     "data": {
      "text/plain": [
       "Index(['MARITALSTATUS', 'EDUCATION', 'GENDER', 'last_prod_enq2',\n",
       "       'first_prod_enq2', 'Approved_Flag'],\n",
       "      dtype='object')"
      ]
     },
     "execution_count": 45,
     "metadata": {},
     "output_type": "execute_result"
    }
   ],
   "source": [
    "cat_col"
   ]
  },
  {
   "cell_type": "markdown",
   "id": "3ecc0b78",
   "metadata": {},
   "source": [
    "# Conclussion\n",
    "- In `col to kept remaing` contain only numerical col.\n",
    "- `cat-col` conatin  only categorical col.\n",
    "- Both are saperate now first combine them into a single list."
   ]
  },
  {
   "cell_type": "code",
   "execution_count": 46,
   "id": "4660c3fa",
   "metadata": {},
   "outputs": [],
   "source": [
    "col_to_remaing.extend(cat_col)"
   ]
  },
  {
   "cell_type": "code",
   "execution_count": 47,
   "id": "0ae1a051",
   "metadata": {},
   "outputs": [
    {
     "data": {
      "text/plain": [
       "44"
      ]
     },
     "execution_count": 47,
     "metadata": {},
     "output_type": "execute_result"
    }
   ],
   "source": [
    "len(col_to_remaing)"
   ]
  },
  {
   "cell_type": "markdown",
   "id": "e9e9bd71",
   "metadata": {},
   "source": [
    "- **we see that out of `88` columns we can get `44` column that met the conditions.**"
   ]
  },
  {
   "cell_type": "code",
   "execution_count": 48,
   "id": "61022d0d",
   "metadata": {},
   "outputs": [
    {
     "data": {
      "text/html": [
       "<div>\n",
       "<style scoped>\n",
       "    .dataframe tbody tr th:only-of-type {\n",
       "        vertical-align: middle;\n",
       "    }\n",
       "\n",
       "    .dataframe tbody tr th {\n",
       "        vertical-align: top;\n",
       "    }\n",
       "\n",
       "    .dataframe thead th {\n",
       "        text-align: right;\n",
       "    }\n",
       "</style>\n",
       "<table border=\"1\" class=\"dataframe\">\n",
       "  <thead>\n",
       "    <tr style=\"text-align: right;\">\n",
       "      <th></th>\n",
       "      <th>PROSPECTID</th>\n",
       "      <th>pct_tl_open_L6M</th>\n",
       "      <th>pct_tl_closed_L6M</th>\n",
       "      <th>Tot_TL_closed_L12M</th>\n",
       "      <th>pct_tl_closed_L12M</th>\n",
       "      <th>Tot_Missed_Pmnt</th>\n",
       "      <th>CC_TL</th>\n",
       "      <th>Home_TL</th>\n",
       "      <th>PL_TL</th>\n",
       "      <th>Secured_TL</th>\n",
       "      <th>...</th>\n",
       "      <th>pct_PL_enq_L6m_of_ever</th>\n",
       "      <th>pct_CC_enq_L6m_of_ever</th>\n",
       "      <th>HL_Flag</th>\n",
       "      <th>GL_Flag</th>\n",
       "      <th>MARITALSTATUS</th>\n",
       "      <th>EDUCATION</th>\n",
       "      <th>GENDER</th>\n",
       "      <th>last_prod_enq2</th>\n",
       "      <th>first_prod_enq2</th>\n",
       "      <th>Approved_Flag</th>\n",
       "    </tr>\n",
       "  </thead>\n",
       "  <tbody>\n",
       "    <tr>\n",
       "      <th>0</th>\n",
       "      <td>1</td>\n",
       "      <td>0.000</td>\n",
       "      <td>0.0</td>\n",
       "      <td>0</td>\n",
       "      <td>0.000</td>\n",
       "      <td>0</td>\n",
       "      <td>0</td>\n",
       "      <td>0</td>\n",
       "      <td>4</td>\n",
       "      <td>1</td>\n",
       "      <td>...</td>\n",
       "      <td>0.000</td>\n",
       "      <td>0.0</td>\n",
       "      <td>1</td>\n",
       "      <td>0</td>\n",
       "      <td>Married</td>\n",
       "      <td>12TH</td>\n",
       "      <td>M</td>\n",
       "      <td>PL</td>\n",
       "      <td>PL</td>\n",
       "      <td>P2</td>\n",
       "    </tr>\n",
       "    <tr>\n",
       "      <th>1</th>\n",
       "      <td>2</td>\n",
       "      <td>0.000</td>\n",
       "      <td>0.0</td>\n",
       "      <td>0</td>\n",
       "      <td>0.000</td>\n",
       "      <td>0</td>\n",
       "      <td>0</td>\n",
       "      <td>0</td>\n",
       "      <td>0</td>\n",
       "      <td>0</td>\n",
       "      <td>...</td>\n",
       "      <td>0.000</td>\n",
       "      <td>0.0</td>\n",
       "      <td>0</td>\n",
       "      <td>0</td>\n",
       "      <td>Single</td>\n",
       "      <td>GRADUATE</td>\n",
       "      <td>F</td>\n",
       "      <td>ConsumerLoan</td>\n",
       "      <td>ConsumerLoan</td>\n",
       "      <td>P2</td>\n",
       "    </tr>\n",
       "    <tr>\n",
       "      <th>2</th>\n",
       "      <td>3</td>\n",
       "      <td>0.125</td>\n",
       "      <td>0.0</td>\n",
       "      <td>0</td>\n",
       "      <td>0.000</td>\n",
       "      <td>1</td>\n",
       "      <td>0</td>\n",
       "      <td>0</td>\n",
       "      <td>0</td>\n",
       "      <td>2</td>\n",
       "      <td>...</td>\n",
       "      <td>0.000</td>\n",
       "      <td>0.0</td>\n",
       "      <td>1</td>\n",
       "      <td>0</td>\n",
       "      <td>Married</td>\n",
       "      <td>SSC</td>\n",
       "      <td>M</td>\n",
       "      <td>ConsumerLoan</td>\n",
       "      <td>others</td>\n",
       "      <td>P2</td>\n",
       "    </tr>\n",
       "    <tr>\n",
       "      <th>4</th>\n",
       "      <td>5</td>\n",
       "      <td>0.000</td>\n",
       "      <td>0.0</td>\n",
       "      <td>0</td>\n",
       "      <td>0.000</td>\n",
       "      <td>0</td>\n",
       "      <td>0</td>\n",
       "      <td>0</td>\n",
       "      <td>0</td>\n",
       "      <td>3</td>\n",
       "      <td>...</td>\n",
       "      <td>0.000</td>\n",
       "      <td>0.0</td>\n",
       "      <td>0</td>\n",
       "      <td>0</td>\n",
       "      <td>Married</td>\n",
       "      <td>POST-GRADUATE</td>\n",
       "      <td>M</td>\n",
       "      <td>AL</td>\n",
       "      <td>AL</td>\n",
       "      <td>P1</td>\n",
       "    </tr>\n",
       "    <tr>\n",
       "      <th>5</th>\n",
       "      <td>6</td>\n",
       "      <td>0.000</td>\n",
       "      <td>0.0</td>\n",
       "      <td>1</td>\n",
       "      <td>0.167</td>\n",
       "      <td>0</td>\n",
       "      <td>0</td>\n",
       "      <td>0</td>\n",
       "      <td>0</td>\n",
       "      <td>6</td>\n",
       "      <td>...</td>\n",
       "      <td>0.429</td>\n",
       "      <td>0.0</td>\n",
       "      <td>1</td>\n",
       "      <td>0</td>\n",
       "      <td>Married</td>\n",
       "      <td>12TH</td>\n",
       "      <td>M</td>\n",
       "      <td>ConsumerLoan</td>\n",
       "      <td>PL</td>\n",
       "      <td>P3</td>\n",
       "    </tr>\n",
       "  </tbody>\n",
       "</table>\n",
       "<p>5 rows × 44 columns</p>\n",
       "</div>"
      ],
      "text/plain": [
       "   PROSPECTID  pct_tl_open_L6M  pct_tl_closed_L6M  Tot_TL_closed_L12M  \\\n",
       "0           1            0.000                0.0                   0   \n",
       "1           2            0.000                0.0                   0   \n",
       "2           3            0.125                0.0                   0   \n",
       "4           5            0.000                0.0                   0   \n",
       "5           6            0.000                0.0                   1   \n",
       "\n",
       "   pct_tl_closed_L12M  Tot_Missed_Pmnt  CC_TL  Home_TL  PL_TL  Secured_TL  \\\n",
       "0               0.000                0      0        0      4           1   \n",
       "1               0.000                0      0        0      0           0   \n",
       "2               0.000                1      0        0      0           2   \n",
       "4               0.000                0      0        0      0           3   \n",
       "5               0.167                0      0        0      0           6   \n",
       "\n",
       "   ...  pct_PL_enq_L6m_of_ever  pct_CC_enq_L6m_of_ever  HL_Flag  GL_Flag  \\\n",
       "0  ...                   0.000                     0.0        1        0   \n",
       "1  ...                   0.000                     0.0        0        0   \n",
       "2  ...                   0.000                     0.0        1        0   \n",
       "4  ...                   0.000                     0.0        0        0   \n",
       "5  ...                   0.429                     0.0        1        0   \n",
       "\n",
       "   MARITALSTATUS      EDUCATION  GENDER  last_prod_enq2  first_prod_enq2  \\\n",
       "0        Married           12TH       M              PL               PL   \n",
       "1         Single       GRADUATE       F    ConsumerLoan     ConsumerLoan   \n",
       "2        Married            SSC       M    ConsumerLoan           others   \n",
       "4        Married  POST-GRADUATE       M              AL               AL   \n",
       "5        Married           12TH       M    ConsumerLoan               PL   \n",
       "\n",
       "   Approved_Flag  \n",
       "0             P2  \n",
       "1             P2  \n",
       "2             P2  \n",
       "4             P1  \n",
       "5             P3  \n",
       "\n",
       "[5 rows x 44 columns]"
      ]
     },
     "execution_count": 48,
     "metadata": {},
     "output_type": "execute_result"
    }
   ],
   "source": [
    "final_df=final_df[col_to_remaing]\n",
    "final_df.head()"
   ]
  },
  {
   "cell_type": "code",
   "execution_count": 49,
   "id": "83c7b72b",
   "metadata": {},
   "outputs": [
    {
     "data": {
      "text/plain": [
       "(42064, 44)"
      ]
     },
     "execution_count": 49,
     "metadata": {},
     "output_type": "execute_result"
    }
   ],
   "source": [
    "final_df.shape"
   ]
  },
  {
   "cell_type": "markdown",
   "id": "6238cf0a",
   "metadata": {},
   "source": [
    "# Conclussion\n",
    "- After Peprocessing we will get `42064` out of `51000` and `44` columns out of `88`"
   ]
  },
  {
   "cell_type": "markdown",
   "id": "f664cbd6",
   "metadata": {},
   "source": [
    "# Model Building\n",
    "- First we can saperate the input and output columns.\n",
    "- Second we can saperate numerical and categorical columns.\n",
    "- Third we can build a pipeline for some transformation."
   ]
  },
  {
   "cell_type": "markdown",
   "id": "07890444",
   "metadata": {},
   "source": [
    "# Saperate Input and output col"
   ]
  },
  {
   "cell_type": "code",
   "execution_count": 50,
   "id": "b23630f0",
   "metadata": {},
   "outputs": [],
   "source": [
    "feature=final_df.drop(columns=['Approved_Flag'])\n",
    "label=final_df['Approved_Flag']"
   ]
  },
  {
   "cell_type": "code",
   "execution_count": 51,
   "id": "7e01d040",
   "metadata": {},
   "outputs": [
    {
     "data": {
      "text/html": [
       "<div>\n",
       "<style scoped>\n",
       "    .dataframe tbody tr th:only-of-type {\n",
       "        vertical-align: middle;\n",
       "    }\n",
       "\n",
       "    .dataframe tbody tr th {\n",
       "        vertical-align: top;\n",
       "    }\n",
       "\n",
       "    .dataframe thead th {\n",
       "        text-align: right;\n",
       "    }\n",
       "</style>\n",
       "<table border=\"1\" class=\"dataframe\">\n",
       "  <thead>\n",
       "    <tr style=\"text-align: right;\">\n",
       "      <th></th>\n",
       "      <th>PROSPECTID</th>\n",
       "      <th>pct_tl_open_L6M</th>\n",
       "      <th>pct_tl_closed_L6M</th>\n",
       "      <th>Tot_TL_closed_L12M</th>\n",
       "      <th>pct_tl_closed_L12M</th>\n",
       "      <th>Tot_Missed_Pmnt</th>\n",
       "      <th>CC_TL</th>\n",
       "      <th>Home_TL</th>\n",
       "      <th>PL_TL</th>\n",
       "      <th>Secured_TL</th>\n",
       "      <th>...</th>\n",
       "      <th>PL_Flag</th>\n",
       "      <th>pct_PL_enq_L6m_of_ever</th>\n",
       "      <th>pct_CC_enq_L6m_of_ever</th>\n",
       "      <th>HL_Flag</th>\n",
       "      <th>GL_Flag</th>\n",
       "      <th>MARITALSTATUS</th>\n",
       "      <th>EDUCATION</th>\n",
       "      <th>GENDER</th>\n",
       "      <th>last_prod_enq2</th>\n",
       "      <th>first_prod_enq2</th>\n",
       "    </tr>\n",
       "  </thead>\n",
       "  <tbody>\n",
       "    <tr>\n",
       "      <th>0</th>\n",
       "      <td>1</td>\n",
       "      <td>0.0</td>\n",
       "      <td>0.0</td>\n",
       "      <td>0</td>\n",
       "      <td>0.0</td>\n",
       "      <td>0</td>\n",
       "      <td>0</td>\n",
       "      <td>0</td>\n",
       "      <td>4</td>\n",
       "      <td>1</td>\n",
       "      <td>...</td>\n",
       "      <td>1</td>\n",
       "      <td>0.0</td>\n",
       "      <td>0.0</td>\n",
       "      <td>1</td>\n",
       "      <td>0</td>\n",
       "      <td>Married</td>\n",
       "      <td>12TH</td>\n",
       "      <td>M</td>\n",
       "      <td>PL</td>\n",
       "      <td>PL</td>\n",
       "    </tr>\n",
       "    <tr>\n",
       "      <th>1</th>\n",
       "      <td>2</td>\n",
       "      <td>0.0</td>\n",
       "      <td>0.0</td>\n",
       "      <td>0</td>\n",
       "      <td>0.0</td>\n",
       "      <td>0</td>\n",
       "      <td>0</td>\n",
       "      <td>0</td>\n",
       "      <td>0</td>\n",
       "      <td>0</td>\n",
       "      <td>...</td>\n",
       "      <td>0</td>\n",
       "      <td>0.0</td>\n",
       "      <td>0.0</td>\n",
       "      <td>0</td>\n",
       "      <td>0</td>\n",
       "      <td>Single</td>\n",
       "      <td>GRADUATE</td>\n",
       "      <td>F</td>\n",
       "      <td>ConsumerLoan</td>\n",
       "      <td>ConsumerLoan</td>\n",
       "    </tr>\n",
       "  </tbody>\n",
       "</table>\n",
       "<p>2 rows × 43 columns</p>\n",
       "</div>"
      ],
      "text/plain": [
       "   PROSPECTID  pct_tl_open_L6M  pct_tl_closed_L6M  Tot_TL_closed_L12M  \\\n",
       "0           1              0.0                0.0                   0   \n",
       "1           2              0.0                0.0                   0   \n",
       "\n",
       "   pct_tl_closed_L12M  Tot_Missed_Pmnt  CC_TL  Home_TL  PL_TL  Secured_TL  \\\n",
       "0                 0.0                0      0        0      4           1   \n",
       "1                 0.0                0      0        0      0           0   \n",
       "\n",
       "   ...  PL_Flag  pct_PL_enq_L6m_of_ever  pct_CC_enq_L6m_of_ever  HL_Flag  \\\n",
       "0  ...        1                     0.0                     0.0        1   \n",
       "1  ...        0                     0.0                     0.0        0   \n",
       "\n",
       "   GL_Flag  MARITALSTATUS  EDUCATION  GENDER  last_prod_enq2  first_prod_enq2  \n",
       "0        0        Married       12TH       M              PL               PL  \n",
       "1        0         Single   GRADUATE       F    ConsumerLoan     ConsumerLoan  \n",
       "\n",
       "[2 rows x 43 columns]"
      ]
     },
     "execution_count": 51,
     "metadata": {},
     "output_type": "execute_result"
    }
   ],
   "source": [
    "feature.head(2)"
   ]
  },
  {
   "cell_type": "code",
   "execution_count": 52,
   "id": "9a163f40",
   "metadata": {},
   "outputs": [
    {
     "data": {
      "text/plain": [
       "0    P2\n",
       "1    P2\n",
       "2    P2\n",
       "4    P1\n",
       "5    P3\n",
       "Name: Approved_Flag, dtype: object"
      ]
     },
     "execution_count": 52,
     "metadata": {},
     "output_type": "execute_result"
    }
   ],
   "source": [
    "label.head()"
   ]
  },
  {
   "cell_type": "code",
   "execution_count": 53,
   "id": "04369542",
   "metadata": {},
   "outputs": [
    {
     "data": {
      "text/plain": [
       "Approved_Flag\n",
       "P1     4908\n",
       "P2    25452\n",
       "P3     6440\n",
       "P4     5264\n",
       "Name: count, dtype: int64"
      ]
     },
     "execution_count": 53,
     "metadata": {},
     "output_type": "execute_result"
    }
   ],
   "source": [
    "label.value_counts().sort_index()"
   ]
  },
  {
   "cell_type": "markdown",
   "id": "4c356c29",
   "metadata": {},
   "source": [
    "# Encode target Colummn"
   ]
  },
  {
   "cell_type": "code",
   "execution_count": 54,
   "id": "1803e88b",
   "metadata": {},
   "outputs": [],
   "source": [
    "from sklearn.preprocessing import LabelEncoder,OneHotEncoder,StandardScaler,OrdinalEncoder"
   ]
  },
  {
   "cell_type": "code",
   "execution_count": 55,
   "id": "b75820fd",
   "metadata": {},
   "outputs": [],
   "source": [
    "lb=LabelEncoder()\n",
    "label=lb.fit_transform(label)"
   ]
  },
  {
   "cell_type": "code",
   "execution_count": 56,
   "id": "3584c211",
   "metadata": {},
   "outputs": [
    {
     "data": {
      "text/plain": [
       "array([1, 1, 1, ..., 2, 1, 1])"
      ]
     },
     "execution_count": 56,
     "metadata": {},
     "output_type": "execute_result"
    }
   ],
   "source": [
    "label"
   ]
  },
  {
   "cell_type": "markdown",
   "id": "43d5941f",
   "metadata": {},
   "source": [
    "# Saperate `Numerical` and `Categorical` column"
   ]
  },
  {
   "cell_type": "code",
   "execution_count": 75,
   "id": "8061e76c",
   "metadata": {},
   "outputs": [],
   "source": [
    "num_col=feature.select_dtypes('number').columns\n",
    "cat_col=feature.select_dtypes('object').columns"
   ]
  },
  {
   "cell_type": "code",
   "execution_count": 76,
   "id": "87e5d7ff",
   "metadata": {},
   "outputs": [
    {
     "data": {
      "text/plain": [
       "Index(['PROSPECTID', 'pct_tl_open_L6M', 'pct_tl_closed_L6M',\n",
       "       'Tot_TL_closed_L12M', 'pct_tl_closed_L12M', 'Tot_Missed_Pmnt', 'CC_TL',\n",
       "       'Home_TL', 'PL_TL', 'Secured_TL', 'Unsecured_TL', 'Other_TL',\n",
       "       'Age_Oldest_TL', 'Age_Newest_TL', 'time_since_recent_payment',\n",
       "       'max_recent_level_of_deliq', 'num_deliq_6_12mts', 'num_times_60p_dpd',\n",
       "       'num_std_12mts', 'num_sub', 'num_sub_6mts', 'num_sub_12mts', 'num_dbt',\n",
       "       'num_dbt_12mts', 'num_lss', 'recent_level_of_deliq', 'CC_enq_L12m',\n",
       "       'PL_enq_L12m', 'time_since_recent_enq', 'enq_L3m', 'NETMONTHLYINCOME',\n",
       "       'Time_With_Curr_Empr', 'CC_Flag', 'PL_Flag', 'pct_PL_enq_L6m_of_ever',\n",
       "       'pct_CC_enq_L6m_of_ever', 'HL_Flag', 'GL_Flag'],\n",
       "      dtype='object')"
      ]
     },
     "execution_count": 76,
     "metadata": {},
     "output_type": "execute_result"
    }
   ],
   "source": [
    "num_col"
   ]
  },
  {
   "cell_type": "code",
   "execution_count": 77,
   "id": "191fb9d3",
   "metadata": {},
   "outputs": [
    {
     "data": {
      "text/plain": [
       "Index(['MARITALSTATUS', 'EDUCATION', 'GENDER', 'last_prod_enq2',\n",
       "       'first_prod_enq2'],\n",
       "      dtype='object')"
      ]
     },
     "execution_count": 77,
     "metadata": {},
     "output_type": "execute_result"
    }
   ],
   "source": [
    "cat_col"
   ]
  },
  {
   "cell_type": "markdown",
   "id": "f3b229f9",
   "metadata": {},
   "source": [
    "# Train Test Split"
   ]
  },
  {
   "cell_type": "code",
   "execution_count": 93,
   "id": "913c6276",
   "metadata": {},
   "outputs": [],
   "source": [
    "from sklearn.model_selection import train_test_split,cross_val_score"
   ]
  },
  {
   "cell_type": "code",
   "execution_count": 79,
   "id": "6f5399e1",
   "metadata": {},
   "outputs": [],
   "source": [
    "x_train,x_test,y_train,y_test=train_test_split(feature,label,test_size=0.2,random_state=43)"
   ]
  },
  {
   "cell_type": "code",
   "execution_count": 80,
   "id": "d71a32be",
   "metadata": {},
   "outputs": [
    {
     "data": {
      "text/plain": [
       "(33651, 43)"
      ]
     },
     "execution_count": 80,
     "metadata": {},
     "output_type": "execute_result"
    }
   ],
   "source": [
    "x_train.shape"
   ]
  },
  {
   "cell_type": "code",
   "execution_count": 81,
   "id": "24a4c7d7",
   "metadata": {},
   "outputs": [
    {
     "data": {
      "text/plain": [
       "(8413, 43)"
      ]
     },
     "execution_count": 81,
     "metadata": {},
     "output_type": "execute_result"
    }
   ],
   "source": [
    "x_test.shape"
   ]
  },
  {
   "cell_type": "markdown",
   "id": "e99b724b",
   "metadata": {},
   "source": [
    "# Building Pipeline\n",
    "- we can build a pipeline for numercial column.\n",
    "    - In numerical pipeline we can scale the feature.\n",
    "- we can build a pipeline for categorical column.\n",
    "    - In categorical pipeline we can encode the categorical column."
   ]
  },
  {
   "cell_type": "code",
   "execution_count": 82,
   "id": "71173fa1",
   "metadata": {},
   "outputs": [],
   "source": [
    "from sklearn.pipeline import Pipeline\n",
    "from sklearn.impute import SimpleImputer"
   ]
  },
  {
   "cell_type": "markdown",
   "id": "0b48eb80",
   "metadata": {},
   "source": [
    "# Numerical Pipeline"
   ]
  },
  {
   "cell_type": "code",
   "execution_count": 83,
   "id": "9fcff4b3",
   "metadata": {},
   "outputs": [
    {
     "data": {
      "text/html": [
       "<style>#sk-container-id-5 {color: black;}#sk-container-id-5 pre{padding: 0;}#sk-container-id-5 div.sk-toggleable {background-color: white;}#sk-container-id-5 label.sk-toggleable__label {cursor: pointer;display: block;width: 100%;margin-bottom: 0;padding: 0.3em;box-sizing: border-box;text-align: center;}#sk-container-id-5 label.sk-toggleable__label-arrow:before {content: \"▸\";float: left;margin-right: 0.25em;color: #696969;}#sk-container-id-5 label.sk-toggleable__label-arrow:hover:before {color: black;}#sk-container-id-5 div.sk-estimator:hover label.sk-toggleable__label-arrow:before {color: black;}#sk-container-id-5 div.sk-toggleable__content {max-height: 0;max-width: 0;overflow: hidden;text-align: left;background-color: #f0f8ff;}#sk-container-id-5 div.sk-toggleable__content pre {margin: 0.2em;color: black;border-radius: 0.25em;background-color: #f0f8ff;}#sk-container-id-5 input.sk-toggleable__control:checked~div.sk-toggleable__content {max-height: 200px;max-width: 100%;overflow: auto;}#sk-container-id-5 input.sk-toggleable__control:checked~label.sk-toggleable__label-arrow:before {content: \"▾\";}#sk-container-id-5 div.sk-estimator input.sk-toggleable__control:checked~label.sk-toggleable__label {background-color: #d4ebff;}#sk-container-id-5 div.sk-label input.sk-toggleable__control:checked~label.sk-toggleable__label {background-color: #d4ebff;}#sk-container-id-5 input.sk-hidden--visually {border: 0;clip: rect(1px 1px 1px 1px);clip: rect(1px, 1px, 1px, 1px);height: 1px;margin: -1px;overflow: hidden;padding: 0;position: absolute;width: 1px;}#sk-container-id-5 div.sk-estimator {font-family: monospace;background-color: #f0f8ff;border: 1px dotted black;border-radius: 0.25em;box-sizing: border-box;margin-bottom: 0.5em;}#sk-container-id-5 div.sk-estimator:hover {background-color: #d4ebff;}#sk-container-id-5 div.sk-parallel-item::after {content: \"\";width: 100%;border-bottom: 1px solid gray;flex-grow: 1;}#sk-container-id-5 div.sk-label:hover label.sk-toggleable__label {background-color: #d4ebff;}#sk-container-id-5 div.sk-serial::before {content: \"\";position: absolute;border-left: 1px solid gray;box-sizing: border-box;top: 0;bottom: 0;left: 50%;z-index: 0;}#sk-container-id-5 div.sk-serial {display: flex;flex-direction: column;align-items: center;background-color: white;padding-right: 0.2em;padding-left: 0.2em;position: relative;}#sk-container-id-5 div.sk-item {position: relative;z-index: 1;}#sk-container-id-5 div.sk-parallel {display: flex;align-items: stretch;justify-content: center;background-color: white;position: relative;}#sk-container-id-5 div.sk-item::before, #sk-container-id-5 div.sk-parallel-item::before {content: \"\";position: absolute;border-left: 1px solid gray;box-sizing: border-box;top: 0;bottom: 0;left: 50%;z-index: -1;}#sk-container-id-5 div.sk-parallel-item {display: flex;flex-direction: column;z-index: 1;position: relative;background-color: white;}#sk-container-id-5 div.sk-parallel-item:first-child::after {align-self: flex-end;width: 50%;}#sk-container-id-5 div.sk-parallel-item:last-child::after {align-self: flex-start;width: 50%;}#sk-container-id-5 div.sk-parallel-item:only-child::after {width: 0;}#sk-container-id-5 div.sk-dashed-wrapped {border: 1px dashed gray;margin: 0 0.4em 0.5em 0.4em;box-sizing: border-box;padding-bottom: 0.4em;background-color: white;}#sk-container-id-5 div.sk-label label {font-family: monospace;font-weight: bold;display: inline-block;line-height: 1.2em;}#sk-container-id-5 div.sk-label-container {text-align: center;}#sk-container-id-5 div.sk-container {/* jupyter's `normalize.less` sets `[hidden] { display: none; }` but bootstrap.min.css set `[hidden] { display: none !important; }` so we also need the `!important` here to be able to override the default hidden behavior on the sphinx rendered scikit-learn.org. See: https://github.com/scikit-learn/scikit-learn/issues/21755 */display: inline-block !important;position: relative;}#sk-container-id-5 div.sk-text-repr-fallback {display: none;}</style><div id=\"sk-container-id-5\" class=\"sk-top-container\"><div class=\"sk-text-repr-fallback\"><pre>Pipeline(steps=[(&#x27;impute&#x27;, SimpleImputer(strategy=&#x27;median&#x27;)),\n",
       "                (&#x27;scale&#x27;, StandardScaler())])</pre><b>In a Jupyter environment, please rerun this cell to show the HTML representation or trust the notebook. <br />On GitHub, the HTML representation is unable to render, please try loading this page with nbviewer.org.</b></div><div class=\"sk-container\" hidden><div class=\"sk-item sk-dashed-wrapped\"><div class=\"sk-label-container\"><div class=\"sk-label sk-toggleable\"><input class=\"sk-toggleable__control sk-hidden--visually\" id=\"sk-estimator-id-22\" type=\"checkbox\" ><label for=\"sk-estimator-id-22\" class=\"sk-toggleable__label sk-toggleable__label-arrow\">Pipeline</label><div class=\"sk-toggleable__content\"><pre>Pipeline(steps=[(&#x27;impute&#x27;, SimpleImputer(strategy=&#x27;median&#x27;)),\n",
       "                (&#x27;scale&#x27;, StandardScaler())])</pre></div></div></div><div class=\"sk-serial\"><div class=\"sk-item\"><div class=\"sk-estimator sk-toggleable\"><input class=\"sk-toggleable__control sk-hidden--visually\" id=\"sk-estimator-id-23\" type=\"checkbox\" ><label for=\"sk-estimator-id-23\" class=\"sk-toggleable__label sk-toggleable__label-arrow\">SimpleImputer</label><div class=\"sk-toggleable__content\"><pre>SimpleImputer(strategy=&#x27;median&#x27;)</pre></div></div></div><div class=\"sk-item\"><div class=\"sk-estimator sk-toggleable\"><input class=\"sk-toggleable__control sk-hidden--visually\" id=\"sk-estimator-id-24\" type=\"checkbox\" ><label for=\"sk-estimator-id-24\" class=\"sk-toggleable__label sk-toggleable__label-arrow\">StandardScaler</label><div class=\"sk-toggleable__content\"><pre>StandardScaler()</pre></div></div></div></div></div></div></div>"
      ],
      "text/plain": [
       "Pipeline(steps=[('impute', SimpleImputer(strategy='median')),\n",
       "                ('scale', StandardScaler())])"
      ]
     },
     "execution_count": 83,
     "metadata": {},
     "output_type": "execute_result"
    }
   ],
   "source": [
    "num_pipe=Pipeline(steps=[\n",
    "    (\"impute\",SimpleImputer(strategy='median')),\n",
    "    ('scale',StandardScaler())\n",
    "])\n",
    "num_pipe"
   ]
  },
  {
   "cell_type": "markdown",
   "id": "2148b63f",
   "metadata": {},
   "source": [
    "# Categorical Pipeline"
   ]
  },
  {
   "cell_type": "code",
   "execution_count": 84,
   "id": "5ee06939",
   "metadata": {},
   "outputs": [
    {
     "data": {
      "text/html": [
       "<style>#sk-container-id-6 {color: black;}#sk-container-id-6 pre{padding: 0;}#sk-container-id-6 div.sk-toggleable {background-color: white;}#sk-container-id-6 label.sk-toggleable__label {cursor: pointer;display: block;width: 100%;margin-bottom: 0;padding: 0.3em;box-sizing: border-box;text-align: center;}#sk-container-id-6 label.sk-toggleable__label-arrow:before {content: \"▸\";float: left;margin-right: 0.25em;color: #696969;}#sk-container-id-6 label.sk-toggleable__label-arrow:hover:before {color: black;}#sk-container-id-6 div.sk-estimator:hover label.sk-toggleable__label-arrow:before {color: black;}#sk-container-id-6 div.sk-toggleable__content {max-height: 0;max-width: 0;overflow: hidden;text-align: left;background-color: #f0f8ff;}#sk-container-id-6 div.sk-toggleable__content pre {margin: 0.2em;color: black;border-radius: 0.25em;background-color: #f0f8ff;}#sk-container-id-6 input.sk-toggleable__control:checked~div.sk-toggleable__content {max-height: 200px;max-width: 100%;overflow: auto;}#sk-container-id-6 input.sk-toggleable__control:checked~label.sk-toggleable__label-arrow:before {content: \"▾\";}#sk-container-id-6 div.sk-estimator input.sk-toggleable__control:checked~label.sk-toggleable__label {background-color: #d4ebff;}#sk-container-id-6 div.sk-label input.sk-toggleable__control:checked~label.sk-toggleable__label {background-color: #d4ebff;}#sk-container-id-6 input.sk-hidden--visually {border: 0;clip: rect(1px 1px 1px 1px);clip: rect(1px, 1px, 1px, 1px);height: 1px;margin: -1px;overflow: hidden;padding: 0;position: absolute;width: 1px;}#sk-container-id-6 div.sk-estimator {font-family: monospace;background-color: #f0f8ff;border: 1px dotted black;border-radius: 0.25em;box-sizing: border-box;margin-bottom: 0.5em;}#sk-container-id-6 div.sk-estimator:hover {background-color: #d4ebff;}#sk-container-id-6 div.sk-parallel-item::after {content: \"\";width: 100%;border-bottom: 1px solid gray;flex-grow: 1;}#sk-container-id-6 div.sk-label:hover label.sk-toggleable__label {background-color: #d4ebff;}#sk-container-id-6 div.sk-serial::before {content: \"\";position: absolute;border-left: 1px solid gray;box-sizing: border-box;top: 0;bottom: 0;left: 50%;z-index: 0;}#sk-container-id-6 div.sk-serial {display: flex;flex-direction: column;align-items: center;background-color: white;padding-right: 0.2em;padding-left: 0.2em;position: relative;}#sk-container-id-6 div.sk-item {position: relative;z-index: 1;}#sk-container-id-6 div.sk-parallel {display: flex;align-items: stretch;justify-content: center;background-color: white;position: relative;}#sk-container-id-6 div.sk-item::before, #sk-container-id-6 div.sk-parallel-item::before {content: \"\";position: absolute;border-left: 1px solid gray;box-sizing: border-box;top: 0;bottom: 0;left: 50%;z-index: -1;}#sk-container-id-6 div.sk-parallel-item {display: flex;flex-direction: column;z-index: 1;position: relative;background-color: white;}#sk-container-id-6 div.sk-parallel-item:first-child::after {align-self: flex-end;width: 50%;}#sk-container-id-6 div.sk-parallel-item:last-child::after {align-self: flex-start;width: 50%;}#sk-container-id-6 div.sk-parallel-item:only-child::after {width: 0;}#sk-container-id-6 div.sk-dashed-wrapped {border: 1px dashed gray;margin: 0 0.4em 0.5em 0.4em;box-sizing: border-box;padding-bottom: 0.4em;background-color: white;}#sk-container-id-6 div.sk-label label {font-family: monospace;font-weight: bold;display: inline-block;line-height: 1.2em;}#sk-container-id-6 div.sk-label-container {text-align: center;}#sk-container-id-6 div.sk-container {/* jupyter's `normalize.less` sets `[hidden] { display: none; }` but bootstrap.min.css set `[hidden] { display: none !important; }` so we also need the `!important` here to be able to override the default hidden behavior on the sphinx rendered scikit-learn.org. See: https://github.com/scikit-learn/scikit-learn/issues/21755 */display: inline-block !important;position: relative;}#sk-container-id-6 div.sk-text-repr-fallback {display: none;}</style><div id=\"sk-container-id-6\" class=\"sk-top-container\"><div class=\"sk-text-repr-fallback\"><pre>Pipeline(steps=[(&#x27;impute&#x27;, SimpleImputer(strategy=&#x27;most_frequent&#x27;)),\n",
       "                (&#x27;Encode&#x27;,\n",
       "                 OneHotEncoder(drop=&#x27;first&#x27;, handle_unknown=&#x27;ignore&#x27;,\n",
       "                               sparse=False))])</pre><b>In a Jupyter environment, please rerun this cell to show the HTML representation or trust the notebook. <br />On GitHub, the HTML representation is unable to render, please try loading this page with nbviewer.org.</b></div><div class=\"sk-container\" hidden><div class=\"sk-item sk-dashed-wrapped\"><div class=\"sk-label-container\"><div class=\"sk-label sk-toggleable\"><input class=\"sk-toggleable__control sk-hidden--visually\" id=\"sk-estimator-id-25\" type=\"checkbox\" ><label for=\"sk-estimator-id-25\" class=\"sk-toggleable__label sk-toggleable__label-arrow\">Pipeline</label><div class=\"sk-toggleable__content\"><pre>Pipeline(steps=[(&#x27;impute&#x27;, SimpleImputer(strategy=&#x27;most_frequent&#x27;)),\n",
       "                (&#x27;Encode&#x27;,\n",
       "                 OneHotEncoder(drop=&#x27;first&#x27;, handle_unknown=&#x27;ignore&#x27;,\n",
       "                               sparse=False))])</pre></div></div></div><div class=\"sk-serial\"><div class=\"sk-item\"><div class=\"sk-estimator sk-toggleable\"><input class=\"sk-toggleable__control sk-hidden--visually\" id=\"sk-estimator-id-26\" type=\"checkbox\" ><label for=\"sk-estimator-id-26\" class=\"sk-toggleable__label sk-toggleable__label-arrow\">SimpleImputer</label><div class=\"sk-toggleable__content\"><pre>SimpleImputer(strategy=&#x27;most_frequent&#x27;)</pre></div></div></div><div class=\"sk-item\"><div class=\"sk-estimator sk-toggleable\"><input class=\"sk-toggleable__control sk-hidden--visually\" id=\"sk-estimator-id-27\" type=\"checkbox\" ><label for=\"sk-estimator-id-27\" class=\"sk-toggleable__label sk-toggleable__label-arrow\">OneHotEncoder</label><div class=\"sk-toggleable__content\"><pre>OneHotEncoder(drop=&#x27;first&#x27;, handle_unknown=&#x27;ignore&#x27;, sparse=False)</pre></div></div></div></div></div></div></div>"
      ],
      "text/plain": [
       "Pipeline(steps=[('impute', SimpleImputer(strategy='most_frequent')),\n",
       "                ('Encode',\n",
       "                 OneHotEncoder(drop='first', handle_unknown='ignore',\n",
       "                               sparse=False))])"
      ]
     },
     "execution_count": 84,
     "metadata": {},
     "output_type": "execute_result"
    }
   ],
   "source": [
    "cat_pipe=Pipeline(steps=[\n",
    "    (\"impute\",SimpleImputer(strategy='most_frequent')),\n",
    "    ('Encode',OneHotEncoder(drop='first',sparse=False,handle_unknown='ignore'))\n",
    "])\n",
    "cat_pipe"
   ]
  },
  {
   "cell_type": "markdown",
   "id": "e7e8adc8",
   "metadata": {},
   "source": [
    "# Colum Transformer\n",
    "- In column transformer we can combine al the steps."
   ]
  },
  {
   "cell_type": "code",
   "execution_count": 85,
   "id": "871f9546",
   "metadata": {},
   "outputs": [],
   "source": [
    "from sklearn.compose import ColumnTransformer"
   ]
  },
  {
   "cell_type": "code",
   "execution_count": 86,
   "id": "d5b6d098",
   "metadata": {},
   "outputs": [
    {
     "data": {
      "text/html": [
       "<style>#sk-container-id-7 {color: black;}#sk-container-id-7 pre{padding: 0;}#sk-container-id-7 div.sk-toggleable {background-color: white;}#sk-container-id-7 label.sk-toggleable__label {cursor: pointer;display: block;width: 100%;margin-bottom: 0;padding: 0.3em;box-sizing: border-box;text-align: center;}#sk-container-id-7 label.sk-toggleable__label-arrow:before {content: \"▸\";float: left;margin-right: 0.25em;color: #696969;}#sk-container-id-7 label.sk-toggleable__label-arrow:hover:before {color: black;}#sk-container-id-7 div.sk-estimator:hover label.sk-toggleable__label-arrow:before {color: black;}#sk-container-id-7 div.sk-toggleable__content {max-height: 0;max-width: 0;overflow: hidden;text-align: left;background-color: #f0f8ff;}#sk-container-id-7 div.sk-toggleable__content pre {margin: 0.2em;color: black;border-radius: 0.25em;background-color: #f0f8ff;}#sk-container-id-7 input.sk-toggleable__control:checked~div.sk-toggleable__content {max-height: 200px;max-width: 100%;overflow: auto;}#sk-container-id-7 input.sk-toggleable__control:checked~label.sk-toggleable__label-arrow:before {content: \"▾\";}#sk-container-id-7 div.sk-estimator input.sk-toggleable__control:checked~label.sk-toggleable__label {background-color: #d4ebff;}#sk-container-id-7 div.sk-label input.sk-toggleable__control:checked~label.sk-toggleable__label {background-color: #d4ebff;}#sk-container-id-7 input.sk-hidden--visually {border: 0;clip: rect(1px 1px 1px 1px);clip: rect(1px, 1px, 1px, 1px);height: 1px;margin: -1px;overflow: hidden;padding: 0;position: absolute;width: 1px;}#sk-container-id-7 div.sk-estimator {font-family: monospace;background-color: #f0f8ff;border: 1px dotted black;border-radius: 0.25em;box-sizing: border-box;margin-bottom: 0.5em;}#sk-container-id-7 div.sk-estimator:hover {background-color: #d4ebff;}#sk-container-id-7 div.sk-parallel-item::after {content: \"\";width: 100%;border-bottom: 1px solid gray;flex-grow: 1;}#sk-container-id-7 div.sk-label:hover label.sk-toggleable__label {background-color: #d4ebff;}#sk-container-id-7 div.sk-serial::before {content: \"\";position: absolute;border-left: 1px solid gray;box-sizing: border-box;top: 0;bottom: 0;left: 50%;z-index: 0;}#sk-container-id-7 div.sk-serial {display: flex;flex-direction: column;align-items: center;background-color: white;padding-right: 0.2em;padding-left: 0.2em;position: relative;}#sk-container-id-7 div.sk-item {position: relative;z-index: 1;}#sk-container-id-7 div.sk-parallel {display: flex;align-items: stretch;justify-content: center;background-color: white;position: relative;}#sk-container-id-7 div.sk-item::before, #sk-container-id-7 div.sk-parallel-item::before {content: \"\";position: absolute;border-left: 1px solid gray;box-sizing: border-box;top: 0;bottom: 0;left: 50%;z-index: -1;}#sk-container-id-7 div.sk-parallel-item {display: flex;flex-direction: column;z-index: 1;position: relative;background-color: white;}#sk-container-id-7 div.sk-parallel-item:first-child::after {align-self: flex-end;width: 50%;}#sk-container-id-7 div.sk-parallel-item:last-child::after {align-self: flex-start;width: 50%;}#sk-container-id-7 div.sk-parallel-item:only-child::after {width: 0;}#sk-container-id-7 div.sk-dashed-wrapped {border: 1px dashed gray;margin: 0 0.4em 0.5em 0.4em;box-sizing: border-box;padding-bottom: 0.4em;background-color: white;}#sk-container-id-7 div.sk-label label {font-family: monospace;font-weight: bold;display: inline-block;line-height: 1.2em;}#sk-container-id-7 div.sk-label-container {text-align: center;}#sk-container-id-7 div.sk-container {/* jupyter's `normalize.less` sets `[hidden] { display: none; }` but bootstrap.min.css set `[hidden] { display: none !important; }` so we also need the `!important` here to be able to override the default hidden behavior on the sphinx rendered scikit-learn.org. See: https://github.com/scikit-learn/scikit-learn/issues/21755 */display: inline-block !important;position: relative;}#sk-container-id-7 div.sk-text-repr-fallback {display: none;}</style><div id=\"sk-container-id-7\" class=\"sk-top-container\"><div class=\"sk-text-repr-fallback\"><pre>ColumnTransformer(remainder=&#x27;passthrough&#x27;,\n",
       "                  transformers=[(&#x27;num_transformer&#x27;,\n",
       "                                 Pipeline(steps=[(&#x27;impute&#x27;,\n",
       "                                                  SimpleImputer(strategy=&#x27;median&#x27;)),\n",
       "                                                 (&#x27;scale&#x27;, StandardScaler())]),\n",
       "                                 Index([&#x27;PROSPECTID&#x27;, &#x27;pct_tl_open_L6M&#x27;, &#x27;pct_tl_closed_L6M&#x27;,\n",
       "       &#x27;Tot_TL_closed_L12M&#x27;, &#x27;pct_tl_closed_L12M&#x27;, &#x27;Tot_Missed_Pmnt&#x27;, &#x27;CC_TL&#x27;,\n",
       "       &#x27;Home_TL&#x27;, &#x27;PL_TL&#x27;, &#x27;Secured_TL&#x27;, &#x27;Unsecured_TL&#x27;, &#x27;Other_TL&#x27;,\n",
       "       &#x27;Ag...\n",
       "       &#x27;Time_With_Curr_Empr&#x27;, &#x27;CC_Flag&#x27;, &#x27;PL_Flag&#x27;, &#x27;pct_PL_enq_L6m_of_ever&#x27;,\n",
       "       &#x27;pct_CC_enq_L6m_of_ever&#x27;, &#x27;HL_Flag&#x27;, &#x27;GL_Flag&#x27;],\n",
       "      dtype=&#x27;object&#x27;)),\n",
       "                                (&#x27;Encode&#x27;,\n",
       "                                 Pipeline(steps=[(&#x27;impute&#x27;,\n",
       "                                                  SimpleImputer(strategy=&#x27;most_frequent&#x27;)),\n",
       "                                                 (&#x27;Encode&#x27;,\n",
       "                                                  OneHotEncoder(drop=&#x27;first&#x27;,\n",
       "                                                                handle_unknown=&#x27;ignore&#x27;,\n",
       "                                                                sparse=False))]),\n",
       "                                 Index([&#x27;MARITALSTATUS&#x27;, &#x27;EDUCATION&#x27;, &#x27;GENDER&#x27;, &#x27;last_prod_enq2&#x27;,\n",
       "       &#x27;first_prod_enq2&#x27;],\n",
       "      dtype=&#x27;object&#x27;))])</pre><b>In a Jupyter environment, please rerun this cell to show the HTML representation or trust the notebook. <br />On GitHub, the HTML representation is unable to render, please try loading this page with nbviewer.org.</b></div><div class=\"sk-container\" hidden><div class=\"sk-item sk-dashed-wrapped\"><div class=\"sk-label-container\"><div class=\"sk-label sk-toggleable\"><input class=\"sk-toggleable__control sk-hidden--visually\" id=\"sk-estimator-id-28\" type=\"checkbox\" ><label for=\"sk-estimator-id-28\" class=\"sk-toggleable__label sk-toggleable__label-arrow\">ColumnTransformer</label><div class=\"sk-toggleable__content\"><pre>ColumnTransformer(remainder=&#x27;passthrough&#x27;,\n",
       "                  transformers=[(&#x27;num_transformer&#x27;,\n",
       "                                 Pipeline(steps=[(&#x27;impute&#x27;,\n",
       "                                                  SimpleImputer(strategy=&#x27;median&#x27;)),\n",
       "                                                 (&#x27;scale&#x27;, StandardScaler())]),\n",
       "                                 Index([&#x27;PROSPECTID&#x27;, &#x27;pct_tl_open_L6M&#x27;, &#x27;pct_tl_closed_L6M&#x27;,\n",
       "       &#x27;Tot_TL_closed_L12M&#x27;, &#x27;pct_tl_closed_L12M&#x27;, &#x27;Tot_Missed_Pmnt&#x27;, &#x27;CC_TL&#x27;,\n",
       "       &#x27;Home_TL&#x27;, &#x27;PL_TL&#x27;, &#x27;Secured_TL&#x27;, &#x27;Unsecured_TL&#x27;, &#x27;Other_TL&#x27;,\n",
       "       &#x27;Ag...\n",
       "       &#x27;Time_With_Curr_Empr&#x27;, &#x27;CC_Flag&#x27;, &#x27;PL_Flag&#x27;, &#x27;pct_PL_enq_L6m_of_ever&#x27;,\n",
       "       &#x27;pct_CC_enq_L6m_of_ever&#x27;, &#x27;HL_Flag&#x27;, &#x27;GL_Flag&#x27;],\n",
       "      dtype=&#x27;object&#x27;)),\n",
       "                                (&#x27;Encode&#x27;,\n",
       "                                 Pipeline(steps=[(&#x27;impute&#x27;,\n",
       "                                                  SimpleImputer(strategy=&#x27;most_frequent&#x27;)),\n",
       "                                                 (&#x27;Encode&#x27;,\n",
       "                                                  OneHotEncoder(drop=&#x27;first&#x27;,\n",
       "                                                                handle_unknown=&#x27;ignore&#x27;,\n",
       "                                                                sparse=False))]),\n",
       "                                 Index([&#x27;MARITALSTATUS&#x27;, &#x27;EDUCATION&#x27;, &#x27;GENDER&#x27;, &#x27;last_prod_enq2&#x27;,\n",
       "       &#x27;first_prod_enq2&#x27;],\n",
       "      dtype=&#x27;object&#x27;))])</pre></div></div></div><div class=\"sk-parallel\"><div class=\"sk-parallel-item\"><div class=\"sk-item\"><div class=\"sk-label-container\"><div class=\"sk-label sk-toggleable\"><input class=\"sk-toggleable__control sk-hidden--visually\" id=\"sk-estimator-id-29\" type=\"checkbox\" ><label for=\"sk-estimator-id-29\" class=\"sk-toggleable__label sk-toggleable__label-arrow\">num_transformer</label><div class=\"sk-toggleable__content\"><pre>Index([&#x27;PROSPECTID&#x27;, &#x27;pct_tl_open_L6M&#x27;, &#x27;pct_tl_closed_L6M&#x27;,\n",
       "       &#x27;Tot_TL_closed_L12M&#x27;, &#x27;pct_tl_closed_L12M&#x27;, &#x27;Tot_Missed_Pmnt&#x27;, &#x27;CC_TL&#x27;,\n",
       "       &#x27;Home_TL&#x27;, &#x27;PL_TL&#x27;, &#x27;Secured_TL&#x27;, &#x27;Unsecured_TL&#x27;, &#x27;Other_TL&#x27;,\n",
       "       &#x27;Age_Oldest_TL&#x27;, &#x27;Age_Newest_TL&#x27;, &#x27;time_since_recent_payment&#x27;,\n",
       "       &#x27;max_recent_level_of_deliq&#x27;, &#x27;num_deliq_6_12mts&#x27;, &#x27;num_times_60p_dpd&#x27;,\n",
       "       &#x27;num_std_12mts&#x27;, &#x27;num_sub&#x27;, &#x27;num_sub_6mts&#x27;, &#x27;num_sub_12mts&#x27;, &#x27;num_dbt&#x27;,\n",
       "       &#x27;num_dbt_12mts&#x27;, &#x27;num_lss&#x27;, &#x27;recent_level_of_deliq&#x27;, &#x27;CC_enq_L12m&#x27;,\n",
       "       &#x27;PL_enq_L12m&#x27;, &#x27;time_since_recent_enq&#x27;, &#x27;enq_L3m&#x27;, &#x27;NETMONTHLYINCOME&#x27;,\n",
       "       &#x27;Time_With_Curr_Empr&#x27;, &#x27;CC_Flag&#x27;, &#x27;PL_Flag&#x27;, &#x27;pct_PL_enq_L6m_of_ever&#x27;,\n",
       "       &#x27;pct_CC_enq_L6m_of_ever&#x27;, &#x27;HL_Flag&#x27;, &#x27;GL_Flag&#x27;],\n",
       "      dtype=&#x27;object&#x27;)</pre></div></div></div><div class=\"sk-serial\"><div class=\"sk-item\"><div class=\"sk-serial\"><div class=\"sk-item\"><div class=\"sk-estimator sk-toggleable\"><input class=\"sk-toggleable__control sk-hidden--visually\" id=\"sk-estimator-id-30\" type=\"checkbox\" ><label for=\"sk-estimator-id-30\" class=\"sk-toggleable__label sk-toggleable__label-arrow\">SimpleImputer</label><div class=\"sk-toggleable__content\"><pre>SimpleImputer(strategy=&#x27;median&#x27;)</pre></div></div></div><div class=\"sk-item\"><div class=\"sk-estimator sk-toggleable\"><input class=\"sk-toggleable__control sk-hidden--visually\" id=\"sk-estimator-id-31\" type=\"checkbox\" ><label for=\"sk-estimator-id-31\" class=\"sk-toggleable__label sk-toggleable__label-arrow\">StandardScaler</label><div class=\"sk-toggleable__content\"><pre>StandardScaler()</pre></div></div></div></div></div></div></div></div><div class=\"sk-parallel-item\"><div class=\"sk-item\"><div class=\"sk-label-container\"><div class=\"sk-label sk-toggleable\"><input class=\"sk-toggleable__control sk-hidden--visually\" id=\"sk-estimator-id-32\" type=\"checkbox\" ><label for=\"sk-estimator-id-32\" class=\"sk-toggleable__label sk-toggleable__label-arrow\">Encode</label><div class=\"sk-toggleable__content\"><pre>Index([&#x27;MARITALSTATUS&#x27;, &#x27;EDUCATION&#x27;, &#x27;GENDER&#x27;, &#x27;last_prod_enq2&#x27;,\n",
       "       &#x27;first_prod_enq2&#x27;],\n",
       "      dtype=&#x27;object&#x27;)</pre></div></div></div><div class=\"sk-serial\"><div class=\"sk-item\"><div class=\"sk-serial\"><div class=\"sk-item\"><div class=\"sk-estimator sk-toggleable\"><input class=\"sk-toggleable__control sk-hidden--visually\" id=\"sk-estimator-id-33\" type=\"checkbox\" ><label for=\"sk-estimator-id-33\" class=\"sk-toggleable__label sk-toggleable__label-arrow\">SimpleImputer</label><div class=\"sk-toggleable__content\"><pre>SimpleImputer(strategy=&#x27;most_frequent&#x27;)</pre></div></div></div><div class=\"sk-item\"><div class=\"sk-estimator sk-toggleable\"><input class=\"sk-toggleable__control sk-hidden--visually\" id=\"sk-estimator-id-34\" type=\"checkbox\" ><label for=\"sk-estimator-id-34\" class=\"sk-toggleable__label sk-toggleable__label-arrow\">OneHotEncoder</label><div class=\"sk-toggleable__content\"><pre>OneHotEncoder(drop=&#x27;first&#x27;, handle_unknown=&#x27;ignore&#x27;, sparse=False)</pre></div></div></div></div></div></div></div></div><div class=\"sk-parallel-item\"><div class=\"sk-item\"><div class=\"sk-label-container\"><div class=\"sk-label sk-toggleable\"><input class=\"sk-toggleable__control sk-hidden--visually\" id=\"sk-estimator-id-35\" type=\"checkbox\" ><label for=\"sk-estimator-id-35\" class=\"sk-toggleable__label sk-toggleable__label-arrow\">remainder</label><div class=\"sk-toggleable__content\"><pre></pre></div></div></div><div class=\"sk-serial\"><div class=\"sk-item\"><div class=\"sk-estimator sk-toggleable\"><input class=\"sk-toggleable__control sk-hidden--visually\" id=\"sk-estimator-id-36\" type=\"checkbox\" ><label for=\"sk-estimator-id-36\" class=\"sk-toggleable__label sk-toggleable__label-arrow\">passthrough</label><div class=\"sk-toggleable__content\"><pre>passthrough</pre></div></div></div></div></div></div></div></div></div></div>"
      ],
      "text/plain": [
       "ColumnTransformer(remainder='passthrough',\n",
       "                  transformers=[('num_transformer',\n",
       "                                 Pipeline(steps=[('impute',\n",
       "                                                  SimpleImputer(strategy='median')),\n",
       "                                                 ('scale', StandardScaler())]),\n",
       "                                 Index(['PROSPECTID', 'pct_tl_open_L6M', 'pct_tl_closed_L6M',\n",
       "       'Tot_TL_closed_L12M', 'pct_tl_closed_L12M', 'Tot_Missed_Pmnt', 'CC_TL',\n",
       "       'Home_TL', 'PL_TL', 'Secured_TL', 'Unsecured_TL', 'Other_TL',\n",
       "       'Ag...\n",
       "       'Time_With_Curr_Empr', 'CC_Flag', 'PL_Flag', 'pct_PL_enq_L6m_of_ever',\n",
       "       'pct_CC_enq_L6m_of_ever', 'HL_Flag', 'GL_Flag'],\n",
       "      dtype='object')),\n",
       "                                ('Encode',\n",
       "                                 Pipeline(steps=[('impute',\n",
       "                                                  SimpleImputer(strategy='most_frequent')),\n",
       "                                                 ('Encode',\n",
       "                                                  OneHotEncoder(drop='first',\n",
       "                                                                handle_unknown='ignore',\n",
       "                                                                sparse=False))]),\n",
       "                                 Index(['MARITALSTATUS', 'EDUCATION', 'GENDER', 'last_prod_enq2',\n",
       "       'first_prod_enq2'],\n",
       "      dtype='object'))])"
      ]
     },
     "execution_count": 86,
     "metadata": {},
     "output_type": "execute_result"
    }
   ],
   "source": [
    "transformer=ColumnTransformer(transformers=[\n",
    "    ('num_transformer',num_pipe,num_col),\n",
    "    (\"Encode\",cat_pipe,cat_col)\n",
    "],remainder='passthrough')\n",
    "transformer"
   ]
  },
  {
   "cell_type": "markdown",
   "id": "ba1a5259",
   "metadata": {},
   "source": [
    "# Build Final Pipeline for model"
   ]
  },
  {
   "cell_type": "markdown",
   "id": "35aed5b8",
   "metadata": {},
   "source": [
    "# Fit the model\n",
    "- In this we can train different models.\n",
    "- Those model will give better result we can tune them."
   ]
  },
  {
   "cell_type": "code",
   "execution_count": 87,
   "id": "190ef88c",
   "metadata": {},
   "outputs": [],
   "source": [
    "from sklearn.linear_model import LogisticRegression\n",
    "from sklearn.ensemble import RandomForestClassifier\n",
    "from sklearn.tree import DecisionTreeClassifier\n",
    "import xgboost as xgb\n",
    "from xgboost import XGBClassifier"
   ]
  },
  {
   "cell_type": "markdown",
   "id": "e8dd616e",
   "metadata": {},
   "source": [
    "# Make the models dict"
   ]
  },
  {
   "cell_type": "code",
   "execution_count": 88,
   "id": "94d39b49",
   "metadata": {},
   "outputs": [],
   "source": [
    "model_dic={\n",
    "    \"LogisticRegression\":LogisticRegression(),\n",
    "    \"RandomForest\":RandomForestClassifier(),\n",
    "    \"DecessionTree\":DecisionTreeClassifier(),\n",
    "    \"xgboost\":XGBClassifier()\n",
    "}"
   ]
  },
  {
   "cell_type": "markdown",
   "id": "55a1aad7",
   "metadata": {},
   "source": [
    "# Fit models\n",
    "- Fit models and also calculate the score"
   ]
  },
  {
   "cell_type": "code",
   "execution_count": 89,
   "id": "15de0e6b",
   "metadata": {},
   "outputs": [],
   "source": [
    "from sklearn.metrics import accuracy_score,confusion_matrix"
   ]
  },
  {
   "cell_type": "code",
   "execution_count": 96,
   "id": "852c26b3",
   "metadata": {},
   "outputs": [],
   "source": [
    "results={\n",
    "    \"model_name\":[],\n",
    "    \"score\":[],\n",
    "    'train score':[],\n",
    "    \"test score\":[],\n",
    "    'matrix':[]\n",
    "}\n",
    "for model_name,model in model_dic.items():\n",
    "    final=Pipeline(steps=[\n",
    "    (\"process\",transformer),\n",
    "    (\"model\",model)\n",
    "    ])\n",
    "    \n",
    "    # Fit the model pipe\n",
    "    final.fit(x_train,y_train)\n",
    "    \n",
    "    # Prediction\n",
    "    pre=final.predict(x_test)\n",
    "    \n",
    "    # Calculate score\n",
    "    score=accuracy_score(y_test,pre)\n",
    "    matrix=confusion_matrix(y_test,pre)\n",
    "    \n",
    "    #Cross val score\n",
    "    train_score=cross_val_score(final,x_train,y_train,cv=5,scoring='accuracy')\n",
    "    test_score=cross_val_score(final,x_test,y_test,cv=5,scoring='accuracy')\n",
    "    \n",
    "    \n",
    "    results['model_name'].append(model_name)\n",
    "    results['score'].append(score)\n",
    "    results['train score'].append(train_score)\n",
    "    results['test score'].append(test_score)\n",
    "    \n",
    "    results['matrix'].append(matrix)"
   ]
  },
  {
   "cell_type": "markdown",
   "id": "ea2d11f7",
   "metadata": {},
   "source": [
    "# See the results"
   ]
  },
  {
   "cell_type": "code",
   "execution_count": 97,
   "id": "f2472287",
   "metadata": {},
   "outputs": [
    {
     "data": {
      "text/html": [
       "<div>\n",
       "<style scoped>\n",
       "    .dataframe tbody tr th:only-of-type {\n",
       "        vertical-align: middle;\n",
       "    }\n",
       "\n",
       "    .dataframe tbody tr th {\n",
       "        vertical-align: top;\n",
       "    }\n",
       "\n",
       "    .dataframe thead th {\n",
       "        text-align: right;\n",
       "    }\n",
       "</style>\n",
       "<table border=\"1\" class=\"dataframe\">\n",
       "  <thead>\n",
       "    <tr style=\"text-align: right;\">\n",
       "      <th></th>\n",
       "      <th>model_name</th>\n",
       "      <th>score</th>\n",
       "      <th>train score</th>\n",
       "      <th>test score</th>\n",
       "      <th>matrix</th>\n",
       "    </tr>\n",
       "  </thead>\n",
       "  <tbody>\n",
       "    <tr>\n",
       "      <th>0</th>\n",
       "      <td>LogisticRegression</td>\n",
       "      <td>0.754784</td>\n",
       "      <td>[0.7520427871044422, 0.7533432392273403, 0.749...</td>\n",
       "      <td>[0.750445632798574, 0.7474747474747475, 0.7403...</td>\n",
       "      <td>[[685, 280, 2, 3], [149, 4841, 88, 74], [27, 8...</td>\n",
       "    </tr>\n",
       "    <tr>\n",
       "      <th>1</th>\n",
       "      <td>RandomForest</td>\n",
       "      <td>0.772376</td>\n",
       "      <td>[0.7671965532610311, 0.7647845468053491, 0.763...</td>\n",
       "      <td>[0.7617349970291146, 0.7635175282234106, 0.761...</td>\n",
       "      <td>[[704, 266, 0, 0], [133, 4802, 170, 47], [30, ...</td>\n",
       "    </tr>\n",
       "    <tr>\n",
       "      <th>2</th>\n",
       "      <td>DecessionTree</td>\n",
       "      <td>0.703792</td>\n",
       "      <td>[0.6966275441984846, 0.6968796433878157, 0.695...</td>\n",
       "      <td>[0.7035056446821153, 0.696969696969697, 0.6815...</td>\n",
       "      <td>[[678, 245, 46, 1], [264, 4126, 638, 124], [31...</td>\n",
       "    </tr>\n",
       "    <tr>\n",
       "      <th>3</th>\n",
       "      <td>xgboost</td>\n",
       "      <td>0.785094</td>\n",
       "      <td>[0.7768533650274848, 0.7732540861812779, 0.770...</td>\n",
       "      <td>[0.7575757575757576, 0.7706476530005941, 0.770...</td>\n",
       "      <td>[[765, 205, 0, 0], [148, 4697, 260, 47], [31, ...</td>\n",
       "    </tr>\n",
       "  </tbody>\n",
       "</table>\n",
       "</div>"
      ],
      "text/plain": [
       "           model_name     score  \\\n",
       "0  LogisticRegression  0.754784   \n",
       "1        RandomForest  0.772376   \n",
       "2       DecessionTree  0.703792   \n",
       "3             xgboost  0.785094   \n",
       "\n",
       "                                         train score  \\\n",
       "0  [0.7520427871044422, 0.7533432392273403, 0.749...   \n",
       "1  [0.7671965532610311, 0.7647845468053491, 0.763...   \n",
       "2  [0.6966275441984846, 0.6968796433878157, 0.695...   \n",
       "3  [0.7768533650274848, 0.7732540861812779, 0.770...   \n",
       "\n",
       "                                          test score  \\\n",
       "0  [0.750445632798574, 0.7474747474747475, 0.7403...   \n",
       "1  [0.7617349970291146, 0.7635175282234106, 0.761...   \n",
       "2  [0.7035056446821153, 0.696969696969697, 0.6815...   \n",
       "3  [0.7575757575757576, 0.7706476530005941, 0.770...   \n",
       "\n",
       "                                              matrix  \n",
       "0  [[685, 280, 2, 3], [149, 4841, 88, 74], [27, 8...  \n",
       "1  [[704, 266, 0, 0], [133, 4802, 170, 47], [30, ...  \n",
       "2  [[678, 245, 46, 1], [264, 4126, 638, 124], [31...  \n",
       "3  [[765, 205, 0, 0], [148, 4697, 260, 47], [31, ...  "
      ]
     },
     "execution_count": 97,
     "metadata": {},
     "output_type": "execute_result"
    }
   ],
   "source": [
    "pd.DataFrame(results)"
   ]
  },
  {
   "cell_type": "markdown",
   "id": "e803a232",
   "metadata": {},
   "source": [
    "# Confussion Matrix"
   ]
  },
  {
   "cell_type": "markdown",
   "id": "b0253d5a",
   "metadata": {},
   "source": [
    "## Logistic Regression "
   ]
  },
  {
   "cell_type": "code",
   "execution_count": 99,
   "id": "e4860938",
   "metadata": {},
   "outputs": [
    {
     "data": {
      "text/plain": [
       "array([[ 685,  280,    2,    3],\n",
       "       [ 149, 4841,   88,   74],\n",
       "       [  27,  865,  158,  217],\n",
       "       [   0,  265,   93,  666]], dtype=int64)"
      ]
     },
     "execution_count": 99,
     "metadata": {},
     "output_type": "execute_result"
    }
   ],
   "source": [
    "results['matrix'][0]"
   ]
  },
  {
   "cell_type": "markdown",
   "id": "c7cc99b4",
   "metadata": {},
   "source": [
    "# Random Forest"
   ]
  },
  {
   "cell_type": "code",
   "execution_count": 103,
   "id": "844fbad4",
   "metadata": {},
   "outputs": [
    {
     "data": {
      "text/plain": [
       "array([[ 704,  266,    0,    0],\n",
       "       [ 133, 4802,  170,   47],\n",
       "       [  30,  754,  269,  214],\n",
       "       [   2,  154,  145,  723]], dtype=int64)"
      ]
     },
     "execution_count": 103,
     "metadata": {},
     "output_type": "execute_result"
    }
   ],
   "source": [
    "results['matrix'][1]"
   ]
  },
  {
   "cell_type": "markdown",
   "id": "15000146",
   "metadata": {},
   "source": [
    "# Desession Tree"
   ]
  },
  {
   "cell_type": "code",
   "execution_count": 104,
   "id": "88e330dc",
   "metadata": {},
   "outputs": [
    {
     "data": {
      "text/plain": [
       "array([[ 678,  245,   46,    1],\n",
       "       [ 264, 4126,  638,  124],\n",
       "       [  31,  527,  447,  262],\n",
       "       [   2,  117,  235,  670]], dtype=int64)"
      ]
     },
     "execution_count": 104,
     "metadata": {},
     "output_type": "execute_result"
    }
   ],
   "source": [
    "results['matrix'][2]"
   ]
  },
  {
   "cell_type": "markdown",
   "id": "3c35a5c4",
   "metadata": {},
   "source": [
    "# XgBoost"
   ]
  },
  {
   "cell_type": "code",
   "execution_count": 105,
   "id": "645bf7c6",
   "metadata": {},
   "outputs": [
    {
     "data": {
      "text/plain": [
       "array([[ 765,  205,    0,    0],\n",
       "       [ 148, 4697,  260,   47],\n",
       "       [  31,  633,  392,  211],\n",
       "       [   0,   79,  194,  751]], dtype=int64)"
      ]
     },
     "execution_count": 105,
     "metadata": {},
     "output_type": "execute_result"
    }
   ],
   "source": [
    "results['matrix'][3]"
   ]
  },
  {
   "cell_type": "markdown",
   "id": "3f012048",
   "metadata": {},
   "source": [
    "# Conclussion\n",
    "- We see that `Xgboost` give better result with `accuracy score` of `78` now we can fine tune them"
   ]
  },
  {
   "cell_type": "code",
   "execution_count": 128,
   "id": "d1ecdb03",
   "metadata": {},
   "outputs": [
    {
     "data": {
      "text/plain": [
       "0     970\n",
       "1    5152\n",
       "2    1267\n",
       "3    1024\n",
       "Name: count, dtype: int64"
      ]
     },
     "execution_count": 128,
     "metadata": {},
     "output_type": "execute_result"
    }
   ],
   "source": [
    "pd.Series(y_test).value_counts().sort_index()"
   ]
  },
  {
   "cell_type": "markdown",
   "id": "a8f79ba9",
   "metadata": {},
   "source": [
    "# Hyper Parameter Tunning"
   ]
  },
  {
   "cell_type": "code",
   "execution_count": 129,
   "id": "c7b8bfeb",
   "metadata": {},
   "outputs": [],
   "source": [
    "from sklearn.model_selection import GridSearchCV"
   ]
  },
  {
   "cell_type": "code",
   "execution_count": 145,
   "id": "94976ffb",
   "metadata": {},
   "outputs": [],
   "source": [
    "param_grid = {\n",
    "    'model__model__colsample_bytree': [0.1, 0.3, 0.5, 0.7, 0.9],\n",
    "    'model__model__learning_rate': [0.001, 0.01, 0.1, 1],\n",
    "    'model__model__max_depth': [3, 5, 8, 10],\n",
    "    'model__model__n_estimators': [10, 50, 100]\n",
    "}"
   ]
  },
  {
   "cell_type": "code",
   "execution_count": 146,
   "id": "5ea04444",
   "metadata": {},
   "outputs": [],
   "source": [
    "xgb_boost=XGBClassifier()\n",
    "pipeline=Pipeline(steps=[\n",
    "    (\"process\",transformer),\n",
    "    ('model',xgb_boost)\n",
    "])"
   ]
  },
  {
   "cell_type": "code",
   "execution_count": 149,
   "id": "f6e76d3d",
   "metadata": {},
   "outputs": [
    {
     "data": {
      "text/html": [
       "<style>#sk-container-id-8 {color: black;}#sk-container-id-8 pre{padding: 0;}#sk-container-id-8 div.sk-toggleable {background-color: white;}#sk-container-id-8 label.sk-toggleable__label {cursor: pointer;display: block;width: 100%;margin-bottom: 0;padding: 0.3em;box-sizing: border-box;text-align: center;}#sk-container-id-8 label.sk-toggleable__label-arrow:before {content: \"▸\";float: left;margin-right: 0.25em;color: #696969;}#sk-container-id-8 label.sk-toggleable__label-arrow:hover:before {color: black;}#sk-container-id-8 div.sk-estimator:hover label.sk-toggleable__label-arrow:before {color: black;}#sk-container-id-8 div.sk-toggleable__content {max-height: 0;max-width: 0;overflow: hidden;text-align: left;background-color: #f0f8ff;}#sk-container-id-8 div.sk-toggleable__content pre {margin: 0.2em;color: black;border-radius: 0.25em;background-color: #f0f8ff;}#sk-container-id-8 input.sk-toggleable__control:checked~div.sk-toggleable__content {max-height: 200px;max-width: 100%;overflow: auto;}#sk-container-id-8 input.sk-toggleable__control:checked~label.sk-toggleable__label-arrow:before {content: \"▾\";}#sk-container-id-8 div.sk-estimator input.sk-toggleable__control:checked~label.sk-toggleable__label {background-color: #d4ebff;}#sk-container-id-8 div.sk-label input.sk-toggleable__control:checked~label.sk-toggleable__label {background-color: #d4ebff;}#sk-container-id-8 input.sk-hidden--visually {border: 0;clip: rect(1px 1px 1px 1px);clip: rect(1px, 1px, 1px, 1px);height: 1px;margin: -1px;overflow: hidden;padding: 0;position: absolute;width: 1px;}#sk-container-id-8 div.sk-estimator {font-family: monospace;background-color: #f0f8ff;border: 1px dotted black;border-radius: 0.25em;box-sizing: border-box;margin-bottom: 0.5em;}#sk-container-id-8 div.sk-estimator:hover {background-color: #d4ebff;}#sk-container-id-8 div.sk-parallel-item::after {content: \"\";width: 100%;border-bottom: 1px solid gray;flex-grow: 1;}#sk-container-id-8 div.sk-label:hover label.sk-toggleable__label {background-color: #d4ebff;}#sk-container-id-8 div.sk-serial::before {content: \"\";position: absolute;border-left: 1px solid gray;box-sizing: border-box;top: 0;bottom: 0;left: 50%;z-index: 0;}#sk-container-id-8 div.sk-serial {display: flex;flex-direction: column;align-items: center;background-color: white;padding-right: 0.2em;padding-left: 0.2em;position: relative;}#sk-container-id-8 div.sk-item {position: relative;z-index: 1;}#sk-container-id-8 div.sk-parallel {display: flex;align-items: stretch;justify-content: center;background-color: white;position: relative;}#sk-container-id-8 div.sk-item::before, #sk-container-id-8 div.sk-parallel-item::before {content: \"\";position: absolute;border-left: 1px solid gray;box-sizing: border-box;top: 0;bottom: 0;left: 50%;z-index: -1;}#sk-container-id-8 div.sk-parallel-item {display: flex;flex-direction: column;z-index: 1;position: relative;background-color: white;}#sk-container-id-8 div.sk-parallel-item:first-child::after {align-self: flex-end;width: 50%;}#sk-container-id-8 div.sk-parallel-item:last-child::after {align-self: flex-start;width: 50%;}#sk-container-id-8 div.sk-parallel-item:only-child::after {width: 0;}#sk-container-id-8 div.sk-dashed-wrapped {border: 1px dashed gray;margin: 0 0.4em 0.5em 0.4em;box-sizing: border-box;padding-bottom: 0.4em;background-color: white;}#sk-container-id-8 div.sk-label label {font-family: monospace;font-weight: bold;display: inline-block;line-height: 1.2em;}#sk-container-id-8 div.sk-label-container {text-align: center;}#sk-container-id-8 div.sk-container {/* jupyter's `normalize.less` sets `[hidden] { display: none; }` but bootstrap.min.css set `[hidden] { display: none !important; }` so we also need the `!important` here to be able to override the default hidden behavior on the sphinx rendered scikit-learn.org. See: https://github.com/scikit-learn/scikit-learn/issues/21755 */display: inline-block !important;position: relative;}#sk-container-id-8 div.sk-text-repr-fallback {display: none;}</style><div id=\"sk-container-id-8\" class=\"sk-top-container\"><div class=\"sk-text-repr-fallback\"><pre>GridSearchCV(cv=5,\n",
       "             estimator=Pipeline(steps=[(&#x27;process&#x27;,\n",
       "                                        ColumnTransformer(remainder=&#x27;passthrough&#x27;,\n",
       "                                                          transformers=[(&#x27;num_transformer&#x27;,\n",
       "                                                                         Pipeline(steps=[(&#x27;impute&#x27;,\n",
       "                                                                                          SimpleImputer(strategy=&#x27;median&#x27;)),\n",
       "                                                                                         (&#x27;scale&#x27;,\n",
       "                                                                                          StandardScaler())]),\n",
       "                                                                         Index([&#x27;PROSPECTID&#x27;, &#x27;pct_tl_open_L6M&#x27;, &#x27;pct_tl_closed_L6M&#x27;,\n",
       "       &#x27;Tot_TL_closed_L12M&#x27;, &#x27;pct_tl_closed_L12M&#x27;, &#x27;Tot_Missed_Pmnt&#x27;, &#x27;CC_TL&#x27;,\n",
       "       &#x27;Home...\n",
       "                                                      missing=nan,\n",
       "                                                      monotone_constraints=None,\n",
       "                                                      multi_strategy=None,\n",
       "                                                      n_estimators=None,\n",
       "                                                      n_jobs=None,\n",
       "                                                      num_parallel_tree=None,\n",
       "                                                      random_state=None, ...))]),\n",
       "             n_jobs=-1,\n",
       "             param_grid={&#x27;model__model__colsample_bytree&#x27;: [0.1, 0.3, 0.5, 0.7,\n",
       "                                                            0.9],\n",
       "                         &#x27;model__model__learning_rate&#x27;: [0.001, 0.01, 0.1, 1],\n",
       "                         &#x27;model__model__max_depth&#x27;: [3, 5, 8, 10],\n",
       "                         &#x27;model__model__n_estimators&#x27;: [10, 50, 100]},\n",
       "             scoring=&#x27;accuracy&#x27;)</pre><b>In a Jupyter environment, please rerun this cell to show the HTML representation or trust the notebook. <br />On GitHub, the HTML representation is unable to render, please try loading this page with nbviewer.org.</b></div><div class=\"sk-container\" hidden><div class=\"sk-item sk-dashed-wrapped\"><div class=\"sk-label-container\"><div class=\"sk-label sk-toggleable\"><input class=\"sk-toggleable__control sk-hidden--visually\" id=\"sk-estimator-id-37\" type=\"checkbox\" ><label for=\"sk-estimator-id-37\" class=\"sk-toggleable__label sk-toggleable__label-arrow\">GridSearchCV</label><div class=\"sk-toggleable__content\"><pre>GridSearchCV(cv=5,\n",
       "             estimator=Pipeline(steps=[(&#x27;process&#x27;,\n",
       "                                        ColumnTransformer(remainder=&#x27;passthrough&#x27;,\n",
       "                                                          transformers=[(&#x27;num_transformer&#x27;,\n",
       "                                                                         Pipeline(steps=[(&#x27;impute&#x27;,\n",
       "                                                                                          SimpleImputer(strategy=&#x27;median&#x27;)),\n",
       "                                                                                         (&#x27;scale&#x27;,\n",
       "                                                                                          StandardScaler())]),\n",
       "                                                                         Index([&#x27;PROSPECTID&#x27;, &#x27;pct_tl_open_L6M&#x27;, &#x27;pct_tl_closed_L6M&#x27;,\n",
       "       &#x27;Tot_TL_closed_L12M&#x27;, &#x27;pct_tl_closed_L12M&#x27;, &#x27;Tot_Missed_Pmnt&#x27;, &#x27;CC_TL&#x27;,\n",
       "       &#x27;Home...\n",
       "                                                      missing=nan,\n",
       "                                                      monotone_constraints=None,\n",
       "                                                      multi_strategy=None,\n",
       "                                                      n_estimators=None,\n",
       "                                                      n_jobs=None,\n",
       "                                                      num_parallel_tree=None,\n",
       "                                                      random_state=None, ...))]),\n",
       "             n_jobs=-1,\n",
       "             param_grid={&#x27;model__model__colsample_bytree&#x27;: [0.1, 0.3, 0.5, 0.7,\n",
       "                                                            0.9],\n",
       "                         &#x27;model__model__learning_rate&#x27;: [0.001, 0.01, 0.1, 1],\n",
       "                         &#x27;model__model__max_depth&#x27;: [3, 5, 8, 10],\n",
       "                         &#x27;model__model__n_estimators&#x27;: [10, 50, 100]},\n",
       "             scoring=&#x27;accuracy&#x27;)</pre></div></div></div><div class=\"sk-parallel\"><div class=\"sk-parallel-item\"><div class=\"sk-item\"><div class=\"sk-label-container\"><div class=\"sk-label sk-toggleable\"><input class=\"sk-toggleable__control sk-hidden--visually\" id=\"sk-estimator-id-38\" type=\"checkbox\" ><label for=\"sk-estimator-id-38\" class=\"sk-toggleable__label sk-toggleable__label-arrow\">estimator: Pipeline</label><div class=\"sk-toggleable__content\"><pre>Pipeline(steps=[(&#x27;process&#x27;,\n",
       "                 ColumnTransformer(remainder=&#x27;passthrough&#x27;,\n",
       "                                   transformers=[(&#x27;num_transformer&#x27;,\n",
       "                                                  Pipeline(steps=[(&#x27;impute&#x27;,\n",
       "                                                                   SimpleImputer(strategy=&#x27;median&#x27;)),\n",
       "                                                                  (&#x27;scale&#x27;,\n",
       "                                                                   StandardScaler())]),\n",
       "                                                  Index([&#x27;PROSPECTID&#x27;, &#x27;pct_tl_open_L6M&#x27;, &#x27;pct_tl_closed_L6M&#x27;,\n",
       "       &#x27;Tot_TL_closed_L12M&#x27;, &#x27;pct_tl_closed_L12M&#x27;, &#x27;Tot_Missed_Pmnt&#x27;, &#x27;CC_TL&#x27;,\n",
       "       &#x27;Home_TL&#x27;, &#x27;PL_TL&#x27;, &#x27;Secured_TL&#x27;, &#x27;U...\n",
       "                               feature_types=None, gamma=None, grow_policy=None,\n",
       "                               importance_type=None,\n",
       "                               interaction_constraints=None, learning_rate=None,\n",
       "                               max_bin=None, max_cat_threshold=None,\n",
       "                               max_cat_to_onehot=None, max_delta_step=None,\n",
       "                               max_depth=None, max_leaves=None,\n",
       "                               min_child_weight=None, missing=nan,\n",
       "                               monotone_constraints=None, multi_strategy=None,\n",
       "                               n_estimators=None, n_jobs=None,\n",
       "                               num_parallel_tree=None, random_state=None, ...))])</pre></div></div></div><div class=\"sk-serial\"><div class=\"sk-item\"><div class=\"sk-serial\"><div class=\"sk-item sk-dashed-wrapped\"><div class=\"sk-label-container\"><div class=\"sk-label sk-toggleable\"><input class=\"sk-toggleable__control sk-hidden--visually\" id=\"sk-estimator-id-39\" type=\"checkbox\" ><label for=\"sk-estimator-id-39\" class=\"sk-toggleable__label sk-toggleable__label-arrow\">process: ColumnTransformer</label><div class=\"sk-toggleable__content\"><pre>ColumnTransformer(remainder=&#x27;passthrough&#x27;,\n",
       "                  transformers=[(&#x27;num_transformer&#x27;,\n",
       "                                 Pipeline(steps=[(&#x27;impute&#x27;,\n",
       "                                                  SimpleImputer(strategy=&#x27;median&#x27;)),\n",
       "                                                 (&#x27;scale&#x27;, StandardScaler())]),\n",
       "                                 Index([&#x27;PROSPECTID&#x27;, &#x27;pct_tl_open_L6M&#x27;, &#x27;pct_tl_closed_L6M&#x27;,\n",
       "       &#x27;Tot_TL_closed_L12M&#x27;, &#x27;pct_tl_closed_L12M&#x27;, &#x27;Tot_Missed_Pmnt&#x27;, &#x27;CC_TL&#x27;,\n",
       "       &#x27;Home_TL&#x27;, &#x27;PL_TL&#x27;, &#x27;Secured_TL&#x27;, &#x27;Unsecured_TL&#x27;, &#x27;Other_TL&#x27;,\n",
       "       &#x27;Ag...\n",
       "       &#x27;Time_With_Curr_Empr&#x27;, &#x27;CC_Flag&#x27;, &#x27;PL_Flag&#x27;, &#x27;pct_PL_enq_L6m_of_ever&#x27;,\n",
       "       &#x27;pct_CC_enq_L6m_of_ever&#x27;, &#x27;HL_Flag&#x27;, &#x27;GL_Flag&#x27;],\n",
       "      dtype=&#x27;object&#x27;)),\n",
       "                                (&#x27;Encode&#x27;,\n",
       "                                 Pipeline(steps=[(&#x27;impute&#x27;,\n",
       "                                                  SimpleImputer(strategy=&#x27;most_frequent&#x27;)),\n",
       "                                                 (&#x27;Encode&#x27;,\n",
       "                                                  OneHotEncoder(drop=&#x27;first&#x27;,\n",
       "                                                                handle_unknown=&#x27;ignore&#x27;,\n",
       "                                                                sparse=False))]),\n",
       "                                 Index([&#x27;MARITALSTATUS&#x27;, &#x27;EDUCATION&#x27;, &#x27;GENDER&#x27;, &#x27;last_prod_enq2&#x27;,\n",
       "       &#x27;first_prod_enq2&#x27;],\n",
       "      dtype=&#x27;object&#x27;))])</pre></div></div></div><div class=\"sk-parallel\"><div class=\"sk-parallel-item\"><div class=\"sk-item\"><div class=\"sk-label-container\"><div class=\"sk-label sk-toggleable\"><input class=\"sk-toggleable__control sk-hidden--visually\" id=\"sk-estimator-id-40\" type=\"checkbox\" ><label for=\"sk-estimator-id-40\" class=\"sk-toggleable__label sk-toggleable__label-arrow\">num_transformer</label><div class=\"sk-toggleable__content\"><pre>Index([&#x27;PROSPECTID&#x27;, &#x27;pct_tl_open_L6M&#x27;, &#x27;pct_tl_closed_L6M&#x27;,\n",
       "       &#x27;Tot_TL_closed_L12M&#x27;, &#x27;pct_tl_closed_L12M&#x27;, &#x27;Tot_Missed_Pmnt&#x27;, &#x27;CC_TL&#x27;,\n",
       "       &#x27;Home_TL&#x27;, &#x27;PL_TL&#x27;, &#x27;Secured_TL&#x27;, &#x27;Unsecured_TL&#x27;, &#x27;Other_TL&#x27;,\n",
       "       &#x27;Age_Oldest_TL&#x27;, &#x27;Age_Newest_TL&#x27;, &#x27;time_since_recent_payment&#x27;,\n",
       "       &#x27;max_recent_level_of_deliq&#x27;, &#x27;num_deliq_6_12mts&#x27;, &#x27;num_times_60p_dpd&#x27;,\n",
       "       &#x27;num_std_12mts&#x27;, &#x27;num_sub&#x27;, &#x27;num_sub_6mts&#x27;, &#x27;num_sub_12mts&#x27;, &#x27;num_dbt&#x27;,\n",
       "       &#x27;num_dbt_12mts&#x27;, &#x27;num_lss&#x27;, &#x27;recent_level_of_deliq&#x27;, &#x27;CC_enq_L12m&#x27;,\n",
       "       &#x27;PL_enq_L12m&#x27;, &#x27;time_since_recent_enq&#x27;, &#x27;enq_L3m&#x27;, &#x27;NETMONTHLYINCOME&#x27;,\n",
       "       &#x27;Time_With_Curr_Empr&#x27;, &#x27;CC_Flag&#x27;, &#x27;PL_Flag&#x27;, &#x27;pct_PL_enq_L6m_of_ever&#x27;,\n",
       "       &#x27;pct_CC_enq_L6m_of_ever&#x27;, &#x27;HL_Flag&#x27;, &#x27;GL_Flag&#x27;],\n",
       "      dtype=&#x27;object&#x27;)</pre></div></div></div><div class=\"sk-serial\"><div class=\"sk-item\"><div class=\"sk-serial\"><div class=\"sk-item\"><div class=\"sk-estimator sk-toggleable\"><input class=\"sk-toggleable__control sk-hidden--visually\" id=\"sk-estimator-id-41\" type=\"checkbox\" ><label for=\"sk-estimator-id-41\" class=\"sk-toggleable__label sk-toggleable__label-arrow\">SimpleImputer</label><div class=\"sk-toggleable__content\"><pre>SimpleImputer(strategy=&#x27;median&#x27;)</pre></div></div></div><div class=\"sk-item\"><div class=\"sk-estimator sk-toggleable\"><input class=\"sk-toggleable__control sk-hidden--visually\" id=\"sk-estimator-id-42\" type=\"checkbox\" ><label for=\"sk-estimator-id-42\" class=\"sk-toggleable__label sk-toggleable__label-arrow\">StandardScaler</label><div class=\"sk-toggleable__content\"><pre>StandardScaler()</pre></div></div></div></div></div></div></div></div><div class=\"sk-parallel-item\"><div class=\"sk-item\"><div class=\"sk-label-container\"><div class=\"sk-label sk-toggleable\"><input class=\"sk-toggleable__control sk-hidden--visually\" id=\"sk-estimator-id-43\" type=\"checkbox\" ><label for=\"sk-estimator-id-43\" class=\"sk-toggleable__label sk-toggleable__label-arrow\">Encode</label><div class=\"sk-toggleable__content\"><pre>Index([&#x27;MARITALSTATUS&#x27;, &#x27;EDUCATION&#x27;, &#x27;GENDER&#x27;, &#x27;last_prod_enq2&#x27;,\n",
       "       &#x27;first_prod_enq2&#x27;],\n",
       "      dtype=&#x27;object&#x27;)</pre></div></div></div><div class=\"sk-serial\"><div class=\"sk-item\"><div class=\"sk-serial\"><div class=\"sk-item\"><div class=\"sk-estimator sk-toggleable\"><input class=\"sk-toggleable__control sk-hidden--visually\" id=\"sk-estimator-id-44\" type=\"checkbox\" ><label for=\"sk-estimator-id-44\" class=\"sk-toggleable__label sk-toggleable__label-arrow\">SimpleImputer</label><div class=\"sk-toggleable__content\"><pre>SimpleImputer(strategy=&#x27;most_frequent&#x27;)</pre></div></div></div><div class=\"sk-item\"><div class=\"sk-estimator sk-toggleable\"><input class=\"sk-toggleable__control sk-hidden--visually\" id=\"sk-estimator-id-45\" type=\"checkbox\" ><label for=\"sk-estimator-id-45\" class=\"sk-toggleable__label sk-toggleable__label-arrow\">OneHotEncoder</label><div class=\"sk-toggleable__content\"><pre>OneHotEncoder(drop=&#x27;first&#x27;, handle_unknown=&#x27;ignore&#x27;, sparse=False)</pre></div></div></div></div></div></div></div></div><div class=\"sk-parallel-item\"><div class=\"sk-item\"><div class=\"sk-label-container\"><div class=\"sk-label sk-toggleable\"><input class=\"sk-toggleable__control sk-hidden--visually\" id=\"sk-estimator-id-46\" type=\"checkbox\" ><label for=\"sk-estimator-id-46\" class=\"sk-toggleable__label sk-toggleable__label-arrow\">remainder</label><div class=\"sk-toggleable__content\"><pre>[]</pre></div></div></div><div class=\"sk-serial\"><div class=\"sk-item\"><div class=\"sk-estimator sk-toggleable\"><input class=\"sk-toggleable__control sk-hidden--visually\" id=\"sk-estimator-id-47\" type=\"checkbox\" ><label for=\"sk-estimator-id-47\" class=\"sk-toggleable__label sk-toggleable__label-arrow\">passthrough</label><div class=\"sk-toggleable__content\"><pre>passthrough</pre></div></div></div></div></div></div></div></div><div class=\"sk-item\"><div class=\"sk-estimator sk-toggleable\"><input class=\"sk-toggleable__control sk-hidden--visually\" id=\"sk-estimator-id-48\" type=\"checkbox\" ><label for=\"sk-estimator-id-48\" class=\"sk-toggleable__label sk-toggleable__label-arrow\">XGBClassifier</label><div class=\"sk-toggleable__content\"><pre>XGBClassifier(base_score=None, booster=None, callbacks=None,\n",
       "              colsample_bylevel=None, colsample_bynode=None,\n",
       "              colsample_bytree=None, device=None, early_stopping_rounds=None,\n",
       "              enable_categorical=False, eval_metric=None, feature_types=None,\n",
       "              gamma=None, grow_policy=None, importance_type=None,\n",
       "              interaction_constraints=None, learning_rate=None, max_bin=None,\n",
       "              max_cat_threshold=None, max_cat_to_onehot=None,\n",
       "              max_delta_step=None, max_depth=None, max_leaves=None,\n",
       "              min_child_weight=None, missing=nan, monotone_constraints=None,\n",
       "              multi_strategy=None, n_estimators=None, n_jobs=None,\n",
       "              num_parallel_tree=None, random_state=None, ...)</pre></div></div></div></div></div></div></div></div></div></div></div></div>"
      ],
      "text/plain": [
       "GridSearchCV(cv=5,\n",
       "             estimator=Pipeline(steps=[('process',\n",
       "                                        ColumnTransformer(remainder='passthrough',\n",
       "                                                          transformers=[('num_transformer',\n",
       "                                                                         Pipeline(steps=[('impute',\n",
       "                                                                                          SimpleImputer(strategy='median')),\n",
       "                                                                                         ('scale',\n",
       "                                                                                          StandardScaler())]),\n",
       "                                                                         Index(['PROSPECTID', 'pct_tl_open_L6M', 'pct_tl_closed_L6M',\n",
       "       'Tot_TL_closed_L12M', 'pct_tl_closed_L12M', 'Tot_Missed_Pmnt', 'CC_TL',\n",
       "       'Home...\n",
       "                                                      missing=nan,\n",
       "                                                      monotone_constraints=None,\n",
       "                                                      multi_strategy=None,\n",
       "                                                      n_estimators=None,\n",
       "                                                      n_jobs=None,\n",
       "                                                      num_parallel_tree=None,\n",
       "                                                      random_state=None, ...))]),\n",
       "             n_jobs=-1,\n",
       "             param_grid={'model__model__colsample_bytree': [0.1, 0.3, 0.5, 0.7,\n",
       "                                                            0.9],\n",
       "                         'model__model__learning_rate': [0.001, 0.01, 0.1, 1],\n",
       "                         'model__model__max_depth': [3, 5, 8, 10],\n",
       "                         'model__model__n_estimators': [10, 50, 100]},\n",
       "             scoring='accuracy')"
      ]
     },
     "execution_count": 149,
     "metadata": {},
     "output_type": "execute_result"
    }
   ],
   "source": [
    "grid_search=GridSearchCV(pipeline,param_grid=param_grid,scoring='accuracy',n_jobs=-1,cv=5)\n",
    "grid_search.fit(x_train,y_train)"
   ]
  },
  {
   "cell_type": "code",
   "execution_count": 150,
   "id": "b2c533db",
   "metadata": {},
   "outputs": [
    {
     "data": {
      "text/plain": [
       "{'model__model__colsample_bytree': 0.1,\n",
       " 'model__model__learning_rate': 0.001,\n",
       " 'model__model__max_depth': 3,\n",
       " 'model__model__n_estimators': 10}"
      ]
     },
     "execution_count": 150,
     "metadata": {},
     "output_type": "execute_result"
    }
   ],
   "source": [
    "grid_search.best_params_"
   ]
  },
  {
   "cell_type": "code",
   "execution_count": 152,
   "id": "0a4e8a84",
   "metadata": {},
   "outputs": [
    {
     "data": {
      "text/plain": [
       "array([1, 2, 1, ..., 3, 1, 1], dtype=int64)"
      ]
     },
     "execution_count": 152,
     "metadata": {},
     "output_type": "execute_result"
    }
   ],
   "source": [
    "pre=grid_search.predict(x_test)\n",
    "pre"
   ]
  },
  {
   "cell_type": "markdown",
   "id": "a04e9037",
   "metadata": {},
   "source": [
    "# Check accuracy again"
   ]
  },
  {
   "cell_type": "code",
   "execution_count": 153,
   "id": "8978c068",
   "metadata": {},
   "outputs": [
    {
     "data": {
      "text/plain": [
       "0.7850944966123856"
      ]
     },
     "execution_count": 153,
     "metadata": {},
     "output_type": "execute_result"
    }
   ],
   "source": [
    "accuracy_score(y_test,pre)"
   ]
  },
  {
   "cell_type": "markdown",
   "id": "b6bff8df",
   "metadata": {},
   "source": [
    "# confussion Matrix"
   ]
  },
  {
   "cell_type": "code",
   "execution_count": 159,
   "id": "d79cbe8b",
   "metadata": {},
   "outputs": [
    {
     "data": {
      "text/plain": [
       "array([[ 765,  205,    0,    0],\n",
       "       [ 148, 4697,  260,   47],\n",
       "       [  31,  633,  392,  211],\n",
       "       [   0,   79,  194,  751]], dtype=int64)"
      ]
     },
     "execution_count": 159,
     "metadata": {},
     "output_type": "execute_result"
    }
   ],
   "source": [
    "confusion_matrix(y_test,pre)"
   ]
  },
  {
   "cell_type": "markdown",
   "id": "bcb7d149",
   "metadata": {},
   "source": [
    "# Corss Validation"
   ]
  },
  {
   "cell_type": "code",
   "execution_count": 161,
   "id": "108de7ab",
   "metadata": {},
   "outputs": [],
   "source": [
    "train_score=cross_val_score(pipeline,x_train,y_train,cv=5,scoring='accuracy').mean()\n",
    "test_score=cross_val_score(pipeline,x_test,y_test,cv=5,scoring='accuracy').mean()"
   ]
  },
  {
   "cell_type": "code",
   "execution_count": 162,
   "id": "4bbfaaf2",
   "metadata": {},
   "outputs": [
    {
     "name": "stdout",
     "output_type": "stream",
     "text": [
      "Train score is:  0.7754301083695385\n",
      "Test Score is:  0.7669086472192019\n"
     ]
    }
   ],
   "source": [
    "print(\"Train score is: \",train_score)\n",
    "print(\"Test Score is: \",test_score)"
   ]
  },
  {
   "cell_type": "code",
   "execution_count": null,
   "id": "3cbef210",
   "metadata": {},
   "outputs": [],
   "source": []
  }
 ],
 "metadata": {
  "kernelspec": {
   "display_name": "Python 3 (ipykernel)",
   "language": "python",
   "name": "python3"
  },
  "language_info": {
   "codemirror_mode": {
    "name": "ipython",
    "version": 3
   },
   "file_extension": ".py",
   "mimetype": "text/x-python",
   "name": "python",
   "nbconvert_exporter": "python",
   "pygments_lexer": "ipython3",
   "version": "3.11.5"
  }
 },
 "nbformat": 4,
 "nbformat_minor": 5
}
