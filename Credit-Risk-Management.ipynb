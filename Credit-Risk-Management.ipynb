{
 "cells": [
  {
   "cell_type": "markdown",
   "id": "ca771bbd",
   "metadata": {},
   "source": [
    "# Problem Statement\n",
    "1. **This Dataset Contain the information about the bank customer that will take loan.**\n",
    "2. **Our goal is build a model that will detect weather the customer is eligible for loan or not**"
   ]
  },
  {
   "cell_type": "code",
   "execution_count": null,
   "id": "fc80f388",
   "metadata": {},
   "outputs": [],
   "source": []
  },
  {
   "cell_type": "markdown",
   "id": "cfb563af",
   "metadata": {},
   "source": [
    "# Import Packages"
   ]
  },
  {
   "cell_type": "code",
   "execution_count": 1,
   "id": "a1deccca",
   "metadata": {},
   "outputs": [],
   "source": [
    "import pandas as pd\n",
    "import numpy as np\n",
    "import matplotlib.pyplot as plt\n",
    "import seaborn as sns\n",
    "import os\n",
    "import warnings\n",
    "warnings.filterwarnings('ignore')"
   ]
  },
  {
   "cell_type": "markdown",
   "id": "53ef2868",
   "metadata": {},
   "source": [
    "# Read Data\n",
    "1. Data is place another folder now find the path and read data."
   ]
  },
  {
   "cell_type": "code",
   "execution_count": 12,
   "id": "a5e60021",
   "metadata": {},
   "outputs": [
    {
     "name": "stdout",
     "output_type": "stream",
     "text": [
      "C:\\Users\\Laptop House\\Weekly Task\\CreditRisk\\Data\\case_study1.xlsx\n",
      "C:\\Users\\Laptop House\\Weekly Task\\CreditRisk\\Data\\case_study2.xlsx\n"
     ]
    }
   ],
   "source": [
    "file_path=[]\n",
    "for i in os.listdir(\"Data\"):\n",
    "    file_path.append(f\"{os.path.join(os.getcwd())}\\Data\\{i}\")\n",
    "    print(f\"{os.path.join(os.getcwd())}\\Data\\{i}\")"
   ]
  },
  {
   "cell_type": "code",
   "execution_count": 15,
   "id": "4a438151",
   "metadata": {},
   "outputs": [],
   "source": [
    "df1=pd.read_excel(file_path[0])\n",
    "df2=pd.read_excel(file_path[1])"
   ]
  },
  {
   "cell_type": "code",
   "execution_count": null,
   "id": "b1dc4b4e",
   "metadata": {},
   "outputs": [],
   "source": []
  },
  {
   "cell_type": "code",
   "execution_count": null,
   "id": "d48ef82d",
   "metadata": {},
   "outputs": [],
   "source": []
  },
  {
   "cell_type": "code",
   "execution_count": null,
   "id": "46ba810d",
   "metadata": {},
   "outputs": [],
   "source": []
  },
  {
   "cell_type": "code",
   "execution_count": null,
   "id": "63b58963",
   "metadata": {},
   "outputs": [],
   "source": []
  }
 ],
 "metadata": {
  "kernelspec": {
   "display_name": "Python 3 (ipykernel)",
   "language": "python",
   "name": "python3"
  },
  "language_info": {
   "codemirror_mode": {
    "name": "ipython",
    "version": 3
   },
   "file_extension": ".py",
   "mimetype": "text/x-python",
   "name": "python",
   "nbconvert_exporter": "python",
   "pygments_lexer": "ipython3",
   "version": "3.11.5"
  }
 },
 "nbformat": 4,
 "nbformat_minor": 5
}
