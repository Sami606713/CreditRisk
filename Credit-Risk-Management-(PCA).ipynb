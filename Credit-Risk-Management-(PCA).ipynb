{
 "cells": [
  {
   "cell_type": "markdown",
   "id": "5d19682c",
   "metadata": {},
   "source": [
    "# Problem Statement\n",
    "- This Dataset Contain the information about the bank customer that will take loan.\n",
    "- Our goal is build a model that will detect weather the customer is eligible for loan or not.\n",
    "- Data should be present in 2 different files.\n",
    "- Both conatin same data about bank.\n",
    "- Both files also contain `-99999` values.\n",
    "- `-99999` are the missing values."
   ]
  },
  {
   "cell_type": "code",
   "execution_count": null,
   "id": "a90e0588",
   "metadata": {},
   "outputs": [],
   "source": []
  },
  {
   "cell_type": "markdown",
   "id": "ed1157f7",
   "metadata": {},
   "source": [
    "# Import Packages"
   ]
  },
  {
   "cell_type": "code",
   "execution_count": 1,
   "id": "c4433099",
   "metadata": {},
   "outputs": [],
   "source": [
    "import pandas as pd\n",
    "import numpy as np\n",
    "import matplotlib.pyplot as plt\n",
    "import seaborn as sns\n",
    "import os\n",
    "import warnings\n",
    "warnings.filterwarnings('ignore')"
   ]
  },
  {
   "cell_type": "markdown",
   "id": "1b97cdbe",
   "metadata": {},
   "source": [
    "# Read Data\n",
    "1. Data is place another folder now find the path and read data."
   ]
  },
  {
   "cell_type": "code",
   "execution_count": 2,
   "id": "a60bb0d3",
   "metadata": {},
   "outputs": [
    {
     "name": "stdout",
     "output_type": "stream",
     "text": [
      "C:\\Users\\Laptop House\\Weekly Task\\CreditRisk\\Data\\case_study1.xlsx\n",
      "C:\\Users\\Laptop House\\Weekly Task\\CreditRisk\\Data\\case_study2.xlsx\n"
     ]
    }
   ],
   "source": [
    "file_path=[]\n",
    "for i in os.listdir(\"Data\"):\n",
    "    file_path.append(f\"{os.path.join(os.getcwd())}\\Data\\{i}\")\n",
    "    print(f\"{os.path.join(os.getcwd())}\\Data\\{i}\")"
   ]
  },
  {
   "cell_type": "code",
   "execution_count": 3,
   "id": "2f1253ae",
   "metadata": {},
   "outputs": [],
   "source": [
    "df1=pd.read_excel(file_path[0])\n",
    "df2=pd.read_excel(file_path[1])"
   ]
  },
  {
   "cell_type": "markdown",
   "id": "d4f41c30",
   "metadata": {},
   "source": [
    "# Data Preprocessing\n",
    "1. Top records\n",
    "2. Shape of data\n",
    "3. Check columns\n",
    "4. Merge based on `common column`\n",
    "5. Check Datatyes\n",
    "6. Null values\n",
    "7. Duplicates\n",
    "8. Unique Values\n",
    "9. Statistical Summary"
   ]
  },
  {
   "cell_type": "markdown",
   "id": "792964ea",
   "metadata": {},
   "source": [
    "# 1.Top Records"
   ]
  },
  {
   "cell_type": "code",
   "execution_count": 4,
   "id": "bd5e50da",
   "metadata": {},
   "outputs": [
    {
     "data": {
      "text/html": [
       "<div>\n",
       "<style scoped>\n",
       "    .dataframe tbody tr th:only-of-type {\n",
       "        vertical-align: middle;\n",
       "    }\n",
       "\n",
       "    .dataframe tbody tr th {\n",
       "        vertical-align: top;\n",
       "    }\n",
       "\n",
       "    .dataframe thead th {\n",
       "        text-align: right;\n",
       "    }\n",
       "</style>\n",
       "<table border=\"1\" class=\"dataframe\">\n",
       "  <thead>\n",
       "    <tr style=\"text-align: right;\">\n",
       "      <th></th>\n",
       "      <th>PROSPECTID</th>\n",
       "      <th>Total_TL</th>\n",
       "      <th>Tot_Closed_TL</th>\n",
       "      <th>Tot_Active_TL</th>\n",
       "      <th>Total_TL_opened_L6M</th>\n",
       "      <th>Tot_TL_closed_L6M</th>\n",
       "      <th>pct_tl_open_L6M</th>\n",
       "      <th>pct_tl_closed_L6M</th>\n",
       "      <th>pct_active_tl</th>\n",
       "      <th>pct_closed_tl</th>\n",
       "      <th>...</th>\n",
       "      <th>CC_TL</th>\n",
       "      <th>Consumer_TL</th>\n",
       "      <th>Gold_TL</th>\n",
       "      <th>Home_TL</th>\n",
       "      <th>PL_TL</th>\n",
       "      <th>Secured_TL</th>\n",
       "      <th>Unsecured_TL</th>\n",
       "      <th>Other_TL</th>\n",
       "      <th>Age_Oldest_TL</th>\n",
       "      <th>Age_Newest_TL</th>\n",
       "    </tr>\n",
       "  </thead>\n",
       "  <tbody>\n",
       "    <tr>\n",
       "      <th>9738</th>\n",
       "      <td>9739</td>\n",
       "      <td>20</td>\n",
       "      <td>0</td>\n",
       "      <td>20</td>\n",
       "      <td>9</td>\n",
       "      <td>0</td>\n",
       "      <td>0.450</td>\n",
       "      <td>0.000</td>\n",
       "      <td>1.000</td>\n",
       "      <td>0.000</td>\n",
       "      <td>...</td>\n",
       "      <td>0</td>\n",
       "      <td>13</td>\n",
       "      <td>0</td>\n",
       "      <td>0</td>\n",
       "      <td>0</td>\n",
       "      <td>6</td>\n",
       "      <td>14</td>\n",
       "      <td>1</td>\n",
       "      <td>16</td>\n",
       "      <td>1</td>\n",
       "    </tr>\n",
       "    <tr>\n",
       "      <th>26353</th>\n",
       "      <td>26354</td>\n",
       "      <td>15</td>\n",
       "      <td>12</td>\n",
       "      <td>3</td>\n",
       "      <td>2</td>\n",
       "      <td>2</td>\n",
       "      <td>0.133</td>\n",
       "      <td>0.133</td>\n",
       "      <td>0.200</td>\n",
       "      <td>0.800</td>\n",
       "      <td>...</td>\n",
       "      <td>0</td>\n",
       "      <td>0</td>\n",
       "      <td>5</td>\n",
       "      <td>0</td>\n",
       "      <td>0</td>\n",
       "      <td>13</td>\n",
       "      <td>2</td>\n",
       "      <td>10</td>\n",
       "      <td>91</td>\n",
       "      <td>4</td>\n",
       "    </tr>\n",
       "    <tr>\n",
       "      <th>23741</th>\n",
       "      <td>23742</td>\n",
       "      <td>2</td>\n",
       "      <td>1</td>\n",
       "      <td>1</td>\n",
       "      <td>0</td>\n",
       "      <td>0</td>\n",
       "      <td>0.000</td>\n",
       "      <td>0.000</td>\n",
       "      <td>0.500</td>\n",
       "      <td>0.500</td>\n",
       "      <td>...</td>\n",
       "      <td>0</td>\n",
       "      <td>0</td>\n",
       "      <td>0</td>\n",
       "      <td>0</td>\n",
       "      <td>0</td>\n",
       "      <td>2</td>\n",
       "      <td>0</td>\n",
       "      <td>0</td>\n",
       "      <td>48</td>\n",
       "      <td>23</td>\n",
       "    </tr>\n",
       "    <tr>\n",
       "      <th>8413</th>\n",
       "      <td>8414</td>\n",
       "      <td>1</td>\n",
       "      <td>0</td>\n",
       "      <td>1</td>\n",
       "      <td>0</td>\n",
       "      <td>0</td>\n",
       "      <td>0.000</td>\n",
       "      <td>0.000</td>\n",
       "      <td>1.000</td>\n",
       "      <td>0.000</td>\n",
       "      <td>...</td>\n",
       "      <td>0</td>\n",
       "      <td>0</td>\n",
       "      <td>0</td>\n",
       "      <td>0</td>\n",
       "      <td>0</td>\n",
       "      <td>1</td>\n",
       "      <td>0</td>\n",
       "      <td>0</td>\n",
       "      <td>14</td>\n",
       "      <td>14</td>\n",
       "    </tr>\n",
       "    <tr>\n",
       "      <th>4272</th>\n",
       "      <td>4273</td>\n",
       "      <td>8</td>\n",
       "      <td>3</td>\n",
       "      <td>5</td>\n",
       "      <td>1</td>\n",
       "      <td>0</td>\n",
       "      <td>0.125</td>\n",
       "      <td>0.000</td>\n",
       "      <td>0.625</td>\n",
       "      <td>0.375</td>\n",
       "      <td>...</td>\n",
       "      <td>0</td>\n",
       "      <td>0</td>\n",
       "      <td>0</td>\n",
       "      <td>0</td>\n",
       "      <td>0</td>\n",
       "      <td>1</td>\n",
       "      <td>7</td>\n",
       "      <td>8</td>\n",
       "      <td>66</td>\n",
       "      <td>4</td>\n",
       "    </tr>\n",
       "    <tr>\n",
       "      <th>22773</th>\n",
       "      <td>22774</td>\n",
       "      <td>3</td>\n",
       "      <td>0</td>\n",
       "      <td>3</td>\n",
       "      <td>2</td>\n",
       "      <td>0</td>\n",
       "      <td>0.667</td>\n",
       "      <td>0.000</td>\n",
       "      <td>1.000</td>\n",
       "      <td>0.000</td>\n",
       "      <td>...</td>\n",
       "      <td>0</td>\n",
       "      <td>1</td>\n",
       "      <td>0</td>\n",
       "      <td>0</td>\n",
       "      <td>0</td>\n",
       "      <td>2</td>\n",
       "      <td>1</td>\n",
       "      <td>0</td>\n",
       "      <td>14</td>\n",
       "      <td>3</td>\n",
       "    </tr>\n",
       "    <tr>\n",
       "      <th>37456</th>\n",
       "      <td>37457</td>\n",
       "      <td>4</td>\n",
       "      <td>2</td>\n",
       "      <td>2</td>\n",
       "      <td>2</td>\n",
       "      <td>1</td>\n",
       "      <td>0.500</td>\n",
       "      <td>0.250</td>\n",
       "      <td>0.500</td>\n",
       "      <td>0.500</td>\n",
       "      <td>...</td>\n",
       "      <td>0</td>\n",
       "      <td>3</td>\n",
       "      <td>0</td>\n",
       "      <td>0</td>\n",
       "      <td>0</td>\n",
       "      <td>1</td>\n",
       "      <td>3</td>\n",
       "      <td>0</td>\n",
       "      <td>54</td>\n",
       "      <td>2</td>\n",
       "    </tr>\n",
       "    <tr>\n",
       "      <th>45171</th>\n",
       "      <td>45172</td>\n",
       "      <td>3</td>\n",
       "      <td>1</td>\n",
       "      <td>2</td>\n",
       "      <td>1</td>\n",
       "      <td>0</td>\n",
       "      <td>0.333</td>\n",
       "      <td>0.000</td>\n",
       "      <td>0.667</td>\n",
       "      <td>0.333</td>\n",
       "      <td>...</td>\n",
       "      <td>0</td>\n",
       "      <td>0</td>\n",
       "      <td>2</td>\n",
       "      <td>0</td>\n",
       "      <td>0</td>\n",
       "      <td>3</td>\n",
       "      <td>0</td>\n",
       "      <td>1</td>\n",
       "      <td>134</td>\n",
       "      <td>4</td>\n",
       "    </tr>\n",
       "    <tr>\n",
       "      <th>6579</th>\n",
       "      <td>6580</td>\n",
       "      <td>35</td>\n",
       "      <td>27</td>\n",
       "      <td>8</td>\n",
       "      <td>3</td>\n",
       "      <td>0</td>\n",
       "      <td>0.086</td>\n",
       "      <td>0.000</td>\n",
       "      <td>0.229</td>\n",
       "      <td>0.771</td>\n",
       "      <td>...</td>\n",
       "      <td>0</td>\n",
       "      <td>3</td>\n",
       "      <td>28</td>\n",
       "      <td>0</td>\n",
       "      <td>1</td>\n",
       "      <td>29</td>\n",
       "      <td>6</td>\n",
       "      <td>3</td>\n",
       "      <td>54</td>\n",
       "      <td>5</td>\n",
       "    </tr>\n",
       "    <tr>\n",
       "      <th>33140</th>\n",
       "      <td>33141</td>\n",
       "      <td>6</td>\n",
       "      <td>4</td>\n",
       "      <td>2</td>\n",
       "      <td>0</td>\n",
       "      <td>1</td>\n",
       "      <td>0.000</td>\n",
       "      <td>0.167</td>\n",
       "      <td>0.333</td>\n",
       "      <td>0.667</td>\n",
       "      <td>...</td>\n",
       "      <td>0</td>\n",
       "      <td>4</td>\n",
       "      <td>0</td>\n",
       "      <td>0</td>\n",
       "      <td>0</td>\n",
       "      <td>2</td>\n",
       "      <td>4</td>\n",
       "      <td>0</td>\n",
       "      <td>51</td>\n",
       "      <td>16</td>\n",
       "    </tr>\n",
       "  </tbody>\n",
       "</table>\n",
       "<p>10 rows × 26 columns</p>\n",
       "</div>"
      ],
      "text/plain": [
       "       PROSPECTID  Total_TL  Tot_Closed_TL  Tot_Active_TL  \\\n",
       "9738         9739        20              0             20   \n",
       "26353       26354        15             12              3   \n",
       "23741       23742         2              1              1   \n",
       "8413         8414         1              0              1   \n",
       "4272         4273         8              3              5   \n",
       "22773       22774         3              0              3   \n",
       "37456       37457         4              2              2   \n",
       "45171       45172         3              1              2   \n",
       "6579         6580        35             27              8   \n",
       "33140       33141         6              4              2   \n",
       "\n",
       "       Total_TL_opened_L6M  Tot_TL_closed_L6M  pct_tl_open_L6M  \\\n",
       "9738                     9                  0            0.450   \n",
       "26353                    2                  2            0.133   \n",
       "23741                    0                  0            0.000   \n",
       "8413                     0                  0            0.000   \n",
       "4272                     1                  0            0.125   \n",
       "22773                    2                  0            0.667   \n",
       "37456                    2                  1            0.500   \n",
       "45171                    1                  0            0.333   \n",
       "6579                     3                  0            0.086   \n",
       "33140                    0                  1            0.000   \n",
       "\n",
       "       pct_tl_closed_L6M  pct_active_tl  pct_closed_tl  ...  CC_TL  \\\n",
       "9738               0.000          1.000          0.000  ...      0   \n",
       "26353              0.133          0.200          0.800  ...      0   \n",
       "23741              0.000          0.500          0.500  ...      0   \n",
       "8413               0.000          1.000          0.000  ...      0   \n",
       "4272               0.000          0.625          0.375  ...      0   \n",
       "22773              0.000          1.000          0.000  ...      0   \n",
       "37456              0.250          0.500          0.500  ...      0   \n",
       "45171              0.000          0.667          0.333  ...      0   \n",
       "6579               0.000          0.229          0.771  ...      0   \n",
       "33140              0.167          0.333          0.667  ...      0   \n",
       "\n",
       "       Consumer_TL  Gold_TL  Home_TL  PL_TL  Secured_TL  Unsecured_TL  \\\n",
       "9738            13        0        0      0           6            14   \n",
       "26353            0        5        0      0          13             2   \n",
       "23741            0        0        0      0           2             0   \n",
       "8413             0        0        0      0           1             0   \n",
       "4272             0        0        0      0           1             7   \n",
       "22773            1        0        0      0           2             1   \n",
       "37456            3        0        0      0           1             3   \n",
       "45171            0        2        0      0           3             0   \n",
       "6579             3       28        0      1          29             6   \n",
       "33140            4        0        0      0           2             4   \n",
       "\n",
       "       Other_TL  Age_Oldest_TL  Age_Newest_TL  \n",
       "9738          1             16              1  \n",
       "26353        10             91              4  \n",
       "23741         0             48             23  \n",
       "8413          0             14             14  \n",
       "4272          8             66              4  \n",
       "22773         0             14              3  \n",
       "37456         0             54              2  \n",
       "45171         1            134              4  \n",
       "6579          3             54              5  \n",
       "33140         0             51             16  \n",
       "\n",
       "[10 rows x 26 columns]"
      ]
     },
     "execution_count": 4,
     "metadata": {},
     "output_type": "execute_result"
    }
   ],
   "source": [
    "df1.sample(10)"
   ]
  },
  {
   "cell_type": "code",
   "execution_count": 5,
   "id": "9bc9e631",
   "metadata": {},
   "outputs": [
    {
     "data": {
      "text/html": [
       "<div>\n",
       "<style scoped>\n",
       "    .dataframe tbody tr th:only-of-type {\n",
       "        vertical-align: middle;\n",
       "    }\n",
       "\n",
       "    .dataframe tbody tr th {\n",
       "        vertical-align: top;\n",
       "    }\n",
       "\n",
       "    .dataframe thead th {\n",
       "        text-align: right;\n",
       "    }\n",
       "</style>\n",
       "<table border=\"1\" class=\"dataframe\">\n",
       "  <thead>\n",
       "    <tr style=\"text-align: right;\">\n",
       "      <th></th>\n",
       "      <th>PROSPECTID</th>\n",
       "      <th>time_since_recent_payment</th>\n",
       "      <th>time_since_first_deliquency</th>\n",
       "      <th>time_since_recent_deliquency</th>\n",
       "      <th>num_times_delinquent</th>\n",
       "      <th>max_delinquency_level</th>\n",
       "      <th>max_recent_level_of_deliq</th>\n",
       "      <th>num_deliq_6mts</th>\n",
       "      <th>num_deliq_12mts</th>\n",
       "      <th>num_deliq_6_12mts</th>\n",
       "      <th>...</th>\n",
       "      <th>pct_CC_enq_L6m_of_L12m</th>\n",
       "      <th>pct_PL_enq_L6m_of_ever</th>\n",
       "      <th>pct_CC_enq_L6m_of_ever</th>\n",
       "      <th>max_unsec_exposure_inPct</th>\n",
       "      <th>HL_Flag</th>\n",
       "      <th>GL_Flag</th>\n",
       "      <th>last_prod_enq2</th>\n",
       "      <th>first_prod_enq2</th>\n",
       "      <th>Credit_Score</th>\n",
       "      <th>Approved_Flag</th>\n",
       "    </tr>\n",
       "  </thead>\n",
       "  <tbody>\n",
       "    <tr>\n",
       "      <th>4475</th>\n",
       "      <td>4476</td>\n",
       "      <td>40</td>\n",
       "      <td>13</td>\n",
       "      <td>2</td>\n",
       "      <td>12</td>\n",
       "      <td>24</td>\n",
       "      <td>24</td>\n",
       "      <td>4</td>\n",
       "      <td>10</td>\n",
       "      <td>6</td>\n",
       "      <td>...</td>\n",
       "      <td>0.0</td>\n",
       "      <td>0.0</td>\n",
       "      <td>0.0</td>\n",
       "      <td>-99999.000</td>\n",
       "      <td>0</td>\n",
       "      <td>0</td>\n",
       "      <td>ConsumerLoan</td>\n",
       "      <td>AL</td>\n",
       "      <td>659</td>\n",
       "      <td>P3</td>\n",
       "    </tr>\n",
       "    <tr>\n",
       "      <th>18722</th>\n",
       "      <td>18723</td>\n",
       "      <td>1574</td>\n",
       "      <td>-99999</td>\n",
       "      <td>-99999</td>\n",
       "      <td>0</td>\n",
       "      <td>-99999</td>\n",
       "      <td>0</td>\n",
       "      <td>0</td>\n",
       "      <td>0</td>\n",
       "      <td>0</td>\n",
       "      <td>...</td>\n",
       "      <td>0.0</td>\n",
       "      <td>0.0</td>\n",
       "      <td>0.0</td>\n",
       "      <td>-99999.000</td>\n",
       "      <td>1</td>\n",
       "      <td>0</td>\n",
       "      <td>others</td>\n",
       "      <td>others</td>\n",
       "      <td>686</td>\n",
       "      <td>P2</td>\n",
       "    </tr>\n",
       "    <tr>\n",
       "      <th>49184</th>\n",
       "      <td>49185</td>\n",
       "      <td>61</td>\n",
       "      <td>-99999</td>\n",
       "      <td>-99999</td>\n",
       "      <td>0</td>\n",
       "      <td>-99999</td>\n",
       "      <td>0</td>\n",
       "      <td>0</td>\n",
       "      <td>0</td>\n",
       "      <td>0</td>\n",
       "      <td>...</td>\n",
       "      <td>0.0</td>\n",
       "      <td>0.0</td>\n",
       "      <td>0.0</td>\n",
       "      <td>0.400</td>\n",
       "      <td>0</td>\n",
       "      <td>0</td>\n",
       "      <td>others</td>\n",
       "      <td>others</td>\n",
       "      <td>668</td>\n",
       "      <td>P3</td>\n",
       "    </tr>\n",
       "    <tr>\n",
       "      <th>39601</th>\n",
       "      <td>39602</td>\n",
       "      <td>42</td>\n",
       "      <td>5</td>\n",
       "      <td>2</td>\n",
       "      <td>4</td>\n",
       "      <td>3</td>\n",
       "      <td>3</td>\n",
       "      <td>4</td>\n",
       "      <td>4</td>\n",
       "      <td>0</td>\n",
       "      <td>...</td>\n",
       "      <td>0.0</td>\n",
       "      <td>0.0</td>\n",
       "      <td>0.0</td>\n",
       "      <td>7785.714</td>\n",
       "      <td>0</td>\n",
       "      <td>0</td>\n",
       "      <td>ConsumerLoan</td>\n",
       "      <td>ConsumerLoan</td>\n",
       "      <td>662</td>\n",
       "      <td>P3</td>\n",
       "    </tr>\n",
       "    <tr>\n",
       "      <th>38065</th>\n",
       "      <td>38066</td>\n",
       "      <td>29</td>\n",
       "      <td>-99999</td>\n",
       "      <td>-99999</td>\n",
       "      <td>0</td>\n",
       "      <td>-99999</td>\n",
       "      <td>0</td>\n",
       "      <td>0</td>\n",
       "      <td>0</td>\n",
       "      <td>0</td>\n",
       "      <td>...</td>\n",
       "      <td>0.0</td>\n",
       "      <td>0.0</td>\n",
       "      <td>0.0</td>\n",
       "      <td>1.667</td>\n",
       "      <td>0</td>\n",
       "      <td>0</td>\n",
       "      <td>others</td>\n",
       "      <td>others</td>\n",
       "      <td>689</td>\n",
       "      <td>P2</td>\n",
       "    </tr>\n",
       "    <tr>\n",
       "      <th>32950</th>\n",
       "      <td>32951</td>\n",
       "      <td>19</td>\n",
       "      <td>-99999</td>\n",
       "      <td>-99999</td>\n",
       "      <td>0</td>\n",
       "      <td>-99999</td>\n",
       "      <td>0</td>\n",
       "      <td>0</td>\n",
       "      <td>0</td>\n",
       "      <td>0</td>\n",
       "      <td>...</td>\n",
       "      <td>0.0</td>\n",
       "      <td>0.0</td>\n",
       "      <td>0.0</td>\n",
       "      <td>26.500</td>\n",
       "      <td>0</td>\n",
       "      <td>0</td>\n",
       "      <td>PL</td>\n",
       "      <td>PL</td>\n",
       "      <td>713</td>\n",
       "      <td>P1</td>\n",
       "    </tr>\n",
       "    <tr>\n",
       "      <th>42703</th>\n",
       "      <td>42704</td>\n",
       "      <td>87</td>\n",
       "      <td>-99999</td>\n",
       "      <td>-99999</td>\n",
       "      <td>0</td>\n",
       "      <td>-99999</td>\n",
       "      <td>0</td>\n",
       "      <td>0</td>\n",
       "      <td>0</td>\n",
       "      <td>0</td>\n",
       "      <td>...</td>\n",
       "      <td>0.0</td>\n",
       "      <td>0.0</td>\n",
       "      <td>0.0</td>\n",
       "      <td>0.502</td>\n",
       "      <td>1</td>\n",
       "      <td>0</td>\n",
       "      <td>PL</td>\n",
       "      <td>ConsumerLoan</td>\n",
       "      <td>719</td>\n",
       "      <td>P1</td>\n",
       "    </tr>\n",
       "    <tr>\n",
       "      <th>12103</th>\n",
       "      <td>12104</td>\n",
       "      <td>46</td>\n",
       "      <td>12</td>\n",
       "      <td>10</td>\n",
       "      <td>3</td>\n",
       "      <td>58</td>\n",
       "      <td>28</td>\n",
       "      <td>0</td>\n",
       "      <td>2</td>\n",
       "      <td>2</td>\n",
       "      <td>...</td>\n",
       "      <td>0.0</td>\n",
       "      <td>1.0</td>\n",
       "      <td>0.0</td>\n",
       "      <td>1.233</td>\n",
       "      <td>0</td>\n",
       "      <td>0</td>\n",
       "      <td>PL</td>\n",
       "      <td>ConsumerLoan</td>\n",
       "      <td>650</td>\n",
       "      <td>P4</td>\n",
       "    </tr>\n",
       "    <tr>\n",
       "      <th>4222</th>\n",
       "      <td>4223</td>\n",
       "      <td>283</td>\n",
       "      <td>35</td>\n",
       "      <td>20</td>\n",
       "      <td>22</td>\n",
       "      <td>75</td>\n",
       "      <td>53</td>\n",
       "      <td>0</td>\n",
       "      <td>0</td>\n",
       "      <td>0</td>\n",
       "      <td>...</td>\n",
       "      <td>0.0</td>\n",
       "      <td>0.0</td>\n",
       "      <td>0.0</td>\n",
       "      <td>4.006</td>\n",
       "      <td>1</td>\n",
       "      <td>0</td>\n",
       "      <td>ConsumerLoan</td>\n",
       "      <td>others</td>\n",
       "      <td>677</td>\n",
       "      <td>P2</td>\n",
       "    </tr>\n",
       "    <tr>\n",
       "      <th>1815</th>\n",
       "      <td>1816</td>\n",
       "      <td>49</td>\n",
       "      <td>-99999</td>\n",
       "      <td>-99999</td>\n",
       "      <td>0</td>\n",
       "      <td>-99999</td>\n",
       "      <td>0</td>\n",
       "      <td>0</td>\n",
       "      <td>0</td>\n",
       "      <td>0</td>\n",
       "      <td>...</td>\n",
       "      <td>0.0</td>\n",
       "      <td>0.0</td>\n",
       "      <td>0.0</td>\n",
       "      <td>1.840</td>\n",
       "      <td>0</td>\n",
       "      <td>0</td>\n",
       "      <td>others</td>\n",
       "      <td>ConsumerLoan</td>\n",
       "      <td>677</td>\n",
       "      <td>P2</td>\n",
       "    </tr>\n",
       "  </tbody>\n",
       "</table>\n",
       "<p>10 rows × 62 columns</p>\n",
       "</div>"
      ],
      "text/plain": [
       "       PROSPECTID  time_since_recent_payment  time_since_first_deliquency  \\\n",
       "4475         4476                         40                           13   \n",
       "18722       18723                       1574                       -99999   \n",
       "49184       49185                         61                       -99999   \n",
       "39601       39602                         42                            5   \n",
       "38065       38066                         29                       -99999   \n",
       "32950       32951                         19                       -99999   \n",
       "42703       42704                         87                       -99999   \n",
       "12103       12104                         46                           12   \n",
       "4222         4223                        283                           35   \n",
       "1815         1816                         49                       -99999   \n",
       "\n",
       "       time_since_recent_deliquency  num_times_delinquent  \\\n",
       "4475                              2                    12   \n",
       "18722                        -99999                     0   \n",
       "49184                        -99999                     0   \n",
       "39601                             2                     4   \n",
       "38065                        -99999                     0   \n",
       "32950                        -99999                     0   \n",
       "42703                        -99999                     0   \n",
       "12103                            10                     3   \n",
       "4222                             20                    22   \n",
       "1815                         -99999                     0   \n",
       "\n",
       "       max_delinquency_level  max_recent_level_of_deliq  num_deliq_6mts  \\\n",
       "4475                      24                         24               4   \n",
       "18722                 -99999                          0               0   \n",
       "49184                 -99999                          0               0   \n",
       "39601                      3                          3               4   \n",
       "38065                 -99999                          0               0   \n",
       "32950                 -99999                          0               0   \n",
       "42703                 -99999                          0               0   \n",
       "12103                     58                         28               0   \n",
       "4222                      75                         53               0   \n",
       "1815                  -99999                          0               0   \n",
       "\n",
       "       num_deliq_12mts  num_deliq_6_12mts  ...  pct_CC_enq_L6m_of_L12m  \\\n",
       "4475                10                  6  ...                     0.0   \n",
       "18722                0                  0  ...                     0.0   \n",
       "49184                0                  0  ...                     0.0   \n",
       "39601                4                  0  ...                     0.0   \n",
       "38065                0                  0  ...                     0.0   \n",
       "32950                0                  0  ...                     0.0   \n",
       "42703                0                  0  ...                     0.0   \n",
       "12103                2                  2  ...                     0.0   \n",
       "4222                 0                  0  ...                     0.0   \n",
       "1815                 0                  0  ...                     0.0   \n",
       "\n",
       "       pct_PL_enq_L6m_of_ever  pct_CC_enq_L6m_of_ever  \\\n",
       "4475                      0.0                     0.0   \n",
       "18722                     0.0                     0.0   \n",
       "49184                     0.0                     0.0   \n",
       "39601                     0.0                     0.0   \n",
       "38065                     0.0                     0.0   \n",
       "32950                     0.0                     0.0   \n",
       "42703                     0.0                     0.0   \n",
       "12103                     1.0                     0.0   \n",
       "4222                      0.0                     0.0   \n",
       "1815                      0.0                     0.0   \n",
       "\n",
       "       max_unsec_exposure_inPct  HL_Flag  GL_Flag  last_prod_enq2  \\\n",
       "4475                 -99999.000        0        0    ConsumerLoan   \n",
       "18722                -99999.000        1        0          others   \n",
       "49184                     0.400        0        0          others   \n",
       "39601                  7785.714        0        0    ConsumerLoan   \n",
       "38065                     1.667        0        0          others   \n",
       "32950                    26.500        0        0              PL   \n",
       "42703                     0.502        1        0              PL   \n",
       "12103                     1.233        0        0              PL   \n",
       "4222                      4.006        1        0    ConsumerLoan   \n",
       "1815                      1.840        0        0          others   \n",
       "\n",
       "       first_prod_enq2  Credit_Score  Approved_Flag  \n",
       "4475                AL           659             P3  \n",
       "18722           others           686             P2  \n",
       "49184           others           668             P3  \n",
       "39601     ConsumerLoan           662             P3  \n",
       "38065           others           689             P2  \n",
       "32950               PL           713             P1  \n",
       "42703     ConsumerLoan           719             P1  \n",
       "12103     ConsumerLoan           650             P4  \n",
       "4222            others           677             P2  \n",
       "1815      ConsumerLoan           677             P2  \n",
       "\n",
       "[10 rows x 62 columns]"
      ]
     },
     "execution_count": 5,
     "metadata": {},
     "output_type": "execute_result"
    }
   ],
   "source": [
    "df2.sample(10)"
   ]
  },
  {
   "cell_type": "markdown",
   "id": "392bdca5",
   "metadata": {},
   "source": [
    "# Conclussion\n",
    "1. we can see that in `df2` most of the columns contain `-99999` values.\n",
    "2. These `-99999` are basically `Missing value`."
   ]
  },
  {
   "cell_type": "code",
   "execution_count": null,
   "id": "7285fca6",
   "metadata": {},
   "outputs": [],
   "source": []
  },
  {
   "cell_type": "markdown",
   "id": "0df851ab",
   "metadata": {},
   "source": [
    "# 2.shape"
   ]
  },
  {
   "cell_type": "code",
   "execution_count": 6,
   "id": "56812ee4",
   "metadata": {},
   "outputs": [
    {
     "name": "stdout",
     "output_type": "stream",
     "text": [
      "Data 1 Shape:  (51336, 26)\n",
      "Data 2 Shape:  (51336, 62)\n"
     ]
    }
   ],
   "source": [
    "print(\"Data 1 Shape: \",df1.shape)\n",
    "print(\"Data 2 Shape: \",df2.shape)"
   ]
  },
  {
   "cell_type": "markdown",
   "id": "bb243c9d",
   "metadata": {},
   "source": [
    "# Conclussion \n",
    "1. Data1 contain `51336` rows and `26` Column\n",
    "2. Data2 contain `51336` rows and `62` Column"
   ]
  },
  {
   "cell_type": "markdown",
   "id": "2c7cb633",
   "metadata": {},
   "source": [
    "# 3.Columns"
   ]
  },
  {
   "cell_type": "code",
   "execution_count": 7,
   "id": "1d2d572e",
   "metadata": {},
   "outputs": [
    {
     "name": "stdout",
     "output_type": "stream",
     "text": [
      "Index(['PROSPECTID', 'Total_TL', 'Tot_Closed_TL', 'Tot_Active_TL',\n",
      "       'Total_TL_opened_L6M', 'Tot_TL_closed_L6M', 'pct_tl_open_L6M',\n",
      "       'pct_tl_closed_L6M', 'pct_active_tl', 'pct_closed_tl',\n",
      "       'Total_TL_opened_L12M', 'Tot_TL_closed_L12M', 'pct_tl_open_L12M',\n",
      "       'pct_tl_closed_L12M', 'Tot_Missed_Pmnt', 'Auto_TL', 'CC_TL',\n",
      "       'Consumer_TL', 'Gold_TL', 'Home_TL', 'PL_TL', 'Secured_TL',\n",
      "       'Unsecured_TL', 'Other_TL', 'Age_Oldest_TL', 'Age_Newest_TL'],\n",
      "      dtype='object')\n",
      "Index(['PROSPECTID', 'time_since_recent_payment',\n",
      "       'time_since_first_deliquency', 'time_since_recent_deliquency',\n",
      "       'num_times_delinquent', 'max_delinquency_level',\n",
      "       'max_recent_level_of_deliq', 'num_deliq_6mts', 'num_deliq_12mts',\n",
      "       'num_deliq_6_12mts', 'max_deliq_6mts', 'max_deliq_12mts',\n",
      "       'num_times_30p_dpd', 'num_times_60p_dpd', 'num_std', 'num_std_6mts',\n",
      "       'num_std_12mts', 'num_sub', 'num_sub_6mts', 'num_sub_12mts', 'num_dbt',\n",
      "       'num_dbt_6mts', 'num_dbt_12mts', 'num_lss', 'num_lss_6mts',\n",
      "       'num_lss_12mts', 'recent_level_of_deliq', 'tot_enq', 'CC_enq',\n",
      "       'CC_enq_L6m', 'CC_enq_L12m', 'PL_enq', 'PL_enq_L6m', 'PL_enq_L12m',\n",
      "       'time_since_recent_enq', 'enq_L12m', 'enq_L6m', 'enq_L3m',\n",
      "       'MARITALSTATUS', 'EDUCATION', 'AGE', 'GENDER', 'NETMONTHLYINCOME',\n",
      "       'Time_With_Curr_Empr', 'pct_of_active_TLs_ever',\n",
      "       'pct_opened_TLs_L6m_of_L12m', 'pct_currentBal_all_TL', 'CC_utilization',\n",
      "       'CC_Flag', 'PL_utilization', 'PL_Flag', 'pct_PL_enq_L6m_of_L12m',\n",
      "       'pct_CC_enq_L6m_of_L12m', 'pct_PL_enq_L6m_of_ever',\n",
      "       'pct_CC_enq_L6m_of_ever', 'max_unsec_exposure_inPct', 'HL_Flag',\n",
      "       'GL_Flag', 'last_prod_enq2', 'first_prod_enq2', 'Credit_Score',\n",
      "       'Approved_Flag'],\n",
      "      dtype='object')\n"
     ]
    }
   ],
   "source": [
    "print(df1.columns)\n",
    "print(df2.columns)"
   ]
  },
  {
   "cell_type": "markdown",
   "id": "902e4f7a",
   "metadata": {},
   "source": [
    "# Conclussion\n",
    "1. See that both `dataframe` one common column `PROSPECTID`.\n",
    "2. We can `merge` them first and then perform other data preprocessing."
   ]
  },
  {
   "cell_type": "markdown",
   "id": "8e8f0123",
   "metadata": {},
   "source": [
    "# 4.Merge `df1` anf `df2`"
   ]
  },
  {
   "cell_type": "code",
   "execution_count": 8,
   "id": "cc80b353",
   "metadata": {},
   "outputs": [
    {
     "data": {
      "text/html": [
       "<div>\n",
       "<style scoped>\n",
       "    .dataframe tbody tr th:only-of-type {\n",
       "        vertical-align: middle;\n",
       "    }\n",
       "\n",
       "    .dataframe tbody tr th {\n",
       "        vertical-align: top;\n",
       "    }\n",
       "\n",
       "    .dataframe thead th {\n",
       "        text-align: right;\n",
       "    }\n",
       "</style>\n",
       "<table border=\"1\" class=\"dataframe\">\n",
       "  <thead>\n",
       "    <tr style=\"text-align: right;\">\n",
       "      <th></th>\n",
       "      <th>PROSPECTID</th>\n",
       "      <th>Total_TL</th>\n",
       "      <th>Tot_Closed_TL</th>\n",
       "      <th>Tot_Active_TL</th>\n",
       "      <th>Total_TL_opened_L6M</th>\n",
       "      <th>Tot_TL_closed_L6M</th>\n",
       "      <th>pct_tl_open_L6M</th>\n",
       "      <th>pct_tl_closed_L6M</th>\n",
       "      <th>pct_active_tl</th>\n",
       "      <th>pct_closed_tl</th>\n",
       "      <th>...</th>\n",
       "      <th>CC_TL</th>\n",
       "      <th>Consumer_TL</th>\n",
       "      <th>Gold_TL</th>\n",
       "      <th>Home_TL</th>\n",
       "      <th>PL_TL</th>\n",
       "      <th>Secured_TL</th>\n",
       "      <th>Unsecured_TL</th>\n",
       "      <th>Other_TL</th>\n",
       "      <th>Age_Oldest_TL</th>\n",
       "      <th>Age_Newest_TL</th>\n",
       "    </tr>\n",
       "  </thead>\n",
       "  <tbody>\n",
       "    <tr>\n",
       "      <th>0</th>\n",
       "      <td>1</td>\n",
       "      <td>5</td>\n",
       "      <td>4</td>\n",
       "      <td>1</td>\n",
       "      <td>0</td>\n",
       "      <td>0</td>\n",
       "      <td>0.0</td>\n",
       "      <td>0.0</td>\n",
       "      <td>0.2</td>\n",
       "      <td>0.8</td>\n",
       "      <td>...</td>\n",
       "      <td>0</td>\n",
       "      <td>0</td>\n",
       "      <td>1</td>\n",
       "      <td>0</td>\n",
       "      <td>4</td>\n",
       "      <td>1</td>\n",
       "      <td>4</td>\n",
       "      <td>0</td>\n",
       "      <td>72</td>\n",
       "      <td>18</td>\n",
       "    </tr>\n",
       "    <tr>\n",
       "      <th>1</th>\n",
       "      <td>2</td>\n",
       "      <td>1</td>\n",
       "      <td>0</td>\n",
       "      <td>1</td>\n",
       "      <td>0</td>\n",
       "      <td>0</td>\n",
       "      <td>0.0</td>\n",
       "      <td>0.0</td>\n",
       "      <td>1.0</td>\n",
       "      <td>0.0</td>\n",
       "      <td>...</td>\n",
       "      <td>0</td>\n",
       "      <td>1</td>\n",
       "      <td>0</td>\n",
       "      <td>0</td>\n",
       "      <td>0</td>\n",
       "      <td>0</td>\n",
       "      <td>1</td>\n",
       "      <td>0</td>\n",
       "      <td>7</td>\n",
       "      <td>7</td>\n",
       "    </tr>\n",
       "  </tbody>\n",
       "</table>\n",
       "<p>2 rows × 26 columns</p>\n",
       "</div>"
      ],
      "text/plain": [
       "   PROSPECTID  Total_TL  Tot_Closed_TL  Tot_Active_TL  Total_TL_opened_L6M  \\\n",
       "0           1         5              4              1                    0   \n",
       "1           2         1              0              1                    0   \n",
       "\n",
       "   Tot_TL_closed_L6M  pct_tl_open_L6M  pct_tl_closed_L6M  pct_active_tl  \\\n",
       "0                  0              0.0                0.0            0.2   \n",
       "1                  0              0.0                0.0            1.0   \n",
       "\n",
       "   pct_closed_tl  ...  CC_TL  Consumer_TL  Gold_TL  Home_TL  PL_TL  \\\n",
       "0            0.8  ...      0            0        1        0      4   \n",
       "1            0.0  ...      0            1        0        0      0   \n",
       "\n",
       "   Secured_TL  Unsecured_TL  Other_TL  Age_Oldest_TL  Age_Newest_TL  \n",
       "0           1             4         0             72             18  \n",
       "1           0             1         0              7              7  \n",
       "\n",
       "[2 rows x 26 columns]"
      ]
     },
     "execution_count": 8,
     "metadata": {},
     "output_type": "execute_result"
    }
   ],
   "source": [
    "df1.head(2)"
   ]
  },
  {
   "cell_type": "code",
   "execution_count": 9,
   "id": "1c1e0d86",
   "metadata": {},
   "outputs": [
    {
     "data": {
      "text/html": [
       "<div>\n",
       "<style scoped>\n",
       "    .dataframe tbody tr th:only-of-type {\n",
       "        vertical-align: middle;\n",
       "    }\n",
       "\n",
       "    .dataframe tbody tr th {\n",
       "        vertical-align: top;\n",
       "    }\n",
       "\n",
       "    .dataframe thead th {\n",
       "        text-align: right;\n",
       "    }\n",
       "</style>\n",
       "<table border=\"1\" class=\"dataframe\">\n",
       "  <thead>\n",
       "    <tr style=\"text-align: right;\">\n",
       "      <th></th>\n",
       "      <th>PROSPECTID</th>\n",
       "      <th>time_since_recent_payment</th>\n",
       "      <th>time_since_first_deliquency</th>\n",
       "      <th>time_since_recent_deliquency</th>\n",
       "      <th>num_times_delinquent</th>\n",
       "      <th>max_delinquency_level</th>\n",
       "      <th>max_recent_level_of_deliq</th>\n",
       "      <th>num_deliq_6mts</th>\n",
       "      <th>num_deliq_12mts</th>\n",
       "      <th>num_deliq_6_12mts</th>\n",
       "      <th>...</th>\n",
       "      <th>pct_CC_enq_L6m_of_L12m</th>\n",
       "      <th>pct_PL_enq_L6m_of_ever</th>\n",
       "      <th>pct_CC_enq_L6m_of_ever</th>\n",
       "      <th>max_unsec_exposure_inPct</th>\n",
       "      <th>HL_Flag</th>\n",
       "      <th>GL_Flag</th>\n",
       "      <th>last_prod_enq2</th>\n",
       "      <th>first_prod_enq2</th>\n",
       "      <th>Credit_Score</th>\n",
       "      <th>Approved_Flag</th>\n",
       "    </tr>\n",
       "  </thead>\n",
       "  <tbody>\n",
       "    <tr>\n",
       "      <th>0</th>\n",
       "      <td>1</td>\n",
       "      <td>549</td>\n",
       "      <td>35</td>\n",
       "      <td>15</td>\n",
       "      <td>11</td>\n",
       "      <td>29</td>\n",
       "      <td>29</td>\n",
       "      <td>0</td>\n",
       "      <td>0</td>\n",
       "      <td>0</td>\n",
       "      <td>...</td>\n",
       "      <td>0.0</td>\n",
       "      <td>0.0</td>\n",
       "      <td>0.0</td>\n",
       "      <td>13.333</td>\n",
       "      <td>1</td>\n",
       "      <td>0</td>\n",
       "      <td>PL</td>\n",
       "      <td>PL</td>\n",
       "      <td>696</td>\n",
       "      <td>P2</td>\n",
       "    </tr>\n",
       "    <tr>\n",
       "      <th>1</th>\n",
       "      <td>2</td>\n",
       "      <td>47</td>\n",
       "      <td>-99999</td>\n",
       "      <td>-99999</td>\n",
       "      <td>0</td>\n",
       "      <td>-99999</td>\n",
       "      <td>0</td>\n",
       "      <td>0</td>\n",
       "      <td>0</td>\n",
       "      <td>0</td>\n",
       "      <td>...</td>\n",
       "      <td>0.0</td>\n",
       "      <td>0.0</td>\n",
       "      <td>0.0</td>\n",
       "      <td>0.860</td>\n",
       "      <td>0</td>\n",
       "      <td>0</td>\n",
       "      <td>ConsumerLoan</td>\n",
       "      <td>ConsumerLoan</td>\n",
       "      <td>685</td>\n",
       "      <td>P2</td>\n",
       "    </tr>\n",
       "  </tbody>\n",
       "</table>\n",
       "<p>2 rows × 62 columns</p>\n",
       "</div>"
      ],
      "text/plain": [
       "   PROSPECTID  time_since_recent_payment  time_since_first_deliquency  \\\n",
       "0           1                        549                           35   \n",
       "1           2                         47                       -99999   \n",
       "\n",
       "   time_since_recent_deliquency  num_times_delinquent  max_delinquency_level  \\\n",
       "0                            15                    11                     29   \n",
       "1                        -99999                     0                 -99999   \n",
       "\n",
       "   max_recent_level_of_deliq  num_deliq_6mts  num_deliq_12mts  \\\n",
       "0                         29               0                0   \n",
       "1                          0               0                0   \n",
       "\n",
       "   num_deliq_6_12mts  ...  pct_CC_enq_L6m_of_L12m  pct_PL_enq_L6m_of_ever  \\\n",
       "0                  0  ...                     0.0                     0.0   \n",
       "1                  0  ...                     0.0                     0.0   \n",
       "\n",
       "   pct_CC_enq_L6m_of_ever  max_unsec_exposure_inPct  HL_Flag  GL_Flag  \\\n",
       "0                     0.0                    13.333        1        0   \n",
       "1                     0.0                     0.860        0        0   \n",
       "\n",
       "   last_prod_enq2  first_prod_enq2  Credit_Score  Approved_Flag  \n",
       "0              PL               PL           696             P2  \n",
       "1    ConsumerLoan     ConsumerLoan           685             P2  \n",
       "\n",
       "[2 rows x 62 columns]"
      ]
     },
     "execution_count": 9,
     "metadata": {},
     "output_type": "execute_result"
    }
   ],
   "source": [
    "df2.head(2)"
   ]
  },
  {
   "cell_type": "code",
   "execution_count": 10,
   "id": "bc0947a0",
   "metadata": {},
   "outputs": [
    {
     "data": {
      "text/html": [
       "<div>\n",
       "<style scoped>\n",
       "    .dataframe tbody tr th:only-of-type {\n",
       "        vertical-align: middle;\n",
       "    }\n",
       "\n",
       "    .dataframe tbody tr th {\n",
       "        vertical-align: top;\n",
       "    }\n",
       "\n",
       "    .dataframe thead th {\n",
       "        text-align: right;\n",
       "    }\n",
       "</style>\n",
       "<table border=\"1\" class=\"dataframe\">\n",
       "  <thead>\n",
       "    <tr style=\"text-align: right;\">\n",
       "      <th></th>\n",
       "      <th>PROSPECTID</th>\n",
       "      <th>Total_TL</th>\n",
       "      <th>Tot_Closed_TL</th>\n",
       "      <th>Tot_Active_TL</th>\n",
       "      <th>Total_TL_opened_L6M</th>\n",
       "      <th>Tot_TL_closed_L6M</th>\n",
       "      <th>pct_tl_open_L6M</th>\n",
       "      <th>pct_tl_closed_L6M</th>\n",
       "      <th>pct_active_tl</th>\n",
       "      <th>pct_closed_tl</th>\n",
       "      <th>...</th>\n",
       "      <th>pct_CC_enq_L6m_of_L12m</th>\n",
       "      <th>pct_PL_enq_L6m_of_ever</th>\n",
       "      <th>pct_CC_enq_L6m_of_ever</th>\n",
       "      <th>max_unsec_exposure_inPct</th>\n",
       "      <th>HL_Flag</th>\n",
       "      <th>GL_Flag</th>\n",
       "      <th>last_prod_enq2</th>\n",
       "      <th>first_prod_enq2</th>\n",
       "      <th>Credit_Score</th>\n",
       "      <th>Approved_Flag</th>\n",
       "    </tr>\n",
       "  </thead>\n",
       "  <tbody>\n",
       "    <tr>\n",
       "      <th>0</th>\n",
       "      <td>1</td>\n",
       "      <td>5</td>\n",
       "      <td>4</td>\n",
       "      <td>1</td>\n",
       "      <td>0</td>\n",
       "      <td>0</td>\n",
       "      <td>0.0</td>\n",
       "      <td>0.0</td>\n",
       "      <td>0.2</td>\n",
       "      <td>0.8</td>\n",
       "      <td>...</td>\n",
       "      <td>0.0</td>\n",
       "      <td>0.0</td>\n",
       "      <td>0.0</td>\n",
       "      <td>13.333</td>\n",
       "      <td>1</td>\n",
       "      <td>0</td>\n",
       "      <td>PL</td>\n",
       "      <td>PL</td>\n",
       "      <td>696</td>\n",
       "      <td>P2</td>\n",
       "    </tr>\n",
       "    <tr>\n",
       "      <th>1</th>\n",
       "      <td>2</td>\n",
       "      <td>1</td>\n",
       "      <td>0</td>\n",
       "      <td>1</td>\n",
       "      <td>0</td>\n",
       "      <td>0</td>\n",
       "      <td>0.0</td>\n",
       "      <td>0.0</td>\n",
       "      <td>1.0</td>\n",
       "      <td>0.0</td>\n",
       "      <td>...</td>\n",
       "      <td>0.0</td>\n",
       "      <td>0.0</td>\n",
       "      <td>0.0</td>\n",
       "      <td>0.860</td>\n",
       "      <td>0</td>\n",
       "      <td>0</td>\n",
       "      <td>ConsumerLoan</td>\n",
       "      <td>ConsumerLoan</td>\n",
       "      <td>685</td>\n",
       "      <td>P2</td>\n",
       "    </tr>\n",
       "  </tbody>\n",
       "</table>\n",
       "<p>2 rows × 87 columns</p>\n",
       "</div>"
      ],
      "text/plain": [
       "   PROSPECTID  Total_TL  Tot_Closed_TL  Tot_Active_TL  Total_TL_opened_L6M  \\\n",
       "0           1         5              4              1                    0   \n",
       "1           2         1              0              1                    0   \n",
       "\n",
       "   Tot_TL_closed_L6M  pct_tl_open_L6M  pct_tl_closed_L6M  pct_active_tl  \\\n",
       "0                  0              0.0                0.0            0.2   \n",
       "1                  0              0.0                0.0            1.0   \n",
       "\n",
       "   pct_closed_tl  ...  pct_CC_enq_L6m_of_L12m  pct_PL_enq_L6m_of_ever  \\\n",
       "0            0.8  ...                     0.0                     0.0   \n",
       "1            0.0  ...                     0.0                     0.0   \n",
       "\n",
       "   pct_CC_enq_L6m_of_ever  max_unsec_exposure_inPct  HL_Flag  GL_Flag  \\\n",
       "0                     0.0                    13.333        1        0   \n",
       "1                     0.0                     0.860        0        0   \n",
       "\n",
       "   last_prod_enq2  first_prod_enq2  Credit_Score  Approved_Flag  \n",
       "0              PL               PL           696             P2  \n",
       "1    ConsumerLoan     ConsumerLoan           685             P2  \n",
       "\n",
       "[2 rows x 87 columns]"
      ]
     },
     "execution_count": 10,
     "metadata": {},
     "output_type": "execute_result"
    }
   ],
   "source": [
    "final_df=df1.merge(df2,how='inner',on='PROSPECTID')\n",
    "final_df.head(2)"
   ]
  },
  {
   "cell_type": "markdown",
   "id": "0afc6c8b",
   "metadata": {},
   "source": [
    "# Conclussion\n",
    "1. we have a `final df` now we can further work on this `final_df`"
   ]
  },
  {
   "cell_type": "markdown",
   "id": "1cea9080",
   "metadata": {},
   "source": [
    "# 5. Datatypes"
   ]
  },
  {
   "cell_type": "code",
   "execution_count": 11,
   "id": "8a451b57",
   "metadata": {},
   "outputs": [],
   "source": [
    "data_types=final_df.dtypes.to_dict()"
   ]
  },
  {
   "cell_type": "code",
   "execution_count": 12,
   "id": "34c3475d",
   "metadata": {},
   "outputs": [
    {
     "data": {
      "text/html": [
       "<div>\n",
       "<style scoped>\n",
       "    .dataframe tbody tr th:only-of-type {\n",
       "        vertical-align: middle;\n",
       "    }\n",
       "\n",
       "    .dataframe tbody tr th {\n",
       "        vertical-align: top;\n",
       "    }\n",
       "\n",
       "    .dataframe thead th {\n",
       "        text-align: right;\n",
       "    }\n",
       "</style>\n",
       "<table border=\"1\" class=\"dataframe\">\n",
       "  <thead>\n",
       "    <tr style=\"text-align: right;\">\n",
       "      <th></th>\n",
       "      <th>Columns</th>\n",
       "      <th>Datatypes</th>\n",
       "    </tr>\n",
       "  </thead>\n",
       "  <tbody>\n",
       "    <tr>\n",
       "      <th>0</th>\n",
       "      <td>PROSPECTID</td>\n",
       "      <td>int64</td>\n",
       "    </tr>\n",
       "    <tr>\n",
       "      <th>1</th>\n",
       "      <td>Total_TL</td>\n",
       "      <td>int64</td>\n",
       "    </tr>\n",
       "    <tr>\n",
       "      <th>2</th>\n",
       "      <td>Tot_Closed_TL</td>\n",
       "      <td>int64</td>\n",
       "    </tr>\n",
       "    <tr>\n",
       "      <th>3</th>\n",
       "      <td>Tot_Active_TL</td>\n",
       "      <td>int64</td>\n",
       "    </tr>\n",
       "    <tr>\n",
       "      <th>4</th>\n",
       "      <td>Total_TL_opened_L6M</td>\n",
       "      <td>int64</td>\n",
       "    </tr>\n",
       "    <tr>\n",
       "      <th>...</th>\n",
       "      <td>...</td>\n",
       "      <td>...</td>\n",
       "    </tr>\n",
       "    <tr>\n",
       "      <th>82</th>\n",
       "      <td>GL_Flag</td>\n",
       "      <td>int64</td>\n",
       "    </tr>\n",
       "    <tr>\n",
       "      <th>83</th>\n",
       "      <td>last_prod_enq2</td>\n",
       "      <td>object</td>\n",
       "    </tr>\n",
       "    <tr>\n",
       "      <th>84</th>\n",
       "      <td>first_prod_enq2</td>\n",
       "      <td>object</td>\n",
       "    </tr>\n",
       "    <tr>\n",
       "      <th>85</th>\n",
       "      <td>Credit_Score</td>\n",
       "      <td>int64</td>\n",
       "    </tr>\n",
       "    <tr>\n",
       "      <th>86</th>\n",
       "      <td>Approved_Flag</td>\n",
       "      <td>object</td>\n",
       "    </tr>\n",
       "  </tbody>\n",
       "</table>\n",
       "<p>87 rows × 2 columns</p>\n",
       "</div>"
      ],
      "text/plain": [
       "                Columns Datatypes\n",
       "0            PROSPECTID     int64\n",
       "1              Total_TL     int64\n",
       "2         Tot_Closed_TL     int64\n",
       "3         Tot_Active_TL     int64\n",
       "4   Total_TL_opened_L6M     int64\n",
       "..                  ...       ...\n",
       "82              GL_Flag     int64\n",
       "83       last_prod_enq2    object\n",
       "84      first_prod_enq2    object\n",
       "85         Credit_Score     int64\n",
       "86        Approved_Flag    object\n",
       "\n",
       "[87 rows x 2 columns]"
      ]
     },
     "execution_count": 12,
     "metadata": {},
     "output_type": "execute_result"
    }
   ],
   "source": [
    "pd.DataFrame(list(data_types.items()),columns=['Columns','Datatypes']).head(87)"
   ]
  },
  {
   "cell_type": "code",
   "execution_count": 13,
   "id": "b9ada92c",
   "metadata": {},
   "outputs": [],
   "source": [
    "# object colums need =['material_status','Education','gender','last_prod_loan','first_prod_loan','Approved_flag']\n",
    "# int columns need =[All except object col]"
   ]
  },
  {
   "cell_type": "code",
   "execution_count": 14,
   "id": "b546714e",
   "metadata": {},
   "outputs": [
    {
     "data": {
      "text/plain": [
       "Index(['MARITALSTATUS', 'EDUCATION', 'GENDER', 'last_prod_enq2',\n",
       "       'first_prod_enq2', 'Approved_Flag'],\n",
       "      dtype='object')"
      ]
     },
     "execution_count": 14,
     "metadata": {},
     "output_type": "execute_result"
    }
   ],
   "source": [
    "final_df.select_dtypes('object').columns"
   ]
  },
  {
   "cell_type": "code",
   "execution_count": 15,
   "id": "1c23a708",
   "metadata": {},
   "outputs": [
    {
     "data": {
      "text/plain": [
       "Index(['PROSPECTID', 'Total_TL', 'Tot_Closed_TL', 'Tot_Active_TL',\n",
       "       'Total_TL_opened_L6M', 'Tot_TL_closed_L6M', 'pct_tl_open_L6M',\n",
       "       'pct_tl_closed_L6M', 'pct_active_tl', 'pct_closed_tl',\n",
       "       'Total_TL_opened_L12M', 'Tot_TL_closed_L12M', 'pct_tl_open_L12M',\n",
       "       'pct_tl_closed_L12M', 'Tot_Missed_Pmnt', 'Auto_TL', 'CC_TL',\n",
       "       'Consumer_TL', 'Gold_TL', 'Home_TL', 'PL_TL', 'Secured_TL',\n",
       "       'Unsecured_TL', 'Other_TL', 'Age_Oldest_TL', 'Age_Newest_TL',\n",
       "       'time_since_recent_payment', 'time_since_first_deliquency',\n",
       "       'time_since_recent_deliquency', 'num_times_delinquent',\n",
       "       'max_delinquency_level', 'max_recent_level_of_deliq', 'num_deliq_6mts',\n",
       "       'num_deliq_12mts', 'num_deliq_6_12mts', 'max_deliq_6mts',\n",
       "       'max_deliq_12mts', 'num_times_30p_dpd', 'num_times_60p_dpd', 'num_std',\n",
       "       'num_std_6mts', 'num_std_12mts', 'num_sub', 'num_sub_6mts',\n",
       "       'num_sub_12mts', 'num_dbt', 'num_dbt_6mts', 'num_dbt_12mts', 'num_lss',\n",
       "       'num_lss_6mts', 'num_lss_12mts', 'recent_level_of_deliq', 'tot_enq',\n",
       "       'CC_enq', 'CC_enq_L6m', 'CC_enq_L12m', 'PL_enq', 'PL_enq_L6m',\n",
       "       'PL_enq_L12m', 'time_since_recent_enq', 'enq_L12m', 'enq_L6m',\n",
       "       'enq_L3m', 'AGE', 'NETMONTHLYINCOME', 'Time_With_Curr_Empr',\n",
       "       'pct_of_active_TLs_ever', 'pct_opened_TLs_L6m_of_L12m',\n",
       "       'pct_currentBal_all_TL', 'CC_utilization', 'CC_Flag', 'PL_utilization',\n",
       "       'PL_Flag', 'pct_PL_enq_L6m_of_L12m', 'pct_CC_enq_L6m_of_L12m',\n",
       "       'pct_PL_enq_L6m_of_ever', 'pct_CC_enq_L6m_of_ever',\n",
       "       'max_unsec_exposure_inPct', 'HL_Flag', 'GL_Flag', 'Credit_Score'],\n",
       "      dtype='object')"
      ]
     },
     "execution_count": 15,
     "metadata": {},
     "output_type": "execute_result"
    }
   ],
   "source": [
    "final_df.select_dtypes('number').columns"
   ]
  },
  {
   "cell_type": "markdown",
   "id": "b6b0d2a1",
   "metadata": {},
   "source": [
    "# Conclussion\n",
    "1. `Datatypes` should be in correct format."
   ]
  },
  {
   "cell_type": "markdown",
   "id": "a5a5c29c",
   "metadata": {},
   "source": [
    "# 6. Null Values\n",
    "1. First we can make the copy of dataframe"
   ]
  },
  {
   "cell_type": "code",
   "execution_count": 16,
   "id": "6640c8db",
   "metadata": {},
   "outputs": [],
   "source": [
    "copy_df=final_df.copy()"
   ]
  },
  {
   "cell_type": "code",
   "execution_count": null,
   "id": "4eaf4eab",
   "metadata": {},
   "outputs": [],
   "source": []
  },
  {
   "cell_type": "code",
   "execution_count": 17,
   "id": "ebc46267",
   "metadata": {},
   "outputs": [
    {
     "data": {
      "text/plain": [
       "PROSPECTID             0\n",
       "Total_TL               0\n",
       "Tot_Closed_TL          0\n",
       "Tot_Active_TL          0\n",
       "Total_TL_opened_L6M    0\n",
       "                      ..\n",
       "GL_Flag                0\n",
       "last_prod_enq2         0\n",
       "first_prod_enq2        0\n",
       "Credit_Score           0\n",
       "Approved_Flag          0\n",
       "Length: 87, dtype: int64"
      ]
     },
     "execution_count": 17,
     "metadata": {},
     "output_type": "execute_result"
    }
   ],
   "source": [
    "final_df.isnull().sum()"
   ]
  },
  {
   "cell_type": "markdown",
   "id": "d8ce5850",
   "metadata": {},
   "source": [
    "1. **We can't see missing values but in above we say that `-99999` shows the missing values**\n",
    "2. **Check if the ratio of `-99999` is greater in the specific column remove the columns**"
   ]
  },
  {
   "cell_type": "code",
   "execution_count": null,
   "id": "11a6172c",
   "metadata": {},
   "outputs": [],
   "source": []
  },
  {
   "cell_type": "markdown",
   "id": "1ab305b6",
   "metadata": {},
   "source": [
    "# Handling Missing Values"
   ]
  },
  {
   "cell_type": "code",
   "execution_count": 18,
   "id": "a9bc989c",
   "metadata": {},
   "outputs": [
    {
     "data": {
      "text/plain": [
       "4291"
      ]
     },
     "execution_count": 18,
     "metadata": {},
     "output_type": "execute_result"
    }
   ],
   "source": [
    "final_df[final_df['time_since_recent_payment']==-99999].shape[0]"
   ]
  },
  {
   "cell_type": "code",
   "execution_count": 19,
   "id": "5f601fd7",
   "metadata": {},
   "outputs": [
    {
     "data": {
      "text/plain": [
       "(51336, 87)"
      ]
     },
     "execution_count": 19,
     "metadata": {},
     "output_type": "execute_result"
    }
   ],
   "source": [
    "final_df.shape"
   ]
  },
  {
   "cell_type": "markdown",
   "id": "268d3d33",
   "metadata": {},
   "source": [
    "1. **We have `51336` records we can set the treshold `10000` if any columns contain `-99999` more then 10000 we can drop the columns.** \n",
    "2. **Also check the ratio of containg `-99999`.**"
   ]
  },
  {
   "cell_type": "code",
   "execution_count": 20,
   "id": "f6b7b3bf",
   "metadata": {},
   "outputs": [
    {
     "name": "stdout",
     "output_type": "stream",
     "text": [
      "time_since_first_deliquency -> -99999 value is -> 35949 and ratio is 70.0%\n",
      "time_since_recent_deliquency -> -99999 value is -> 35949 and ratio is 70.0%\n",
      "max_delinquency_level -> -99999 value is -> 35949 and ratio is 70.0%\n",
      "max_deliq_6mts -> -99999 value is -> 12890 and ratio is 25.1%\n",
      "max_deliq_12mts -> -99999 value is -> 10832 and ratio is 21.099999999999998%\n",
      "CC_utilization -> -99999 value is -> 47636 and ratio is 92.80000000000001%\n",
      "PL_utilization -> -99999 value is -> 44435 and ratio is 86.6%\n",
      "max_unsec_exposure_inPct -> -99999 value is -> 23178 and ratio is 45.1%\n"
     ]
    }
   ],
   "source": [
    "col_to_drop=[]\n",
    "for i in final_df.columns:\n",
    "    temp=final_df[final_df[i]==-99999].shape[0]\n",
    "    ratio= round(temp/len(final_df),3)*100\n",
    "    if(temp>10000):\n",
    "        print(f\"{i} -> -99999 value is -> {temp} and ratio is {ratio}%\")\n",
    "        col_to_drop.append(i)"
   ]
  },
  {
   "cell_type": "markdown",
   "id": "91e425c2",
   "metadata": {},
   "source": [
    "# Conclussion\n",
    "1. `time_since_first_deliquency` contain `70.0%` missing data.\n",
    "2. `time_since_recent_deliquency` contain `70.0%` missing data.\n",
    "3. `max_delinquency_level` contain `70.0%` missing data.\n",
    "4. `max_deliq_6mts` contain `25.1%` missing data.\n",
    "5. `max_deliq_12mts` contain  `21.09% missing data.\n",
    "6. `CC_utilization` conrain `92.8%` missing data.\n",
    "7. `PL_utilization` contain `86.6%` missing data.\n",
    "8. `max_unsec_exposure_inPct` contain  `45.1%` missing data.\n",
    "- **We will drop these columns**"
   ]
  },
  {
   "cell_type": "markdown",
   "id": "92a8509c",
   "metadata": {},
   "source": [
    "### Drop Columns "
   ]
  },
  {
   "cell_type": "code",
   "execution_count": 21,
   "id": "75ea9bf5",
   "metadata": {},
   "outputs": [],
   "source": [
    "final_df.drop(columns=col_to_drop,inplace=True)"
   ]
  },
  {
   "cell_type": "code",
   "execution_count": 23,
   "id": "990272e5",
   "metadata": {},
   "outputs": [],
   "source": [
    "# Also drop the `PROSPECTID`\n",
    "final_df.drop(columns=['PROSPECTID'],inplace=True)"
   ]
  },
  {
   "cell_type": "code",
   "execution_count": 24,
   "id": "fafed021",
   "metadata": {},
   "outputs": [
    {
     "data": {
      "text/plain": [
       "(51336, 78)"
      ]
     },
     "execution_count": 24,
     "metadata": {},
     "output_type": "execute_result"
    }
   ],
   "source": [
    "final_df.shape"
   ]
  },
  {
   "cell_type": "code",
   "execution_count": 25,
   "id": "c7cc46ec",
   "metadata": {},
   "outputs": [
    {
     "data": {
      "text/html": [
       "<div>\n",
       "<style scoped>\n",
       "    .dataframe tbody tr th:only-of-type {\n",
       "        vertical-align: middle;\n",
       "    }\n",
       "\n",
       "    .dataframe tbody tr th {\n",
       "        vertical-align: top;\n",
       "    }\n",
       "\n",
       "    .dataframe thead th {\n",
       "        text-align: right;\n",
       "    }\n",
       "</style>\n",
       "<table border=\"1\" class=\"dataframe\">\n",
       "  <thead>\n",
       "    <tr style=\"text-align: right;\">\n",
       "      <th></th>\n",
       "      <th>Total_TL</th>\n",
       "      <th>Tot_Closed_TL</th>\n",
       "      <th>Tot_Active_TL</th>\n",
       "      <th>Total_TL_opened_L6M</th>\n",
       "      <th>Tot_TL_closed_L6M</th>\n",
       "      <th>pct_tl_open_L6M</th>\n",
       "      <th>pct_tl_closed_L6M</th>\n",
       "      <th>pct_active_tl</th>\n",
       "      <th>pct_closed_tl</th>\n",
       "      <th>Total_TL_opened_L12M</th>\n",
       "      <th>...</th>\n",
       "      <th>pct_PL_enq_L6m_of_L12m</th>\n",
       "      <th>pct_CC_enq_L6m_of_L12m</th>\n",
       "      <th>pct_PL_enq_L6m_of_ever</th>\n",
       "      <th>pct_CC_enq_L6m_of_ever</th>\n",
       "      <th>HL_Flag</th>\n",
       "      <th>GL_Flag</th>\n",
       "      <th>last_prod_enq2</th>\n",
       "      <th>first_prod_enq2</th>\n",
       "      <th>Credit_Score</th>\n",
       "      <th>Approved_Flag</th>\n",
       "    </tr>\n",
       "  </thead>\n",
       "  <tbody>\n",
       "    <tr>\n",
       "      <th>43023</th>\n",
       "      <td>7</td>\n",
       "      <td>0</td>\n",
       "      <td>7</td>\n",
       "      <td>4</td>\n",
       "      <td>0</td>\n",
       "      <td>0.571</td>\n",
       "      <td>0.0</td>\n",
       "      <td>1.000</td>\n",
       "      <td>0.000</td>\n",
       "      <td>6</td>\n",
       "      <td>...</td>\n",
       "      <td>0.0</td>\n",
       "      <td>0.0</td>\n",
       "      <td>0.0</td>\n",
       "      <td>0.0</td>\n",
       "      <td>0</td>\n",
       "      <td>0</td>\n",
       "      <td>ConsumerLoan</td>\n",
       "      <td>others</td>\n",
       "      <td>681</td>\n",
       "      <td>P2</td>\n",
       "    </tr>\n",
       "    <tr>\n",
       "      <th>29832</th>\n",
       "      <td>2</td>\n",
       "      <td>0</td>\n",
       "      <td>2</td>\n",
       "      <td>1</td>\n",
       "      <td>0</td>\n",
       "      <td>0.500</td>\n",
       "      <td>0.0</td>\n",
       "      <td>1.000</td>\n",
       "      <td>0.000</td>\n",
       "      <td>1</td>\n",
       "      <td>...</td>\n",
       "      <td>0.0</td>\n",
       "      <td>0.0</td>\n",
       "      <td>0.0</td>\n",
       "      <td>0.0</td>\n",
       "      <td>0</td>\n",
       "      <td>0</td>\n",
       "      <td>ConsumerLoan</td>\n",
       "      <td>others</td>\n",
       "      <td>704</td>\n",
       "      <td>P1</td>\n",
       "    </tr>\n",
       "    <tr>\n",
       "      <th>24519</th>\n",
       "      <td>2</td>\n",
       "      <td>0</td>\n",
       "      <td>2</td>\n",
       "      <td>0</td>\n",
       "      <td>0</td>\n",
       "      <td>0.000</td>\n",
       "      <td>0.0</td>\n",
       "      <td>1.000</td>\n",
       "      <td>0.000</td>\n",
       "      <td>0</td>\n",
       "      <td>...</td>\n",
       "      <td>0.0</td>\n",
       "      <td>0.0</td>\n",
       "      <td>0.0</td>\n",
       "      <td>0.0</td>\n",
       "      <td>0</td>\n",
       "      <td>0</td>\n",
       "      <td>others</td>\n",
       "      <td>others</td>\n",
       "      <td>666</td>\n",
       "      <td>P3</td>\n",
       "    </tr>\n",
       "    <tr>\n",
       "      <th>41100</th>\n",
       "      <td>1</td>\n",
       "      <td>0</td>\n",
       "      <td>1</td>\n",
       "      <td>0</td>\n",
       "      <td>0</td>\n",
       "      <td>0.000</td>\n",
       "      <td>0.0</td>\n",
       "      <td>1.000</td>\n",
       "      <td>0.000</td>\n",
       "      <td>0</td>\n",
       "      <td>...</td>\n",
       "      <td>0.0</td>\n",
       "      <td>0.0</td>\n",
       "      <td>0.0</td>\n",
       "      <td>0.0</td>\n",
       "      <td>0</td>\n",
       "      <td>0</td>\n",
       "      <td>ConsumerLoan</td>\n",
       "      <td>CC</td>\n",
       "      <td>661</td>\n",
       "      <td>P3</td>\n",
       "    </tr>\n",
       "    <tr>\n",
       "      <th>33626</th>\n",
       "      <td>1</td>\n",
       "      <td>0</td>\n",
       "      <td>1</td>\n",
       "      <td>1</td>\n",
       "      <td>0</td>\n",
       "      <td>1.000</td>\n",
       "      <td>0.0</td>\n",
       "      <td>1.000</td>\n",
       "      <td>0.000</td>\n",
       "      <td>1</td>\n",
       "      <td>...</td>\n",
       "      <td>1.0</td>\n",
       "      <td>0.0</td>\n",
       "      <td>1.0</td>\n",
       "      <td>0.0</td>\n",
       "      <td>0</td>\n",
       "      <td>0</td>\n",
       "      <td>others</td>\n",
       "      <td>others</td>\n",
       "      <td>645</td>\n",
       "      <td>P4</td>\n",
       "    </tr>\n",
       "    <tr>\n",
       "      <th>41173</th>\n",
       "      <td>8</td>\n",
       "      <td>4</td>\n",
       "      <td>4</td>\n",
       "      <td>1</td>\n",
       "      <td>0</td>\n",
       "      <td>0.125</td>\n",
       "      <td>0.0</td>\n",
       "      <td>0.500</td>\n",
       "      <td>0.500</td>\n",
       "      <td>2</td>\n",
       "      <td>...</td>\n",
       "      <td>0.0</td>\n",
       "      <td>0.0</td>\n",
       "      <td>0.0</td>\n",
       "      <td>0.0</td>\n",
       "      <td>0</td>\n",
       "      <td>0</td>\n",
       "      <td>ConsumerLoan</td>\n",
       "      <td>CC</td>\n",
       "      <td>665</td>\n",
       "      <td>P3</td>\n",
       "    </tr>\n",
       "    <tr>\n",
       "      <th>40912</th>\n",
       "      <td>11</td>\n",
       "      <td>1</td>\n",
       "      <td>10</td>\n",
       "      <td>0</td>\n",
       "      <td>0</td>\n",
       "      <td>0.000</td>\n",
       "      <td>0.0</td>\n",
       "      <td>0.909</td>\n",
       "      <td>0.091</td>\n",
       "      <td>7</td>\n",
       "      <td>...</td>\n",
       "      <td>1.0</td>\n",
       "      <td>0.0</td>\n",
       "      <td>1.0</td>\n",
       "      <td>0.0</td>\n",
       "      <td>0</td>\n",
       "      <td>0</td>\n",
       "      <td>PL</td>\n",
       "      <td>others</td>\n",
       "      <td>681</td>\n",
       "      <td>P2</td>\n",
       "    </tr>\n",
       "    <tr>\n",
       "      <th>18646</th>\n",
       "      <td>2</td>\n",
       "      <td>1</td>\n",
       "      <td>1</td>\n",
       "      <td>2</td>\n",
       "      <td>1</td>\n",
       "      <td>1.000</td>\n",
       "      <td>0.5</td>\n",
       "      <td>0.500</td>\n",
       "      <td>0.500</td>\n",
       "      <td>2</td>\n",
       "      <td>...</td>\n",
       "      <td>0.0</td>\n",
       "      <td>0.0</td>\n",
       "      <td>0.0</td>\n",
       "      <td>0.0</td>\n",
       "      <td>0</td>\n",
       "      <td>0</td>\n",
       "      <td>others</td>\n",
       "      <td>others</td>\n",
       "      <td>668</td>\n",
       "      <td>P3</td>\n",
       "    </tr>\n",
       "    <tr>\n",
       "      <th>22678</th>\n",
       "      <td>1</td>\n",
       "      <td>1</td>\n",
       "      <td>0</td>\n",
       "      <td>0</td>\n",
       "      <td>0</td>\n",
       "      <td>0.000</td>\n",
       "      <td>0.0</td>\n",
       "      <td>0.000</td>\n",
       "      <td>1.000</td>\n",
       "      <td>0</td>\n",
       "      <td>...</td>\n",
       "      <td>0.0</td>\n",
       "      <td>0.0</td>\n",
       "      <td>0.0</td>\n",
       "      <td>0.0</td>\n",
       "      <td>0</td>\n",
       "      <td>0</td>\n",
       "      <td>ConsumerLoan</td>\n",
       "      <td>ConsumerLoan</td>\n",
       "      <td>666</td>\n",
       "      <td>P3</td>\n",
       "    </tr>\n",
       "    <tr>\n",
       "      <th>27676</th>\n",
       "      <td>1</td>\n",
       "      <td>0</td>\n",
       "      <td>1</td>\n",
       "      <td>0</td>\n",
       "      <td>0</td>\n",
       "      <td>0.000</td>\n",
       "      <td>0.0</td>\n",
       "      <td>1.000</td>\n",
       "      <td>0.000</td>\n",
       "      <td>0</td>\n",
       "      <td>...</td>\n",
       "      <td>0.0</td>\n",
       "      <td>0.0</td>\n",
       "      <td>0.0</td>\n",
       "      <td>0.0</td>\n",
       "      <td>0</td>\n",
       "      <td>0</td>\n",
       "      <td>AL</td>\n",
       "      <td>others</td>\n",
       "      <td>674</td>\n",
       "      <td>P2</td>\n",
       "    </tr>\n",
       "  </tbody>\n",
       "</table>\n",
       "<p>10 rows × 78 columns</p>\n",
       "</div>"
      ],
      "text/plain": [
       "       Total_TL  Tot_Closed_TL  Tot_Active_TL  Total_TL_opened_L6M  \\\n",
       "43023         7              0              7                    4   \n",
       "29832         2              0              2                    1   \n",
       "24519         2              0              2                    0   \n",
       "41100         1              0              1                    0   \n",
       "33626         1              0              1                    1   \n",
       "41173         8              4              4                    1   \n",
       "40912        11              1             10                    0   \n",
       "18646         2              1              1                    2   \n",
       "22678         1              1              0                    0   \n",
       "27676         1              0              1                    0   \n",
       "\n",
       "       Tot_TL_closed_L6M  pct_tl_open_L6M  pct_tl_closed_L6M  pct_active_tl  \\\n",
       "43023                  0            0.571                0.0          1.000   \n",
       "29832                  0            0.500                0.0          1.000   \n",
       "24519                  0            0.000                0.0          1.000   \n",
       "41100                  0            0.000                0.0          1.000   \n",
       "33626                  0            1.000                0.0          1.000   \n",
       "41173                  0            0.125                0.0          0.500   \n",
       "40912                  0            0.000                0.0          0.909   \n",
       "18646                  1            1.000                0.5          0.500   \n",
       "22678                  0            0.000                0.0          0.000   \n",
       "27676                  0            0.000                0.0          1.000   \n",
       "\n",
       "       pct_closed_tl  Total_TL_opened_L12M  ...  pct_PL_enq_L6m_of_L12m  \\\n",
       "43023          0.000                     6  ...                     0.0   \n",
       "29832          0.000                     1  ...                     0.0   \n",
       "24519          0.000                     0  ...                     0.0   \n",
       "41100          0.000                     0  ...                     0.0   \n",
       "33626          0.000                     1  ...                     1.0   \n",
       "41173          0.500                     2  ...                     0.0   \n",
       "40912          0.091                     7  ...                     1.0   \n",
       "18646          0.500                     2  ...                     0.0   \n",
       "22678          1.000                     0  ...                     0.0   \n",
       "27676          0.000                     0  ...                     0.0   \n",
       "\n",
       "       pct_CC_enq_L6m_of_L12m  pct_PL_enq_L6m_of_ever  pct_CC_enq_L6m_of_ever  \\\n",
       "43023                     0.0                     0.0                     0.0   \n",
       "29832                     0.0                     0.0                     0.0   \n",
       "24519                     0.0                     0.0                     0.0   \n",
       "41100                     0.0                     0.0                     0.0   \n",
       "33626                     0.0                     1.0                     0.0   \n",
       "41173                     0.0                     0.0                     0.0   \n",
       "40912                     0.0                     1.0                     0.0   \n",
       "18646                     0.0                     0.0                     0.0   \n",
       "22678                     0.0                     0.0                     0.0   \n",
       "27676                     0.0                     0.0                     0.0   \n",
       "\n",
       "       HL_Flag  GL_Flag  last_prod_enq2  first_prod_enq2  Credit_Score  \\\n",
       "43023        0        0    ConsumerLoan           others           681   \n",
       "29832        0        0    ConsumerLoan           others           704   \n",
       "24519        0        0          others           others           666   \n",
       "41100        0        0    ConsumerLoan               CC           661   \n",
       "33626        0        0          others           others           645   \n",
       "41173        0        0    ConsumerLoan               CC           665   \n",
       "40912        0        0              PL           others           681   \n",
       "18646        0        0          others           others           668   \n",
       "22678        0        0    ConsumerLoan     ConsumerLoan           666   \n",
       "27676        0        0              AL           others           674   \n",
       "\n",
       "       Approved_Flag  \n",
       "43023             P2  \n",
       "29832             P1  \n",
       "24519             P3  \n",
       "41100             P3  \n",
       "33626             P4  \n",
       "41173             P3  \n",
       "40912             P2  \n",
       "18646             P3  \n",
       "22678             P3  \n",
       "27676             P2  \n",
       "\n",
       "[10 rows x 78 columns]"
      ]
     },
     "execution_count": 25,
     "metadata": {},
     "output_type": "execute_result"
    }
   ],
   "source": [
    "final_df.sample(10)"
   ]
  },
  {
   "cell_type": "markdown",
   "id": "81d0fbd8",
   "metadata": {},
   "source": [
    "# Conclussion\n",
    "- After removing columns which contain `-99999` values more then `10000` shape of the dataframe is `51336` rows and `79` columns.\n",
    "- we can remove only those columns which contain `-99999` values more then `10000` but remember that `-99999` are also present in those columns which contain  `-99999` values less then `10000`.\n",
    "# Point to remember\n",
    "- we have 2 option for `handling the remaing missing values`.\n",
    "    ## Remove Missing Values\n",
    "    - first we can remove those value.\n",
    "        - we can remove the missing values if we maintain the balance of data we can remove them.\n",
    "    ## Fill Missing Values\n",
    "    - Fill these values\n",
    "        - Filling the missing values is a cretical thing but if we can loss lot of data after removing the missing values then we pick the filling missing values."
   ]
  },
  {
   "cell_type": "code",
   "execution_count": null,
   "id": "1d284451",
   "metadata": {},
   "outputs": [],
   "source": []
  },
  {
   "cell_type": "markdown",
   "id": "b13ec526",
   "metadata": {},
   "source": [
    "- **Try to remove rows that contain `-99999` value**"
   ]
  },
  {
   "cell_type": "code",
   "execution_count": 26,
   "id": "ffabaed3",
   "metadata": {},
   "outputs": [
    {
     "name": "stdout",
     "output_type": "stream",
     "text": [
      "51336\n",
      "51336\n",
      "51336\n",
      "51336\n",
      "51336\n",
      "51336\n",
      "51336\n",
      "51336\n",
      "51336\n",
      "51336\n",
      "51336\n",
      "51336\n",
      "51336\n",
      "51336\n",
      "51336\n",
      "51336\n",
      "51336\n",
      "51336\n",
      "51336\n",
      "51336\n",
      "51336\n",
      "51336\n",
      "51336\n",
      "51296\n",
      "51296\n",
      "47042\n",
      "47042\n",
      "47042\n",
      "47042\n",
      "47042\n",
      "47042\n",
      "47042\n",
      "47042\n",
      "47042\n",
      "47042\n",
      "47042\n",
      "47042\n",
      "47042\n",
      "47042\n",
      "47042\n",
      "47042\n",
      "47042\n",
      "47042\n",
      "47042\n",
      "47042\n",
      "47042\n",
      "42099\n",
      "42099\n",
      "42099\n",
      "42099\n",
      "42099\n",
      "42099\n",
      "42099\n",
      "42099\n",
      "42099\n",
      "42099\n",
      "42099\n",
      "42099\n",
      "42099\n",
      "42099\n",
      "42099\n",
      "42099\n",
      "42099\n",
      "42099\n",
      "42099\n",
      "42064\n",
      "42064\n",
      "42064\n",
      "42064\n",
      "42064\n",
      "42064\n",
      "42064\n",
      "42064\n",
      "42064\n",
      "42064\n",
      "42064\n",
      "42064\n",
      "42064\n"
     ]
    }
   ],
   "source": [
    "for i in final_df.columns:\n",
    "    print(final_df[~(final_df[i]==-99999)].shape[0])\n",
    "    final_df=final_df[~(final_df[i]==-99999)]"
   ]
  },
  {
   "cell_type": "markdown",
   "id": "a99494f0",
   "metadata": {},
   "source": [
    "# Conclussion\n",
    "- Check the shape after removing.\n",
    "- Also check the ration before removing and after removing"
   ]
  },
  {
   "cell_type": "code",
   "execution_count": 27,
   "id": "bd38d4a1",
   "metadata": {},
   "outputs": [
    {
     "name": "stdout",
     "output_type": "stream",
     "text": [
      "Shape of the data after removing -9999 values is: (42064, 78)\n"
     ]
    }
   ],
   "source": [
    "print(f\"Shape of the data after removing -9999 values is: {final_df.shape}\")"
   ]
  },
  {
   "cell_type": "code",
   "execution_count": 28,
   "id": "a0409f47",
   "metadata": {},
   "outputs": [
    {
     "data": {
      "text/plain": [
       "81.93860059217702"
      ]
     },
     "execution_count": 28,
     "metadata": {},
     "output_type": "execute_result"
    }
   ],
   "source": [
    "len(final_df)/len(copy_df)*100"
   ]
  },
  {
   "cell_type": "markdown",
   "id": "437392b4",
   "metadata": {},
   "source": [
    "# Conclussion\n",
    "- we see that after removing the rows that contain `-99999` values we can maintain `80%` data.\n",
    "- Now we sholud pick remove missing value and we will remove them."
   ]
  },
  {
   "cell_type": "code",
   "execution_count": 29,
   "id": "fdda1566",
   "metadata": {},
   "outputs": [],
   "source": [
    "# final_df.to_csv('credit.csv',index=False)"
   ]
  },
  {
   "cell_type": "markdown",
   "id": "41e97d61",
   "metadata": {},
   "source": [
    "# Duplicates"
   ]
  },
  {
   "cell_type": "code",
   "execution_count": 30,
   "id": "fcd00619",
   "metadata": {},
   "outputs": [
    {
     "data": {
      "text/plain": [
       "0"
      ]
     },
     "execution_count": 30,
     "metadata": {},
     "output_type": "execute_result"
    }
   ],
   "source": [
    "final_df.duplicated().sum()"
   ]
  },
  {
   "cell_type": "markdown",
   "id": "06e4ff26",
   "metadata": {},
   "source": [
    "# Conclussion\n",
    "- There is no duplicate found in this dataset."
   ]
  },
  {
   "cell_type": "markdown",
   "id": "ce827697",
   "metadata": {},
   "source": [
    "# Unique Values"
   ]
  },
  {
   "cell_type": "code",
   "execution_count": 31,
   "id": "4d708fd4",
   "metadata": {},
   "outputs": [
    {
     "name": "stdout",
     "output_type": "stream",
     "text": [
      "Unique valeu in:  MARITALSTATUS\n",
      "['Married' 'Single']\n",
      "Total Unique values:  2\n",
      "--------------------------------------------------\n",
      "\n",
      "Unique valeu in:  EDUCATION\n",
      "['12TH' 'GRADUATE' 'SSC' 'POST-GRADUATE' 'UNDER GRADUATE' 'OTHERS'\n",
      " 'PROFESSIONAL']\n",
      "Total Unique values:  7\n",
      "--------------------------------------------------\n",
      "\n",
      "Unique valeu in:  GENDER\n",
      "['M' 'F']\n",
      "Total Unique values:  2\n",
      "--------------------------------------------------\n",
      "\n",
      "Unique valeu in:  last_prod_enq2\n",
      "['PL' 'ConsumerLoan' 'AL' 'CC' 'others' 'HL']\n",
      "Total Unique values:  6\n",
      "--------------------------------------------------\n",
      "\n",
      "Unique valeu in:  first_prod_enq2\n",
      "['PL' 'ConsumerLoan' 'others' 'AL' 'HL' 'CC']\n",
      "Total Unique values:  6\n",
      "--------------------------------------------------\n",
      "\n",
      "Unique valeu in:  Approved_Flag\n",
      "['P2' 'P1' 'P3' 'P4']\n",
      "Total Unique values:  4\n",
      "--------------------------------------------------\n",
      "\n"
     ]
    }
   ],
   "source": [
    "for i in final_df.describe(include='object'):\n",
    "    print(\"Unique valeu in: \",i)\n",
    "    \n",
    "    print(final_df[i].unique())\n",
    "    \n",
    "    print(\"Total Unique values: \",final_df[i].nunique())\n",
    "    \n",
    "    print(\"-\"*50)\n",
    "    print()"
   ]
  },
  {
   "cell_type": "markdown",
   "id": "c842a81d",
   "metadata": {},
   "source": [
    "# Conclussion\n",
    "- There are `2` unique values in  `MARITALSTATUS` i-e  `['Married' 'Single']`\n",
    "- There are `7` unique values in  `EDUCATION` i-e `['12TH' 'GRADUATE' 'SSC' 'POST-GRADUATE' 'UNDER GRADUATE' 'OTHERS'\n",
    " 'PROFESSIONAL']`\n",
    "- There are `2` unique values in  `GENDER` i-e `['M' 'F']`\n",
    "- There are `6` unique values in  `last_prod_enq2` i-e `['PL' 'ConsumerLoan' 'AL' 'CC' 'others' 'HL']`\n",
    "- There are `6` unique values in  `first_prod_enq2` i-e `['PL' 'ConsumerLoan' 'others' 'AL' 'HL' 'CC']`\n",
    "- There are `4` unique values in  `Approved_Flag` i-e `['P2' 'P1' 'P3' 'P4']`"
   ]
  },
  {
   "cell_type": "markdown",
   "id": "b49d05dc",
   "metadata": {},
   "source": [
    "# Statistical Summary"
   ]
  },
  {
   "cell_type": "code",
   "execution_count": 32,
   "id": "681d0a95",
   "metadata": {},
   "outputs": [
    {
     "data": {
      "text/html": [
       "<div>\n",
       "<style scoped>\n",
       "    .dataframe tbody tr th:only-of-type {\n",
       "        vertical-align: middle;\n",
       "    }\n",
       "\n",
       "    .dataframe tbody tr th {\n",
       "        vertical-align: top;\n",
       "    }\n",
       "\n",
       "    .dataframe thead th {\n",
       "        text-align: right;\n",
       "    }\n",
       "</style>\n",
       "<table border=\"1\" class=\"dataframe\">\n",
       "  <thead>\n",
       "    <tr style=\"text-align: right;\">\n",
       "      <th></th>\n",
       "      <th>Total_TL</th>\n",
       "      <th>Tot_Closed_TL</th>\n",
       "      <th>Tot_Active_TL</th>\n",
       "      <th>Total_TL_opened_L6M</th>\n",
       "      <th>Tot_TL_closed_L6M</th>\n",
       "      <th>pct_tl_open_L6M</th>\n",
       "      <th>pct_tl_closed_L6M</th>\n",
       "      <th>pct_active_tl</th>\n",
       "      <th>pct_closed_tl</th>\n",
       "      <th>Total_TL_opened_L12M</th>\n",
       "      <th>...</th>\n",
       "      <th>pct_currentBal_all_TL</th>\n",
       "      <th>CC_Flag</th>\n",
       "      <th>PL_Flag</th>\n",
       "      <th>pct_PL_enq_L6m_of_L12m</th>\n",
       "      <th>pct_CC_enq_L6m_of_L12m</th>\n",
       "      <th>pct_PL_enq_L6m_of_ever</th>\n",
       "      <th>pct_CC_enq_L6m_of_ever</th>\n",
       "      <th>HL_Flag</th>\n",
       "      <th>GL_Flag</th>\n",
       "      <th>Credit_Score</th>\n",
       "    </tr>\n",
       "  </thead>\n",
       "  <tbody>\n",
       "    <tr>\n",
       "      <th>count</th>\n",
       "      <td>42064.000000</td>\n",
       "      <td>42064.000000</td>\n",
       "      <td>42064.000000</td>\n",
       "      <td>42064.000000</td>\n",
       "      <td>42064.00000</td>\n",
       "      <td>42064.000000</td>\n",
       "      <td>42064.000000</td>\n",
       "      <td>42064.000000</td>\n",
       "      <td>42064.000000</td>\n",
       "      <td>42064.000000</td>\n",
       "      <td>...</td>\n",
       "      <td>42064.000000</td>\n",
       "      <td>42064.000000</td>\n",
       "      <td>42064.000000</td>\n",
       "      <td>42064.000000</td>\n",
       "      <td>42064.000000</td>\n",
       "      <td>42064.000000</td>\n",
       "      <td>42064.000000</td>\n",
       "      <td>42064.000000</td>\n",
       "      <td>42064.000000</td>\n",
       "      <td>42064.000000</td>\n",
       "    </tr>\n",
       "    <tr>\n",
       "      <th>mean</th>\n",
       "      <td>5.262980</td>\n",
       "      <td>2.967383</td>\n",
       "      <td>2.295597</td>\n",
       "      <td>0.812643</td>\n",
       "      <td>0.48992</td>\n",
       "      <td>0.179032</td>\n",
       "      <td>0.097783</td>\n",
       "      <td>0.577452</td>\n",
       "      <td>0.422548</td>\n",
       "      <td>1.672142</td>\n",
       "      <td>...</td>\n",
       "      <td>0.883693</td>\n",
       "      <td>0.102962</td>\n",
       "      <td>0.193063</td>\n",
       "      <td>0.219169</td>\n",
       "      <td>0.074833</td>\n",
       "      <td>0.195497</td>\n",
       "      <td>0.064186</td>\n",
       "      <td>0.252235</td>\n",
       "      <td>0.056580</td>\n",
       "      <td>679.326336</td>\n",
       "    </tr>\n",
       "    <tr>\n",
       "      <th>std</th>\n",
       "      <td>7.463383</td>\n",
       "      <td>6.141098</td>\n",
       "      <td>2.404086</td>\n",
       "      <td>1.383559</td>\n",
       "      <td>1.05892</td>\n",
       "      <td>0.278043</td>\n",
       "      <td>0.210957</td>\n",
       "      <td>0.366110</td>\n",
       "      <td>0.366110</td>\n",
       "      <td>2.249543</td>\n",
       "      <td>...</td>\n",
       "      <td>40.622275</td>\n",
       "      <td>0.303913</td>\n",
       "      <td>0.394707</td>\n",
       "      <td>0.395100</td>\n",
       "      <td>0.250658</td>\n",
       "      <td>0.367414</td>\n",
       "      <td>0.225989</td>\n",
       "      <td>0.434300</td>\n",
       "      <td>0.231042</td>\n",
       "      <td>21.133619</td>\n",
       "    </tr>\n",
       "    <tr>\n",
       "      <th>min</th>\n",
       "      <td>1.000000</td>\n",
       "      <td>0.000000</td>\n",
       "      <td>0.000000</td>\n",
       "      <td>0.000000</td>\n",
       "      <td>0.00000</td>\n",
       "      <td>0.000000</td>\n",
       "      <td>0.000000</td>\n",
       "      <td>0.000000</td>\n",
       "      <td>0.000000</td>\n",
       "      <td>0.000000</td>\n",
       "      <td>...</td>\n",
       "      <td>0.000000</td>\n",
       "      <td>0.000000</td>\n",
       "      <td>0.000000</td>\n",
       "      <td>0.000000</td>\n",
       "      <td>0.000000</td>\n",
       "      <td>0.000000</td>\n",
       "      <td>0.000000</td>\n",
       "      <td>0.000000</td>\n",
       "      <td>0.000000</td>\n",
       "      <td>469.000000</td>\n",
       "    </tr>\n",
       "    <tr>\n",
       "      <th>25%</th>\n",
       "      <td>1.000000</td>\n",
       "      <td>0.000000</td>\n",
       "      <td>1.000000</td>\n",
       "      <td>0.000000</td>\n",
       "      <td>0.00000</td>\n",
       "      <td>0.000000</td>\n",
       "      <td>0.000000</td>\n",
       "      <td>0.286000</td>\n",
       "      <td>0.000000</td>\n",
       "      <td>0.000000</td>\n",
       "      <td>...</td>\n",
       "      <td>0.152000</td>\n",
       "      <td>0.000000</td>\n",
       "      <td>0.000000</td>\n",
       "      <td>0.000000</td>\n",
       "      <td>0.000000</td>\n",
       "      <td>0.000000</td>\n",
       "      <td>0.000000</td>\n",
       "      <td>0.000000</td>\n",
       "      <td>0.000000</td>\n",
       "      <td>668.000000</td>\n",
       "    </tr>\n",
       "    <tr>\n",
       "      <th>50%</th>\n",
       "      <td>3.000000</td>\n",
       "      <td>1.000000</td>\n",
       "      <td>2.000000</td>\n",
       "      <td>0.000000</td>\n",
       "      <td>0.00000</td>\n",
       "      <td>0.000000</td>\n",
       "      <td>0.000000</td>\n",
       "      <td>0.545000</td>\n",
       "      <td>0.455000</td>\n",
       "      <td>1.000000</td>\n",
       "      <td>...</td>\n",
       "      <td>0.600000</td>\n",
       "      <td>0.000000</td>\n",
       "      <td>0.000000</td>\n",
       "      <td>0.000000</td>\n",
       "      <td>0.000000</td>\n",
       "      <td>0.000000</td>\n",
       "      <td>0.000000</td>\n",
       "      <td>0.000000</td>\n",
       "      <td>0.000000</td>\n",
       "      <td>679.000000</td>\n",
       "    </tr>\n",
       "    <tr>\n",
       "      <th>75%</th>\n",
       "      <td>6.000000</td>\n",
       "      <td>3.000000</td>\n",
       "      <td>3.000000</td>\n",
       "      <td>1.000000</td>\n",
       "      <td>1.00000</td>\n",
       "      <td>0.333000</td>\n",
       "      <td>0.100000</td>\n",
       "      <td>1.000000</td>\n",
       "      <td>0.714000</td>\n",
       "      <td>2.000000</td>\n",
       "      <td>...</td>\n",
       "      <td>0.860000</td>\n",
       "      <td>0.000000</td>\n",
       "      <td>0.000000</td>\n",
       "      <td>0.000000</td>\n",
       "      <td>0.000000</td>\n",
       "      <td>0.000000</td>\n",
       "      <td>0.000000</td>\n",
       "      <td>1.000000</td>\n",
       "      <td>0.000000</td>\n",
       "      <td>690.000000</td>\n",
       "    </tr>\n",
       "    <tr>\n",
       "      <th>max</th>\n",
       "      <td>235.000000</td>\n",
       "      <td>216.000000</td>\n",
       "      <td>47.000000</td>\n",
       "      <td>27.000000</td>\n",
       "      <td>19.00000</td>\n",
       "      <td>1.000000</td>\n",
       "      <td>1.000000</td>\n",
       "      <td>1.000000</td>\n",
       "      <td>1.000000</td>\n",
       "      <td>34.000000</td>\n",
       "      <td>...</td>\n",
       "      <td>6327.500000</td>\n",
       "      <td>1.000000</td>\n",
       "      <td>1.000000</td>\n",
       "      <td>1.000000</td>\n",
       "      <td>1.000000</td>\n",
       "      <td>1.000000</td>\n",
       "      <td>1.000000</td>\n",
       "      <td>1.000000</td>\n",
       "      <td>1.000000</td>\n",
       "      <td>809.000000</td>\n",
       "    </tr>\n",
       "  </tbody>\n",
       "</table>\n",
       "<p>8 rows × 72 columns</p>\n",
       "</div>"
      ],
      "text/plain": [
       "           Total_TL  Tot_Closed_TL  Tot_Active_TL  Total_TL_opened_L6M  \\\n",
       "count  42064.000000   42064.000000   42064.000000         42064.000000   \n",
       "mean       5.262980       2.967383       2.295597             0.812643   \n",
       "std        7.463383       6.141098       2.404086             1.383559   \n",
       "min        1.000000       0.000000       0.000000             0.000000   \n",
       "25%        1.000000       0.000000       1.000000             0.000000   \n",
       "50%        3.000000       1.000000       2.000000             0.000000   \n",
       "75%        6.000000       3.000000       3.000000             1.000000   \n",
       "max      235.000000     216.000000      47.000000            27.000000   \n",
       "\n",
       "       Tot_TL_closed_L6M  pct_tl_open_L6M  pct_tl_closed_L6M  pct_active_tl  \\\n",
       "count        42064.00000     42064.000000       42064.000000   42064.000000   \n",
       "mean             0.48992         0.179032           0.097783       0.577452   \n",
       "std              1.05892         0.278043           0.210957       0.366110   \n",
       "min              0.00000         0.000000           0.000000       0.000000   \n",
       "25%              0.00000         0.000000           0.000000       0.286000   \n",
       "50%              0.00000         0.000000           0.000000       0.545000   \n",
       "75%              1.00000         0.333000           0.100000       1.000000   \n",
       "max             19.00000         1.000000           1.000000       1.000000   \n",
       "\n",
       "       pct_closed_tl  Total_TL_opened_L12M  ...  pct_currentBal_all_TL  \\\n",
       "count   42064.000000          42064.000000  ...           42064.000000   \n",
       "mean        0.422548              1.672142  ...               0.883693   \n",
       "std         0.366110              2.249543  ...              40.622275   \n",
       "min         0.000000              0.000000  ...               0.000000   \n",
       "25%         0.000000              0.000000  ...               0.152000   \n",
       "50%         0.455000              1.000000  ...               0.600000   \n",
       "75%         0.714000              2.000000  ...               0.860000   \n",
       "max         1.000000             34.000000  ...            6327.500000   \n",
       "\n",
       "            CC_Flag       PL_Flag  pct_PL_enq_L6m_of_L12m  \\\n",
       "count  42064.000000  42064.000000            42064.000000   \n",
       "mean       0.102962      0.193063                0.219169   \n",
       "std        0.303913      0.394707                0.395100   \n",
       "min        0.000000      0.000000                0.000000   \n",
       "25%        0.000000      0.000000                0.000000   \n",
       "50%        0.000000      0.000000                0.000000   \n",
       "75%        0.000000      0.000000                0.000000   \n",
       "max        1.000000      1.000000                1.000000   \n",
       "\n",
       "       pct_CC_enq_L6m_of_L12m  pct_PL_enq_L6m_of_ever  pct_CC_enq_L6m_of_ever  \\\n",
       "count            42064.000000            42064.000000            42064.000000   \n",
       "mean                 0.074833                0.195497                0.064186   \n",
       "std                  0.250658                0.367414                0.225989   \n",
       "min                  0.000000                0.000000                0.000000   \n",
       "25%                  0.000000                0.000000                0.000000   \n",
       "50%                  0.000000                0.000000                0.000000   \n",
       "75%                  0.000000                0.000000                0.000000   \n",
       "max                  1.000000                1.000000                1.000000   \n",
       "\n",
       "            HL_Flag       GL_Flag  Credit_Score  \n",
       "count  42064.000000  42064.000000  42064.000000  \n",
       "mean       0.252235      0.056580    679.326336  \n",
       "std        0.434300      0.231042     21.133619  \n",
       "min        0.000000      0.000000    469.000000  \n",
       "25%        0.000000      0.000000    668.000000  \n",
       "50%        0.000000      0.000000    679.000000  \n",
       "75%        1.000000      0.000000    690.000000  \n",
       "max        1.000000      1.000000    809.000000  \n",
       "\n",
       "[8 rows x 72 columns]"
      ]
     },
     "execution_count": 32,
     "metadata": {},
     "output_type": "execute_result"
    }
   ],
   "source": [
    "final_df.describe()"
   ]
  },
  {
   "cell_type": "markdown",
   "id": "b5470deb",
   "metadata": {},
   "source": [
    "# Conclussion\n",
    "- **We can't see clear information first we can do `Feature Engnering` and then we can see clear information.**"
   ]
  },
  {
   "cell_type": "markdown",
   "id": "4cab4486",
   "metadata": {},
   "source": [
    "# Saperate `dependend` and `Independent` col"
   ]
  },
  {
   "cell_type": "code",
   "execution_count": 35,
   "id": "e27fd3a5",
   "metadata": {},
   "outputs": [],
   "source": [
    "feature=final_df.drop(columns=['Approved_Flag'])\n",
    "label=final_df['Approved_Flag']"
   ]
  },
  {
   "cell_type": "markdown",
   "id": "124f06f4",
   "metadata": {},
   "source": [
    "# Encode the target column"
   ]
  },
  {
   "cell_type": "code",
   "execution_count": 36,
   "id": "0277da88",
   "metadata": {},
   "outputs": [],
   "source": [
    "from sklearn.preprocessing import LabelEncoder,OneHotEncoder"
   ]
  },
  {
   "cell_type": "code",
   "execution_count": 38,
   "id": "f0a7fc39",
   "metadata": {},
   "outputs": [],
   "source": [
    "encode=LabelEncoder()\n",
    "encode_label=encode.fit_transform(label)"
   ]
  },
  {
   "cell_type": "markdown",
   "id": "90aad895",
   "metadata": {},
   "source": [
    "# Saperate numerical and categorical col"
   ]
  },
  {
   "cell_type": "code",
   "execution_count": 42,
   "id": "3cbef210",
   "metadata": {},
   "outputs": [],
   "source": [
    "num_col=feature.select_dtypes('number').columns\n",
    "cat_col=feature.select_dtypes('object').columns"
   ]
  },
  {
   "cell_type": "code",
   "execution_count": 43,
   "id": "389fc557",
   "metadata": {},
   "outputs": [
    {
     "data": {
      "text/plain": [
       "Index(['Total_TL', 'Tot_Closed_TL', 'Tot_Active_TL', 'Total_TL_opened_L6M',\n",
       "       'Tot_TL_closed_L6M', 'pct_tl_open_L6M', 'pct_tl_closed_L6M',\n",
       "       'pct_active_tl', 'pct_closed_tl', 'Total_TL_opened_L12M',\n",
       "       'Tot_TL_closed_L12M', 'pct_tl_open_L12M', 'pct_tl_closed_L12M',\n",
       "       'Tot_Missed_Pmnt', 'Auto_TL', 'CC_TL', 'Consumer_TL', 'Gold_TL',\n",
       "       'Home_TL', 'PL_TL', 'Secured_TL', 'Unsecured_TL', 'Other_TL',\n",
       "       'Age_Oldest_TL', 'Age_Newest_TL', 'time_since_recent_payment',\n",
       "       'num_times_delinquent', 'max_recent_level_of_deliq', 'num_deliq_6mts',\n",
       "       'num_deliq_12mts', 'num_deliq_6_12mts', 'num_times_30p_dpd',\n",
       "       'num_times_60p_dpd', 'num_std', 'num_std_6mts', 'num_std_12mts',\n",
       "       'num_sub', 'num_sub_6mts', 'num_sub_12mts', 'num_dbt', 'num_dbt_6mts',\n",
       "       'num_dbt_12mts', 'num_lss', 'num_lss_6mts', 'num_lss_12mts',\n",
       "       'recent_level_of_deliq', 'tot_enq', 'CC_enq', 'CC_enq_L6m',\n",
       "       'CC_enq_L12m', 'PL_enq', 'PL_enq_L6m', 'PL_enq_L12m',\n",
       "       'time_since_recent_enq', 'enq_L12m', 'enq_L6m', 'enq_L3m', 'AGE',\n",
       "       'NETMONTHLYINCOME', 'Time_With_Curr_Empr', 'pct_of_active_TLs_ever',\n",
       "       'pct_opened_TLs_L6m_of_L12m', 'pct_currentBal_all_TL', 'CC_Flag',\n",
       "       'PL_Flag', 'pct_PL_enq_L6m_of_L12m', 'pct_CC_enq_L6m_of_L12m',\n",
       "       'pct_PL_enq_L6m_of_ever', 'pct_CC_enq_L6m_of_ever', 'HL_Flag',\n",
       "       'GL_Flag', 'Credit_Score'],\n",
       "      dtype='object')"
      ]
     },
     "execution_count": 43,
     "metadata": {},
     "output_type": "execute_result"
    }
   ],
   "source": [
    "num_col"
   ]
  },
  {
   "cell_type": "code",
   "execution_count": 44,
   "id": "ebc6d4ff",
   "metadata": {},
   "outputs": [
    {
     "data": {
      "text/plain": [
       "Index(['MARITALSTATUS', 'EDUCATION', 'GENDER', 'last_prod_enq2',\n",
       "       'first_prod_enq2'],\n",
       "      dtype='object')"
      ]
     },
     "execution_count": 44,
     "metadata": {},
     "output_type": "execute_result"
    }
   ],
   "source": [
    "cat_col"
   ]
  },
  {
   "cell_type": "markdown",
   "id": "12a5bfea",
   "metadata": {},
   "source": [
    "# Train Test Split"
   ]
  },
  {
   "cell_type": "code",
   "execution_count": 45,
   "id": "fbfe51d0",
   "metadata": {},
   "outputs": [],
   "source": [
    "from sklearn.model_selection import train_test_split"
   ]
  },
  {
   "cell_type": "code",
   "execution_count": 46,
   "id": "59617d67",
   "metadata": {},
   "outputs": [],
   "source": [
    "x_train,x_test,y_train,y_test=train_test_split(feature,encode_label,test_size=0.2,random_state=43)"
   ]
  },
  {
   "cell_type": "code",
   "execution_count": 48,
   "id": "4e5ce38c",
   "metadata": {},
   "outputs": [
    {
     "data": {
      "text/plain": [
       "(33651, 77)"
      ]
     },
     "execution_count": 48,
     "metadata": {},
     "output_type": "execute_result"
    }
   ],
   "source": [
    "x_train.shape"
   ]
  },
  {
   "cell_type": "code",
   "execution_count": 49,
   "id": "0f71ca9a",
   "metadata": {},
   "outputs": [
    {
     "data": {
      "text/plain": [
       "(8413, 77)"
      ]
     },
     "execution_count": 49,
     "metadata": {},
     "output_type": "execute_result"
    }
   ],
   "source": [
    "x_test.shape"
   ]
  },
  {
   "cell_type": "code",
   "execution_count": 91,
   "id": "4ce62d9b",
   "metadata": {},
   "outputs": [
    {
     "data": {
      "text/plain": [
       "(8413,)"
      ]
     },
     "execution_count": 91,
     "metadata": {},
     "output_type": "execute_result"
    }
   ],
   "source": [
    "y_test.shape"
   ]
  },
  {
   "cell_type": "markdown",
   "id": "8809cb8a",
   "metadata": {},
   "source": [
    "# Building Pipelines"
   ]
  },
  {
   "cell_type": "code",
   "execution_count": 52,
   "id": "3ee8ac5a",
   "metadata": {},
   "outputs": [],
   "source": [
    "from sklearn.pipeline import Pipeline\n",
    "from sklearn.preprocessing import StandardScaler\n",
    "from sklearn.impute import SimpleImputer"
   ]
  },
  {
   "cell_type": "markdown",
   "id": "dc7e0954",
   "metadata": {},
   "source": [
    "# Num_pipeline"
   ]
  },
  {
   "cell_type": "code",
   "execution_count": 53,
   "id": "170c8b3c",
   "metadata": {},
   "outputs": [
    {
     "data": {
      "text/html": [
       "<style>#sk-container-id-1 {color: black;}#sk-container-id-1 pre{padding: 0;}#sk-container-id-1 div.sk-toggleable {background-color: white;}#sk-container-id-1 label.sk-toggleable__label {cursor: pointer;display: block;width: 100%;margin-bottom: 0;padding: 0.3em;box-sizing: border-box;text-align: center;}#sk-container-id-1 label.sk-toggleable__label-arrow:before {content: \"▸\";float: left;margin-right: 0.25em;color: #696969;}#sk-container-id-1 label.sk-toggleable__label-arrow:hover:before {color: black;}#sk-container-id-1 div.sk-estimator:hover label.sk-toggleable__label-arrow:before {color: black;}#sk-container-id-1 div.sk-toggleable__content {max-height: 0;max-width: 0;overflow: hidden;text-align: left;background-color: #f0f8ff;}#sk-container-id-1 div.sk-toggleable__content pre {margin: 0.2em;color: black;border-radius: 0.25em;background-color: #f0f8ff;}#sk-container-id-1 input.sk-toggleable__control:checked~div.sk-toggleable__content {max-height: 200px;max-width: 100%;overflow: auto;}#sk-container-id-1 input.sk-toggleable__control:checked~label.sk-toggleable__label-arrow:before {content: \"▾\";}#sk-container-id-1 div.sk-estimator input.sk-toggleable__control:checked~label.sk-toggleable__label {background-color: #d4ebff;}#sk-container-id-1 div.sk-label input.sk-toggleable__control:checked~label.sk-toggleable__label {background-color: #d4ebff;}#sk-container-id-1 input.sk-hidden--visually {border: 0;clip: rect(1px 1px 1px 1px);clip: rect(1px, 1px, 1px, 1px);height: 1px;margin: -1px;overflow: hidden;padding: 0;position: absolute;width: 1px;}#sk-container-id-1 div.sk-estimator {font-family: monospace;background-color: #f0f8ff;border: 1px dotted black;border-radius: 0.25em;box-sizing: border-box;margin-bottom: 0.5em;}#sk-container-id-1 div.sk-estimator:hover {background-color: #d4ebff;}#sk-container-id-1 div.sk-parallel-item::after {content: \"\";width: 100%;border-bottom: 1px solid gray;flex-grow: 1;}#sk-container-id-1 div.sk-label:hover label.sk-toggleable__label {background-color: #d4ebff;}#sk-container-id-1 div.sk-serial::before {content: \"\";position: absolute;border-left: 1px solid gray;box-sizing: border-box;top: 0;bottom: 0;left: 50%;z-index: 0;}#sk-container-id-1 div.sk-serial {display: flex;flex-direction: column;align-items: center;background-color: white;padding-right: 0.2em;padding-left: 0.2em;position: relative;}#sk-container-id-1 div.sk-item {position: relative;z-index: 1;}#sk-container-id-1 div.sk-parallel {display: flex;align-items: stretch;justify-content: center;background-color: white;position: relative;}#sk-container-id-1 div.sk-item::before, #sk-container-id-1 div.sk-parallel-item::before {content: \"\";position: absolute;border-left: 1px solid gray;box-sizing: border-box;top: 0;bottom: 0;left: 50%;z-index: -1;}#sk-container-id-1 div.sk-parallel-item {display: flex;flex-direction: column;z-index: 1;position: relative;background-color: white;}#sk-container-id-1 div.sk-parallel-item:first-child::after {align-self: flex-end;width: 50%;}#sk-container-id-1 div.sk-parallel-item:last-child::after {align-self: flex-start;width: 50%;}#sk-container-id-1 div.sk-parallel-item:only-child::after {width: 0;}#sk-container-id-1 div.sk-dashed-wrapped {border: 1px dashed gray;margin: 0 0.4em 0.5em 0.4em;box-sizing: border-box;padding-bottom: 0.4em;background-color: white;}#sk-container-id-1 div.sk-label label {font-family: monospace;font-weight: bold;display: inline-block;line-height: 1.2em;}#sk-container-id-1 div.sk-label-container {text-align: center;}#sk-container-id-1 div.sk-container {/* jupyter's `normalize.less` sets `[hidden] { display: none; }` but bootstrap.min.css set `[hidden] { display: none !important; }` so we also need the `!important` here to be able to override the default hidden behavior on the sphinx rendered scikit-learn.org. See: https://github.com/scikit-learn/scikit-learn/issues/21755 */display: inline-block !important;position: relative;}#sk-container-id-1 div.sk-text-repr-fallback {display: none;}</style><div id=\"sk-container-id-1\" class=\"sk-top-container\"><div class=\"sk-text-repr-fallback\"><pre>Pipeline(steps=[(&#x27;impute&#x27;, SimpleImputer(strategy=&#x27;median&#x27;)),\n",
       "                (&#x27;Scale&#x27;, StandardScaler())])</pre><b>In a Jupyter environment, please rerun this cell to show the HTML representation or trust the notebook. <br />On GitHub, the HTML representation is unable to render, please try loading this page with nbviewer.org.</b></div><div class=\"sk-container\" hidden><div class=\"sk-item sk-dashed-wrapped\"><div class=\"sk-label-container\"><div class=\"sk-label sk-toggleable\"><input class=\"sk-toggleable__control sk-hidden--visually\" id=\"sk-estimator-id-1\" type=\"checkbox\" ><label for=\"sk-estimator-id-1\" class=\"sk-toggleable__label sk-toggleable__label-arrow\">Pipeline</label><div class=\"sk-toggleable__content\"><pre>Pipeline(steps=[(&#x27;impute&#x27;, SimpleImputer(strategy=&#x27;median&#x27;)),\n",
       "                (&#x27;Scale&#x27;, StandardScaler())])</pre></div></div></div><div class=\"sk-serial\"><div class=\"sk-item\"><div class=\"sk-estimator sk-toggleable\"><input class=\"sk-toggleable__control sk-hidden--visually\" id=\"sk-estimator-id-2\" type=\"checkbox\" ><label for=\"sk-estimator-id-2\" class=\"sk-toggleable__label sk-toggleable__label-arrow\">SimpleImputer</label><div class=\"sk-toggleable__content\"><pre>SimpleImputer(strategy=&#x27;median&#x27;)</pre></div></div></div><div class=\"sk-item\"><div class=\"sk-estimator sk-toggleable\"><input class=\"sk-toggleable__control sk-hidden--visually\" id=\"sk-estimator-id-3\" type=\"checkbox\" ><label for=\"sk-estimator-id-3\" class=\"sk-toggleable__label sk-toggleable__label-arrow\">StandardScaler</label><div class=\"sk-toggleable__content\"><pre>StandardScaler()</pre></div></div></div></div></div></div></div>"
      ],
      "text/plain": [
       "Pipeline(steps=[('impute', SimpleImputer(strategy='median')),\n",
       "                ('Scale', StandardScaler())])"
      ]
     },
     "execution_count": 53,
     "metadata": {},
     "output_type": "execute_result"
    }
   ],
   "source": [
    "num_pipe=Pipeline(steps=[\n",
    "    (\"impute\",SimpleImputer(strategy='median')),\n",
    "    ('Scale',StandardScaler())\n",
    "])\n",
    "num_pipe"
   ]
  },
  {
   "cell_type": "code",
   "execution_count": 55,
   "id": "24e36915",
   "metadata": {},
   "outputs": [
    {
     "data": {
      "text/html": [
       "<style>#sk-container-id-3 {color: black;}#sk-container-id-3 pre{padding: 0;}#sk-container-id-3 div.sk-toggleable {background-color: white;}#sk-container-id-3 label.sk-toggleable__label {cursor: pointer;display: block;width: 100%;margin-bottom: 0;padding: 0.3em;box-sizing: border-box;text-align: center;}#sk-container-id-3 label.sk-toggleable__label-arrow:before {content: \"▸\";float: left;margin-right: 0.25em;color: #696969;}#sk-container-id-3 label.sk-toggleable__label-arrow:hover:before {color: black;}#sk-container-id-3 div.sk-estimator:hover label.sk-toggleable__label-arrow:before {color: black;}#sk-container-id-3 div.sk-toggleable__content {max-height: 0;max-width: 0;overflow: hidden;text-align: left;background-color: #f0f8ff;}#sk-container-id-3 div.sk-toggleable__content pre {margin: 0.2em;color: black;border-radius: 0.25em;background-color: #f0f8ff;}#sk-container-id-3 input.sk-toggleable__control:checked~div.sk-toggleable__content {max-height: 200px;max-width: 100%;overflow: auto;}#sk-container-id-3 input.sk-toggleable__control:checked~label.sk-toggleable__label-arrow:before {content: \"▾\";}#sk-container-id-3 div.sk-estimator input.sk-toggleable__control:checked~label.sk-toggleable__label {background-color: #d4ebff;}#sk-container-id-3 div.sk-label input.sk-toggleable__control:checked~label.sk-toggleable__label {background-color: #d4ebff;}#sk-container-id-3 input.sk-hidden--visually {border: 0;clip: rect(1px 1px 1px 1px);clip: rect(1px, 1px, 1px, 1px);height: 1px;margin: -1px;overflow: hidden;padding: 0;position: absolute;width: 1px;}#sk-container-id-3 div.sk-estimator {font-family: monospace;background-color: #f0f8ff;border: 1px dotted black;border-radius: 0.25em;box-sizing: border-box;margin-bottom: 0.5em;}#sk-container-id-3 div.sk-estimator:hover {background-color: #d4ebff;}#sk-container-id-3 div.sk-parallel-item::after {content: \"\";width: 100%;border-bottom: 1px solid gray;flex-grow: 1;}#sk-container-id-3 div.sk-label:hover label.sk-toggleable__label {background-color: #d4ebff;}#sk-container-id-3 div.sk-serial::before {content: \"\";position: absolute;border-left: 1px solid gray;box-sizing: border-box;top: 0;bottom: 0;left: 50%;z-index: 0;}#sk-container-id-3 div.sk-serial {display: flex;flex-direction: column;align-items: center;background-color: white;padding-right: 0.2em;padding-left: 0.2em;position: relative;}#sk-container-id-3 div.sk-item {position: relative;z-index: 1;}#sk-container-id-3 div.sk-parallel {display: flex;align-items: stretch;justify-content: center;background-color: white;position: relative;}#sk-container-id-3 div.sk-item::before, #sk-container-id-3 div.sk-parallel-item::before {content: \"\";position: absolute;border-left: 1px solid gray;box-sizing: border-box;top: 0;bottom: 0;left: 50%;z-index: -1;}#sk-container-id-3 div.sk-parallel-item {display: flex;flex-direction: column;z-index: 1;position: relative;background-color: white;}#sk-container-id-3 div.sk-parallel-item:first-child::after {align-self: flex-end;width: 50%;}#sk-container-id-3 div.sk-parallel-item:last-child::after {align-self: flex-start;width: 50%;}#sk-container-id-3 div.sk-parallel-item:only-child::after {width: 0;}#sk-container-id-3 div.sk-dashed-wrapped {border: 1px dashed gray;margin: 0 0.4em 0.5em 0.4em;box-sizing: border-box;padding-bottom: 0.4em;background-color: white;}#sk-container-id-3 div.sk-label label {font-family: monospace;font-weight: bold;display: inline-block;line-height: 1.2em;}#sk-container-id-3 div.sk-label-container {text-align: center;}#sk-container-id-3 div.sk-container {/* jupyter's `normalize.less` sets `[hidden] { display: none; }` but bootstrap.min.css set `[hidden] { display: none !important; }` so we also need the `!important` here to be able to override the default hidden behavior on the sphinx rendered scikit-learn.org. See: https://github.com/scikit-learn/scikit-learn/issues/21755 */display: inline-block !important;position: relative;}#sk-container-id-3 div.sk-text-repr-fallback {display: none;}</style><div id=\"sk-container-id-3\" class=\"sk-top-container\"><div class=\"sk-text-repr-fallback\"><pre>Pipeline(steps=[(&#x27;impute&#x27;, SimpleImputer(strategy=&#x27;most_frequent&#x27;)),\n",
       "                (&#x27;Encode&#x27;,\n",
       "                 OneHotEncoder(drop=&#x27;first&#x27;, handle_unknown=&#x27;ignore&#x27;,\n",
       "                               sparse=False))])</pre><b>In a Jupyter environment, please rerun this cell to show the HTML representation or trust the notebook. <br />On GitHub, the HTML representation is unable to render, please try loading this page with nbviewer.org.</b></div><div class=\"sk-container\" hidden><div class=\"sk-item sk-dashed-wrapped\"><div class=\"sk-label-container\"><div class=\"sk-label sk-toggleable\"><input class=\"sk-toggleable__control sk-hidden--visually\" id=\"sk-estimator-id-7\" type=\"checkbox\" ><label for=\"sk-estimator-id-7\" class=\"sk-toggleable__label sk-toggleable__label-arrow\">Pipeline</label><div class=\"sk-toggleable__content\"><pre>Pipeline(steps=[(&#x27;impute&#x27;, SimpleImputer(strategy=&#x27;most_frequent&#x27;)),\n",
       "                (&#x27;Encode&#x27;,\n",
       "                 OneHotEncoder(drop=&#x27;first&#x27;, handle_unknown=&#x27;ignore&#x27;,\n",
       "                               sparse=False))])</pre></div></div></div><div class=\"sk-serial\"><div class=\"sk-item\"><div class=\"sk-estimator sk-toggleable\"><input class=\"sk-toggleable__control sk-hidden--visually\" id=\"sk-estimator-id-8\" type=\"checkbox\" ><label for=\"sk-estimator-id-8\" class=\"sk-toggleable__label sk-toggleable__label-arrow\">SimpleImputer</label><div class=\"sk-toggleable__content\"><pre>SimpleImputer(strategy=&#x27;most_frequent&#x27;)</pre></div></div></div><div class=\"sk-item\"><div class=\"sk-estimator sk-toggleable\"><input class=\"sk-toggleable__control sk-hidden--visually\" id=\"sk-estimator-id-9\" type=\"checkbox\" ><label for=\"sk-estimator-id-9\" class=\"sk-toggleable__label sk-toggleable__label-arrow\">OneHotEncoder</label><div class=\"sk-toggleable__content\"><pre>OneHotEncoder(drop=&#x27;first&#x27;, handle_unknown=&#x27;ignore&#x27;, sparse=False)</pre></div></div></div></div></div></div></div>"
      ],
      "text/plain": [
       "Pipeline(steps=[('impute', SimpleImputer(strategy='most_frequent')),\n",
       "                ('Encode',\n",
       "                 OneHotEncoder(drop='first', handle_unknown='ignore',\n",
       "                               sparse=False))])"
      ]
     },
     "execution_count": 55,
     "metadata": {},
     "output_type": "execute_result"
    }
   ],
   "source": [
    "cat_pipe=Pipeline(steps=[\n",
    "    (\"impute\",SimpleImputer(strategy='most_frequent')),\n",
    "    ('Encode',OneHotEncoder(drop='first',handle_unknown='ignore',sparse=False))\n",
    "])\n",
    "cat_pipe"
   ]
  },
  {
   "cell_type": "markdown",
   "id": "f23821b3",
   "metadata": {},
   "source": [
    "# Build Transformer"
   ]
  },
  {
   "cell_type": "code",
   "execution_count": 59,
   "id": "7b540348",
   "metadata": {},
   "outputs": [],
   "source": [
    "from sklearn.compose import ColumnTransformer\n",
    "from sklearn.decomposition import PCA"
   ]
  },
  {
   "cell_type": "code",
   "execution_count": 60,
   "id": "b6be2c82",
   "metadata": {},
   "outputs": [
    {
     "data": {
      "text/html": [
       "<style>#sk-container-id-6 {color: black;}#sk-container-id-6 pre{padding: 0;}#sk-container-id-6 div.sk-toggleable {background-color: white;}#sk-container-id-6 label.sk-toggleable__label {cursor: pointer;display: block;width: 100%;margin-bottom: 0;padding: 0.3em;box-sizing: border-box;text-align: center;}#sk-container-id-6 label.sk-toggleable__label-arrow:before {content: \"▸\";float: left;margin-right: 0.25em;color: #696969;}#sk-container-id-6 label.sk-toggleable__label-arrow:hover:before {color: black;}#sk-container-id-6 div.sk-estimator:hover label.sk-toggleable__label-arrow:before {color: black;}#sk-container-id-6 div.sk-toggleable__content {max-height: 0;max-width: 0;overflow: hidden;text-align: left;background-color: #f0f8ff;}#sk-container-id-6 div.sk-toggleable__content pre {margin: 0.2em;color: black;border-radius: 0.25em;background-color: #f0f8ff;}#sk-container-id-6 input.sk-toggleable__control:checked~div.sk-toggleable__content {max-height: 200px;max-width: 100%;overflow: auto;}#sk-container-id-6 input.sk-toggleable__control:checked~label.sk-toggleable__label-arrow:before {content: \"▾\";}#sk-container-id-6 div.sk-estimator input.sk-toggleable__control:checked~label.sk-toggleable__label {background-color: #d4ebff;}#sk-container-id-6 div.sk-label input.sk-toggleable__control:checked~label.sk-toggleable__label {background-color: #d4ebff;}#sk-container-id-6 input.sk-hidden--visually {border: 0;clip: rect(1px 1px 1px 1px);clip: rect(1px, 1px, 1px, 1px);height: 1px;margin: -1px;overflow: hidden;padding: 0;position: absolute;width: 1px;}#sk-container-id-6 div.sk-estimator {font-family: monospace;background-color: #f0f8ff;border: 1px dotted black;border-radius: 0.25em;box-sizing: border-box;margin-bottom: 0.5em;}#sk-container-id-6 div.sk-estimator:hover {background-color: #d4ebff;}#sk-container-id-6 div.sk-parallel-item::after {content: \"\";width: 100%;border-bottom: 1px solid gray;flex-grow: 1;}#sk-container-id-6 div.sk-label:hover label.sk-toggleable__label {background-color: #d4ebff;}#sk-container-id-6 div.sk-serial::before {content: \"\";position: absolute;border-left: 1px solid gray;box-sizing: border-box;top: 0;bottom: 0;left: 50%;z-index: 0;}#sk-container-id-6 div.sk-serial {display: flex;flex-direction: column;align-items: center;background-color: white;padding-right: 0.2em;padding-left: 0.2em;position: relative;}#sk-container-id-6 div.sk-item {position: relative;z-index: 1;}#sk-container-id-6 div.sk-parallel {display: flex;align-items: stretch;justify-content: center;background-color: white;position: relative;}#sk-container-id-6 div.sk-item::before, #sk-container-id-6 div.sk-parallel-item::before {content: \"\";position: absolute;border-left: 1px solid gray;box-sizing: border-box;top: 0;bottom: 0;left: 50%;z-index: -1;}#sk-container-id-6 div.sk-parallel-item {display: flex;flex-direction: column;z-index: 1;position: relative;background-color: white;}#sk-container-id-6 div.sk-parallel-item:first-child::after {align-self: flex-end;width: 50%;}#sk-container-id-6 div.sk-parallel-item:last-child::after {align-self: flex-start;width: 50%;}#sk-container-id-6 div.sk-parallel-item:only-child::after {width: 0;}#sk-container-id-6 div.sk-dashed-wrapped {border: 1px dashed gray;margin: 0 0.4em 0.5em 0.4em;box-sizing: border-box;padding-bottom: 0.4em;background-color: white;}#sk-container-id-6 div.sk-label label {font-family: monospace;font-weight: bold;display: inline-block;line-height: 1.2em;}#sk-container-id-6 div.sk-label-container {text-align: center;}#sk-container-id-6 div.sk-container {/* jupyter's `normalize.less` sets `[hidden] { display: none; }` but bootstrap.min.css set `[hidden] { display: none !important; }` so we also need the `!important` here to be able to override the default hidden behavior on the sphinx rendered scikit-learn.org. See: https://github.com/scikit-learn/scikit-learn/issues/21755 */display: inline-block !important;position: relative;}#sk-container-id-6 div.sk-text-repr-fallback {display: none;}</style><div id=\"sk-container-id-6\" class=\"sk-top-container\"><div class=\"sk-text-repr-fallback\"><pre>ColumnTransformer(transformers=[(&#x27;num_trans&#x27;,\n",
       "                                 Pipeline(steps=[(&#x27;impute&#x27;,\n",
       "                                                  SimpleImputer(strategy=&#x27;median&#x27;)),\n",
       "                                                 (&#x27;Scale&#x27;, StandardScaler())]),\n",
       "                                 Index([&#x27;Total_TL&#x27;, &#x27;Tot_Closed_TL&#x27;, &#x27;Tot_Active_TL&#x27;, &#x27;Total_TL_opened_L6M&#x27;,\n",
       "       &#x27;Tot_TL_closed_L6M&#x27;, &#x27;pct_tl_open_L6M&#x27;, &#x27;pct_tl_closed_L6M&#x27;,\n",
       "       &#x27;pct_active_tl&#x27;, &#x27;pct_closed_tl&#x27;, &#x27;Total_TL_opened_L12M&#x27;,\n",
       "       &#x27;Tot_TL_closed_L12M&#x27;, &#x27;pct_tl_op...\n",
       "       &#x27;pct_PL_enq_L6m_of_ever&#x27;, &#x27;pct_CC_enq_L6m_of_ever&#x27;, &#x27;HL_Flag&#x27;,\n",
       "       &#x27;GL_Flag&#x27;, &#x27;Credit_Score&#x27;],\n",
       "      dtype=&#x27;object&#x27;)),\n",
       "                                (&#x27;cat_trans&#x27;,\n",
       "                                 Pipeline(steps=[(&#x27;impute&#x27;,\n",
       "                                                  SimpleImputer(strategy=&#x27;most_frequent&#x27;)),\n",
       "                                                 (&#x27;Encode&#x27;,\n",
       "                                                  OneHotEncoder(drop=&#x27;first&#x27;,\n",
       "                                                                handle_unknown=&#x27;ignore&#x27;,\n",
       "                                                                sparse=False))]),\n",
       "                                 Index([&#x27;MARITALSTATUS&#x27;, &#x27;EDUCATION&#x27;, &#x27;GENDER&#x27;, &#x27;last_prod_enq2&#x27;,\n",
       "       &#x27;first_prod_enq2&#x27;],\n",
       "      dtype=&#x27;object&#x27;))])</pre><b>In a Jupyter environment, please rerun this cell to show the HTML representation or trust the notebook. <br />On GitHub, the HTML representation is unable to render, please try loading this page with nbviewer.org.</b></div><div class=\"sk-container\" hidden><div class=\"sk-item sk-dashed-wrapped\"><div class=\"sk-label-container\"><div class=\"sk-label sk-toggleable\"><input class=\"sk-toggleable__control sk-hidden--visually\" id=\"sk-estimator-id-24\" type=\"checkbox\" ><label for=\"sk-estimator-id-24\" class=\"sk-toggleable__label sk-toggleable__label-arrow\">ColumnTransformer</label><div class=\"sk-toggleable__content\"><pre>ColumnTransformer(transformers=[(&#x27;num_trans&#x27;,\n",
       "                                 Pipeline(steps=[(&#x27;impute&#x27;,\n",
       "                                                  SimpleImputer(strategy=&#x27;median&#x27;)),\n",
       "                                                 (&#x27;Scale&#x27;, StandardScaler())]),\n",
       "                                 Index([&#x27;Total_TL&#x27;, &#x27;Tot_Closed_TL&#x27;, &#x27;Tot_Active_TL&#x27;, &#x27;Total_TL_opened_L6M&#x27;,\n",
       "       &#x27;Tot_TL_closed_L6M&#x27;, &#x27;pct_tl_open_L6M&#x27;, &#x27;pct_tl_closed_L6M&#x27;,\n",
       "       &#x27;pct_active_tl&#x27;, &#x27;pct_closed_tl&#x27;, &#x27;Total_TL_opened_L12M&#x27;,\n",
       "       &#x27;Tot_TL_closed_L12M&#x27;, &#x27;pct_tl_op...\n",
       "       &#x27;pct_PL_enq_L6m_of_ever&#x27;, &#x27;pct_CC_enq_L6m_of_ever&#x27;, &#x27;HL_Flag&#x27;,\n",
       "       &#x27;GL_Flag&#x27;, &#x27;Credit_Score&#x27;],\n",
       "      dtype=&#x27;object&#x27;)),\n",
       "                                (&#x27;cat_trans&#x27;,\n",
       "                                 Pipeline(steps=[(&#x27;impute&#x27;,\n",
       "                                                  SimpleImputer(strategy=&#x27;most_frequent&#x27;)),\n",
       "                                                 (&#x27;Encode&#x27;,\n",
       "                                                  OneHotEncoder(drop=&#x27;first&#x27;,\n",
       "                                                                handle_unknown=&#x27;ignore&#x27;,\n",
       "                                                                sparse=False))]),\n",
       "                                 Index([&#x27;MARITALSTATUS&#x27;, &#x27;EDUCATION&#x27;, &#x27;GENDER&#x27;, &#x27;last_prod_enq2&#x27;,\n",
       "       &#x27;first_prod_enq2&#x27;],\n",
       "      dtype=&#x27;object&#x27;))])</pre></div></div></div><div class=\"sk-parallel\"><div class=\"sk-parallel-item\"><div class=\"sk-item\"><div class=\"sk-label-container\"><div class=\"sk-label sk-toggleable\"><input class=\"sk-toggleable__control sk-hidden--visually\" id=\"sk-estimator-id-25\" type=\"checkbox\" ><label for=\"sk-estimator-id-25\" class=\"sk-toggleable__label sk-toggleable__label-arrow\">num_trans</label><div class=\"sk-toggleable__content\"><pre>Index([&#x27;Total_TL&#x27;, &#x27;Tot_Closed_TL&#x27;, &#x27;Tot_Active_TL&#x27;, &#x27;Total_TL_opened_L6M&#x27;,\n",
       "       &#x27;Tot_TL_closed_L6M&#x27;, &#x27;pct_tl_open_L6M&#x27;, &#x27;pct_tl_closed_L6M&#x27;,\n",
       "       &#x27;pct_active_tl&#x27;, &#x27;pct_closed_tl&#x27;, &#x27;Total_TL_opened_L12M&#x27;,\n",
       "       &#x27;Tot_TL_closed_L12M&#x27;, &#x27;pct_tl_open_L12M&#x27;, &#x27;pct_tl_closed_L12M&#x27;,\n",
       "       &#x27;Tot_Missed_Pmnt&#x27;, &#x27;Auto_TL&#x27;, &#x27;CC_TL&#x27;, &#x27;Consumer_TL&#x27;, &#x27;Gold_TL&#x27;,\n",
       "       &#x27;Home_TL&#x27;, &#x27;PL_TL&#x27;, &#x27;Secured_TL&#x27;, &#x27;Unsecured_TL&#x27;, &#x27;Other_TL&#x27;,\n",
       "       &#x27;Age_Oldest_TL&#x27;, &#x27;Age_Newest_TL&#x27;, &#x27;time_since_recent_payment&#x27;,\n",
       "       &#x27;num_times_delinquent&#x27;, &#x27;max_recent_level_of_deliq&#x27;, &#x27;num_deliq_6mts&#x27;,\n",
       "       &#x27;num_deliq_12mts&#x27;, &#x27;num_deliq_6_12mts&#x27;, &#x27;num_times_30p_dpd&#x27;,\n",
       "       &#x27;num_times_60p_dpd&#x27;, &#x27;num_std&#x27;, &#x27;num_std_6mts&#x27;, &#x27;num_std_12mts&#x27;,\n",
       "       &#x27;num_sub&#x27;, &#x27;num_sub_6mts&#x27;, &#x27;num_sub_12mts&#x27;, &#x27;num_dbt&#x27;, &#x27;num_dbt_6mts&#x27;,\n",
       "       &#x27;num_dbt_12mts&#x27;, &#x27;num_lss&#x27;, &#x27;num_lss_6mts&#x27;, &#x27;num_lss_12mts&#x27;,\n",
       "       &#x27;recent_level_of_deliq&#x27;, &#x27;tot_enq&#x27;, &#x27;CC_enq&#x27;, &#x27;CC_enq_L6m&#x27;,\n",
       "       &#x27;CC_enq_L12m&#x27;, &#x27;PL_enq&#x27;, &#x27;PL_enq_L6m&#x27;, &#x27;PL_enq_L12m&#x27;,\n",
       "       &#x27;time_since_recent_enq&#x27;, &#x27;enq_L12m&#x27;, &#x27;enq_L6m&#x27;, &#x27;enq_L3m&#x27;, &#x27;AGE&#x27;,\n",
       "       &#x27;NETMONTHLYINCOME&#x27;, &#x27;Time_With_Curr_Empr&#x27;, &#x27;pct_of_active_TLs_ever&#x27;,\n",
       "       &#x27;pct_opened_TLs_L6m_of_L12m&#x27;, &#x27;pct_currentBal_all_TL&#x27;, &#x27;CC_Flag&#x27;,\n",
       "       &#x27;PL_Flag&#x27;, &#x27;pct_PL_enq_L6m_of_L12m&#x27;, &#x27;pct_CC_enq_L6m_of_L12m&#x27;,\n",
       "       &#x27;pct_PL_enq_L6m_of_ever&#x27;, &#x27;pct_CC_enq_L6m_of_ever&#x27;, &#x27;HL_Flag&#x27;,\n",
       "       &#x27;GL_Flag&#x27;, &#x27;Credit_Score&#x27;],\n",
       "      dtype=&#x27;object&#x27;)</pre></div></div></div><div class=\"sk-serial\"><div class=\"sk-item\"><div class=\"sk-serial\"><div class=\"sk-item\"><div class=\"sk-estimator sk-toggleable\"><input class=\"sk-toggleable__control sk-hidden--visually\" id=\"sk-estimator-id-26\" type=\"checkbox\" ><label for=\"sk-estimator-id-26\" class=\"sk-toggleable__label sk-toggleable__label-arrow\">SimpleImputer</label><div class=\"sk-toggleable__content\"><pre>SimpleImputer(strategy=&#x27;median&#x27;)</pre></div></div></div><div class=\"sk-item\"><div class=\"sk-estimator sk-toggleable\"><input class=\"sk-toggleable__control sk-hidden--visually\" id=\"sk-estimator-id-27\" type=\"checkbox\" ><label for=\"sk-estimator-id-27\" class=\"sk-toggleable__label sk-toggleable__label-arrow\">StandardScaler</label><div class=\"sk-toggleable__content\"><pre>StandardScaler()</pre></div></div></div></div></div></div></div></div><div class=\"sk-parallel-item\"><div class=\"sk-item\"><div class=\"sk-label-container\"><div class=\"sk-label sk-toggleable\"><input class=\"sk-toggleable__control sk-hidden--visually\" id=\"sk-estimator-id-28\" type=\"checkbox\" ><label for=\"sk-estimator-id-28\" class=\"sk-toggleable__label sk-toggleable__label-arrow\">cat_trans</label><div class=\"sk-toggleable__content\"><pre>Index([&#x27;MARITALSTATUS&#x27;, &#x27;EDUCATION&#x27;, &#x27;GENDER&#x27;, &#x27;last_prod_enq2&#x27;,\n",
       "       &#x27;first_prod_enq2&#x27;],\n",
       "      dtype=&#x27;object&#x27;)</pre></div></div></div><div class=\"sk-serial\"><div class=\"sk-item\"><div class=\"sk-serial\"><div class=\"sk-item\"><div class=\"sk-estimator sk-toggleable\"><input class=\"sk-toggleable__control sk-hidden--visually\" id=\"sk-estimator-id-29\" type=\"checkbox\" ><label for=\"sk-estimator-id-29\" class=\"sk-toggleable__label sk-toggleable__label-arrow\">SimpleImputer</label><div class=\"sk-toggleable__content\"><pre>SimpleImputer(strategy=&#x27;most_frequent&#x27;)</pre></div></div></div><div class=\"sk-item\"><div class=\"sk-estimator sk-toggleable\"><input class=\"sk-toggleable__control sk-hidden--visually\" id=\"sk-estimator-id-30\" type=\"checkbox\" ><label for=\"sk-estimator-id-30\" class=\"sk-toggleable__label sk-toggleable__label-arrow\">OneHotEncoder</label><div class=\"sk-toggleable__content\"><pre>OneHotEncoder(drop=&#x27;first&#x27;, handle_unknown=&#x27;ignore&#x27;, sparse=False)</pre></div></div></div></div></div></div></div></div></div></div></div></div>"
      ],
      "text/plain": [
       "ColumnTransformer(transformers=[('num_trans',\n",
       "                                 Pipeline(steps=[('impute',\n",
       "                                                  SimpleImputer(strategy='median')),\n",
       "                                                 ('Scale', StandardScaler())]),\n",
       "                                 Index(['Total_TL', 'Tot_Closed_TL', 'Tot_Active_TL', 'Total_TL_opened_L6M',\n",
       "       'Tot_TL_closed_L6M', 'pct_tl_open_L6M', 'pct_tl_closed_L6M',\n",
       "       'pct_active_tl', 'pct_closed_tl', 'Total_TL_opened_L12M',\n",
       "       'Tot_TL_closed_L12M', 'pct_tl_op...\n",
       "       'pct_PL_enq_L6m_of_ever', 'pct_CC_enq_L6m_of_ever', 'HL_Flag',\n",
       "       'GL_Flag', 'Credit_Score'],\n",
       "      dtype='object')),\n",
       "                                ('cat_trans',\n",
       "                                 Pipeline(steps=[('impute',\n",
       "                                                  SimpleImputer(strategy='most_frequent')),\n",
       "                                                 ('Encode',\n",
       "                                                  OneHotEncoder(drop='first',\n",
       "                                                                handle_unknown='ignore',\n",
       "                                                                sparse=False))]),\n",
       "                                 Index(['MARITALSTATUS', 'EDUCATION', 'GENDER', 'last_prod_enq2',\n",
       "       'first_prod_enq2'],\n",
       "      dtype='object'))])"
      ]
     },
     "execution_count": 60,
     "metadata": {},
     "output_type": "execute_result"
    }
   ],
   "source": [
    "process=ColumnTransformer(transformers=[\n",
    "    ('num_trans',num_pipe,num_col),\n",
    "    ('cat_trans',cat_pipe,cat_col)\n",
    "])\n",
    "process"
   ]
  },
  {
   "cell_type": "code",
   "execution_count": 94,
   "id": "fdc74062",
   "metadata": {},
   "outputs": [],
   "source": [
    "x_train_trf=temp.fit_transform(x_train)\n",
    "x_test_trf=temp.transform(x_test)"
   ]
  },
  {
   "cell_type": "code",
   "execution_count": 95,
   "id": "9742e3fe",
   "metadata": {},
   "outputs": [
    {
     "data": {
      "text/plain": [
       "array([[-0.56979317, -0.31728834, -0.96129089, ...,  0.        ,\n",
       "         0.        ,  0.        ],\n",
       "       [-0.56979317, -0.47966489, -0.54081594, ...,  0.        ,\n",
       "         1.        ,  0.        ],\n",
       "       [-0.56979317, -0.47966489, -0.54081594, ...,  0.        ,\n",
       "         0.        ,  1.        ],\n",
       "       ...,\n",
       "       [-0.56979317, -0.31728834, -0.96129089, ...,  0.        ,\n",
       "         0.        ,  0.        ],\n",
       "       [-0.56979317, -0.47966489, -0.54081594, ...,  0.        ,\n",
       "         0.        ,  1.        ],\n",
       "       [ 0.63960769,  0.4945944 ,  0.72060893, ...,  0.        ,\n",
       "         1.        ,  0.        ]])"
      ]
     },
     "execution_count": 95,
     "metadata": {},
     "output_type": "execute_result"
    }
   ],
   "source": [
    "x_train_trf"
   ]
  },
  {
   "cell_type": "markdown",
   "id": "de0593d6",
   "metadata": {},
   "source": [
    "# Train model without `PCA`"
   ]
  },
  {
   "cell_type": "code",
   "execution_count": 96,
   "id": "23e3e3e3",
   "metadata": {},
   "outputs": [],
   "source": [
    "from sklearn.ensemble import RandomForestClassifier"
   ]
  },
  {
   "cell_type": "code",
   "execution_count": 181,
   "id": "45ab9b8b",
   "metadata": {},
   "outputs": [
    {
     "data": {
      "text/html": [
       "<style>#sk-container-id-18 {color: black;}#sk-container-id-18 pre{padding: 0;}#sk-container-id-18 div.sk-toggleable {background-color: white;}#sk-container-id-18 label.sk-toggleable__label {cursor: pointer;display: block;width: 100%;margin-bottom: 0;padding: 0.3em;box-sizing: border-box;text-align: center;}#sk-container-id-18 label.sk-toggleable__label-arrow:before {content: \"▸\";float: left;margin-right: 0.25em;color: #696969;}#sk-container-id-18 label.sk-toggleable__label-arrow:hover:before {color: black;}#sk-container-id-18 div.sk-estimator:hover label.sk-toggleable__label-arrow:before {color: black;}#sk-container-id-18 div.sk-toggleable__content {max-height: 0;max-width: 0;overflow: hidden;text-align: left;background-color: #f0f8ff;}#sk-container-id-18 div.sk-toggleable__content pre {margin: 0.2em;color: black;border-radius: 0.25em;background-color: #f0f8ff;}#sk-container-id-18 input.sk-toggleable__control:checked~div.sk-toggleable__content {max-height: 200px;max-width: 100%;overflow: auto;}#sk-container-id-18 input.sk-toggleable__control:checked~label.sk-toggleable__label-arrow:before {content: \"▾\";}#sk-container-id-18 div.sk-estimator input.sk-toggleable__control:checked~label.sk-toggleable__label {background-color: #d4ebff;}#sk-container-id-18 div.sk-label input.sk-toggleable__control:checked~label.sk-toggleable__label {background-color: #d4ebff;}#sk-container-id-18 input.sk-hidden--visually {border: 0;clip: rect(1px 1px 1px 1px);clip: rect(1px, 1px, 1px, 1px);height: 1px;margin: -1px;overflow: hidden;padding: 0;position: absolute;width: 1px;}#sk-container-id-18 div.sk-estimator {font-family: monospace;background-color: #f0f8ff;border: 1px dotted black;border-radius: 0.25em;box-sizing: border-box;margin-bottom: 0.5em;}#sk-container-id-18 div.sk-estimator:hover {background-color: #d4ebff;}#sk-container-id-18 div.sk-parallel-item::after {content: \"\";width: 100%;border-bottom: 1px solid gray;flex-grow: 1;}#sk-container-id-18 div.sk-label:hover label.sk-toggleable__label {background-color: #d4ebff;}#sk-container-id-18 div.sk-serial::before {content: \"\";position: absolute;border-left: 1px solid gray;box-sizing: border-box;top: 0;bottom: 0;left: 50%;z-index: 0;}#sk-container-id-18 div.sk-serial {display: flex;flex-direction: column;align-items: center;background-color: white;padding-right: 0.2em;padding-left: 0.2em;position: relative;}#sk-container-id-18 div.sk-item {position: relative;z-index: 1;}#sk-container-id-18 div.sk-parallel {display: flex;align-items: stretch;justify-content: center;background-color: white;position: relative;}#sk-container-id-18 div.sk-item::before, #sk-container-id-18 div.sk-parallel-item::before {content: \"\";position: absolute;border-left: 1px solid gray;box-sizing: border-box;top: 0;bottom: 0;left: 50%;z-index: -1;}#sk-container-id-18 div.sk-parallel-item {display: flex;flex-direction: column;z-index: 1;position: relative;background-color: white;}#sk-container-id-18 div.sk-parallel-item:first-child::after {align-self: flex-end;width: 50%;}#sk-container-id-18 div.sk-parallel-item:last-child::after {align-self: flex-start;width: 50%;}#sk-container-id-18 div.sk-parallel-item:only-child::after {width: 0;}#sk-container-id-18 div.sk-dashed-wrapped {border: 1px dashed gray;margin: 0 0.4em 0.5em 0.4em;box-sizing: border-box;padding-bottom: 0.4em;background-color: white;}#sk-container-id-18 div.sk-label label {font-family: monospace;font-weight: bold;display: inline-block;line-height: 1.2em;}#sk-container-id-18 div.sk-label-container {text-align: center;}#sk-container-id-18 div.sk-container {/* jupyter's `normalize.less` sets `[hidden] { display: none; }` but bootstrap.min.css set `[hidden] { display: none !important; }` so we also need the `!important` here to be able to override the default hidden behavior on the sphinx rendered scikit-learn.org. See: https://github.com/scikit-learn/scikit-learn/issues/21755 */display: inline-block !important;position: relative;}#sk-container-id-18 div.sk-text-repr-fallback {display: none;}</style><div id=\"sk-container-id-18\" class=\"sk-top-container\"><div class=\"sk-text-repr-fallback\"><pre>RandomForestClassifier()</pre><b>In a Jupyter environment, please rerun this cell to show the HTML representation or trust the notebook. <br />On GitHub, the HTML representation is unable to render, please try loading this page with nbviewer.org.</b></div><div class=\"sk-container\" hidden><div class=\"sk-item\"><div class=\"sk-estimator sk-toggleable\"><input class=\"sk-toggleable__control sk-hidden--visually\" id=\"sk-estimator-id-64\" type=\"checkbox\" checked><label for=\"sk-estimator-id-64\" class=\"sk-toggleable__label sk-toggleable__label-arrow\">RandomForestClassifier</label><div class=\"sk-toggleable__content\"><pre>RandomForestClassifier()</pre></div></div></div></div></div>"
      ],
      "text/plain": [
       "RandomForestClassifier()"
      ]
     },
     "execution_count": 181,
     "metadata": {},
     "output_type": "execute_result"
    }
   ],
   "source": [
    "model=RandomForestClassifier()\n",
    "model.fit(x_train_trf,y_train)"
   ]
  },
  {
   "cell_type": "markdown",
   "id": "683163f1",
   "metadata": {},
   "source": [
    "# Prediction"
   ]
  },
  {
   "cell_type": "code",
   "execution_count": 182,
   "id": "91d7d630",
   "metadata": {},
   "outputs": [
    {
     "data": {
      "text/plain": [
       "array([1, 3, 1, ..., 3, 2, 1])"
      ]
     },
     "execution_count": 182,
     "metadata": {},
     "output_type": "execute_result"
    }
   ],
   "source": [
    "pre=model.predict(x_test_trf)\n",
    "pre"
   ]
  },
  {
   "cell_type": "markdown",
   "id": "c6fba879",
   "metadata": {},
   "source": [
    "# Evulation"
   ]
  },
  {
   "cell_type": "code",
   "execution_count": 183,
   "id": "141df1ce",
   "metadata": {},
   "outputs": [],
   "source": [
    "from sklearn.metrics import accuracy_score,confusion_matrix,precision_score,recall_score,f1_score"
   ]
  },
  {
   "cell_type": "code",
   "execution_count": 184,
   "id": "4870aa41",
   "metadata": {},
   "outputs": [],
   "source": [
    "def evulation(y_test,pre):\n",
    "    score=accuracy_score(y_test,pre)\n",
    "    prec=precision_score(y_test,pre,average='weighted')\n",
    "    recall=recall_score(y_test,pre,average='weighted')\n",
    "    f_score=f1_score(y_test,pre,average='weighted')\n",
    "    matrix=confusion_matrix(y_test,pre)\n",
    "    \n",
    "    result={\n",
    "        \"score\":score,\n",
    "        \"precession\":prec,\n",
    "        \"recall\":recall,\n",
    "        \"f1_score\":f_score,\n",
    "        \"Confussion_matric\":matrix\n",
    "    }\n",
    "    \n",
    "    return result"
   ]
  },
  {
   "cell_type": "code",
   "execution_count": 185,
   "id": "03cc2c47",
   "metadata": {},
   "outputs": [
    {
     "data": {
      "text/plain": [
       "0.987638179008677"
      ]
     },
     "execution_count": 185,
     "metadata": {},
     "output_type": "execute_result"
    }
   ],
   "source": [
    "evulation(y_test,pre)['score']"
   ]
  },
  {
   "cell_type": "code",
   "execution_count": 186,
   "id": "d4d50932",
   "metadata": {},
   "outputs": [
    {
     "data": {
      "text/plain": [
       "0.9878990838572245"
      ]
     },
     "execution_count": 186,
     "metadata": {},
     "output_type": "execute_result"
    }
   ],
   "source": [
    "evulation(y_test,pre)['precession']"
   ]
  },
  {
   "cell_type": "code",
   "execution_count": 187,
   "id": "f63e4b37",
   "metadata": {},
   "outputs": [
    {
     "data": {
      "text/plain": [
       "0.987638179008677"
      ]
     },
     "execution_count": 187,
     "metadata": {},
     "output_type": "execute_result"
    }
   ],
   "source": [
    "evulation(y_test,pre)['recall']"
   ]
  },
  {
   "cell_type": "code",
   "execution_count": 188,
   "id": "25e78fd7",
   "metadata": {},
   "outputs": [
    {
     "data": {
      "text/plain": [
       "0.9875953092206093"
      ]
     },
     "execution_count": 188,
     "metadata": {},
     "output_type": "execute_result"
    }
   ],
   "source": [
    "evulation(y_test,pre)['f1_score']"
   ]
  },
  {
   "cell_type": "code",
   "execution_count": 189,
   "id": "79b4a389",
   "metadata": {},
   "outputs": [
    {
     "data": {
      "text/plain": [
       "array([[ 951,   15,    4,    0],\n",
       "       [   0, 5152,    0,    0],\n",
       "       [  61,   16, 1188,    2],\n",
       "       [   0,    1,    5, 1018]], dtype=int64)"
      ]
     },
     "execution_count": 189,
     "metadata": {},
     "output_type": "execute_result"
    }
   ],
   "source": [
    "evulation(y_test,pre)['Confussion_matric']"
   ]
  },
  {
   "cell_type": "markdown",
   "id": "f021ad5b",
   "metadata": {},
   "source": [
    "# Cross Validation"
   ]
  },
  {
   "cell_type": "code",
   "execution_count": 190,
   "id": "e16b57fb",
   "metadata": {},
   "outputs": [],
   "source": [
    "from sklearn.model_selection import cross_val_score"
   ]
  },
  {
   "cell_type": "code",
   "execution_count": 193,
   "id": "c0ba27be",
   "metadata": {},
   "outputs": [],
   "source": [
    "train_score=cross_val_score(model,x_train_trf,y_train,cv=5,scoring='accuracy',n_jobs=-1).mean()\n",
    "test_score=cross_val_score(model,x_test_trf,y_test,cv=5,scoring='accuracy',n_jobs=-1).mean()"
   ]
  },
  {
   "cell_type": "code",
   "execution_count": 194,
   "id": "f973d9c7",
   "metadata": {},
   "outputs": [
    {
     "data": {
      "text/plain": [
       "0.986508538811465"
      ]
     },
     "execution_count": 194,
     "metadata": {},
     "output_type": "execute_result"
    }
   ],
   "source": [
    "train_score"
   ]
  },
  {
   "cell_type": "code",
   "execution_count": 195,
   "id": "e2f78837",
   "metadata": {},
   "outputs": [
    {
     "data": {
      "text/plain": [
       "0.9824076959000368"
      ]
     },
     "execution_count": 195,
     "metadata": {},
     "output_type": "execute_result"
    }
   ],
   "source": [
    "test_score"
   ]
  },
  {
   "cell_type": "markdown",
   "id": "e3f6112c",
   "metadata": {},
   "source": [
    "# Now Apply PCA"
   ]
  },
  {
   "cell_type": "markdown",
   "id": "001267ce",
   "metadata": {},
   "source": [
    "## PCA pipeline"
   ]
  },
  {
   "cell_type": "code",
   "execution_count": 196,
   "id": "7db245fd",
   "metadata": {},
   "outputs": [
    {
     "data": {
      "text/html": [
       "<style>#sk-container-id-19 {color: black;}#sk-container-id-19 pre{padding: 0;}#sk-container-id-19 div.sk-toggleable {background-color: white;}#sk-container-id-19 label.sk-toggleable__label {cursor: pointer;display: block;width: 100%;margin-bottom: 0;padding: 0.3em;box-sizing: border-box;text-align: center;}#sk-container-id-19 label.sk-toggleable__label-arrow:before {content: \"▸\";float: left;margin-right: 0.25em;color: #696969;}#sk-container-id-19 label.sk-toggleable__label-arrow:hover:before {color: black;}#sk-container-id-19 div.sk-estimator:hover label.sk-toggleable__label-arrow:before {color: black;}#sk-container-id-19 div.sk-toggleable__content {max-height: 0;max-width: 0;overflow: hidden;text-align: left;background-color: #f0f8ff;}#sk-container-id-19 div.sk-toggleable__content pre {margin: 0.2em;color: black;border-radius: 0.25em;background-color: #f0f8ff;}#sk-container-id-19 input.sk-toggleable__control:checked~div.sk-toggleable__content {max-height: 200px;max-width: 100%;overflow: auto;}#sk-container-id-19 input.sk-toggleable__control:checked~label.sk-toggleable__label-arrow:before {content: \"▾\";}#sk-container-id-19 div.sk-estimator input.sk-toggleable__control:checked~label.sk-toggleable__label {background-color: #d4ebff;}#sk-container-id-19 div.sk-label input.sk-toggleable__control:checked~label.sk-toggleable__label {background-color: #d4ebff;}#sk-container-id-19 input.sk-hidden--visually {border: 0;clip: rect(1px 1px 1px 1px);clip: rect(1px, 1px, 1px, 1px);height: 1px;margin: -1px;overflow: hidden;padding: 0;position: absolute;width: 1px;}#sk-container-id-19 div.sk-estimator {font-family: monospace;background-color: #f0f8ff;border: 1px dotted black;border-radius: 0.25em;box-sizing: border-box;margin-bottom: 0.5em;}#sk-container-id-19 div.sk-estimator:hover {background-color: #d4ebff;}#sk-container-id-19 div.sk-parallel-item::after {content: \"\";width: 100%;border-bottom: 1px solid gray;flex-grow: 1;}#sk-container-id-19 div.sk-label:hover label.sk-toggleable__label {background-color: #d4ebff;}#sk-container-id-19 div.sk-serial::before {content: \"\";position: absolute;border-left: 1px solid gray;box-sizing: border-box;top: 0;bottom: 0;left: 50%;z-index: 0;}#sk-container-id-19 div.sk-serial {display: flex;flex-direction: column;align-items: center;background-color: white;padding-right: 0.2em;padding-left: 0.2em;position: relative;}#sk-container-id-19 div.sk-item {position: relative;z-index: 1;}#sk-container-id-19 div.sk-parallel {display: flex;align-items: stretch;justify-content: center;background-color: white;position: relative;}#sk-container-id-19 div.sk-item::before, #sk-container-id-19 div.sk-parallel-item::before {content: \"\";position: absolute;border-left: 1px solid gray;box-sizing: border-box;top: 0;bottom: 0;left: 50%;z-index: -1;}#sk-container-id-19 div.sk-parallel-item {display: flex;flex-direction: column;z-index: 1;position: relative;background-color: white;}#sk-container-id-19 div.sk-parallel-item:first-child::after {align-self: flex-end;width: 50%;}#sk-container-id-19 div.sk-parallel-item:last-child::after {align-self: flex-start;width: 50%;}#sk-container-id-19 div.sk-parallel-item:only-child::after {width: 0;}#sk-container-id-19 div.sk-dashed-wrapped {border: 1px dashed gray;margin: 0 0.4em 0.5em 0.4em;box-sizing: border-box;padding-bottom: 0.4em;background-color: white;}#sk-container-id-19 div.sk-label label {font-family: monospace;font-weight: bold;display: inline-block;line-height: 1.2em;}#sk-container-id-19 div.sk-label-container {text-align: center;}#sk-container-id-19 div.sk-container {/* jupyter's `normalize.less` sets `[hidden] { display: none; }` but bootstrap.min.css set `[hidden] { display: none !important; }` so we also need the `!important` here to be able to override the default hidden behavior on the sphinx rendered scikit-learn.org. See: https://github.com/scikit-learn/scikit-learn/issues/21755 */display: inline-block !important;position: relative;}#sk-container-id-19 div.sk-text-repr-fallback {display: none;}</style><div id=\"sk-container-id-19\" class=\"sk-top-container\"><div class=\"sk-text-repr-fallback\"><pre>Pipeline(steps=[(&#x27;process&#x27;,\n",
       "                 ColumnTransformer(transformers=[(&#x27;num_trans&#x27;,\n",
       "                                                  Pipeline(steps=[(&#x27;impute&#x27;,\n",
       "                                                                   SimpleImputer(strategy=&#x27;median&#x27;)),\n",
       "                                                                  (&#x27;Scale&#x27;,\n",
       "                                                                   StandardScaler())]),\n",
       "                                                  Index([&#x27;Total_TL&#x27;, &#x27;Tot_Closed_TL&#x27;, &#x27;Tot_Active_TL&#x27;, &#x27;Total_TL_opened_L6M&#x27;,\n",
       "       &#x27;Tot_TL_closed_L6M&#x27;, &#x27;pct_tl_open_L6M&#x27;, &#x27;pct_tl_closed_L6M&#x27;,\n",
       "       &#x27;pct_active_tl&#x27;, &#x27;pct_closed_tl&#x27;, &#x27;Total_TL_opened_L12M&#x27;,\n",
       "       &#x27;Tot...\n",
       "       &#x27;pct_PL_enq_L6m_of_ever&#x27;, &#x27;pct_CC_enq_L6m_of_ever&#x27;, &#x27;HL_Flag&#x27;,\n",
       "       &#x27;GL_Flag&#x27;, &#x27;Credit_Score&#x27;],\n",
       "      dtype=&#x27;object&#x27;)),\n",
       "                                                 (&#x27;cat_trans&#x27;,\n",
       "                                                  Pipeline(steps=[(&#x27;impute&#x27;,\n",
       "                                                                   SimpleImputer(strategy=&#x27;most_frequent&#x27;)),\n",
       "                                                                  (&#x27;Encode&#x27;,\n",
       "                                                                   OneHotEncoder(drop=&#x27;first&#x27;,\n",
       "                                                                                 handle_unknown=&#x27;ignore&#x27;,\n",
       "                                                                                 sparse=False))]),\n",
       "                                                  Index([&#x27;MARITALSTATUS&#x27;, &#x27;EDUCATION&#x27;, &#x27;GENDER&#x27;, &#x27;last_prod_enq2&#x27;,\n",
       "       &#x27;first_prod_enq2&#x27;],\n",
       "      dtype=&#x27;object&#x27;))]))])</pre><b>In a Jupyter environment, please rerun this cell to show the HTML representation or trust the notebook. <br />On GitHub, the HTML representation is unable to render, please try loading this page with nbviewer.org.</b></div><div class=\"sk-container\" hidden><div class=\"sk-item sk-dashed-wrapped\"><div class=\"sk-label-container\"><div class=\"sk-label sk-toggleable\"><input class=\"sk-toggleable__control sk-hidden--visually\" id=\"sk-estimator-id-65\" type=\"checkbox\" ><label for=\"sk-estimator-id-65\" class=\"sk-toggleable__label sk-toggleable__label-arrow\">Pipeline</label><div class=\"sk-toggleable__content\"><pre>Pipeline(steps=[(&#x27;process&#x27;,\n",
       "                 ColumnTransformer(transformers=[(&#x27;num_trans&#x27;,\n",
       "                                                  Pipeline(steps=[(&#x27;impute&#x27;,\n",
       "                                                                   SimpleImputer(strategy=&#x27;median&#x27;)),\n",
       "                                                                  (&#x27;Scale&#x27;,\n",
       "                                                                   StandardScaler())]),\n",
       "                                                  Index([&#x27;Total_TL&#x27;, &#x27;Tot_Closed_TL&#x27;, &#x27;Tot_Active_TL&#x27;, &#x27;Total_TL_opened_L6M&#x27;,\n",
       "       &#x27;Tot_TL_closed_L6M&#x27;, &#x27;pct_tl_open_L6M&#x27;, &#x27;pct_tl_closed_L6M&#x27;,\n",
       "       &#x27;pct_active_tl&#x27;, &#x27;pct_closed_tl&#x27;, &#x27;Total_TL_opened_L12M&#x27;,\n",
       "       &#x27;Tot...\n",
       "       &#x27;pct_PL_enq_L6m_of_ever&#x27;, &#x27;pct_CC_enq_L6m_of_ever&#x27;, &#x27;HL_Flag&#x27;,\n",
       "       &#x27;GL_Flag&#x27;, &#x27;Credit_Score&#x27;],\n",
       "      dtype=&#x27;object&#x27;)),\n",
       "                                                 (&#x27;cat_trans&#x27;,\n",
       "                                                  Pipeline(steps=[(&#x27;impute&#x27;,\n",
       "                                                                   SimpleImputer(strategy=&#x27;most_frequent&#x27;)),\n",
       "                                                                  (&#x27;Encode&#x27;,\n",
       "                                                                   OneHotEncoder(drop=&#x27;first&#x27;,\n",
       "                                                                                 handle_unknown=&#x27;ignore&#x27;,\n",
       "                                                                                 sparse=False))]),\n",
       "                                                  Index([&#x27;MARITALSTATUS&#x27;, &#x27;EDUCATION&#x27;, &#x27;GENDER&#x27;, &#x27;last_prod_enq2&#x27;,\n",
       "       &#x27;first_prod_enq2&#x27;],\n",
       "      dtype=&#x27;object&#x27;))]))])</pre></div></div></div><div class=\"sk-serial\"><div class=\"sk-item sk-dashed-wrapped\"><div class=\"sk-label-container\"><div class=\"sk-label sk-toggleable\"><input class=\"sk-toggleable__control sk-hidden--visually\" id=\"sk-estimator-id-66\" type=\"checkbox\" ><label for=\"sk-estimator-id-66\" class=\"sk-toggleable__label sk-toggleable__label-arrow\">process: ColumnTransformer</label><div class=\"sk-toggleable__content\"><pre>ColumnTransformer(transformers=[(&#x27;num_trans&#x27;,\n",
       "                                 Pipeline(steps=[(&#x27;impute&#x27;,\n",
       "                                                  SimpleImputer(strategy=&#x27;median&#x27;)),\n",
       "                                                 (&#x27;Scale&#x27;, StandardScaler())]),\n",
       "                                 Index([&#x27;Total_TL&#x27;, &#x27;Tot_Closed_TL&#x27;, &#x27;Tot_Active_TL&#x27;, &#x27;Total_TL_opened_L6M&#x27;,\n",
       "       &#x27;Tot_TL_closed_L6M&#x27;, &#x27;pct_tl_open_L6M&#x27;, &#x27;pct_tl_closed_L6M&#x27;,\n",
       "       &#x27;pct_active_tl&#x27;, &#x27;pct_closed_tl&#x27;, &#x27;Total_TL_opened_L12M&#x27;,\n",
       "       &#x27;Tot_TL_closed_L12M&#x27;, &#x27;pct_tl_op...\n",
       "       &#x27;pct_PL_enq_L6m_of_ever&#x27;, &#x27;pct_CC_enq_L6m_of_ever&#x27;, &#x27;HL_Flag&#x27;,\n",
       "       &#x27;GL_Flag&#x27;, &#x27;Credit_Score&#x27;],\n",
       "      dtype=&#x27;object&#x27;)),\n",
       "                                (&#x27;cat_trans&#x27;,\n",
       "                                 Pipeline(steps=[(&#x27;impute&#x27;,\n",
       "                                                  SimpleImputer(strategy=&#x27;most_frequent&#x27;)),\n",
       "                                                 (&#x27;Encode&#x27;,\n",
       "                                                  OneHotEncoder(drop=&#x27;first&#x27;,\n",
       "                                                                handle_unknown=&#x27;ignore&#x27;,\n",
       "                                                                sparse=False))]),\n",
       "                                 Index([&#x27;MARITALSTATUS&#x27;, &#x27;EDUCATION&#x27;, &#x27;GENDER&#x27;, &#x27;last_prod_enq2&#x27;,\n",
       "       &#x27;first_prod_enq2&#x27;],\n",
       "      dtype=&#x27;object&#x27;))])</pre></div></div></div><div class=\"sk-parallel\"><div class=\"sk-parallel-item\"><div class=\"sk-item\"><div class=\"sk-label-container\"><div class=\"sk-label sk-toggleable\"><input class=\"sk-toggleable__control sk-hidden--visually\" id=\"sk-estimator-id-67\" type=\"checkbox\" ><label for=\"sk-estimator-id-67\" class=\"sk-toggleable__label sk-toggleable__label-arrow\">num_trans</label><div class=\"sk-toggleable__content\"><pre>Index([&#x27;Total_TL&#x27;, &#x27;Tot_Closed_TL&#x27;, &#x27;Tot_Active_TL&#x27;, &#x27;Total_TL_opened_L6M&#x27;,\n",
       "       &#x27;Tot_TL_closed_L6M&#x27;, &#x27;pct_tl_open_L6M&#x27;, &#x27;pct_tl_closed_L6M&#x27;,\n",
       "       &#x27;pct_active_tl&#x27;, &#x27;pct_closed_tl&#x27;, &#x27;Total_TL_opened_L12M&#x27;,\n",
       "       &#x27;Tot_TL_closed_L12M&#x27;, &#x27;pct_tl_open_L12M&#x27;, &#x27;pct_tl_closed_L12M&#x27;,\n",
       "       &#x27;Tot_Missed_Pmnt&#x27;, &#x27;Auto_TL&#x27;, &#x27;CC_TL&#x27;, &#x27;Consumer_TL&#x27;, &#x27;Gold_TL&#x27;,\n",
       "       &#x27;Home_TL&#x27;, &#x27;PL_TL&#x27;, &#x27;Secured_TL&#x27;, &#x27;Unsecured_TL&#x27;, &#x27;Other_TL&#x27;,\n",
       "       &#x27;Age_Oldest_TL&#x27;, &#x27;Age_Newest_TL&#x27;, &#x27;time_since_recent_payment&#x27;,\n",
       "       &#x27;num_times_delinquent&#x27;, &#x27;max_recent_level_of_deliq&#x27;, &#x27;num_deliq_6mts&#x27;,\n",
       "       &#x27;num_deliq_12mts&#x27;, &#x27;num_deliq_6_12mts&#x27;, &#x27;num_times_30p_dpd&#x27;,\n",
       "       &#x27;num_times_60p_dpd&#x27;, &#x27;num_std&#x27;, &#x27;num_std_6mts&#x27;, &#x27;num_std_12mts&#x27;,\n",
       "       &#x27;num_sub&#x27;, &#x27;num_sub_6mts&#x27;, &#x27;num_sub_12mts&#x27;, &#x27;num_dbt&#x27;, &#x27;num_dbt_6mts&#x27;,\n",
       "       &#x27;num_dbt_12mts&#x27;, &#x27;num_lss&#x27;, &#x27;num_lss_6mts&#x27;, &#x27;num_lss_12mts&#x27;,\n",
       "       &#x27;recent_level_of_deliq&#x27;, &#x27;tot_enq&#x27;, &#x27;CC_enq&#x27;, &#x27;CC_enq_L6m&#x27;,\n",
       "       &#x27;CC_enq_L12m&#x27;, &#x27;PL_enq&#x27;, &#x27;PL_enq_L6m&#x27;, &#x27;PL_enq_L12m&#x27;,\n",
       "       &#x27;time_since_recent_enq&#x27;, &#x27;enq_L12m&#x27;, &#x27;enq_L6m&#x27;, &#x27;enq_L3m&#x27;, &#x27;AGE&#x27;,\n",
       "       &#x27;NETMONTHLYINCOME&#x27;, &#x27;Time_With_Curr_Empr&#x27;, &#x27;pct_of_active_TLs_ever&#x27;,\n",
       "       &#x27;pct_opened_TLs_L6m_of_L12m&#x27;, &#x27;pct_currentBal_all_TL&#x27;, &#x27;CC_Flag&#x27;,\n",
       "       &#x27;PL_Flag&#x27;, &#x27;pct_PL_enq_L6m_of_L12m&#x27;, &#x27;pct_CC_enq_L6m_of_L12m&#x27;,\n",
       "       &#x27;pct_PL_enq_L6m_of_ever&#x27;, &#x27;pct_CC_enq_L6m_of_ever&#x27;, &#x27;HL_Flag&#x27;,\n",
       "       &#x27;GL_Flag&#x27;, &#x27;Credit_Score&#x27;],\n",
       "      dtype=&#x27;object&#x27;)</pre></div></div></div><div class=\"sk-serial\"><div class=\"sk-item\"><div class=\"sk-serial\"><div class=\"sk-item\"><div class=\"sk-estimator sk-toggleable\"><input class=\"sk-toggleable__control sk-hidden--visually\" id=\"sk-estimator-id-68\" type=\"checkbox\" ><label for=\"sk-estimator-id-68\" class=\"sk-toggleable__label sk-toggleable__label-arrow\">SimpleImputer</label><div class=\"sk-toggleable__content\"><pre>SimpleImputer(strategy=&#x27;median&#x27;)</pre></div></div></div><div class=\"sk-item\"><div class=\"sk-estimator sk-toggleable\"><input class=\"sk-toggleable__control sk-hidden--visually\" id=\"sk-estimator-id-69\" type=\"checkbox\" ><label for=\"sk-estimator-id-69\" class=\"sk-toggleable__label sk-toggleable__label-arrow\">StandardScaler</label><div class=\"sk-toggleable__content\"><pre>StandardScaler()</pre></div></div></div></div></div></div></div></div><div class=\"sk-parallel-item\"><div class=\"sk-item\"><div class=\"sk-label-container\"><div class=\"sk-label sk-toggleable\"><input class=\"sk-toggleable__control sk-hidden--visually\" id=\"sk-estimator-id-70\" type=\"checkbox\" ><label for=\"sk-estimator-id-70\" class=\"sk-toggleable__label sk-toggleable__label-arrow\">cat_trans</label><div class=\"sk-toggleable__content\"><pre>Index([&#x27;MARITALSTATUS&#x27;, &#x27;EDUCATION&#x27;, &#x27;GENDER&#x27;, &#x27;last_prod_enq2&#x27;,\n",
       "       &#x27;first_prod_enq2&#x27;],\n",
       "      dtype=&#x27;object&#x27;)</pre></div></div></div><div class=\"sk-serial\"><div class=\"sk-item\"><div class=\"sk-serial\"><div class=\"sk-item\"><div class=\"sk-estimator sk-toggleable\"><input class=\"sk-toggleable__control sk-hidden--visually\" id=\"sk-estimator-id-71\" type=\"checkbox\" ><label for=\"sk-estimator-id-71\" class=\"sk-toggleable__label sk-toggleable__label-arrow\">SimpleImputer</label><div class=\"sk-toggleable__content\"><pre>SimpleImputer(strategy=&#x27;most_frequent&#x27;)</pre></div></div></div><div class=\"sk-item\"><div class=\"sk-estimator sk-toggleable\"><input class=\"sk-toggleable__control sk-hidden--visually\" id=\"sk-estimator-id-72\" type=\"checkbox\" ><label for=\"sk-estimator-id-72\" class=\"sk-toggleable__label sk-toggleable__label-arrow\">OneHotEncoder</label><div class=\"sk-toggleable__content\"><pre>OneHotEncoder(drop=&#x27;first&#x27;, handle_unknown=&#x27;ignore&#x27;, sparse=False)</pre></div></div></div></div></div></div></div></div></div></div></div></div></div></div>"
      ],
      "text/plain": [
       "Pipeline(steps=[('process',\n",
       "                 ColumnTransformer(transformers=[('num_trans',\n",
       "                                                  Pipeline(steps=[('impute',\n",
       "                                                                   SimpleImputer(strategy='median')),\n",
       "                                                                  ('Scale',\n",
       "                                                                   StandardScaler())]),\n",
       "                                                  Index(['Total_TL', 'Tot_Closed_TL', 'Tot_Active_TL', 'Total_TL_opened_L6M',\n",
       "       'Tot_TL_closed_L6M', 'pct_tl_open_L6M', 'pct_tl_closed_L6M',\n",
       "       'pct_active_tl', 'pct_closed_tl', 'Total_TL_opened_L12M',\n",
       "       'Tot...\n",
       "       'pct_PL_enq_L6m_of_ever', 'pct_CC_enq_L6m_of_ever', 'HL_Flag',\n",
       "       'GL_Flag', 'Credit_Score'],\n",
       "      dtype='object')),\n",
       "                                                 ('cat_trans',\n",
       "                                                  Pipeline(steps=[('impute',\n",
       "                                                                   SimpleImputer(strategy='most_frequent')),\n",
       "                                                                  ('Encode',\n",
       "                                                                   OneHotEncoder(drop='first',\n",
       "                                                                                 handle_unknown='ignore',\n",
       "                                                                                 sparse=False))]),\n",
       "                                                  Index(['MARITALSTATUS', 'EDUCATION', 'GENDER', 'last_prod_enq2',\n",
       "       'first_prod_enq2'],\n",
       "      dtype='object'))]))])"
      ]
     },
     "execution_count": 196,
     "metadata": {},
     "output_type": "execute_result"
    }
   ],
   "source": [
    "temp=Pipeline(steps=[\n",
    "    (\"process\",process)\n",
    "])\n",
    "temp"
   ]
  },
  {
   "cell_type": "markdown",
   "id": "a1bb62ea",
   "metadata": {},
   "source": [
    "# Apply PCA"
   ]
  },
  {
   "cell_type": "code",
   "execution_count": 197,
   "id": "40b10082",
   "metadata": {},
   "outputs": [],
   "source": [
    "pca=PCA(n_components=None)\n",
    "new_x_train=pca.fit_transform(x_train_trf)\n",
    "new_x_test=pca.transform(x_test_trf)"
   ]
  },
  {
   "cell_type": "code",
   "execution_count": 198,
   "id": "a47a3b5c",
   "metadata": {},
   "outputs": [
    {
     "data": {
      "text/plain": [
       "array([[ 1.23582858e+00, -3.49124223e+00, -2.11073221e+00, ...,\n",
       "         1.07624614e-16,  1.98661859e-16, -6.48194168e-17],\n",
       "       [-2.34030843e+00,  7.46172876e-02,  2.02286430e+00, ...,\n",
       "         1.18315317e-15,  2.42550099e-15, -1.82467802e-16],\n",
       "       [-3.26140833e+00,  1.02111809e+00,  2.03590757e+00, ...,\n",
       "         1.66193685e-15,  2.12682447e-15, -1.59705312e-16],\n",
       "       ...,\n",
       "       [ 2.47839645e+00, -3.87329239e+00,  3.41219804e+00, ...,\n",
       "        -1.93078859e-15, -5.68292530e-16, -1.65764155e-15],\n",
       "       [-2.19155172e+00,  2.76386455e-01,  3.00155961e+00, ...,\n",
       "         1.20665142e-15,  8.06130237e-16, -1.57052643e-15],\n",
       "       [-1.60167810e+00, -3.03647620e+00, -2.44560151e+00, ...,\n",
       "         2.18646916e-16, -1.11008848e-16,  5.78257938e-16]])"
      ]
     },
     "execution_count": 198,
     "metadata": {},
     "output_type": "execute_result"
    }
   ],
   "source": [
    "new_x_test"
   ]
  },
  {
   "cell_type": "markdown",
   "id": "a72d327d",
   "metadata": {},
   "source": [
    "# Conclussion\n",
    "- We can apply the `PCA` now we can select only those component whose can explain the variace of `90%`."
   ]
  },
  {
   "cell_type": "code",
   "execution_count": 199,
   "id": "19a94f99",
   "metadata": {},
   "outputs": [
    {
     "data": {
      "text/plain": [
       "array([1.10644044e+01, 8.02656701e+00, 4.43170862e+00, 4.13386988e+00,\n",
       "       3.42969151e+00, 2.88336308e+00, 2.72694752e+00, 2.55174259e+00,\n",
       "       2.45638775e+00, 2.12367570e+00, 2.01140964e+00, 1.76851991e+00,\n",
       "       1.64861992e+00, 1.60004925e+00, 1.48440098e+00, 1.33731864e+00,\n",
       "       1.23637437e+00, 1.22219629e+00, 1.06965515e+00, 1.03841129e+00,\n",
       "       9.99506848e-01, 9.48873179e-01, 8.95522878e-01, 7.91365559e-01,\n",
       "       7.83540697e-01, 7.34751843e-01, 6.98212628e-01, 6.66724978e-01,\n",
       "       5.87705487e-01, 5.79443598e-01, 5.49362595e-01, 5.04129603e-01,\n",
       "       4.58399170e-01, 4.39010867e-01, 3.93787157e-01, 3.67893836e-01,\n",
       "       3.35111819e-01, 3.12208348e-01, 2.86615549e-01, 2.82704518e-01,\n",
       "       2.54185053e-01, 2.49574398e-01, 2.45732655e-01, 2.24143594e-01,\n",
       "       2.19225766e-01, 2.10165374e-01, 1.97899137e-01, 1.79372042e-01,\n",
       "       1.62020602e-01, 1.53315218e-01, 1.43326606e-01, 1.41817892e-01,\n",
       "       1.32491014e-01, 1.28383425e-01, 1.24669154e-01, 1.16795233e-01,\n",
       "       1.14650265e-01, 1.02645413e-01, 9.89983622e-02, 9.30566555e-02,\n",
       "       8.77396331e-02, 8.00823629e-02, 7.87545308e-02, 6.99341940e-02,\n",
       "       6.35268710e-02, 6.06060730e-02, 5.20060530e-02, 5.10440444e-02,\n",
       "       4.85700509e-02, 4.66322392e-02, 4.33862074e-02, 4.21002135e-02,\n",
       "       4.10161376e-02, 3.61507071e-02, 3.02952565e-02, 2.88663531e-02,\n",
       "       2.81375093e-02, 2.67950414e-02, 2.51908381e-02, 1.90539009e-02,\n",
       "       1.69686623e-02, 9.80245179e-03, 4.93065261e-03, 4.48701625e-03,\n",
       "       8.37087483e-30, 4.66861900e-30, 1.39882508e-30, 3.41367779e-31,\n",
       "       6.83066826e-32, 5.93664918e-32])"
      ]
     },
     "execution_count": 199,
     "metadata": {},
     "output_type": "execute_result"
    }
   ],
   "source": [
    "pca.explained_variance_"
   ]
  },
  {
   "cell_type": "code",
   "execution_count": 200,
   "id": "5da6b0a2",
   "metadata": {},
   "outputs": [
    {
     "data": {
      "text/plain": [
       "array([1.49219069e-01, 1.08249555e-01, 5.97678295e-02, 5.57510548e-02,\n",
       "       4.62542182e-02, 3.88862101e-02, 3.67767262e-02, 3.44138410e-02,\n",
       "       3.31278468e-02, 2.86407564e-02, 2.71266906e-02, 2.38509807e-02,\n",
       "       2.22339605e-02, 2.15789165e-02, 2.00192369e-02, 1.80356245e-02,\n",
       "       1.66742488e-02, 1.64830375e-02, 1.44258054e-02, 1.40044381e-02,\n",
       "       1.34797569e-02, 1.27968906e-02, 1.20773867e-02, 1.06726786e-02,\n",
       "       1.05671493e-02, 9.90916295e-03, 9.41638020e-03, 8.99172491e-03,\n",
       "       7.92603583e-03, 7.81461262e-03, 7.40892796e-03, 6.79889738e-03,\n",
       "       6.18215811e-03, 5.92067955e-03, 5.31077416e-03, 4.96156627e-03,\n",
       "       4.51945463e-03, 4.21056908e-03, 3.86541415e-03, 3.81266839e-03,\n",
       "       3.42804327e-03, 3.36586209e-03, 3.31405078e-03, 3.02289190e-03,\n",
       "       2.95656807e-03, 2.83437593e-03, 2.66894845e-03, 2.41908449e-03,\n",
       "       2.18507589e-03, 2.06767154e-03, 1.93296105e-03, 1.91261391e-03,\n",
       "       1.78682784e-03, 1.73143121e-03, 1.68133904e-03, 1.57514813e-03,\n",
       "       1.54622022e-03, 1.38431790e-03, 1.33513228e-03, 1.25500000e-03,\n",
       "       1.18329247e-03, 1.08002340e-03, 1.06211571e-03, 9.43161055e-04,\n",
       "       8.56749285e-04, 8.17358212e-04, 7.01374836e-04, 6.88400796e-04,\n",
       "       6.55035511e-04, 6.28901392e-04, 5.85124084e-04, 5.67780645e-04,\n",
       "       5.53160356e-04, 4.87543176e-04, 4.08574182e-04, 3.89303408e-04,\n",
       "       3.79473923e-04, 3.61368854e-04, 3.39733915e-04, 2.56968677e-04,\n",
       "       2.28846298e-04, 1.32199862e-04, 6.64967916e-05, 6.05137308e-05,\n",
       "       1.12893031e-31, 6.29628994e-32, 1.88651253e-32, 4.60382506e-33,\n",
       "       9.21211774e-34, 8.00640714e-34])"
      ]
     },
     "execution_count": 200,
     "metadata": {},
     "output_type": "execute_result"
    }
   ],
   "source": [
    "pca.explained_variance_ratio_"
   ]
  },
  {
   "cell_type": "code",
   "execution_count": 201,
   "id": "8430f51f",
   "metadata": {},
   "outputs": [
    {
     "data": {
      "text/plain": [
       "array([0.14921907, 0.25746862, 0.31723645, 0.37298751, 0.41924173,\n",
       "       0.45812794, 0.49490466, 0.5293185 , 0.56244635, 0.59108711,\n",
       "       0.6182138 , 0.64206478, 0.66429874, 0.68587766, 0.70589689,\n",
       "       0.72393252, 0.74060677, 0.7570898 , 0.77151561, 0.78552005,\n",
       "       0.7989998 , 0.81179669, 0.82387408, 0.83454676, 0.84511391,\n",
       "       0.85502307, 0.86443945, 0.87343118, 0.88135721, 0.88917183,\n",
       "       0.89658075, 0.90337965, 0.90956181, 0.91548249, 0.92079326,\n",
       "       0.92575483, 0.93027428, 0.93448485, 0.93835027, 0.94216294,\n",
       "       0.94559098, 0.94895684, 0.95227089, 0.95529378, 0.95825035,\n",
       "       0.96108473, 0.96375368, 0.96617276, 0.96835784, 0.97042551,\n",
       "       0.97235847, 0.97427108, 0.97605791, 0.97778934, 0.97947068,\n",
       "       0.98104583, 0.98259205, 0.98397637, 0.9853115 , 0.9865665 ,\n",
       "       0.98774979, 0.98882982, 0.98989193, 0.99083509, 0.99169184,\n",
       "       0.9925092 , 0.99321057, 0.99389898, 0.99455401, 0.99518291,\n",
       "       0.99576804, 0.99633582, 0.99688898, 0.99737652, 0.99778509,\n",
       "       0.9981744 , 0.99855387, 0.99891524, 0.99925497, 0.99951194,\n",
       "       0.99974079, 0.99987299, 0.99993949, 1.        , 1.        ,\n",
       "       1.        , 1.        , 1.        , 1.        , 1.        ])"
      ]
     },
     "execution_count": 201,
     "metadata": {},
     "output_type": "execute_result"
    }
   ],
   "source": [
    "np.cumsum(pca.explained_variance_ratio_)"
   ]
  },
  {
   "cell_type": "code",
   "execution_count": 202,
   "id": "6e3e6923",
   "metadata": {},
   "outputs": [
    {
     "name": "stdout",
     "output_type": "stream",
     "text": [
      "14.921906918430542\n",
      "25.746862464810093\n",
      "31.723645410134406\n",
      "37.29875088768949\n",
      "41.92417270357288\n",
      "45.81279371775631\n",
      "49.49046633873537\n",
      "52.931850441721515\n",
      "56.24463512094614\n",
      "59.10871076332705\n",
      "61.82137981948126\n",
      "64.20647788612338\n",
      "66.42987393454699\n",
      "68.58776558768812\n",
      "70.58968927342244\n",
      "72.39325172420152\n",
      "74.0606766082011\n",
      "75.70898036043639\n",
      "77.15156090450266\n",
      "78.55200471473647\n",
      "79.89998040447398\n",
      "81.17966946385087\n",
      "82.38740813096412\n",
      "83.45467599072235\n",
      "84.5113909223375\n",
      "85.50230721722846\n",
      "86.44394523688229\n",
      "87.3431177279622\n",
      "88.1357213109187\n",
      "88.9171825730868\n",
      "89.65807536886486\n",
      "90.33796510688488\n"
     ]
    }
   ],
   "source": [
    "counter=1\n",
    "for i in np.cumsum(pca.explained_variance_ratio_):\n",
    "    print(i*100)\n",
    "    counter+=1\n",
    "    if(i*100>=90):\n",
    "        break"
   ]
  },
  {
   "cell_type": "code",
   "execution_count": 203,
   "id": "1e8917d4",
   "metadata": {},
   "outputs": [
    {
     "data": {
      "text/plain": [
       "33"
      ]
     },
     "execution_count": 203,
     "metadata": {},
     "output_type": "execute_result"
    }
   ],
   "source": [
    "counter"
   ]
  },
  {
   "cell_type": "code",
   "execution_count": 204,
   "id": "4e40e75c",
   "metadata": {},
   "outputs": [],
   "source": [
    "import matplotlib.pyplot as plt\n",
    "import seaborn as sns"
   ]
  },
  {
   "cell_type": "code",
   "execution_count": 207,
   "id": "65ca4003",
   "metadata": {},
   "outputs": [
    {
     "data": {
      "image/png": "[encoded data removed]",
      "text/plain": [
       "<Figure size 1500x600 with 1 Axes>"
      ]
     },
     "metadata": {},
     "output_type": "display_data"
    }
   ],
   "source": [
    "plt.figure(figsize=(15, 6))\n",
    "plt.title(\"Variance Explained Ratio\")\n",
    "plt.plot(np.cumsum(pca.explained_variance_ratio_))\n",
    "\n",
    "# Mark the point where cumulative explained variance reaches 90%\n",
    "plt.axhline(y=0.95, color='r', linestyle='--', label='95% Explained Variance')\n",
    "plt.text(0, 0.95, '95% Explained Variance', color='red', fontsize=10)\n",
    "\n",
    "plt.xlabel('Number of Components')\n",
    "plt.ylabel('Cumulative Explained Variance Ratio')\n",
    "plt.legend()\n",
    "plt.grid(True)\n",
    "plt.show()"
   ]
  },
  {
   "cell_type": "markdown",
   "id": "84bf0aa1",
   "metadata": {},
   "source": [
    "# Conclussion\n",
    "- we see that at `30` components explain the `90%` variance so we can pick `30 components` and build model again and check the results. ."
   ]
  },
  {
   "cell_type": "code",
   "execution_count": 208,
   "id": "fc59587c",
   "metadata": {},
   "outputs": [],
   "source": [
    "pca=PCA(n_components=40)\n",
    "new_x_train=pca.fit_transform(x_train_trf)\n",
    "new_x_test=pca.transform(x_test_trf)"
   ]
  },
  {
   "cell_type": "markdown",
   "id": "1df7cd54",
   "metadata": {},
   "source": [
    "# Fit Model again"
   ]
  },
  {
   "cell_type": "code",
   "execution_count": 209,
   "id": "d514b714",
   "metadata": {},
   "outputs": [],
   "source": [
    "import xgboost as xgb"
   ]
  },
  {
   "cell_type": "code",
   "execution_count": 210,
   "id": "fcd0e272",
   "metadata": {},
   "outputs": [
    {
     "data": {
      "text/html": [
       "<style>#sk-container-id-20 {color: black;}#sk-container-id-20 pre{padding: 0;}#sk-container-id-20 div.sk-toggleable {background-color: white;}#sk-container-id-20 label.sk-toggleable__label {cursor: pointer;display: block;width: 100%;margin-bottom: 0;padding: 0.3em;box-sizing: border-box;text-align: center;}#sk-container-id-20 label.sk-toggleable__label-arrow:before {content: \"▸\";float: left;margin-right: 0.25em;color: #696969;}#sk-container-id-20 label.sk-toggleable__label-arrow:hover:before {color: black;}#sk-container-id-20 div.sk-estimator:hover label.sk-toggleable__label-arrow:before {color: black;}#sk-container-id-20 div.sk-toggleable__content {max-height: 0;max-width: 0;overflow: hidden;text-align: left;background-color: #f0f8ff;}#sk-container-id-20 div.sk-toggleable__content pre {margin: 0.2em;color: black;border-radius: 0.25em;background-color: #f0f8ff;}#sk-container-id-20 input.sk-toggleable__control:checked~div.sk-toggleable__content {max-height: 200px;max-width: 100%;overflow: auto;}#sk-container-id-20 input.sk-toggleable__control:checked~label.sk-toggleable__label-arrow:before {content: \"▾\";}#sk-container-id-20 div.sk-estimator input.sk-toggleable__control:checked~label.sk-toggleable__label {background-color: #d4ebff;}#sk-container-id-20 div.sk-label input.sk-toggleable__control:checked~label.sk-toggleable__label {background-color: #d4ebff;}#sk-container-id-20 input.sk-hidden--visually {border: 0;clip: rect(1px 1px 1px 1px);clip: rect(1px, 1px, 1px, 1px);height: 1px;margin: -1px;overflow: hidden;padding: 0;position: absolute;width: 1px;}#sk-container-id-20 div.sk-estimator {font-family: monospace;background-color: #f0f8ff;border: 1px dotted black;border-radius: 0.25em;box-sizing: border-box;margin-bottom: 0.5em;}#sk-container-id-20 div.sk-estimator:hover {background-color: #d4ebff;}#sk-container-id-20 div.sk-parallel-item::after {content: \"\";width: 100%;border-bottom: 1px solid gray;flex-grow: 1;}#sk-container-id-20 div.sk-label:hover label.sk-toggleable__label {background-color: #d4ebff;}#sk-container-id-20 div.sk-serial::before {content: \"\";position: absolute;border-left: 1px solid gray;box-sizing: border-box;top: 0;bottom: 0;left: 50%;z-index: 0;}#sk-container-id-20 div.sk-serial {display: flex;flex-direction: column;align-items: center;background-color: white;padding-right: 0.2em;padding-left: 0.2em;position: relative;}#sk-container-id-20 div.sk-item {position: relative;z-index: 1;}#sk-container-id-20 div.sk-parallel {display: flex;align-items: stretch;justify-content: center;background-color: white;position: relative;}#sk-container-id-20 div.sk-item::before, #sk-container-id-20 div.sk-parallel-item::before {content: \"\";position: absolute;border-left: 1px solid gray;box-sizing: border-box;top: 0;bottom: 0;left: 50%;z-index: -1;}#sk-container-id-20 div.sk-parallel-item {display: flex;flex-direction: column;z-index: 1;position: relative;background-color: white;}#sk-container-id-20 div.sk-parallel-item:first-child::after {align-self: flex-end;width: 50%;}#sk-container-id-20 div.sk-parallel-item:last-child::after {align-self: flex-start;width: 50%;}#sk-container-id-20 div.sk-parallel-item:only-child::after {width: 0;}#sk-container-id-20 div.sk-dashed-wrapped {border: 1px dashed gray;margin: 0 0.4em 0.5em 0.4em;box-sizing: border-box;padding-bottom: 0.4em;background-color: white;}#sk-container-id-20 div.sk-label label {font-family: monospace;font-weight: bold;display: inline-block;line-height: 1.2em;}#sk-container-id-20 div.sk-label-container {text-align: center;}#sk-container-id-20 div.sk-container {/* jupyter's `normalize.less` sets `[hidden] { display: none; }` but bootstrap.min.css set `[hidden] { display: none !important; }` so we also need the `!important` here to be able to override the default hidden behavior on the sphinx rendered scikit-learn.org. See: https://github.com/scikit-learn/scikit-learn/issues/21755 */display: inline-block !important;position: relative;}#sk-container-id-20 div.sk-text-repr-fallback {display: none;}</style><div id=\"sk-container-id-20\" class=\"sk-top-container\"><div class=\"sk-text-repr-fallback\"><pre>XGBClassifier(base_score=None, booster=None, callbacks=None,\n",
       "              colsample_bylevel=None, colsample_bynode=None,\n",
       "              colsample_bytree=None, device=None, early_stopping_rounds=None,\n",
       "              enable_categorical=False, eval_metric=None, feature_types=None,\n",
       "              gamma=None, grow_policy=None, importance_type=None,\n",
       "              interaction_constraints=None, learning_rate=None, max_bin=None,\n",
       "              max_cat_threshold=None, max_cat_to_onehot=None,\n",
       "              max_delta_step=None, max_depth=None, max_leaves=None,\n",
       "              min_child_weight=None, missing=nan, monotone_constraints=None,\n",
       "              multi_strategy=None, n_estimators=None, n_jobs=None,\n",
       "              num_parallel_tree=None, objective=&#x27;multi:softprob&#x27;, ...)</pre><b>In a Jupyter environment, please rerun this cell to show the HTML representation or trust the notebook. <br />On GitHub, the HTML representation is unable to render, please try loading this page with nbviewer.org.</b></div><div class=\"sk-container\" hidden><div class=\"sk-item\"><div class=\"sk-estimator sk-toggleable\"><input class=\"sk-toggleable__control sk-hidden--visually\" id=\"sk-estimator-id-73\" type=\"checkbox\" checked><label for=\"sk-estimator-id-73\" class=\"sk-toggleable__label sk-toggleable__label-arrow\">XGBClassifier</label><div class=\"sk-toggleable__content\"><pre>XGBClassifier(base_score=None, booster=None, callbacks=None,\n",
       "              colsample_bylevel=None, colsample_bynode=None,\n",
       "              colsample_bytree=None, device=None, early_stopping_rounds=None,\n",
       "              enable_categorical=False, eval_metric=None, feature_types=None,\n",
       "              gamma=None, grow_policy=None, importance_type=None,\n",
       "              interaction_constraints=None, learning_rate=None, max_bin=None,\n",
       "              max_cat_threshold=None, max_cat_to_onehot=None,\n",
       "              max_delta_step=None, max_depth=None, max_leaves=None,\n",
       "              min_child_weight=None, missing=nan, monotone_constraints=None,\n",
       "              multi_strategy=None, n_estimators=None, n_jobs=None,\n",
       "              num_parallel_tree=None, objective=&#x27;multi:softprob&#x27;, ...)</pre></div></div></div></div></div>"
      ],
      "text/plain": [
       "XGBClassifier(base_score=None, booster=None, callbacks=None,\n",
       "              colsample_bylevel=None, colsample_bynode=None,\n",
       "              colsample_bytree=None, device=None, early_stopping_rounds=None,\n",
       "              enable_categorical=False, eval_metric=None, feature_types=None,\n",
       "              gamma=None, grow_policy=None, importance_type=None,\n",
       "              interaction_constraints=None, learning_rate=None, max_bin=None,\n",
       "              max_cat_threshold=None, max_cat_to_onehot=None,\n",
       "              max_delta_step=None, max_depth=None, max_leaves=None,\n",
       "              min_child_weight=None, missing=nan, monotone_constraints=None,\n",
       "              multi_strategy=None, n_estimators=None, n_jobs=None,\n",
       "              num_parallel_tree=None, objective='multi:softprob', ...)"
      ]
     },
     "execution_count": 210,
     "metadata": {},
     "output_type": "execute_result"
    }
   ],
   "source": [
    "model2= xgb.XGBClassifier()\n",
    "model2.fit(new_x_train,y_train)"
   ]
  },
  {
   "cell_type": "markdown",
   "id": "06a697bc",
   "metadata": {},
   "source": [
    "# Prediction"
   ]
  },
  {
   "cell_type": "code",
   "execution_count": 211,
   "id": "a2d33eb5",
   "metadata": {},
   "outputs": [
    {
     "data": {
      "text/plain": [
       "array([1, 2, 1, ..., 3, 1, 1], dtype=int64)"
      ]
     },
     "execution_count": 211,
     "metadata": {},
     "output_type": "execute_result"
    }
   ],
   "source": [
    "pre2=model2.predict(new_x_test)\n",
    "pre2"
   ]
  },
  {
   "cell_type": "code",
   "execution_count": 212,
   "id": "9176a274",
   "metadata": {},
   "outputs": [
    {
     "data": {
      "text/plain": [
       "0.8207535956258172"
      ]
     },
     "execution_count": 212,
     "metadata": {},
     "output_type": "execute_result"
    }
   ],
   "source": [
    "evulation(y_test,pre2)['score']"
   ]
  },
  {
   "cell_type": "code",
   "execution_count": 213,
   "id": "5aefd158",
   "metadata": {},
   "outputs": [
    {
     "data": {
      "text/plain": [
       "0.80925548245601"
      ]
     },
     "execution_count": 213,
     "metadata": {},
     "output_type": "execute_result"
    }
   ],
   "source": [
    "evulation(y_test,pre2)['precession']"
   ]
  },
  {
   "cell_type": "code",
   "execution_count": 214,
   "id": "1d06cfd2",
   "metadata": {},
   "outputs": [
    {
     "data": {
      "text/plain": [
       "0.8207535956258172"
      ]
     },
     "execution_count": 214,
     "metadata": {},
     "output_type": "execute_result"
    }
   ],
   "source": [
    "evulation(y_test,pre2)['recall']"
   ]
  },
  {
   "cell_type": "code",
   "execution_count": 215,
   "id": "2f3fc281",
   "metadata": {},
   "outputs": [
    {
     "data": {
      "text/plain": [
       "0.8110341592014"
      ]
     },
     "execution_count": 215,
     "metadata": {},
     "output_type": "execute_result"
    }
   ],
   "source": [
    "evulation(y_test,pre2)['f1_score']"
   ]
  },
  {
   "cell_type": "code",
   "execution_count": 216,
   "id": "5dfad90c",
   "metadata": {},
   "outputs": [
    {
     "data": {
      "text/plain": [
       "array([[ 758,  212,    0,    0],\n",
       "       [  99, 4849,  182,   22],\n",
       "       [  31,  544,  538,  154],\n",
       "       [   0,   86,  178,  760]], dtype=int64)"
      ]
     },
     "execution_count": 216,
     "metadata": {},
     "output_type": "execute_result"
    }
   ],
   "source": [
    "evulation(y_test,pre2)['Confussion_matric']"
   ]
  },
  {
   "cell_type": "markdown",
   "id": "fe79f914",
   "metadata": {},
   "source": [
    "# Cross Validation"
   ]
  },
  {
   "cell_type": "code",
   "execution_count": 217,
   "id": "9ae6ef98",
   "metadata": {},
   "outputs": [],
   "source": [
    "train_score=cross_val_score(model2,new_x_train,y_train,cv=5,scoring='accuracy',n_jobs=-1).mean()\n",
    "test_score=cross_val_score(model2,new_x_test,y_test,cv=5,scoring='accuracy',n_jobs=-1).mean()"
   ]
  },
  {
   "cell_type": "code",
   "execution_count": 218,
   "id": "5f848ad4",
   "metadata": {},
   "outputs": [
    {
     "data": {
      "text/plain": [
       "0.8116846958794144"
      ]
     },
     "execution_count": 218,
     "metadata": {},
     "output_type": "execute_result"
    }
   ],
   "source": [
    "train_score"
   ]
  },
  {
   "cell_type": "code",
   "execution_count": 219,
   "id": "887ce660",
   "metadata": {},
   "outputs": [
    {
     "data": {
      "text/plain": [
       "0.7831915715877387"
      ]
     },
     "execution_count": 219,
     "metadata": {},
     "output_type": "execute_result"
    }
   ],
   "source": [
    "test_score"
   ]
  },
  {
   "cell_type": "code",
   "execution_count": null,
   "id": "7eee9d4a",
   "metadata": {},
   "outputs": [],
   "source": []
  }
 ],
 "metadata": {
  "kernelspec": {
   "display_name": "Python 3 (ipykernel)",
   "language": "python",
   "name": "python3"
  },
  "language_info": {
   "codemirror_mode": {
    "name": "ipython",
    "version": 3
   },
   "file_extension": ".py",
   "mimetype": "text/x-python",
   "name": "python",
   "nbconvert_exporter": "python",
   "pygments_lexer": "ipython3",
   "version": "3.11.5"
  }
 },
 "nbformat": 4,
 "nbformat_minor": 5
}
